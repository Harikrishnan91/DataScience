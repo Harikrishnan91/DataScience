{
 "cells": [
  {
   "cell_type": "markdown",
   "metadata": {
    "id": "Ica_dUAoqArD"
   },
   "source": [
    "## Credit Card Fraud Detection\n",
    "\n",
    "                                                                   \n",
    "<h3 align='right'><font color='red'>HariKrishnan Sekar</font></h3>\n",
    "In this project you will predict fraudulent credit card transactions with the help of Machine learning models. Please import the following libraries to get started."
   ]
  },
  {
   "cell_type": "code",
   "execution_count": 1,
   "metadata": {
    "id": "qGrMzRDpqArE",
    "scrolled": false
   },
   "outputs": [],
   "source": [
    "# import all the required libraries and dependencies for dataframe\n",
    "\n",
    "import numpy as np\n",
    "import pandas as pd\n",
    "import matplotlib.pyplot as plt\n",
    "import seaborn as sns\n",
    "import warnings\n",
    "warnings.filterwarnings(\"ignore\")\n",
    "from datetime import datetime, timedelta\n",
    "\n",
    "# import all libraries and dependencies for data visualization\n",
    "pd.options.display.float_format='{:.4f}'.format\n",
    "plt.rcParams['figure.figsize'] = [8,8]\n",
    "pd.set_option('display.max_columns', 500)\n",
    "pd.set_option('display.max_colwidth', -1) \n",
    "sns.set(style='darkgrid')\n",
    "import matplotlib.ticker as plticker\n",
    "%matplotlib inline\n",
    "\n",
    "# import all the required libraries and dependencies for machine learning\n",
    "\n",
    "from sklearn.model_selection import train_test_split\n",
    "from sklearn.preprocessing import StandardScaler\n",
    "from sklearn.linear_model import LogisticRegression\n",
    "from sklearn.model_selection import GridSearchCV\n",
    "from sklearn.model_selection import KFold\n",
    "from sklearn.metrics import roc_auc_score\n",
    "from sklearn.tree import DecisionTreeClassifier\n",
    "from sklearn.ensemble import RandomForestClassifier\n",
    "from sklearn.ensemble import AdaBoostClassifier\n",
    "from sklearn import metrics\n",
    "import statsmodels.api as sm\n",
    "import pickle\n",
    "import gc \n",
    "from sklearn import svm\n",
    "from xgboost import XGBClassifier\n",
    "import xgboost as xgb\n",
    "from sklearn.metrics import accuracy_score\n",
    "from sklearn.metrics import roc_curve,roc_auc_score, precision_recall_curve, average_precision_score\n",
    "from sklearn.metrics import classification_report\n",
    "from sklearn.metrics import confusion_matrix"
   ]
  },
  {
   "cell_type": "markdown",
   "metadata": {
    "id": "-4pAOrdeqArL"
   },
   "source": [
    "## Exploratory data analysis"
   ]
  },
  {
   "cell_type": "markdown",
   "metadata": {
    "id": "lf5vIjkPYTp1"
   },
   "source": [
    "In the below cells, we are to import Kaggle dataset using a combination of Colab API's and Kaggle API's\n"
   ]
  },
  {
   "cell_type": "code",
   "execution_count": 223,
   "metadata": {},
   "outputs": [],
   "source": [
    "import requests\n",
    "\n",
    "def download_file_from_google_drive(id, destination):\n",
    "    URL = \"https://docs.google.com/uc?export=download\"\n",
    "\n",
    "    session = requests.Session()\n",
    "\n",
    "    response = session.get(URL, params = { 'id' : id }, stream = True)\n",
    "    token = get_confirm_token(response)\n",
    "\n",
    "    if token:\n",
    "        params = { 'id' : id, 'confirm' : token }\n",
    "        response = session.get(URL, params = params, stream = True)\n",
    "\n",
    "    save_response_content(response, destination)    \n",
    "\n",
    "def get_confirm_token(response):\n",
    "    for key, value in response.cookies.items():\n",
    "        if key.startswith('download_warning'):\n",
    "            return value\n",
    "\n",
    "    return None\n",
    "\n",
    "def save_response_content(response, destination):\n",
    "    CHUNK_SIZE = 32768\n",
    "\n",
    "    with open(destination, \"wb\") as f:\n",
    "        for chunk in response.iter_content(CHUNK_SIZE):\n",
    "            if chunk: # filter out keep-alive new chunks\n",
    "                f.write(chunk)"
   ]
  },
  {
   "cell_type": "code",
   "execution_count": 224,
   "metadata": {},
   "outputs": [],
   "source": [
    "file_id = '******************************'\n",
    "destination = 'archive.zip'\n",
    "download_file_from_google_drive(file_id, destination)"
   ]
  },
  {
   "cell_type": "code",
   "execution_count": 226,
   "metadata": {},
   "outputs": [],
   "source": [
    "#extract csv from zip file\n",
    "\n",
    "import zipfile\n",
    "with zipfile.ZipFile(destination, 'r') as zip_ref:\n",
    "    zip_ref.extractall()"
   ]
  },
  {
   "cell_type": "code",
   "execution_count": 2,
   "metadata": {
    "colab": {
     "base_uri": "https://localhost:8080/",
     "height": 222
    },
    "id": "u9aSvyGYqArM",
    "outputId": "c322f6df-4a37-4105-8cdb-9945fa6b8c1c"
   },
   "outputs": [
    {
     "data": {
      "text/html": [
       "<div>\n",
       "<style scoped>\n",
       "    .dataframe tbody tr th:only-of-type {\n",
       "        vertical-align: middle;\n",
       "    }\n",
       "\n",
       "    .dataframe tbody tr th {\n",
       "        vertical-align: top;\n",
       "    }\n",
       "\n",
       "    .dataframe thead th {\n",
       "        text-align: right;\n",
       "    }\n",
       "</style>\n",
       "<table border=\"1\" class=\"dataframe\">\n",
       "  <thead>\n",
       "    <tr style=\"text-align: right;\">\n",
       "      <th></th>\n",
       "      <th>Time</th>\n",
       "      <th>V1</th>\n",
       "      <th>V2</th>\n",
       "      <th>V3</th>\n",
       "      <th>V4</th>\n",
       "      <th>V5</th>\n",
       "      <th>V6</th>\n",
       "      <th>V7</th>\n",
       "      <th>V8</th>\n",
       "      <th>V9</th>\n",
       "      <th>V10</th>\n",
       "      <th>V11</th>\n",
       "      <th>V12</th>\n",
       "      <th>V13</th>\n",
       "      <th>V14</th>\n",
       "      <th>V15</th>\n",
       "      <th>V16</th>\n",
       "      <th>V17</th>\n",
       "      <th>V18</th>\n",
       "      <th>V19</th>\n",
       "      <th>V20</th>\n",
       "      <th>V21</th>\n",
       "      <th>V22</th>\n",
       "      <th>V23</th>\n",
       "      <th>V24</th>\n",
       "      <th>V25</th>\n",
       "      <th>V26</th>\n",
       "      <th>V27</th>\n",
       "      <th>V28</th>\n",
       "      <th>Amount</th>\n",
       "      <th>Class</th>\n",
       "    </tr>\n",
       "  </thead>\n",
       "  <tbody>\n",
       "    <tr>\n",
       "      <th>0</th>\n",
       "      <td>0.0000</td>\n",
       "      <td>-1.3598</td>\n",
       "      <td>-0.0728</td>\n",
       "      <td>2.5363</td>\n",
       "      <td>1.3782</td>\n",
       "      <td>-0.3383</td>\n",
       "      <td>0.4624</td>\n",
       "      <td>0.2396</td>\n",
       "      <td>0.0987</td>\n",
       "      <td>0.3638</td>\n",
       "      <td>0.0908</td>\n",
       "      <td>-0.5516</td>\n",
       "      <td>-0.6178</td>\n",
       "      <td>-0.9914</td>\n",
       "      <td>-0.3112</td>\n",
       "      <td>1.4682</td>\n",
       "      <td>-0.4704</td>\n",
       "      <td>0.2080</td>\n",
       "      <td>0.0258</td>\n",
       "      <td>0.4040</td>\n",
       "      <td>0.2514</td>\n",
       "      <td>-0.0183</td>\n",
       "      <td>0.2778</td>\n",
       "      <td>-0.1105</td>\n",
       "      <td>0.0669</td>\n",
       "      <td>0.1285</td>\n",
       "      <td>-0.1891</td>\n",
       "      <td>0.1336</td>\n",
       "      <td>-0.0211</td>\n",
       "      <td>149.6200</td>\n",
       "      <td>0</td>\n",
       "    </tr>\n",
       "    <tr>\n",
       "      <th>1</th>\n",
       "      <td>0.0000</td>\n",
       "      <td>1.1919</td>\n",
       "      <td>0.2662</td>\n",
       "      <td>0.1665</td>\n",
       "      <td>0.4482</td>\n",
       "      <td>0.0600</td>\n",
       "      <td>-0.0824</td>\n",
       "      <td>-0.0788</td>\n",
       "      <td>0.0851</td>\n",
       "      <td>-0.2554</td>\n",
       "      <td>-0.1670</td>\n",
       "      <td>1.6127</td>\n",
       "      <td>1.0652</td>\n",
       "      <td>0.4891</td>\n",
       "      <td>-0.1438</td>\n",
       "      <td>0.6356</td>\n",
       "      <td>0.4639</td>\n",
       "      <td>-0.1148</td>\n",
       "      <td>-0.1834</td>\n",
       "      <td>-0.1458</td>\n",
       "      <td>-0.0691</td>\n",
       "      <td>-0.2258</td>\n",
       "      <td>-0.6387</td>\n",
       "      <td>0.1013</td>\n",
       "      <td>-0.3398</td>\n",
       "      <td>0.1672</td>\n",
       "      <td>0.1259</td>\n",
       "      <td>-0.0090</td>\n",
       "      <td>0.0147</td>\n",
       "      <td>2.6900</td>\n",
       "      <td>0</td>\n",
       "    </tr>\n",
       "    <tr>\n",
       "      <th>2</th>\n",
       "      <td>1.0000</td>\n",
       "      <td>-1.3584</td>\n",
       "      <td>-1.3402</td>\n",
       "      <td>1.7732</td>\n",
       "      <td>0.3798</td>\n",
       "      <td>-0.5032</td>\n",
       "      <td>1.8005</td>\n",
       "      <td>0.7915</td>\n",
       "      <td>0.2477</td>\n",
       "      <td>-1.5147</td>\n",
       "      <td>0.2076</td>\n",
       "      <td>0.6245</td>\n",
       "      <td>0.0661</td>\n",
       "      <td>0.7173</td>\n",
       "      <td>-0.1659</td>\n",
       "      <td>2.3459</td>\n",
       "      <td>-2.8901</td>\n",
       "      <td>1.1100</td>\n",
       "      <td>-0.1214</td>\n",
       "      <td>-2.2619</td>\n",
       "      <td>0.5250</td>\n",
       "      <td>0.2480</td>\n",
       "      <td>0.7717</td>\n",
       "      <td>0.9094</td>\n",
       "      <td>-0.6893</td>\n",
       "      <td>-0.3276</td>\n",
       "      <td>-0.1391</td>\n",
       "      <td>-0.0554</td>\n",
       "      <td>-0.0598</td>\n",
       "      <td>378.6600</td>\n",
       "      <td>0</td>\n",
       "    </tr>\n",
       "    <tr>\n",
       "      <th>3</th>\n",
       "      <td>1.0000</td>\n",
       "      <td>-0.9663</td>\n",
       "      <td>-0.1852</td>\n",
       "      <td>1.7930</td>\n",
       "      <td>-0.8633</td>\n",
       "      <td>-0.0103</td>\n",
       "      <td>1.2472</td>\n",
       "      <td>0.2376</td>\n",
       "      <td>0.3774</td>\n",
       "      <td>-1.3870</td>\n",
       "      <td>-0.0550</td>\n",
       "      <td>-0.2265</td>\n",
       "      <td>0.1782</td>\n",
       "      <td>0.5078</td>\n",
       "      <td>-0.2879</td>\n",
       "      <td>-0.6314</td>\n",
       "      <td>-1.0596</td>\n",
       "      <td>-0.6841</td>\n",
       "      <td>1.9658</td>\n",
       "      <td>-1.2326</td>\n",
       "      <td>-0.2080</td>\n",
       "      <td>-0.1083</td>\n",
       "      <td>0.0053</td>\n",
       "      <td>-0.1903</td>\n",
       "      <td>-1.1756</td>\n",
       "      <td>0.6474</td>\n",
       "      <td>-0.2219</td>\n",
       "      <td>0.0627</td>\n",
       "      <td>0.0615</td>\n",
       "      <td>123.5000</td>\n",
       "      <td>0</td>\n",
       "    </tr>\n",
       "    <tr>\n",
       "      <th>4</th>\n",
       "      <td>2.0000</td>\n",
       "      <td>-1.1582</td>\n",
       "      <td>0.8777</td>\n",
       "      <td>1.5487</td>\n",
       "      <td>0.4030</td>\n",
       "      <td>-0.4072</td>\n",
       "      <td>0.0959</td>\n",
       "      <td>0.5929</td>\n",
       "      <td>-0.2705</td>\n",
       "      <td>0.8177</td>\n",
       "      <td>0.7531</td>\n",
       "      <td>-0.8228</td>\n",
       "      <td>0.5382</td>\n",
       "      <td>1.3459</td>\n",
       "      <td>-1.1197</td>\n",
       "      <td>0.1751</td>\n",
       "      <td>-0.4514</td>\n",
       "      <td>-0.2370</td>\n",
       "      <td>-0.0382</td>\n",
       "      <td>0.8035</td>\n",
       "      <td>0.4085</td>\n",
       "      <td>-0.0094</td>\n",
       "      <td>0.7983</td>\n",
       "      <td>-0.1375</td>\n",
       "      <td>0.1413</td>\n",
       "      <td>-0.2060</td>\n",
       "      <td>0.5023</td>\n",
       "      <td>0.2194</td>\n",
       "      <td>0.2152</td>\n",
       "      <td>69.9900</td>\n",
       "      <td>0</td>\n",
       "    </tr>\n",
       "  </tbody>\n",
       "</table>\n",
       "</div>"
      ],
      "text/plain": [
       "    Time      V1      V2     V3      V4      V5      V6      V7      V8  \\\n",
       "0 0.0000 -1.3598 -0.0728 2.5363 1.3782  -0.3383 0.4624  0.2396  0.0987    \n",
       "1 0.0000 1.1919  0.2662  0.1665 0.4482  0.0600  -0.0824 -0.0788 0.0851    \n",
       "2 1.0000 -1.3584 -1.3402 1.7732 0.3798  -0.5032 1.8005  0.7915  0.2477    \n",
       "3 1.0000 -0.9663 -0.1852 1.7930 -0.8633 -0.0103 1.2472  0.2376  0.3774    \n",
       "4 2.0000 -1.1582 0.8777  1.5487 0.4030  -0.4072 0.0959  0.5929  -0.2705   \n",
       "\n",
       "       V9     V10     V11     V12     V13     V14     V15     V16     V17  \\\n",
       "0 0.3638  0.0908  -0.5516 -0.6178 -0.9914 -0.3112 1.4682  -0.4704 0.2080    \n",
       "1 -0.2554 -0.1670 1.6127  1.0652  0.4891  -0.1438 0.6356  0.4639  -0.1148   \n",
       "2 -1.5147 0.2076  0.6245  0.0661  0.7173  -0.1659 2.3459  -2.8901 1.1100    \n",
       "3 -1.3870 -0.0550 -0.2265 0.1782  0.5078  -0.2879 -0.6314 -1.0596 -0.6841   \n",
       "4 0.8177  0.7531  -0.8228 0.5382  1.3459  -1.1197 0.1751  -0.4514 -0.2370   \n",
       "\n",
       "      V18     V19     V20     V21     V22     V23     V24     V25     V26  \\\n",
       "0 0.0258  0.4040  0.2514  -0.0183 0.2778  -0.1105 0.0669  0.1285  -0.1891   \n",
       "1 -0.1834 -0.1458 -0.0691 -0.2258 -0.6387 0.1013  -0.3398 0.1672  0.1259    \n",
       "2 -0.1214 -2.2619 0.5250  0.2480  0.7717  0.9094  -0.6893 -0.3276 -0.1391   \n",
       "3 1.9658  -1.2326 -0.2080 -0.1083 0.0053  -0.1903 -1.1756 0.6474  -0.2219   \n",
       "4 -0.0382 0.8035  0.4085  -0.0094 0.7983  -0.1375 0.1413  -0.2060 0.5023    \n",
       "\n",
       "      V27     V28   Amount  Class  \n",
       "0 0.1336  -0.0211 149.6200  0      \n",
       "1 -0.0090 0.0147  2.6900    0      \n",
       "2 -0.0554 -0.0598 378.6600  0      \n",
       "3 0.0627  0.0615  123.5000  0      \n",
       "4 0.2194  0.2152  69.9900   0      "
      ]
     },
     "execution_count": 2,
     "metadata": {},
     "output_type": "execute_result"
    }
   ],
   "source": [
    "#Read the CSV file\n",
    "df = pd.read_csv('creditcard.csv')\n",
    "df.head()"
   ]
  },
  {
   "cell_type": "code",
   "execution_count": 3,
   "metadata": {
    "colab": {
     "base_uri": "https://localhost:8080/"
    },
    "id": "Cw0ijORLqArP",
    "outputId": "1fa66b9d-fbc3-48e9-b6c6-92485dd68825"
   },
   "outputs": [
    {
     "name": "stdout",
     "output_type": "stream",
     "text": [
      "<class 'pandas.core.frame.DataFrame'>\n",
      "RangeIndex: 284807 entries, 0 to 284806\n",
      "Data columns (total 31 columns):\n",
      " #   Column  Non-Null Count   Dtype  \n",
      "---  ------  --------------   -----  \n",
      " 0   Time    284807 non-null  float64\n",
      " 1   V1      284807 non-null  float64\n",
      " 2   V2      284807 non-null  float64\n",
      " 3   V3      284807 non-null  float64\n",
      " 4   V4      284807 non-null  float64\n",
      " 5   V5      284807 non-null  float64\n",
      " 6   V6      284807 non-null  float64\n",
      " 7   V7      284807 non-null  float64\n",
      " 8   V8      284807 non-null  float64\n",
      " 9   V9      284807 non-null  float64\n",
      " 10  V10     284807 non-null  float64\n",
      " 11  V11     284807 non-null  float64\n",
      " 12  V12     284807 non-null  float64\n",
      " 13  V13     284807 non-null  float64\n",
      " 14  V14     284807 non-null  float64\n",
      " 15  V15     284807 non-null  float64\n",
      " 16  V16     284807 non-null  float64\n",
      " 17  V17     284807 non-null  float64\n",
      " 18  V18     284807 non-null  float64\n",
      " 19  V19     284807 non-null  float64\n",
      " 20  V20     284807 non-null  float64\n",
      " 21  V21     284807 non-null  float64\n",
      " 22  V22     284807 non-null  float64\n",
      " 23  V23     284807 non-null  float64\n",
      " 24  V24     284807 non-null  float64\n",
      " 25  V25     284807 non-null  float64\n",
      " 26  V26     284807 non-null  float64\n",
      " 27  V27     284807 non-null  float64\n",
      " 28  V28     284807 non-null  float64\n",
      " 29  Amount  284807 non-null  float64\n",
      " 30  Class   284807 non-null  int64  \n",
      "dtypes: float64(30), int64(1)\n",
      "memory usage: 67.4 MB\n"
     ]
    }
   ],
   "source": [
    "#observe the different feature type present in the data\n",
    "df.info()"
   ]
  },
  {
   "cell_type": "markdown",
   "metadata": {},
   "source": [
    "***There is no null value in the data set. Hence we need not perform any null value operations***"
   ]
  },
  {
   "cell_type": "code",
   "execution_count": 4,
   "metadata": {},
   "outputs": [
    {
     "data": {
      "text/html": [
       "<div>\n",
       "<style scoped>\n",
       "    .dataframe tbody tr th:only-of-type {\n",
       "        vertical-align: middle;\n",
       "    }\n",
       "\n",
       "    .dataframe tbody tr th {\n",
       "        vertical-align: top;\n",
       "    }\n",
       "\n",
       "    .dataframe thead th {\n",
       "        text-align: right;\n",
       "    }\n",
       "</style>\n",
       "<table border=\"1\" class=\"dataframe\">\n",
       "  <thead>\n",
       "    <tr style=\"text-align: right;\">\n",
       "      <th></th>\n",
       "      <th>Time</th>\n",
       "      <th>V1</th>\n",
       "      <th>V2</th>\n",
       "      <th>V3</th>\n",
       "      <th>V4</th>\n",
       "      <th>V5</th>\n",
       "      <th>V6</th>\n",
       "      <th>V7</th>\n",
       "      <th>V8</th>\n",
       "      <th>V9</th>\n",
       "      <th>V10</th>\n",
       "      <th>V11</th>\n",
       "      <th>V12</th>\n",
       "      <th>V13</th>\n",
       "      <th>V14</th>\n",
       "      <th>V15</th>\n",
       "      <th>V16</th>\n",
       "      <th>V17</th>\n",
       "      <th>V18</th>\n",
       "      <th>V19</th>\n",
       "      <th>V20</th>\n",
       "      <th>V21</th>\n",
       "      <th>V22</th>\n",
       "      <th>V23</th>\n",
       "      <th>V24</th>\n",
       "      <th>V25</th>\n",
       "      <th>V26</th>\n",
       "      <th>V27</th>\n",
       "      <th>V28</th>\n",
       "      <th>Amount</th>\n",
       "      <th>Class</th>\n",
       "    </tr>\n",
       "  </thead>\n",
       "  <tbody>\n",
       "    <tr>\n",
       "      <th>count</th>\n",
       "      <td>284807.0000</td>\n",
       "      <td>284807.0000</td>\n",
       "      <td>284807.0000</td>\n",
       "      <td>284807.0000</td>\n",
       "      <td>284807.0000</td>\n",
       "      <td>284807.0000</td>\n",
       "      <td>284807.0000</td>\n",
       "      <td>284807.0000</td>\n",
       "      <td>284807.0000</td>\n",
       "      <td>284807.0000</td>\n",
       "      <td>284807.0000</td>\n",
       "      <td>284807.0000</td>\n",
       "      <td>284807.0000</td>\n",
       "      <td>284807.0000</td>\n",
       "      <td>284807.0000</td>\n",
       "      <td>284807.0000</td>\n",
       "      <td>284807.0000</td>\n",
       "      <td>284807.0000</td>\n",
       "      <td>284807.0000</td>\n",
       "      <td>284807.0000</td>\n",
       "      <td>284807.0000</td>\n",
       "      <td>284807.0000</td>\n",
       "      <td>284807.0000</td>\n",
       "      <td>284807.0000</td>\n",
       "      <td>284807.0000</td>\n",
       "      <td>284807.0000</td>\n",
       "      <td>284807.0000</td>\n",
       "      <td>284807.0000</td>\n",
       "      <td>284807.0000</td>\n",
       "      <td>284807.0000</td>\n",
       "      <td>284807.0000</td>\n",
       "    </tr>\n",
       "    <tr>\n",
       "      <th>mean</th>\n",
       "      <td>94813.8596</td>\n",
       "      <td>0.0000</td>\n",
       "      <td>0.0000</td>\n",
       "      <td>-0.0000</td>\n",
       "      <td>0.0000</td>\n",
       "      <td>-0.0000</td>\n",
       "      <td>0.0000</td>\n",
       "      <td>-0.0000</td>\n",
       "      <td>-0.0000</td>\n",
       "      <td>-0.0000</td>\n",
       "      <td>0.0000</td>\n",
       "      <td>0.0000</td>\n",
       "      <td>-0.0000</td>\n",
       "      <td>0.0000</td>\n",
       "      <td>0.0000</td>\n",
       "      <td>0.0000</td>\n",
       "      <td>0.0000</td>\n",
       "      <td>-0.0000</td>\n",
       "      <td>0.0000</td>\n",
       "      <td>0.0000</td>\n",
       "      <td>0.0000</td>\n",
       "      <td>0.0000</td>\n",
       "      <td>0.0000</td>\n",
       "      <td>0.0000</td>\n",
       "      <td>0.0000</td>\n",
       "      <td>0.0000</td>\n",
       "      <td>0.0000</td>\n",
       "      <td>-0.0000</td>\n",
       "      <td>-0.0000</td>\n",
       "      <td>88.3496</td>\n",
       "      <td>0.0017</td>\n",
       "    </tr>\n",
       "    <tr>\n",
       "      <th>std</th>\n",
       "      <td>47488.1460</td>\n",
       "      <td>1.9587</td>\n",
       "      <td>1.6513</td>\n",
       "      <td>1.5163</td>\n",
       "      <td>1.4159</td>\n",
       "      <td>1.3802</td>\n",
       "      <td>1.3323</td>\n",
       "      <td>1.2371</td>\n",
       "      <td>1.1944</td>\n",
       "      <td>1.0986</td>\n",
       "      <td>1.0888</td>\n",
       "      <td>1.0207</td>\n",
       "      <td>0.9992</td>\n",
       "      <td>0.9953</td>\n",
       "      <td>0.9586</td>\n",
       "      <td>0.9153</td>\n",
       "      <td>0.8763</td>\n",
       "      <td>0.8493</td>\n",
       "      <td>0.8382</td>\n",
       "      <td>0.8140</td>\n",
       "      <td>0.7709</td>\n",
       "      <td>0.7345</td>\n",
       "      <td>0.7257</td>\n",
       "      <td>0.6245</td>\n",
       "      <td>0.6056</td>\n",
       "      <td>0.5213</td>\n",
       "      <td>0.4822</td>\n",
       "      <td>0.4036</td>\n",
       "      <td>0.3301</td>\n",
       "      <td>250.1201</td>\n",
       "      <td>0.0415</td>\n",
       "    </tr>\n",
       "    <tr>\n",
       "      <th>min</th>\n",
       "      <td>0.0000</td>\n",
       "      <td>-56.4075</td>\n",
       "      <td>-72.7157</td>\n",
       "      <td>-48.3256</td>\n",
       "      <td>-5.6832</td>\n",
       "      <td>-113.7433</td>\n",
       "      <td>-26.1605</td>\n",
       "      <td>-43.5572</td>\n",
       "      <td>-73.2167</td>\n",
       "      <td>-13.4341</td>\n",
       "      <td>-24.5883</td>\n",
       "      <td>-4.7975</td>\n",
       "      <td>-18.6837</td>\n",
       "      <td>-5.7919</td>\n",
       "      <td>-19.2143</td>\n",
       "      <td>-4.4989</td>\n",
       "      <td>-14.1299</td>\n",
       "      <td>-25.1628</td>\n",
       "      <td>-9.4987</td>\n",
       "      <td>-7.2135</td>\n",
       "      <td>-54.4977</td>\n",
       "      <td>-34.8304</td>\n",
       "      <td>-10.9331</td>\n",
       "      <td>-44.8077</td>\n",
       "      <td>-2.8366</td>\n",
       "      <td>-10.2954</td>\n",
       "      <td>-2.6046</td>\n",
       "      <td>-22.5657</td>\n",
       "      <td>-15.4301</td>\n",
       "      <td>0.0000</td>\n",
       "      <td>0.0000</td>\n",
       "    </tr>\n",
       "    <tr>\n",
       "      <th>25%</th>\n",
       "      <td>54201.5000</td>\n",
       "      <td>-0.9204</td>\n",
       "      <td>-0.5985</td>\n",
       "      <td>-0.8904</td>\n",
       "      <td>-0.8486</td>\n",
       "      <td>-0.6916</td>\n",
       "      <td>-0.7683</td>\n",
       "      <td>-0.5541</td>\n",
       "      <td>-0.2086</td>\n",
       "      <td>-0.6431</td>\n",
       "      <td>-0.5354</td>\n",
       "      <td>-0.7625</td>\n",
       "      <td>-0.4056</td>\n",
       "      <td>-0.6485</td>\n",
       "      <td>-0.4256</td>\n",
       "      <td>-0.5829</td>\n",
       "      <td>-0.4680</td>\n",
       "      <td>-0.4837</td>\n",
       "      <td>-0.4988</td>\n",
       "      <td>-0.4563</td>\n",
       "      <td>-0.2117</td>\n",
       "      <td>-0.2284</td>\n",
       "      <td>-0.5424</td>\n",
       "      <td>-0.1618</td>\n",
       "      <td>-0.3546</td>\n",
       "      <td>-0.3171</td>\n",
       "      <td>-0.3270</td>\n",
       "      <td>-0.0708</td>\n",
       "      <td>-0.0530</td>\n",
       "      <td>5.6000</td>\n",
       "      <td>0.0000</td>\n",
       "    </tr>\n",
       "    <tr>\n",
       "      <th>50%</th>\n",
       "      <td>84692.0000</td>\n",
       "      <td>0.0181</td>\n",
       "      <td>0.0655</td>\n",
       "      <td>0.1798</td>\n",
       "      <td>-0.0198</td>\n",
       "      <td>-0.0543</td>\n",
       "      <td>-0.2742</td>\n",
       "      <td>0.0401</td>\n",
       "      <td>0.0224</td>\n",
       "      <td>-0.0514</td>\n",
       "      <td>-0.0929</td>\n",
       "      <td>-0.0328</td>\n",
       "      <td>0.1400</td>\n",
       "      <td>-0.0136</td>\n",
       "      <td>0.0506</td>\n",
       "      <td>0.0481</td>\n",
       "      <td>0.0664</td>\n",
       "      <td>-0.0657</td>\n",
       "      <td>-0.0036</td>\n",
       "      <td>0.0037</td>\n",
       "      <td>-0.0625</td>\n",
       "      <td>-0.0295</td>\n",
       "      <td>0.0068</td>\n",
       "      <td>-0.0112</td>\n",
       "      <td>0.0410</td>\n",
       "      <td>0.0166</td>\n",
       "      <td>-0.0521</td>\n",
       "      <td>0.0013</td>\n",
       "      <td>0.0112</td>\n",
       "      <td>22.0000</td>\n",
       "      <td>0.0000</td>\n",
       "    </tr>\n",
       "    <tr>\n",
       "      <th>75%</th>\n",
       "      <td>139320.5000</td>\n",
       "      <td>1.3156</td>\n",
       "      <td>0.8037</td>\n",
       "      <td>1.0272</td>\n",
       "      <td>0.7433</td>\n",
       "      <td>0.6119</td>\n",
       "      <td>0.3986</td>\n",
       "      <td>0.5704</td>\n",
       "      <td>0.3273</td>\n",
       "      <td>0.5971</td>\n",
       "      <td>0.4539</td>\n",
       "      <td>0.7396</td>\n",
       "      <td>0.6182</td>\n",
       "      <td>0.6625</td>\n",
       "      <td>0.4931</td>\n",
       "      <td>0.6488</td>\n",
       "      <td>0.5233</td>\n",
       "      <td>0.3997</td>\n",
       "      <td>0.5008</td>\n",
       "      <td>0.4589</td>\n",
       "      <td>0.1330</td>\n",
       "      <td>0.1864</td>\n",
       "      <td>0.5286</td>\n",
       "      <td>0.1476</td>\n",
       "      <td>0.4395</td>\n",
       "      <td>0.3507</td>\n",
       "      <td>0.2410</td>\n",
       "      <td>0.0910</td>\n",
       "      <td>0.0783</td>\n",
       "      <td>77.1650</td>\n",
       "      <td>0.0000</td>\n",
       "    </tr>\n",
       "    <tr>\n",
       "      <th>max</th>\n",
       "      <td>172792.0000</td>\n",
       "      <td>2.4549</td>\n",
       "      <td>22.0577</td>\n",
       "      <td>9.3826</td>\n",
       "      <td>16.8753</td>\n",
       "      <td>34.8017</td>\n",
       "      <td>73.3016</td>\n",
       "      <td>120.5895</td>\n",
       "      <td>20.0072</td>\n",
       "      <td>15.5950</td>\n",
       "      <td>23.7451</td>\n",
       "      <td>12.0189</td>\n",
       "      <td>7.8484</td>\n",
       "      <td>7.1269</td>\n",
       "      <td>10.5268</td>\n",
       "      <td>8.8777</td>\n",
       "      <td>17.3151</td>\n",
       "      <td>9.2535</td>\n",
       "      <td>5.0411</td>\n",
       "      <td>5.5920</td>\n",
       "      <td>39.4209</td>\n",
       "      <td>27.2028</td>\n",
       "      <td>10.5031</td>\n",
       "      <td>22.5284</td>\n",
       "      <td>4.5845</td>\n",
       "      <td>7.5196</td>\n",
       "      <td>3.5173</td>\n",
       "      <td>31.6122</td>\n",
       "      <td>33.8478</td>\n",
       "      <td>25691.1600</td>\n",
       "      <td>1.0000</td>\n",
       "    </tr>\n",
       "  </tbody>\n",
       "</table>\n",
       "</div>"
      ],
      "text/plain": [
       "             Time          V1          V2          V3          V4          V5  \\\n",
       "count 284807.0000 284807.0000 284807.0000 284807.0000 284807.0000 284807.0000   \n",
       "mean  94813.8596  0.0000      0.0000      -0.0000     0.0000      -0.0000       \n",
       "std   47488.1460  1.9587      1.6513      1.5163      1.4159      1.3802        \n",
       "min   0.0000      -56.4075    -72.7157    -48.3256    -5.6832     -113.7433     \n",
       "25%   54201.5000  -0.9204     -0.5985     -0.8904     -0.8486     -0.6916       \n",
       "50%   84692.0000  0.0181      0.0655      0.1798      -0.0198     -0.0543       \n",
       "75%   139320.5000 1.3156      0.8037      1.0272      0.7433      0.6119        \n",
       "max   172792.0000 2.4549      22.0577     9.3826      16.8753     34.8017       \n",
       "\n",
       "               V6          V7          V8          V9         V10         V11  \\\n",
       "count 284807.0000 284807.0000 284807.0000 284807.0000 284807.0000 284807.0000   \n",
       "mean  0.0000      -0.0000     -0.0000     -0.0000     0.0000      0.0000        \n",
       "std   1.3323      1.2371      1.1944      1.0986      1.0888      1.0207        \n",
       "min   -26.1605    -43.5572    -73.2167    -13.4341    -24.5883    -4.7975       \n",
       "25%   -0.7683     -0.5541     -0.2086     -0.6431     -0.5354     -0.7625       \n",
       "50%   -0.2742     0.0401      0.0224      -0.0514     -0.0929     -0.0328       \n",
       "75%   0.3986      0.5704      0.3273      0.5971      0.4539      0.7396        \n",
       "max   73.3016     120.5895    20.0072     15.5950     23.7451     12.0189       \n",
       "\n",
       "              V12         V13         V14         V15         V16         V17  \\\n",
       "count 284807.0000 284807.0000 284807.0000 284807.0000 284807.0000 284807.0000   \n",
       "mean  -0.0000     0.0000      0.0000      0.0000      0.0000      -0.0000       \n",
       "std   0.9992      0.9953      0.9586      0.9153      0.8763      0.8493        \n",
       "min   -18.6837    -5.7919     -19.2143    -4.4989     -14.1299    -25.1628      \n",
       "25%   -0.4056     -0.6485     -0.4256     -0.5829     -0.4680     -0.4837       \n",
       "50%   0.1400      -0.0136     0.0506      0.0481      0.0664      -0.0657       \n",
       "75%   0.6182      0.6625      0.4931      0.6488      0.5233      0.3997        \n",
       "max   7.8484      7.1269      10.5268     8.8777      17.3151     9.2535        \n",
       "\n",
       "              V18         V19         V20         V21         V22         V23  \\\n",
       "count 284807.0000 284807.0000 284807.0000 284807.0000 284807.0000 284807.0000   \n",
       "mean  0.0000      0.0000      0.0000      0.0000      0.0000      0.0000        \n",
       "std   0.8382      0.8140      0.7709      0.7345      0.7257      0.6245        \n",
       "min   -9.4987     -7.2135     -54.4977    -34.8304    -10.9331    -44.8077      \n",
       "25%   -0.4988     -0.4563     -0.2117     -0.2284     -0.5424     -0.1618       \n",
       "50%   -0.0036     0.0037      -0.0625     -0.0295     0.0068      -0.0112       \n",
       "75%   0.5008      0.4589      0.1330      0.1864      0.5286      0.1476        \n",
       "max   5.0411      5.5920      39.4209     27.2028     10.5031     22.5284       \n",
       "\n",
       "              V24         V25         V26         V27         V28      Amount  \\\n",
       "count 284807.0000 284807.0000 284807.0000 284807.0000 284807.0000 284807.0000   \n",
       "mean  0.0000      0.0000      0.0000      -0.0000     -0.0000     88.3496       \n",
       "std   0.6056      0.5213      0.4822      0.4036      0.3301      250.1201      \n",
       "min   -2.8366     -10.2954    -2.6046     -22.5657    -15.4301    0.0000        \n",
       "25%   -0.3546     -0.3171     -0.3270     -0.0708     -0.0530     5.6000        \n",
       "50%   0.0410      0.0166      -0.0521     0.0013      0.0112      22.0000       \n",
       "75%   0.4395      0.3507      0.2410      0.0910      0.0783      77.1650       \n",
       "max   4.5845      7.5196      3.5173      31.6122     33.8478     25691.1600    \n",
       "\n",
       "            Class  \n",
       "count 284807.0000  \n",
       "mean  0.0017       \n",
       "std   0.0415       \n",
       "min   0.0000       \n",
       "25%   0.0000       \n",
       "50%   0.0000       \n",
       "75%   0.0000       \n",
       "max   1.0000       "
      ]
     },
     "execution_count": 4,
     "metadata": {},
     "output_type": "execute_result"
    }
   ],
   "source": [
    "#Sneak peak into the  data frame\n",
    "df.describe()"
   ]
  },
  {
   "cell_type": "code",
   "execution_count": 5,
   "metadata": {},
   "outputs": [
    {
     "name": "stdout",
     "output_type": "stream",
     "text": [
      "<class 'pandas.core.frame.DataFrame'>\n",
      "RangeIndex: 284807 entries, 0 to 284806\n",
      "Data columns (total 31 columns):\n",
      " #   Column  Non-Null Count   Dtype  \n",
      "---  ------  --------------   -----  \n",
      " 0   Time    284807 non-null  float64\n",
      " 1   V1      284807 non-null  float64\n",
      " 2   V2      284807 non-null  float64\n",
      " 3   V3      284807 non-null  float64\n",
      " 4   V4      284807 non-null  float64\n",
      " 5   V5      284807 non-null  float64\n",
      " 6   V6      284807 non-null  float64\n",
      " 7   V7      284807 non-null  float64\n",
      " 8   V8      284807 non-null  float64\n",
      " 9   V9      284807 non-null  float64\n",
      " 10  V10     284807 non-null  float64\n",
      " 11  V11     284807 non-null  float64\n",
      " 12  V12     284807 non-null  float64\n",
      " 13  V13     284807 non-null  float64\n",
      " 14  V14     284807 non-null  float64\n",
      " 15  V15     284807 non-null  float64\n",
      " 16  V16     284807 non-null  float64\n",
      " 17  V17     284807 non-null  float64\n",
      " 18  V18     284807 non-null  float64\n",
      " 19  V19     284807 non-null  float64\n",
      " 20  V20     284807 non-null  float64\n",
      " 21  V21     284807 non-null  float64\n",
      " 22  V22     284807 non-null  float64\n",
      " 23  V23     284807 non-null  float64\n",
      " 24  V24     284807 non-null  float64\n",
      " 25  V25     284807 non-null  float64\n",
      " 26  V26     284807 non-null  float64\n",
      " 27  V27     284807 non-null  float64\n",
      " 28  V28     284807 non-null  float64\n",
      " 29  Amount  284807 non-null  float64\n",
      " 30  Class   284807 non-null  int64  \n",
      "dtypes: float64(30), int64(1)\n",
      "memory usage: 67.4 MB\n"
     ]
    }
   ],
   "source": [
    "df.info()"
   ]
  },
  {
   "cell_type": "markdown",
   "metadata": {
    "id": "s3s2uuItqArS"
   },
   "source": [
    "As seen from above result, the Amount column is highly skewed towards the right and needs to be handled\n",
    "<br>\n",
    "Here we will observe the distribution of our classes"
   ]
  },
  {
   "cell_type": "code",
   "execution_count": 6,
   "metadata": {
    "id": "xOZU08iEqArS"
   },
   "outputs": [
    {
     "name": "stdout",
     "output_type": "stream",
     "text": [
      "The ratio of Fraud to non-fraud transactions is 0.17 %\n"
     ]
    }
   ],
   "source": [
    "classes=df['Class'].value_counts()\n",
    "normal_share=classes[0]/df['Class'].count()*100\n",
    "fraud_share=classes[1]/df['Class'].count()*100\n",
    "print('The ratio of Fraud to non-fraud transactions is '+str(round((fraud_share/normal_share)*100,2))+' %')"
   ]
  },
  {
   "cell_type": "code",
   "execution_count": 7,
   "metadata": {
    "colab": {
     "base_uri": "https://localhost:8080/",
     "height": 351
    },
    "id": "roKwzLqmqArZ",
    "outputId": "889cd4db-142d-4a25-d9f7-17bb4e771eec"
   },
   "outputs": [
    {
     "data": {
      "image/png": "[encoded data removed]",
      "text/plain": [
       "<Figure size 432x288 with 1 Axes>"
      ]
     },
     "metadata": {
      "needs_background": "light"
     },
     "output_type": "display_data"
    }
   ],
   "source": [
    "# Create a bar plot for the number and percentage of fraudulent vs non-fraudulent transcations\n",
    "sns.countplot('Class', data=df)\n",
    "plt.title('Class Distributions', fontsize=14)\n",
    "plt.xlabel('Class 0 - Non Fradulent vs Class 1 - Fraudulent Cases')\n",
    "plt.ylabel('Frequency')\n",
    "plt.show()"
   ]
  },
  {
   "cell_type": "markdown",
   "metadata": {
    "id": "sRxsNZsiX3vv"
   },
   "source": [
    "As seen from above plot, the data is highly imbalanced where only 0.17% of the data accounts for fraudulent cases.\n",
    "In this scenario accuracy score to evaluate our classification algorithm will not be correct.Just using accuracy as the evaluation metric will predit every case as 0 Non Fraud and hence it would be wrong."
   ]
  },
  {
   "cell_type": "code",
   "execution_count": 8,
   "metadata": {},
   "outputs": [
    {
     "data": {
      "text/plain": [
       "[None, None, None, None]"
      ]
     },
     "execution_count": 8,
     "metadata": {},
     "output_type": "execute_result"
    },
    {
     "data": {
      "image/png": "[encoded data removed]",
      "text/plain": [
       "<Figure size 504x432 with 1 Axes>"
      ]
     },
     "metadata": {
      "needs_background": "light"
     },
     "output_type": "display_data"
    }
   ],
   "source": [
    "# Box Plot of amount for both classes\n",
    "plt.figure(figsize = (7, 6))\n",
    "a=sns.boxplot(x = 'Class', y = 'Amount',hue='Class', data = df,showfliers=False) \n",
    "plt.setp(a.get_xticklabels(), rotation=45)"
   ]
  },
  {
   "cell_type": "code",
   "execution_count": 9,
   "metadata": {},
   "outputs": [
    {
     "data": {
      "text/plain": [
       "Text(0, 0.5, 'Density')"
      ]
     },
     "execution_count": 9,
     "metadata": {},
     "output_type": "execute_result"
    },
    {
     "data": {
      "image/png": "[encoded data removed]",
      "text/plain": [
       "<Figure size 720x432 with 1 Axes>"
      ]
     },
     "metadata": {
      "needs_background": "light"
     },
     "output_type": "display_data"
    }
   ],
   "source": [
    "# KDE plot to visualize the distribution of Amount for both the classes\n",
    "plt.rcParams['figure.figsize'] = [10,6]\n",
    "sns.kdeplot(df.loc[df['Class'] == 0, 'Amount'], label = 'Non Fraud')\n",
    "sns.kdeplot(df.loc[df['Class'] == 1, 'Amount'], label = 'Fraud')\n",
    "plt.title('Distribution of Amount by Target Value')\n",
    "plt.xlabel('Amount')\n",
    "plt.ylabel('Density')"
   ]
  },
  {
   "cell_type": "markdown",
   "metadata": {},
   "source": [
    "Inference:\n",
    "The distribution of amount for Fraud transactions is much higher than non-fradualent transactions."
   ]
  },
  {
   "cell_type": "code",
   "execution_count": 10,
   "metadata": {},
   "outputs": [
    {
     "data": {
      "text/plain": [
       "<matplotlib.axes._subplots.AxesSubplot at 0xf3ce730>"
      ]
     },
     "execution_count": 10,
     "metadata": {},
     "output_type": "execute_result"
    },
    {
     "data": {
      "image/png": "[encoded data removed]",
      "text/plain": [
       "<Figure size 1080x504 with 1 Axes>"
      ]
     },
     "metadata": {
      "needs_background": "light"
     },
     "output_type": "display_data"
    }
   ],
   "source": [
    "# Time Distribution plot for transactions \n",
    "plt.figure(figsize=(15,7))\n",
    "\n",
    "plt.title('Distribution of Transaction Time')\n",
    "sns.distplot(df['Time'].values/(60*60))"
   ]
  },
  {
   "cell_type": "code",
   "execution_count": 11,
   "metadata": {},
   "outputs": [],
   "source": [
    "# Storing Fraud and non-Fraud transactions \n",
    "\n",
    "df_nonfraud = df[df.Class == 0]\n",
    "df_fraud = df[df.Class == 1]"
   ]
  },
  {
   "cell_type": "code",
   "execution_count": 12,
   "metadata": {},
   "outputs": [
    {
     "data": {
      "image/png": "[encoded data removed]",
      "text/plain": [
       "<Figure size 576x576 with 1 Axes>"
      ]
     },
     "metadata": {
      "needs_background": "light"
     },
     "output_type": "display_data"
    }
   ],
   "source": [
    "#Scatter plot between Time and Amount\n",
    "\n",
    "fig = plt.figure(figsize = (8,8))\n",
    "plt.scatter(df_nonfraud.Amount, df_nonfraud.Time.values/(60*60),alpha=0.5,label='Non Fraud')\n",
    "plt.scatter(df_fraud.Amount, df_fraud.Time.values/(60*60),alpha=1,label='Fraud')\n",
    "plt.xlabel('Amount')\n",
    "plt.ylabel('Time')\n",
    "plt.title('Scatter plot between Amount and Time ')\n",
    "plt.show()"
   ]
  },
  {
   "cell_type": "code",
   "execution_count": 13,
   "metadata": {},
   "outputs": [
    {
     "data": {
      "image/png": "[encoded data removed]",
      "text/plain": [
       "<Figure size 720x432 with 1 Axes>"
      ]
     },
     "metadata": {
      "needs_background": "light"
     },
     "output_type": "display_data"
    }
   ],
   "source": [
    "\n",
    "bins = np.linspace(200, 2000, 100)\n",
    "plt.hist(df_nonfraud.Amount, bins, alpha=1, density=True, label='Non-Fraud')\n",
    "plt.hist(df_fraud.Amount, bins, alpha=1, density=True, label='Fraud')\n",
    "plt.legend(loc='upper right')\n",
    "plt.title(\"Amount by percentage of transactions (transactions \\$200-$2000)\")\n",
    "plt.xlabel(\"Transaction amount (USD)\")\n",
    "plt.ylabel(\"Percentage of transactions (%)\")\n",
    "plt.show()"
   ]
  },
  {
   "cell_type": "markdown",
   "metadata": {},
   "source": [
    "Inference:\n",
    "\n",
    "In the long tail, fraud transaction happened more frequently.The frequency is more between $250 to $750\n",
    "\n",
    "It is hard to differentiate fraud from normal transactions by transaction amount alone."
   ]
  },
  {
   "cell_type": "code",
   "execution_count": 14,
   "metadata": {
    "scrolled": true
   },
   "outputs": [
    {
     "data": {
      "image/png": "[encoded data removed]",
      "text/plain": [
       "<Figure size 720x432 with 1 Axes>"
      ]
     },
     "metadata": {
      "needs_background": "light"
     },
     "output_type": "display_data"
    }
   ],
   "source": [
    "\n",
    "bins = np.linspace(0, 48, 48)\n",
    "#plt.hist((df_nonfraud.Time/(60*60)), bins, alpha=1,label='Non-Fraud')\n",
    "plt.hist((df_fraud.Time/(60*60)), bins, alpha=0.6,label='Fraud')\n",
    "plt.legend(loc='upper right')\n",
    "plt.title(\"Percentage of transactions by hour\")\n",
    "plt.xlabel(\"Transaction time from first transaction in the dataset (hours)\")\n",
    "plt.ylabel(\"Percentage of transactions (%)\")\n",
    "plt.show()"
   ]
  },
  {
   "cell_type": "markdown",
   "metadata": {},
   "source": [
    "Inference:\n",
    "Hour zero corresponds to the hour the first transaction happened and need not to be 12-1 AM. Given the heavy decrease in normal transactions from hours 1 to 8 and again roughly at hours 24 to 32, it seems fraud tends to occur at higher rates during the night."
   ]
  },
  {
   "cell_type": "markdown",
   "metadata": {
    "id": "lMqGp_4rqArr"
   },
   "source": [
    "### Splitting the data into train & test data"
   ]
  },
  {
   "cell_type": "code",
   "execution_count": 15,
   "metadata": {},
   "outputs": [
    {
     "data": {
      "text/html": [
       "<div>\n",
       "<style scoped>\n",
       "    .dataframe tbody tr th:only-of-type {\n",
       "        vertical-align: middle;\n",
       "    }\n",
       "\n",
       "    .dataframe tbody tr th {\n",
       "        vertical-align: top;\n",
       "    }\n",
       "\n",
       "    .dataframe thead th {\n",
       "        text-align: right;\n",
       "    }\n",
       "</style>\n",
       "<table border=\"1\" class=\"dataframe\">\n",
       "  <thead>\n",
       "    <tr style=\"text-align: right;\">\n",
       "      <th></th>\n",
       "      <th>Time</th>\n",
       "      <th>V1</th>\n",
       "      <th>V2</th>\n",
       "      <th>V3</th>\n",
       "      <th>V4</th>\n",
       "      <th>V5</th>\n",
       "      <th>V6</th>\n",
       "      <th>V7</th>\n",
       "      <th>V8</th>\n",
       "      <th>V9</th>\n",
       "      <th>V10</th>\n",
       "      <th>V11</th>\n",
       "      <th>V12</th>\n",
       "      <th>V13</th>\n",
       "      <th>V14</th>\n",
       "      <th>V15</th>\n",
       "      <th>V16</th>\n",
       "      <th>V17</th>\n",
       "      <th>V18</th>\n",
       "      <th>V19</th>\n",
       "      <th>V20</th>\n",
       "      <th>V21</th>\n",
       "      <th>V22</th>\n",
       "      <th>V23</th>\n",
       "      <th>V24</th>\n",
       "      <th>V25</th>\n",
       "      <th>V26</th>\n",
       "      <th>V27</th>\n",
       "      <th>V28</th>\n",
       "      <th>Amount</th>\n",
       "    </tr>\n",
       "  </thead>\n",
       "  <tbody>\n",
       "    <tr>\n",
       "      <th>0</th>\n",
       "      <td>0.0000</td>\n",
       "      <td>-1.3598</td>\n",
       "      <td>-0.0728</td>\n",
       "      <td>2.5363</td>\n",
       "      <td>1.3782</td>\n",
       "      <td>-0.3383</td>\n",
       "      <td>0.4624</td>\n",
       "      <td>0.2396</td>\n",
       "      <td>0.0987</td>\n",
       "      <td>0.3638</td>\n",
       "      <td>0.0908</td>\n",
       "      <td>-0.5516</td>\n",
       "      <td>-0.6178</td>\n",
       "      <td>-0.9914</td>\n",
       "      <td>-0.3112</td>\n",
       "      <td>1.4682</td>\n",
       "      <td>-0.4704</td>\n",
       "      <td>0.2080</td>\n",
       "      <td>0.0258</td>\n",
       "      <td>0.4040</td>\n",
       "      <td>0.2514</td>\n",
       "      <td>-0.0183</td>\n",
       "      <td>0.2778</td>\n",
       "      <td>-0.1105</td>\n",
       "      <td>0.0669</td>\n",
       "      <td>0.1285</td>\n",
       "      <td>-0.1891</td>\n",
       "      <td>0.1336</td>\n",
       "      <td>-0.0211</td>\n",
       "      <td>149.6200</td>\n",
       "    </tr>\n",
       "    <tr>\n",
       "      <th>1</th>\n",
       "      <td>0.0000</td>\n",
       "      <td>1.1919</td>\n",
       "      <td>0.2662</td>\n",
       "      <td>0.1665</td>\n",
       "      <td>0.4482</td>\n",
       "      <td>0.0600</td>\n",
       "      <td>-0.0824</td>\n",
       "      <td>-0.0788</td>\n",
       "      <td>0.0851</td>\n",
       "      <td>-0.2554</td>\n",
       "      <td>-0.1670</td>\n",
       "      <td>1.6127</td>\n",
       "      <td>1.0652</td>\n",
       "      <td>0.4891</td>\n",
       "      <td>-0.1438</td>\n",
       "      <td>0.6356</td>\n",
       "      <td>0.4639</td>\n",
       "      <td>-0.1148</td>\n",
       "      <td>-0.1834</td>\n",
       "      <td>-0.1458</td>\n",
       "      <td>-0.0691</td>\n",
       "      <td>-0.2258</td>\n",
       "      <td>-0.6387</td>\n",
       "      <td>0.1013</td>\n",
       "      <td>-0.3398</td>\n",
       "      <td>0.1672</td>\n",
       "      <td>0.1259</td>\n",
       "      <td>-0.0090</td>\n",
       "      <td>0.0147</td>\n",
       "      <td>2.6900</td>\n",
       "    </tr>\n",
       "  </tbody>\n",
       "</table>\n",
       "</div>"
      ],
      "text/plain": [
       "    Time      V1      V2     V3     V4      V5      V6      V7     V8      V9  \\\n",
       "0 0.0000 -1.3598 -0.0728 2.5363 1.3782 -0.3383 0.4624  0.2396  0.0987 0.3638    \n",
       "1 0.0000 1.1919  0.2662  0.1665 0.4482 0.0600  -0.0824 -0.0788 0.0851 -0.2554   \n",
       "\n",
       "      V10     V11     V12     V13     V14    V15     V16     V17     V18  \\\n",
       "0 0.0908  -0.5516 -0.6178 -0.9914 -0.3112 1.4682 -0.4704 0.2080  0.0258    \n",
       "1 -0.1670 1.6127  1.0652  0.4891  -0.1438 0.6356 0.4639  -0.1148 -0.1834   \n",
       "\n",
       "      V19     V20     V21     V22     V23     V24    V25     V26     V27  \\\n",
       "0 0.4040  0.2514  -0.0183 0.2778  -0.1105 0.0669  0.1285 -0.1891 0.1336    \n",
       "1 -0.1458 -0.0691 -0.2258 -0.6387 0.1013  -0.3398 0.1672 0.1259  -0.0090   \n",
       "\n",
       "      V28   Amount  \n",
       "0 -0.0211 149.6200  \n",
       "1 0.0147  2.6900    "
      ]
     },
     "execution_count": 15,
     "metadata": {},
     "output_type": "execute_result"
    }
   ],
   "source": [
    "# Putting the feature variable into X\n",
    "\n",
    "X = df.drop(['Class'],axis = 1)\n",
    "X.head(2)"
   ]
  },
  {
   "cell_type": "code",
   "execution_count": 16,
   "metadata": {},
   "outputs": [],
   "source": [
    "# Putting the Target variable to y\n",
    "\n",
    "y = df['Class']"
   ]
  },
  {
   "cell_type": "code",
   "execution_count": 17,
   "metadata": {},
   "outputs": [],
   "source": [
    "from sklearn.model_selection import StratifiedShuffleSplit"
   ]
  },
  {
   "cell_type": "code",
   "execution_count": 18,
   "metadata": {},
   "outputs": [
    {
     "name": "stdout",
     "output_type": "stream",
     "text": [
      "TRAIN: [129141  91689 118805 ... 249655  69488 188068] TEST: [ 32603  71580 144362 ... 120664 260883 146701]\n",
      "TRAIN: [179661 129498 253513 ... 261021 275137 199709] TEST: [ 30193  96420  28988 ... 159837 243770  87245]\n",
      "TRAIN: [ 55609 250907 105943 ...  96700  41174 261733] TEST: [ 97330 182828 138896 ... 103047 280031 252278]\n",
      "TRAIN: [160541 270383   7914 ... 119570 142561 116811] TEST: [199984 152508 204491 ... 203781  88156  52492]\n"
     ]
    }
   ],
   "source": [
    "# Splitting the data into Train and Test set\n",
    "kfold = 4\n",
    "sss = StratifiedShuffleSplit(n_splits=kfold, test_size=0.3, random_state=9487)\n",
    "for train_index, test_index in sss.split(X, y):\n",
    "        print(\"TRAIN:\", train_index, \"TEST:\", test_index)\n",
    "        X_train, X_test = X.iloc, X.iloc\n",
    "        y_train, y_test = y[train_index], y[test_index]"
   ]
  },
  {
   "cell_type": "code",
   "execution_count": 19,
   "metadata": {},
   "outputs": [
    {
     "data": {
      "text/plain": [
       "Text(0, 0.5, 'Count')"
      ]
     },
     "execution_count": 19,
     "metadata": {},
     "output_type": "execute_result"
    },
    {
     "data": {
      "image/png": "[encoded data removed]",
      "text/plain": [
       "<Figure size 720x576 with 1 Axes>"
      ]
     },
     "metadata": {
      "needs_background": "light"
     },
     "output_type": "display_data"
    }
   ],
   "source": [
    "# Checking Skewness of data\n",
    "\n",
    "plt.rcParams['figure.figsize'] = [10,8]\n",
    "plt.hist(df['Amount'],edgecolor='k',bins = 5)\n",
    "plt.title('Transaction Amount')\n",
    "plt.xlabel('Amount in USD') \n",
    "plt.ylabel('Count')"
   ]
  },
  {
   "cell_type": "code",
   "execution_count": 20,
   "metadata": {},
   "outputs": [],
   "source": [
    "from sklearn import preprocessing\n",
    "from sklearn.preprocessing import PowerTransformer"
   ]
  },
  {
   "cell_type": "code",
   "execution_count": 21,
   "metadata": {},
   "outputs": [],
   "source": [
    "pt = preprocessing.PowerTransformer(copy=False)\n",
    "PWTR_X = pt.fit_transform(X)"
   ]
  },
  {
   "cell_type": "markdown",
   "metadata": {},
   "source": [
    "<h2>Building a Logistic Model</h2></br>\n",
    "In this excercise instead of accuracy we are going to determine the recall score.\n",
    "Increase of Recall comes at a price of Precision. "
   ]
  },
  {
   "cell_type": "markdown",
   "metadata": {},
   "source": [
    "<h2>Using Data As is - Imbalanced Data Set</h2>"
   ]
  },
  {
   "cell_type": "markdown",
   "metadata": {},
   "source": [
    "<h2>Logistic Regression</h2>"
   ]
  },
  {
   "cell_type": "markdown",
   "metadata": {},
   "source": [
    "<h3>Model 1 : Logistic Regression on Imbalanced Data</h3>"
   ]
  },
  {
   "cell_type": "code",
   "execution_count": 22,
   "metadata": {},
   "outputs": [
    {
     "name": "stdout",
     "output_type": "stream",
     "text": [
      "TRAIN: [129141  91689 118805 ... 249655  69488 188068] TEST: [ 32603  71580 144362 ... 120664 260883 146701]\n",
      "TRAIN: [179661 129498 253513 ... 261021 275137 199709] TEST: [ 30193  96420  28988 ... 159837 243770  87245]\n",
      "TRAIN: [ 55609 250907 105943 ...  96700  41174 261733] TEST: [ 97330 182828 138896 ... 103047 280031 252278]\n",
      "TRAIN: [160541 270383   7914 ... 119570 142561 116811] TEST: [199984 152508 204491 ... 203781  88156  52492]\n"
     ]
    }
   ],
   "source": [
    "# Splitting dataset into test and train sets in 70:30 ratio after applying Power Transform\n",
    "\n",
    "kfold = 4\n",
    "sss = StratifiedShuffleSplit(n_splits=kfold, test_size=0.3, random_state=9487)\n",
    "for train_index, test_index in sss.split(PWTR_X, y):\n",
    "        print(\"TRAIN:\", train_index, \"TEST:\", test_index)\n",
    "        X_train, X_test = X[train_index], X[test_index]\n",
    "        y_train, y_test = y[train_index], y[test_index]\n",
    "X_train=pt.fit_transform(X_train)\n",
    "X_test=pt.transform(X_test)"
   ]
  },
  {
   "cell_type": "code",
   "execution_count": 23,
   "metadata": {},
   "outputs": [
    {
     "data": {
      "text/plain": [
       "LogisticRegression()"
      ]
     },
     "execution_count": 23,
     "metadata": {},
     "output_type": "execute_result"
    }
   ],
   "source": [
    "from sklearn.linear_model import LogisticRegression\n",
    "\n",
    "# Fit a logistic regression model to train data\n",
    "model_lr = LogisticRegression()\n",
    "model_lr.fit(X_train, y_train)"
   ]
  },
  {
   "cell_type": "code",
   "execution_count": 179,
   "metadata": {},
   "outputs": [],
   "source": [
    "# Predict on test data\n",
    "y_predicted = model_lr.predict(X_test)"
   ]
  },
  {
   "cell_type": "code",
   "execution_count": 25,
   "metadata": {},
   "outputs": [
    {
     "name": "stdout",
     "output_type": "stream",
     "text": [
      "Classification report:\n",
      "               precision    recall  f1-score   support\n",
      "\n",
      "           0       1.00      1.00      1.00     85295\n",
      "           1       0.86      0.60      0.71       148\n",
      "\n",
      "    accuracy                           1.00     85443\n",
      "   macro avg       0.93      0.80      0.85     85443\n",
      "weighted avg       1.00      1.00      1.00     85443\n",
      "\n",
      "Confusion matrix:\n",
      " [[85280    15]\n",
      " [   59    89]]\n",
      "Logistic Regression Accuracy:  0.999133925541004\n",
      "ROC AUC :  0.8005877455508148\n"
     ]
    }
   ],
   "source": [
    "# Evaluation Metrics\n",
    "\n",
    "print('Classification report:\\n', classification_report(y_test, y_predicted))\n",
    "print('Confusion matrix:\\n',confusion_matrix(y_true = y_test, y_pred = y_predicted))\n",
    "print(\"Logistic Regression Accuracy: \",accuracy_score(y_test,y_predicted))\n",
    "print('ROC AUC : ', roc_auc_score(y_test, y_predicted))"
   ]
  },
  {
   "cell_type": "code",
   "execution_count": 26,
   "metadata": {},
   "outputs": [],
   "source": [
    "# Function for roc_curve\n",
    "def plot_roc_curve(fpr,tpr,roc_auc):\n",
    "    plt.plot(fpr, tpr, linewidth=5, label='AUC = %0.3f'% roc_auc)\n",
    "    plt.plot([0,1],[0,1], linewidth=5)\n",
    "    plt.xlim([-0.01, 1])\n",
    "    plt.ylim([0, 1.01])\n",
    "    plt.legend(loc='upper right')\n",
    "    plt.title('Receiver operating characteristic curve (ROC)')\n",
    "    plt.ylabel('True Positive Rate')\n",
    "    plt.xlabel('False Positive Rate')\n",
    "    plt.show()"
   ]
  },
  {
   "cell_type": "code",
   "execution_count": 27,
   "metadata": {},
   "outputs": [],
   "source": [
    "# tpr and fpr\n",
    "fpr, tpr, threshold = roc_curve(y_test, y_predicted)\n",
    "roc_auc = roc_auc_score(y_test, y_predicted)"
   ]
  },
  {
   "cell_type": "code",
   "execution_count": 28,
   "metadata": {},
   "outputs": [
    {
     "data": {
      "image/png": "[encoded data removed]",
      "text/plain": [
       "<Figure size 432x432 with 1 Axes>"
      ]
     },
     "metadata": {
      "needs_background": "light"
     },
     "output_type": "display_data"
    }
   ],
   "source": [
    "# Plotting the roc curve \n",
    "plt.rcParams['figure.figsize'] = [6,6]\n",
    "plot_roc_curve(fpr,tpr,roc_auc)"
   ]
  },
  {
   "cell_type": "markdown",
   "metadata": {},
   "source": [
    "<b>Inference: </br>\n",
    "Precision : 0.86 </br>\n",
    "Recall : 0.60 </br>\n",
    "F1-score : 0.71 </br>\n",
    "Accuracy : 0.99 </br>\n",
    "ROC AUC : 0.80</b>"
   ]
  },
  {
   "cell_type": "markdown",
   "metadata": {},
   "source": [
    "<h3>Model 2 : Logistic Regression on Imbalanced Data with K-Fold and Hypertuning</h3>"
   ]
  },
  {
   "cell_type": "code",
   "execution_count": 30,
   "metadata": {},
   "outputs": [],
   "source": [
    "from imblearn.metrics import sensitivity_specificity_support"
   ]
  },
  {
   "cell_type": "code",
   "execution_count": 31,
   "metadata": {},
   "outputs": [],
   "source": [
    "# Number of folds\n",
    "\n",
    "n_folds = 5\n",
    "# parameters \n",
    "params ={'C': [0.1, 0.5, 1, 2, 3, 4, 5, 10], 'penalty': ['l1', 'l2']}\n",
    "\n",
    "lrh = LogisticRegression()\n",
    "\n",
    "model_lrh = GridSearchCV(estimator=lrh, cv=n_folds, param_grid=params, scoring='roc_auc', n_jobs=-1, verbose=1)"
   ]
  },
  {
   "cell_type": "code",
   "execution_count": 32,
   "metadata": {},
   "outputs": [
    {
     "name": "stdout",
     "output_type": "stream",
     "text": [
      "Fitting 5 folds for each of 16 candidates, totalling 80 fits\n"
     ]
    },
    {
     "name": "stderr",
     "output_type": "stream",
     "text": [
      "[Parallel(n_jobs=-1)]: Using backend LokyBackend with 4 concurrent workers.\n",
      "[Parallel(n_jobs=-1)]: Done  42 tasks      | elapsed:   16.7s\n",
      "[Parallel(n_jobs=-1)]: Done  80 out of  80 | elapsed:   32.7s finished\n"
     ]
    },
    {
     "data": {
      "text/plain": [
       "GridSearchCV(cv=5, estimator=LogisticRegression(), n_jobs=-1,\n",
       "             param_grid={'C': [0.1, 0.5, 1, 2, 3, 4, 5, 10],\n",
       "                         'penalty': ['l1', 'l2']},\n",
       "             scoring='roc_auc', verbose=1)"
      ]
     },
     "execution_count": 32,
     "metadata": {},
     "output_type": "execute_result"
    }
   ],
   "source": [
    "# Fitting the model\n",
    "\n",
    "model_lrh.fit(X_train,y_train)"
   ]
  },
  {
   "cell_type": "code",
   "execution_count": 33,
   "metadata": {},
   "outputs": [
    {
     "data": {
      "text/html": [
       "<div>\n",
       "<style scoped>\n",
       "    .dataframe tbody tr th:only-of-type {\n",
       "        vertical-align: middle;\n",
       "    }\n",
       "\n",
       "    .dataframe tbody tr th {\n",
       "        vertical-align: top;\n",
       "    }\n",
       "\n",
       "    .dataframe thead th {\n",
       "        text-align: right;\n",
       "    }\n",
       "</style>\n",
       "<table border=\"1\" class=\"dataframe\">\n",
       "  <thead>\n",
       "    <tr style=\"text-align: right;\">\n",
       "      <th></th>\n",
       "      <th>mean_fit_time</th>\n",
       "      <th>std_fit_time</th>\n",
       "      <th>mean_score_time</th>\n",
       "      <th>std_score_time</th>\n",
       "      <th>param_C</th>\n",
       "      <th>param_penalty</th>\n",
       "      <th>params</th>\n",
       "      <th>split0_test_score</th>\n",
       "      <th>split1_test_score</th>\n",
       "      <th>split2_test_score</th>\n",
       "      <th>split3_test_score</th>\n",
       "      <th>split4_test_score</th>\n",
       "      <th>mean_test_score</th>\n",
       "      <th>std_test_score</th>\n",
       "      <th>rank_test_score</th>\n",
       "    </tr>\n",
       "  </thead>\n",
       "  <tbody>\n",
       "    <tr>\n",
       "      <th>0</th>\n",
       "      <td>0.1312</td>\n",
       "      <td>0.0101</td>\n",
       "      <td>0.0000</td>\n",
       "      <td>0.0000</td>\n",
       "      <td>0.1000</td>\n",
       "      <td>l1</td>\n",
       "      <td>{'C': 0.1, 'penalty': 'l1'}</td>\n",
       "      <td>nan</td>\n",
       "      <td>nan</td>\n",
       "      <td>nan</td>\n",
       "      <td>nan</td>\n",
       "      <td>nan</td>\n",
       "      <td>nan</td>\n",
       "      <td>nan</td>\n",
       "      <td>9</td>\n",
       "    </tr>\n",
       "    <tr>\n",
       "      <th>1</th>\n",
       "      <td>2.2695</td>\n",
       "      <td>0.1759</td>\n",
       "      <td>0.0392</td>\n",
       "      <td>0.0033</td>\n",
       "      <td>0.1000</td>\n",
       "      <td>l2</td>\n",
       "      <td>{'C': 0.1, 'penalty': 'l2'}</td>\n",
       "      <td>0.9696</td>\n",
       "      <td>0.9926</td>\n",
       "      <td>0.9882</td>\n",
       "      <td>0.9777</td>\n",
       "      <td>0.9740</td>\n",
       "      <td>0.9804</td>\n",
       "      <td>0.0086</td>\n",
       "      <td>1</td>\n",
       "    </tr>\n",
       "    <tr>\n",
       "      <th>2</th>\n",
       "      <td>0.1180</td>\n",
       "      <td>0.0075</td>\n",
       "      <td>0.0000</td>\n",
       "      <td>0.0000</td>\n",
       "      <td>0.5000</td>\n",
       "      <td>l1</td>\n",
       "      <td>{'C': 0.5, 'penalty': 'l1'}</td>\n",
       "      <td>nan</td>\n",
       "      <td>nan</td>\n",
       "      <td>nan</td>\n",
       "      <td>nan</td>\n",
       "      <td>nan</td>\n",
       "      <td>nan</td>\n",
       "      <td>nan</td>\n",
       "      <td>10</td>\n",
       "    </tr>\n",
       "    <tr>\n",
       "      <th>3</th>\n",
       "      <td>2.4745</td>\n",
       "      <td>0.2004</td>\n",
       "      <td>0.0348</td>\n",
       "      <td>0.0012</td>\n",
       "      <td>0.5000</td>\n",
       "      <td>l2</td>\n",
       "      <td>{'C': 0.5, 'penalty': 'l2'}</td>\n",
       "      <td>0.9700</td>\n",
       "      <td>0.9921</td>\n",
       "      <td>0.9864</td>\n",
       "      <td>0.9776</td>\n",
       "      <td>0.9734</td>\n",
       "      <td>0.9799</td>\n",
       "      <td>0.0082</td>\n",
       "      <td>2</td>\n",
       "    </tr>\n",
       "    <tr>\n",
       "      <th>4</th>\n",
       "      <td>0.1110</td>\n",
       "      <td>0.0061</td>\n",
       "      <td>0.0000</td>\n",
       "      <td>0.0000</td>\n",
       "      <td>1</td>\n",
       "      <td>l1</td>\n",
       "      <td>{'C': 1, 'penalty': 'l1'}</td>\n",
       "      <td>nan</td>\n",
       "      <td>nan</td>\n",
       "      <td>nan</td>\n",
       "      <td>nan</td>\n",
       "      <td>nan</td>\n",
       "      <td>nan</td>\n",
       "      <td>nan</td>\n",
       "      <td>11</td>\n",
       "    </tr>\n",
       "    <tr>\n",
       "      <th>5</th>\n",
       "      <td>2.4841</td>\n",
       "      <td>0.0896</td>\n",
       "      <td>0.0396</td>\n",
       "      <td>0.0068</td>\n",
       "      <td>1</td>\n",
       "      <td>l2</td>\n",
       "      <td>{'C': 1, 'penalty': 'l2'}</td>\n",
       "      <td>0.9701</td>\n",
       "      <td>0.9920</td>\n",
       "      <td>0.9861</td>\n",
       "      <td>0.9776</td>\n",
       "      <td>0.9733</td>\n",
       "      <td>0.9798</td>\n",
       "      <td>0.0081</td>\n",
       "      <td>3</td>\n",
       "    </tr>\n",
       "    <tr>\n",
       "      <th>6</th>\n",
       "      <td>0.1268</td>\n",
       "      <td>0.0313</td>\n",
       "      <td>0.0000</td>\n",
       "      <td>0.0000</td>\n",
       "      <td>2</td>\n",
       "      <td>l1</td>\n",
       "      <td>{'C': 2, 'penalty': 'l1'}</td>\n",
       "      <td>nan</td>\n",
       "      <td>nan</td>\n",
       "      <td>nan</td>\n",
       "      <td>nan</td>\n",
       "      <td>nan</td>\n",
       "      <td>nan</td>\n",
       "      <td>nan</td>\n",
       "      <td>12</td>\n",
       "    </tr>\n",
       "    <tr>\n",
       "      <th>7</th>\n",
       "      <td>3.0772</td>\n",
       "      <td>0.4861</td>\n",
       "      <td>0.0394</td>\n",
       "      <td>0.0110</td>\n",
       "      <td>2</td>\n",
       "      <td>l2</td>\n",
       "      <td>{'C': 2, 'penalty': 'l2'}</td>\n",
       "      <td>0.9701</td>\n",
       "      <td>0.9920</td>\n",
       "      <td>0.9860</td>\n",
       "      <td>0.9776</td>\n",
       "      <td>0.9732</td>\n",
       "      <td>0.9798</td>\n",
       "      <td>0.0081</td>\n",
       "      <td>4</td>\n",
       "    </tr>\n",
       "    <tr>\n",
       "      <th>8</th>\n",
       "      <td>0.1150</td>\n",
       "      <td>0.0046</td>\n",
       "      <td>0.0000</td>\n",
       "      <td>0.0000</td>\n",
       "      <td>3</td>\n",
       "      <td>l1</td>\n",
       "      <td>{'C': 3, 'penalty': 'l1'}</td>\n",
       "      <td>nan</td>\n",
       "      <td>nan</td>\n",
       "      <td>nan</td>\n",
       "      <td>nan</td>\n",
       "      <td>nan</td>\n",
       "      <td>nan</td>\n",
       "      <td>nan</td>\n",
       "      <td>13</td>\n",
       "    </tr>\n",
       "    <tr>\n",
       "      <th>9</th>\n",
       "      <td>3.0252</td>\n",
       "      <td>0.4003</td>\n",
       "      <td>0.0376</td>\n",
       "      <td>0.0039</td>\n",
       "      <td>3</td>\n",
       "      <td>l2</td>\n",
       "      <td>{'C': 3, 'penalty': 'l2'}</td>\n",
       "      <td>0.9702</td>\n",
       "      <td>0.9920</td>\n",
       "      <td>0.9859</td>\n",
       "      <td>0.9776</td>\n",
       "      <td>0.9732</td>\n",
       "      <td>0.9798</td>\n",
       "      <td>0.0081</td>\n",
       "      <td>5</td>\n",
       "    </tr>\n",
       "    <tr>\n",
       "      <th>10</th>\n",
       "      <td>0.1278</td>\n",
       "      <td>0.0031</td>\n",
       "      <td>0.0000</td>\n",
       "      <td>0.0000</td>\n",
       "      <td>4</td>\n",
       "      <td>l1</td>\n",
       "      <td>{'C': 4, 'penalty': 'l1'}</td>\n",
       "      <td>nan</td>\n",
       "      <td>nan</td>\n",
       "      <td>nan</td>\n",
       "      <td>nan</td>\n",
       "      <td>nan</td>\n",
       "      <td>nan</td>\n",
       "      <td>nan</td>\n",
       "      <td>14</td>\n",
       "    </tr>\n",
       "    <tr>\n",
       "      <th>11</th>\n",
       "      <td>2.6986</td>\n",
       "      <td>0.1086</td>\n",
       "      <td>0.0370</td>\n",
       "      <td>0.0017</td>\n",
       "      <td>4</td>\n",
       "      <td>l2</td>\n",
       "      <td>{'C': 4, 'penalty': 'l2'}</td>\n",
       "      <td>0.9702</td>\n",
       "      <td>0.9920</td>\n",
       "      <td>0.9859</td>\n",
       "      <td>0.9776</td>\n",
       "      <td>0.9732</td>\n",
       "      <td>0.9798</td>\n",
       "      <td>0.0081</td>\n",
       "      <td>6</td>\n",
       "    </tr>\n",
       "    <tr>\n",
       "      <th>12</th>\n",
       "      <td>0.1204</td>\n",
       "      <td>0.0039</td>\n",
       "      <td>0.0000</td>\n",
       "      <td>0.0000</td>\n",
       "      <td>5</td>\n",
       "      <td>l1</td>\n",
       "      <td>{'C': 5, 'penalty': 'l1'}</td>\n",
       "      <td>nan</td>\n",
       "      <td>nan</td>\n",
       "      <td>nan</td>\n",
       "      <td>nan</td>\n",
       "      <td>nan</td>\n",
       "      <td>nan</td>\n",
       "      <td>nan</td>\n",
       "      <td>15</td>\n",
       "    </tr>\n",
       "    <tr>\n",
       "      <th>13</th>\n",
       "      <td>2.6604</td>\n",
       "      <td>0.0663</td>\n",
       "      <td>0.0384</td>\n",
       "      <td>0.0029</td>\n",
       "      <td>5</td>\n",
       "      <td>l2</td>\n",
       "      <td>{'C': 5, 'penalty': 'l2'}</td>\n",
       "      <td>0.9702</td>\n",
       "      <td>0.9920</td>\n",
       "      <td>0.9859</td>\n",
       "      <td>0.9776</td>\n",
       "      <td>0.9732</td>\n",
       "      <td>0.9798</td>\n",
       "      <td>0.0081</td>\n",
       "      <td>7</td>\n",
       "    </tr>\n",
       "    <tr>\n",
       "      <th>14</th>\n",
       "      <td>0.1256</td>\n",
       "      <td>0.0074</td>\n",
       "      <td>0.0000</td>\n",
       "      <td>0.0000</td>\n",
       "      <td>10</td>\n",
       "      <td>l1</td>\n",
       "      <td>{'C': 10, 'penalty': 'l1'}</td>\n",
       "      <td>nan</td>\n",
       "      <td>nan</td>\n",
       "      <td>nan</td>\n",
       "      <td>nan</td>\n",
       "      <td>nan</td>\n",
       "      <td>nan</td>\n",
       "      <td>nan</td>\n",
       "      <td>16</td>\n",
       "    </tr>\n",
       "    <tr>\n",
       "      <th>15</th>\n",
       "      <td>2.7384</td>\n",
       "      <td>0.6432</td>\n",
       "      <td>0.0292</td>\n",
       "      <td>0.0061</td>\n",
       "      <td>10</td>\n",
       "      <td>l2</td>\n",
       "      <td>{'C': 10, 'penalty': 'l2'}</td>\n",
       "      <td>0.9702</td>\n",
       "      <td>0.9920</td>\n",
       "      <td>0.9858</td>\n",
       "      <td>0.9776</td>\n",
       "      <td>0.9732</td>\n",
       "      <td>0.9797</td>\n",
       "      <td>0.0081</td>\n",
       "      <td>8</td>\n",
       "    </tr>\n",
       "  </tbody>\n",
       "</table>\n",
       "</div>"
      ],
      "text/plain": [
       "    mean_fit_time  std_fit_time  mean_score_time  std_score_time param_C  \\\n",
       "0  0.1312         0.0101        0.0000           0.0000          0.1000    \n",
       "1  2.2695         0.1759        0.0392           0.0033          0.1000    \n",
       "2  0.1180         0.0075        0.0000           0.0000          0.5000    \n",
       "3  2.4745         0.2004        0.0348           0.0012          0.5000    \n",
       "4  0.1110         0.0061        0.0000           0.0000           1        \n",
       "5  2.4841         0.0896        0.0396           0.0068           1        \n",
       "6  0.1268         0.0313        0.0000           0.0000           2        \n",
       "7  3.0772         0.4861        0.0394           0.0110           2        \n",
       "8  0.1150         0.0046        0.0000           0.0000           3        \n",
       "9  3.0252         0.4003        0.0376           0.0039           3        \n",
       "10 0.1278         0.0031        0.0000           0.0000           4        \n",
       "11 2.6986         0.1086        0.0370           0.0017           4        \n",
       "12 0.1204         0.0039        0.0000           0.0000           5        \n",
       "13 2.6604         0.0663        0.0384           0.0029           5        \n",
       "14 0.1256         0.0074        0.0000           0.0000           10       \n",
       "15 2.7384         0.6432        0.0292           0.0061           10       \n",
       "\n",
       "   param_penalty                       params  split0_test_score  \\\n",
       "0   l1            {'C': 0.1, 'penalty': 'l1'} nan                  \n",
       "1   l2            {'C': 0.1, 'penalty': 'l2'} 0.9696               \n",
       "2   l1            {'C': 0.5, 'penalty': 'l1'} nan                  \n",
       "3   l2            {'C': 0.5, 'penalty': 'l2'} 0.9700               \n",
       "4   l1            {'C': 1, 'penalty': 'l1'}   nan                  \n",
       "5   l2            {'C': 1, 'penalty': 'l2'}   0.9701               \n",
       "6   l1            {'C': 2, 'penalty': 'l1'}   nan                  \n",
       "7   l2            {'C': 2, 'penalty': 'l2'}   0.9701               \n",
       "8   l1            {'C': 3, 'penalty': 'l1'}   nan                  \n",
       "9   l2            {'C': 3, 'penalty': 'l2'}   0.9702               \n",
       "10  l1            {'C': 4, 'penalty': 'l1'}   nan                  \n",
       "11  l2            {'C': 4, 'penalty': 'l2'}   0.9702               \n",
       "12  l1            {'C': 5, 'penalty': 'l1'}   nan                  \n",
       "13  l2            {'C': 5, 'penalty': 'l2'}   0.9702               \n",
       "14  l1            {'C': 10, 'penalty': 'l1'}  nan                  \n",
       "15  l2            {'C': 10, 'penalty': 'l2'}  0.9702               \n",
       "\n",
       "    split1_test_score  split2_test_score  split3_test_score  \\\n",
       "0  nan                nan                nan                  \n",
       "1  0.9926             0.9882             0.9777               \n",
       "2  nan                nan                nan                  \n",
       "3  0.9921             0.9864             0.9776               \n",
       "4  nan                nan                nan                  \n",
       "5  0.9920             0.9861             0.9776               \n",
       "6  nan                nan                nan                  \n",
       "7  0.9920             0.9860             0.9776               \n",
       "8  nan                nan                nan                  \n",
       "9  0.9920             0.9859             0.9776               \n",
       "10 nan                nan                nan                  \n",
       "11 0.9920             0.9859             0.9776               \n",
       "12 nan                nan                nan                  \n",
       "13 0.9920             0.9859             0.9776               \n",
       "14 nan                nan                nan                  \n",
       "15 0.9920             0.9858             0.9776               \n",
       "\n",
       "    split4_test_score  mean_test_score  std_test_score  rank_test_score  \n",
       "0  nan                nan              nan              9                \n",
       "1  0.9740             0.9804           0.0086           1                \n",
       "2  nan                nan              nan              10               \n",
       "3  0.9734             0.9799           0.0082           2                \n",
       "4  nan                nan              nan              11               \n",
       "5  0.9733             0.9798           0.0081           3                \n",
       "6  nan                nan              nan              12               \n",
       "7  0.9732             0.9798           0.0081           4                \n",
       "8  nan                nan              nan              13               \n",
       "9  0.9732             0.9798           0.0081           5                \n",
       "10 nan                nan              nan              14               \n",
       "11 0.9732             0.9798           0.0081           6                \n",
       "12 nan                nan              nan              15               \n",
       "13 0.9732             0.9798           0.0081           7                \n",
       "14 nan                nan              nan              16               \n",
       "15 0.9732             0.9797           0.0081           8                "
      ]
     },
     "execution_count": 33,
     "metadata": {},
     "output_type": "execute_result"
    }
   ],
   "source": [
    "pd.DataFrame(model_lrh.cv_results_)"
   ]
  },
  {
   "cell_type": "code",
   "execution_count": 34,
   "metadata": {},
   "outputs": [
    {
     "name": "stdout",
     "output_type": "stream",
     "text": [
      "Logistic Regression with PCA Best AUC :  0.9804184472371569\n",
      "Logistic Regression with PCA Best hyperparameters:  {'C': 0.1, 'penalty': 'l2'}\n"
     ]
    }
   ],
   "source": [
    "print(\"Logistic Regression with PCA Best AUC : \", model_lrh.best_score_)\n",
    "print(\"Logistic Regression with PCA Best hyperparameters: \", model_lrh.best_params_)"
   ]
  },
  {
   "cell_type": "code",
   "execution_count": 35,
   "metadata": {},
   "outputs": [],
   "source": [
    "# Passing the best parameteres\n",
    "model_lrh_tuned = LogisticRegression(penalty='l2',C=0.1)"
   ]
  },
  {
   "cell_type": "code",
   "execution_count": 36,
   "metadata": {},
   "outputs": [],
   "source": [
    "# Predicting on test data\n",
    "\n",
    "model_lrh_tuned.fit(X_train,y_train)\n",
    "y_predicted = model_lrh_tuned.predict(X_test)"
   ]
  },
  {
   "cell_type": "code",
   "execution_count": 37,
   "metadata": {},
   "outputs": [
    {
     "name": "stdout",
     "output_type": "stream",
     "text": [
      "Classification report:\n",
      "               precision    recall  f1-score   support\n",
      "\n",
      "           0       1.00      1.00      1.00     85295\n",
      "           1       0.85      0.59      0.70       148\n",
      "\n",
      "    accuracy                           1.00     85443\n",
      "   macro avg       0.93      0.79      0.85     85443\n",
      "weighted avg       1.00      1.00      1.00     85443\n",
      "\n",
      "Confusion matrix:\n",
      " [[85280    15]\n",
      " [   61    87]]\n",
      "Logistic Regression Accuracy:  0.9991105181231933\n",
      "ROC AUC :  0.7938309887940581\n"
     ]
    }
   ],
   "source": [
    "#Evaluation Metrices\n",
    "\n",
    "print('Classification report:\\n', classification_report(y_test, y_predicted))\n",
    "print('Confusion matrix:\\n',confusion_matrix(y_true = y_test, y_pred = y_predicted))\n",
    "print(\"Logistic Regression Accuracy: \",accuracy_score(y_test,y_predicted))\n",
    "print('ROC AUC : ', roc_auc_score(y_test, y_predicted))"
   ]
  },
  {
   "cell_type": "code",
   "execution_count": 38,
   "metadata": {},
   "outputs": [
    {
     "data": {
      "image/png": "[encoded data removed]",
      "text/plain": [
       "<Figure size 432x432 with 1 Axes>"
      ]
     },
     "metadata": {
      "needs_background": "light"
     },
     "output_type": "display_data"
    }
   ],
   "source": [
    "# Create true and false positive rates\n",
    "fpr, tpr, threshold = roc_curve(y_test, y_predicted)\n",
    "roc_auc = roc_auc_score(y_test, y_predicted)\n",
    "# Plot the roc curve \n",
    "plt.rcParams['figure.figsize'] = [6,6]\n",
    "plot_roc_curve(fpr,tpr,roc_auc)"
   ]
  },
  {
   "cell_type": "markdown",
   "metadata": {},
   "source": [
    "<p><b>Inference:</br>\n",
    "Precision : 0.85</br>\n",
    "Recall : 0.59</br>\n",
    "F1-score : 0.70</br>\n",
    "Accuracy : 0.99</br>\n",
    "ROC AUC : 0.79</b></p>"
   ]
  },
  {
   "cell_type": "markdown",
   "metadata": {},
   "source": [
    "<h3>Model 3 : Random Forest on Imbalanced Data</h3>"
   ]
  },
  {
   "cell_type": "code",
   "execution_count": 39,
   "metadata": {},
   "outputs": [],
   "source": [
    "#Initializing Random forest and creating model\n",
    "\n",
    "from sklearn.ensemble import RandomForestClassifier\n",
    "model_rfc = RandomForestClassifier(n_jobs=-1, \n",
    "                             random_state=2018,\n",
    "                             criterion='gini',\n",
    "                             n_estimators=100,\n",
    "                             verbose=False)"
   ]
  },
  {
   "cell_type": "code",
   "execution_count": 40,
   "metadata": {},
   "outputs": [],
   "source": [
    "# Fitting the model on Train data and Predicting on Test data\n",
    "\n",
    "model_rfc.fit(X_train,y_train)\n",
    "y_predicted = model_rfc.predict(X_test)"
   ]
  },
  {
   "cell_type": "code",
   "execution_count": 41,
   "metadata": {},
   "outputs": [
    {
     "name": "stdout",
     "output_type": "stream",
     "text": [
      "Classification report:\n",
      "               precision    recall  f1-score   support\n",
      "\n",
      "           0       1.00      1.00      1.00     85295\n",
      "           1       0.94      0.70      0.80       148\n",
      "\n",
      "    accuracy                           1.00     85443\n",
      "   macro avg       0.97      0.85      0.90     85443\n",
      "weighted avg       1.00      1.00      1.00     85443\n",
      "\n",
      "Confusion matrix:\n",
      " [[85288     7]\n",
      " [   44   104]]\n",
      "Logistic Regression Accuracy:  0.999403110845827\n",
      "ROC AUC :  0.8513103172930829\n"
     ]
    }
   ],
   "source": [
    "# Evaluation Metrics\n",
    "\n",
    "print('Classification report:\\n', classification_report(y_test, y_predicted))\n",
    "print('Confusion matrix:\\n',confusion_matrix(y_true = y_test, y_pred = y_predicted))\n",
    "print(\"Logistic Regression Accuracy: \",accuracy_score(y_test,y_predicted))\n",
    "print('ROC AUC : ', roc_auc_score(y_test, y_predicted))"
   ]
  },
  {
   "cell_type": "code",
   "execution_count": 42,
   "metadata": {},
   "outputs": [
    {
     "data": {
      "image/png": "[encoded data removed]",
      "text/plain": [
       "<Figure size 432x432 with 1 Axes>"
      ]
     },
     "metadata": {
      "needs_background": "light"
     },
     "output_type": "display_data"
    }
   ],
   "source": [
    "# Create true and false positive rates\n",
    "fpr, tpr, threshold = roc_curve(y_test, y_predicted)\n",
    "roc_auc = roc_auc_score(y_test, y_predicted)\n",
    "# Plot the roc curve \n",
    "plt.rcParams['figure.figsize'] = [6,6]\n",
    "plot_roc_curve(fpr,tpr,roc_auc)"
   ]
  },
  {
   "cell_type": "markdown",
   "metadata": {},
   "source": [
    "<b>Inference:\n",
    "Precision : 0.94\n",
    "Recall : 0.70\n",
    "F1-score : 0.80\n",
    "Accuracy : 0.99\n",
    "ROC AUC : 0.85</b>"
   ]
  },
  {
   "cell_type": "markdown",
   "metadata": {},
   "source": [
    "<h3>Model 4 : Random Forest on Imbalanced Data with K-Fold and Hyperparamater Tuning</h3>"
   ]
  },
  {
   "cell_type": "code",
   "execution_count": 43,
   "metadata": {},
   "outputs": [],
   "source": [
    "from sklearn.model_selection import GridSearchCV\n",
    "from sklearn.model_selection import StratifiedKFold\n",
    "from sklearn.metrics import accuracy_score\n",
    "from sklearn.model_selection import RandomizedSearchCV"
   ]
  },
  {
   "cell_type": "code",
   "execution_count": 44,
   "metadata": {},
   "outputs": [],
   "source": [
    "# Defining Parameters\n",
    "params = { \n",
    "    'n_estimators': [200, 400],\n",
    "    'max_features': ['auto', 'sqrt', 'log2'],\n",
    "    'max_depth' : [4,5,6,7,8],\n",
    "    'criterion' :['gini', 'entropy']\n",
    "}"
   ]
  },
  {
   "cell_type": "code",
   "execution_count": 45,
   "metadata": {},
   "outputs": [],
   "source": [
    "# Stratified K Fold\n",
    "cross_val = StratifiedKFold(n_splits=3)\n",
    "index_iterator = cross_val.split(X_train, y_train)\n",
    "clf = RandomForestClassifier()\n",
    "clf_random = RandomizedSearchCV(estimator = clf, param_distributions = params, n_iter = 50, cv = cross_val,\n",
    "                                verbose=2, random_state=42, n_jobs = -1,scoring='roc_auc')"
   ]
  },
  {
   "cell_type": "code",
   "execution_count": 46,
   "metadata": {},
   "outputs": [
    {
     "name": "stdout",
     "output_type": "stream",
     "text": [
      "Fitting 3 folds for each of 50 candidates, totalling 150 fits\n"
     ]
    },
    {
     "name": "stderr",
     "output_type": "stream",
     "text": [
      "[Parallel(n_jobs=-1)]: Using backend LokyBackend with 4 concurrent workers.\n",
      "[Parallel(n_jobs=-1)]: Done  33 tasks      | elapsed: 393.6min\n",
      "[Parallel(n_jobs=-1)]: Done 150 out of 150 | elapsed: 574.8min finished\n"
     ]
    },
    {
     "data": {
      "text/plain": [
       "RandomizedSearchCV(cv=StratifiedKFold(n_splits=3, random_state=None, shuffle=False),\n",
       "                   estimator=RandomForestClassifier(), n_iter=50, n_jobs=-1,\n",
       "                   param_distributions={'criterion': ['gini', 'entropy'],\n",
       "                                        'max_depth': [4, 5, 6, 7, 8],\n",
       "                                        'max_features': ['auto', 'sqrt',\n",
       "                                                         'log2'],\n",
       "                                        'n_estimators': [200, 400]},\n",
       "                   random_state=42, scoring='roc_auc', verbose=2)"
      ]
     },
     "execution_count": 46,
     "metadata": {},
     "output_type": "execute_result"
    }
   ],
   "source": [
    "# Fitting the model on train data\n",
    "clf_random.fit(X_train, y_train)"
   ]
  },
  {
   "cell_type": "code",
   "execution_count": 59,
   "metadata": {},
   "outputs": [
    {
     "data": {
      "text/html": [
       "<div>\n",
       "<style scoped>\n",
       "    .dataframe tbody tr th:only-of-type {\n",
       "        vertical-align: middle;\n",
       "    }\n",
       "\n",
       "    .dataframe tbody tr th {\n",
       "        vertical-align: top;\n",
       "    }\n",
       "\n",
       "    .dataframe thead th {\n",
       "        text-align: right;\n",
       "    }\n",
       "</style>\n",
       "<table border=\"1\" class=\"dataframe\">\n",
       "  <thead>\n",
       "    <tr style=\"text-align: right;\">\n",
       "      <th></th>\n",
       "      <th>mean_fit_time</th>\n",
       "      <th>std_fit_time</th>\n",
       "      <th>mean_score_time</th>\n",
       "      <th>std_score_time</th>\n",
       "      <th>param_n_estimators</th>\n",
       "      <th>param_max_features</th>\n",
       "      <th>param_max_depth</th>\n",
       "      <th>param_criterion</th>\n",
       "      <th>params</th>\n",
       "      <th>split0_test_score</th>\n",
       "      <th>split1_test_score</th>\n",
       "      <th>split2_test_score</th>\n",
       "      <th>mean_test_score</th>\n",
       "      <th>std_test_score</th>\n",
       "      <th>rank_test_score</th>\n",
       "    </tr>\n",
       "  </thead>\n",
       "  <tbody>\n",
       "    <tr>\n",
       "      <th>0</th>\n",
       "      <td>139.8357</td>\n",
       "      <td>5.6139</td>\n",
       "      <td>1.6658</td>\n",
       "      <td>0.0371</td>\n",
       "      <td>200</td>\n",
       "      <td>auto</td>\n",
       "      <td>4</td>\n",
       "      <td>gini</td>\n",
       "      <td>{'n_estimators': 200, 'max_features': 'auto', 'max_depth': 4, 'criterion': 'gini'}</td>\n",
       "      <td>0.9608</td>\n",
       "      <td>0.9531</td>\n",
       "      <td>0.9655</td>\n",
       "      <td>0.9598</td>\n",
       "      <td>0.0051</td>\n",
       "      <td>50</td>\n",
       "    </tr>\n",
       "    <tr>\n",
       "      <th>1</th>\n",
       "      <td>223.4001</td>\n",
       "      <td>10.1751</td>\n",
       "      <td>3.2195</td>\n",
       "      <td>0.1069</td>\n",
       "      <td>400</td>\n",
       "      <td>log2</td>\n",
       "      <td>4</td>\n",
       "      <td>gini</td>\n",
       "      <td>{'n_estimators': 400, 'max_features': 'log2', 'max_depth': 4, 'criterion': 'gini'}</td>\n",
       "      <td>0.9665</td>\n",
       "      <td>0.9538</td>\n",
       "      <td>0.9682</td>\n",
       "      <td>0.9628</td>\n",
       "      <td>0.0064</td>\n",
       "      <td>45</td>\n",
       "    </tr>\n",
       "    <tr>\n",
       "      <th>2</th>\n",
       "      <td>254.6986</td>\n",
       "      <td>9.8012</td>\n",
       "      <td>1.8681</td>\n",
       "      <td>0.1471</td>\n",
       "      <td>200</td>\n",
       "      <td>auto</td>\n",
       "      <td>5</td>\n",
       "      <td>entropy</td>\n",
       "      <td>{'n_estimators': 200, 'max_features': 'auto', 'max_depth': 5, 'criterion': 'entropy'}</td>\n",
       "      <td>0.9841</td>\n",
       "      <td>0.9752</td>\n",
       "      <td>0.9845</td>\n",
       "      <td>0.9813</td>\n",
       "      <td>0.0043</td>\n",
       "      <td>15</td>\n",
       "    </tr>\n",
       "    <tr>\n",
       "      <th>3</th>\n",
       "      <td>592.9366</td>\n",
       "      <td>19.1577</td>\n",
       "      <td>3.6792</td>\n",
       "      <td>0.1187</td>\n",
       "      <td>400</td>\n",
       "      <td>sqrt</td>\n",
       "      <td>6</td>\n",
       "      <td>entropy</td>\n",
       "      <td>{'n_estimators': 400, 'max_features': 'sqrt', 'max_depth': 6, 'criterion': 'entropy'}</td>\n",
       "      <td>0.9842</td>\n",
       "      <td>0.9776</td>\n",
       "      <td>0.9848</td>\n",
       "      <td>0.9822</td>\n",
       "      <td>0.0032</td>\n",
       "      <td>13</td>\n",
       "    </tr>\n",
       "    <tr>\n",
       "      <th>4</th>\n",
       "      <td>372.6586</td>\n",
       "      <td>4.7382</td>\n",
       "      <td>3.4385</td>\n",
       "      <td>0.0153</td>\n",
       "      <td>400</td>\n",
       "      <td>auto</td>\n",
       "      <td>6</td>\n",
       "      <td>gini</td>\n",
       "      <td>{'n_estimators': 400, 'max_features': 'auto', 'max_depth': 6, 'criterion': 'gini'}</td>\n",
       "      <td>0.9763</td>\n",
       "      <td>0.9652</td>\n",
       "      <td>0.9755</td>\n",
       "      <td>0.9723</td>\n",
       "      <td>0.0051</td>\n",
       "      <td>36</td>\n",
       "    </tr>\n",
       "  </tbody>\n",
       "</table>\n",
       "</div>"
      ],
      "text/plain": [
       "   mean_fit_time  std_fit_time  mean_score_time  std_score_time  \\\n",
       "0 139.8357       5.6139        1.6658           0.0371            \n",
       "1 223.4001       10.1751       3.2195           0.1069            \n",
       "2 254.6986       9.8012        1.8681           0.1471            \n",
       "3 592.9366       19.1577       3.6792           0.1187            \n",
       "4 372.6586       4.7382        3.4385           0.0153            \n",
       "\n",
       "  param_n_estimators param_max_features param_max_depth param_criterion  \\\n",
       "0  200                auto               4               gini             \n",
       "1  400                log2               4               gini             \n",
       "2  200                auto               5               entropy          \n",
       "3  400                sqrt               6               entropy          \n",
       "4  400                auto               6               gini             \n",
       "\n",
       "                                                                                  params  \\\n",
       "0  {'n_estimators': 200, 'max_features': 'auto', 'max_depth': 4, 'criterion': 'gini'}      \n",
       "1  {'n_estimators': 400, 'max_features': 'log2', 'max_depth': 4, 'criterion': 'gini'}      \n",
       "2  {'n_estimators': 200, 'max_features': 'auto', 'max_depth': 5, 'criterion': 'entropy'}   \n",
       "3  {'n_estimators': 400, 'max_features': 'sqrt', 'max_depth': 6, 'criterion': 'entropy'}   \n",
       "4  {'n_estimators': 400, 'max_features': 'auto', 'max_depth': 6, 'criterion': 'gini'}      \n",
       "\n",
       "   split0_test_score  split1_test_score  split2_test_score  mean_test_score  \\\n",
       "0 0.9608             0.9531             0.9655             0.9598             \n",
       "1 0.9665             0.9538             0.9682             0.9628             \n",
       "2 0.9841             0.9752             0.9845             0.9813             \n",
       "3 0.9842             0.9776             0.9848             0.9822             \n",
       "4 0.9763             0.9652             0.9755             0.9723             \n",
       "\n",
       "   std_test_score  rank_test_score  \n",
       "0 0.0051           50               \n",
       "1 0.0064           45               \n",
       "2 0.0043           15               \n",
       "3 0.0032           13               \n",
       "4 0.0051           36               "
      ]
     },
     "execution_count": 59,
     "metadata": {},
     "output_type": "execute_result"
    }
   ],
   "source": [
    "# Scores of RandomizedSearchCV\n",
    "scores = clf_random.cv_results_\n",
    "pd.DataFrame(scores).head()"
   ]
  },
  {
   "cell_type": "code",
   "execution_count": 48,
   "metadata": {},
   "outputs": [
    {
     "name": "stdout",
     "output_type": "stream",
     "text": [
      "0.9841504980046776\n",
      "{'n_estimators': 400, 'max_features': 'auto', 'max_depth': 7, 'criterion': 'entropy'}\n",
      "48\n"
     ]
    }
   ],
   "source": [
    "print(clf_random.best_score_)\n",
    "print(clf_random.best_params_)\n",
    "print(clf_random.best_index_)"
   ]
  },
  {
   "cell_type": "markdown",
   "metadata": {},
   "source": [
    "0.9841504980046776\n",
    "{'n_estimators': 400, 'max_features': 'auto', 'max_depth': 7, 'criterion': 'entropy'}\n",
    "48"
   ]
  },
  {
   "cell_type": "code",
   "execution_count": 51,
   "metadata": {},
   "outputs": [],
   "source": [
    "# Passing the best parameteres based on Randomized Search CV\n",
    "model_rfc_tuned = RandomForestClassifier(bootstrap=True,\n",
    "                               class_weight={0:1, 1:12}, # 0: non-fraud , 1:fraud\n",
    "                               criterion='entropy',\n",
    "                               max_depth=7,\n",
    "                               max_features='auto',\n",
    "                               min_samples_leaf=10,\n",
    "                               n_estimators=400,\n",
    "                               n_jobs=-1, \n",
    "                               random_state=5)"
   ]
  },
  {
   "cell_type": "code",
   "execution_count": 52,
   "metadata": {},
   "outputs": [],
   "source": [
    "# Fitting the model on Train data and Predicting on Test Data\n",
    "\n",
    "model_rfc_tuned.fit(X_train,y_train)\n",
    "y_predicted = model_rfc_tuned.predict(X_test)"
   ]
  },
  {
   "cell_type": "code",
   "execution_count": 53,
   "metadata": {},
   "outputs": [
    {
     "name": "stdout",
     "output_type": "stream",
     "text": [
      "Classification report:\n",
      "               precision    recall  f1-score   support\n",
      "\n",
      "           0       1.00      1.00      1.00     85295\n",
      "           1       0.80      0.72      0.76       148\n",
      "\n",
      "    accuracy                           1.00     85443\n",
      "   macro avg       0.90      0.86      0.88     85443\n",
      "weighted avg       1.00      1.00      1.00     85443\n",
      "\n",
      "Confusion matrix:\n",
      " [[85269    26]\n",
      " [   41   107]]\n",
      "Logistic Regression Accuracy:  0.9992158515033414\n",
      "ROC AUC :  0.8613340742700611\n"
     ]
    }
   ],
   "source": [
    "# Evaluation Metrices\n",
    "print('Classification report:\\n', classification_report(y_test, y_predicted))\n",
    "print('Confusion matrix:\\n',confusion_matrix(y_true = y_test, y_pred = y_predicted))\n",
    "print(\"Logistic Regression Accuracy: \",accuracy_score(y_test,y_predicted))\n",
    "print('ROC AUC : ', roc_auc_score(y_test, y_predicted))"
   ]
  },
  {
   "cell_type": "code",
   "execution_count": 54,
   "metadata": {},
   "outputs": [
    {
     "data": {
      "image/png": "[encoded data removed]",
      "text/plain": [
       "<Figure size 432x432 with 1 Axes>"
      ]
     },
     "metadata": {
      "needs_background": "light"
     },
     "output_type": "display_data"
    }
   ],
   "source": [
    "# Create true and false positive rates\n",
    "fpr, tpr, threshold = roc_curve(y_test, y_predicted)\n",
    "roc_auc = roc_auc_score(y_test, y_predicted)\n",
    "# Plot the roc curve \n",
    "plt.rcParams['figure.figsize'] = [6,6]\n",
    "plot_roc_curve(fpr,tpr,roc_auc)"
   ]
  },
  {
   "cell_type": "markdown",
   "metadata": {},
   "source": [
    "<b>Inference:\n",
    "Precision : 0.80\n",
    "Recall : 0.72\n",
    "F1-score : 0.76\n",
    "Accuracy : 0.99\n",
    "ROC AUC : 0.86</b>"
   ]
  },
  {
   "cell_type": "markdown",
   "metadata": {},
   "source": [
    "<h3>Model 5 : XG Boost on Imbalanced Data</h3>"
   ]
  },
  {
   "cell_type": "code",
   "execution_count": 55,
   "metadata": {},
   "outputs": [],
   "source": [
    "#Initializing Random forest and creating model\n",
    "model_xgb = XGBClassifier()"
   ]
  },
  {
   "cell_type": "code",
   "execution_count": 56,
   "metadata": {},
   "outputs": [],
   "source": [
    "# Fitting the model on Train data and Predicting on Test data\n",
    "model_xgb.fit(X_train,y_train)\n",
    "y_predicted = model_xgb.predict(X_test)"
   ]
  },
  {
   "cell_type": "code",
   "execution_count": 57,
   "metadata": {},
   "outputs": [
    {
     "name": "stdout",
     "output_type": "stream",
     "text": [
      "Classification report:\n",
      "               precision    recall  f1-score   support\n",
      "\n",
      "           0       1.00      1.00      1.00     85295\n",
      "           1       0.95      0.74      0.83       148\n",
      "\n",
      "    accuracy                           1.00     85443\n",
      "   macro avg       0.97      0.87      0.92     85443\n",
      "weighted avg       1.00      1.00      1.00     85443\n",
      "\n",
      "Confusion matrix:\n",
      " [[85289     6]\n",
      " [   38   110]]\n",
      "Logistic Regression Accuracy:  0.9994850368081645\n",
      "ROC AUC :  0.8715864495716773\n"
     ]
    }
   ],
   "source": [
    "# Evaluation Metrices\n",
    "print('Classification report:\\n', classification_report(y_test, y_predicted))\n",
    "print('Confusion matrix:\\n',confusion_matrix(y_true = y_test, y_pred = y_predicted))\n",
    "print(\"Logistic Regression Accuracy: \",accuracy_score(y_test,y_predicted))\n",
    "print('ROC AUC : ', roc_auc_score(y_test, y_predicted))"
   ]
  },
  {
   "cell_type": "code",
   "execution_count": 58,
   "metadata": {},
   "outputs": [
    {
     "data": {
      "image/png": "[encoded data removed]",
      "text/plain": [
       "<Figure size 432x432 with 1 Axes>"
      ]
     },
     "metadata": {
      "needs_background": "light"
     },
     "output_type": "display_data"
    }
   ],
   "source": [
    "# Create true and false positive rates\n",
    "fpr, tpr, threshold = roc_curve(y_test, y_predicted)\n",
    "roc_auc = roc_auc_score(y_test, y_predicted)\n",
    "# Plot the roc curve \n",
    "plt.rcParams['figure.figsize'] = [6,6]\n",
    "plot_roc_curve(fpr,tpr,roc_auc)"
   ]
  },
  {
   "cell_type": "markdown",
   "metadata": {},
   "source": [
    "<b>Inference:\n",
    "Precision : 0.95\n",
    "Recall : 0.74\n",
    "F1-score : 0.83\n",
    "Accuracy : 0.99\n",
    "ROC AUC : 0.87</b>"
   ]
  },
  {
   "cell_type": "markdown",
   "metadata": {},
   "source": [
    "<h3>Model 6 : XGB on Imbalanced Data with K-Fold and Hyperparamater Tuning</h3>"
   ]
  },
  {
   "cell_type": "code",
   "execution_count": 60,
   "metadata": {},
   "outputs": [],
   "source": [
    "# Defining parameters\n",
    "params = {\n",
    "        'min_child_weight': [1, 5, 10],\n",
    "        'gamma': [0.5, 1, 1.5, 2, 5],\n",
    "        'subsample': [0.6, 0.8, 1.0],\n",
    "        'colsample_bytree': [0.6, 0.8, 1.0],\n",
    "        'max_depth': [3, 4, 5]\n",
    "        }"
   ]
  },
  {
   "cell_type": "code",
   "execution_count": 61,
   "metadata": {},
   "outputs": [],
   "source": [
    "# Stratified K Fold\n",
    "cross_val = StratifiedKFold(n_splits=5)\n",
    "index_iterator = cross_val.split(X_train, y_train)\n",
    "\n",
    "\n",
    "xgb_cross = XGBClassifier(learning_rate=0.02, n_estimators=100, objective='binary:logistic',\n",
    "                    silent=True, nthread=1) \n",
    "\n",
    "\n",
    "xgb_random = RandomizedSearchCV(estimator = xgb_cross, param_distributions = params, n_iter =30 , cv = cross_val,\n",
    "                                verbose=2, random_state=42, n_jobs = -1,scoring='roc_auc')"
   ]
  },
  {
   "cell_type": "code",
   "execution_count": 62,
   "metadata": {},
   "outputs": [
    {
     "name": "stdout",
     "output_type": "stream",
     "text": [
      "Fitting 5 folds for each of 30 candidates, totalling 150 fits\n"
     ]
    },
    {
     "name": "stderr",
     "output_type": "stream",
     "text": [
      "[Parallel(n_jobs=-1)]: Using backend LokyBackend with 4 concurrent workers.\n",
      "[Parallel(n_jobs=-1)]: Done  33 tasks      | elapsed: 15.4min\n",
      "[Parallel(n_jobs=-1)]: Done 150 out of 150 | elapsed: 81.7min finished\n"
     ]
    },
    {
     "name": "stdout",
     "output_type": "stream",
     "text": [
      "[16:06:31] WARNING: C:\\Users\\Administrator\\workspace\\xgboost-win64_release_1.2.0\\src\\learner.cc:516: \n",
      "Parameters: { silent } might not be used.\n",
      "\n",
      "  This may not be accurate due to some parameters are only used in language bindings but\n",
      "  passed down to XGBoost core.  Or some parameters are not used but slip through this\n",
      "  verification. Please open an issue if you find above cases.\n",
      "\n",
      "\n"
     ]
    },
    {
     "data": {
      "text/plain": [
       "RandomizedSearchCV(cv=StratifiedKFold(n_splits=5, random_state=None, shuffle=False),\n",
       "                   estimator=XGBClassifier(base_score=None, booster=None,\n",
       "                                           colsample_bylevel=None,\n",
       "                                           colsample_bynode=None,\n",
       "                                           colsample_bytree=None, gamma=None,\n",
       "                                           gpu_id=None, importance_type='gain',\n",
       "                                           interaction_constraints=None,\n",
       "                                           learning_rate=0.02,\n",
       "                                           max_delta_step=None, max_depth=None,\n",
       "                                           min_child_weight=No...\n",
       "                                           random_state=None, reg_alpha=None,\n",
       "                                           reg_lambda=None,\n",
       "                                           scale_pos_weight=None, silent=True,\n",
       "                                           subsample=None, tree_method=None,\n",
       "                                           validate_parameters=None,\n",
       "                                           verbosity=None),\n",
       "                   n_iter=30, n_jobs=-1,\n",
       "                   param_distributions={'colsample_bytree': [0.6, 0.8, 1.0],\n",
       "                                        'gamma': [0.5, 1, 1.5, 2, 5],\n",
       "                                        'max_depth': [3, 4, 5],\n",
       "                                        'min_child_weight': [1, 5, 10],\n",
       "                                        'subsample': [0.6, 0.8, 1.0]},\n",
       "                   random_state=42, scoring='roc_auc', verbose=2)"
      ]
     },
     "execution_count": 62,
     "metadata": {},
     "output_type": "execute_result"
    }
   ],
   "source": [
    "# Fitting the model on train data\n",
    "xgb_random.fit(X_train, y_train)"
   ]
  },
  {
   "cell_type": "code",
   "execution_count": 65,
   "metadata": {},
   "outputs": [
    {
     "data": {
      "text/html": [
       "<div>\n",
       "<style scoped>\n",
       "    .dataframe tbody tr th:only-of-type {\n",
       "        vertical-align: middle;\n",
       "    }\n",
       "\n",
       "    .dataframe tbody tr th {\n",
       "        vertical-align: top;\n",
       "    }\n",
       "\n",
       "    .dataframe thead th {\n",
       "        text-align: right;\n",
       "    }\n",
       "</style>\n",
       "<table border=\"1\" class=\"dataframe\">\n",
       "  <thead>\n",
       "    <tr style=\"text-align: right;\">\n",
       "      <th></th>\n",
       "      <th>mean_fit_time</th>\n",
       "      <th>std_fit_time</th>\n",
       "      <th>mean_score_time</th>\n",
       "      <th>std_score_time</th>\n",
       "      <th>param_subsample</th>\n",
       "      <th>param_min_child_weight</th>\n",
       "      <th>param_max_depth</th>\n",
       "      <th>param_gamma</th>\n",
       "      <th>param_colsample_bytree</th>\n",
       "      <th>params</th>\n",
       "      <th>split0_test_score</th>\n",
       "      <th>split1_test_score</th>\n",
       "      <th>split2_test_score</th>\n",
       "      <th>split3_test_score</th>\n",
       "      <th>split4_test_score</th>\n",
       "      <th>mean_test_score</th>\n",
       "      <th>std_test_score</th>\n",
       "      <th>rank_test_score</th>\n",
       "    </tr>\n",
       "  </thead>\n",
       "  <tbody>\n",
       "    <tr>\n",
       "      <th>0</th>\n",
       "      <td>104.9122</td>\n",
       "      <td>8.1958</td>\n",
       "      <td>0.2310</td>\n",
       "      <td>0.0334</td>\n",
       "      <td>0.8000</td>\n",
       "      <td>10</td>\n",
       "      <td>4</td>\n",
       "      <td>1.5000</td>\n",
       "      <td>0.6000</td>\n",
       "      <td>{'subsample': 0.8, 'min_child_weight': 10, 'max_depth': 4, 'gamma': 1.5, 'colsample_bytree': 0.6}</td>\n",
       "      <td>0.9261</td>\n",
       "      <td>0.9412</td>\n",
       "      <td>0.9487</td>\n",
       "      <td>0.9340</td>\n",
       "      <td>0.9178</td>\n",
       "      <td>0.9336</td>\n",
       "      <td>0.0109</td>\n",
       "      <td>15</td>\n",
       "    </tr>\n",
       "    <tr>\n",
       "      <th>1</th>\n",
       "      <td>120.4769</td>\n",
       "      <td>13.6534</td>\n",
       "      <td>0.2180</td>\n",
       "      <td>0.0118</td>\n",
       "      <td>1.0000</td>\n",
       "      <td>1</td>\n",
       "      <td>3</td>\n",
       "      <td>2</td>\n",
       "      <td>0.8000</td>\n",
       "      <td>{'subsample': 1.0, 'min_child_weight': 1, 'max_depth': 3, 'gamma': 2, 'colsample_bytree': 0.8}</td>\n",
       "      <td>0.9270</td>\n",
       "      <td>0.9417</td>\n",
       "      <td>0.9490</td>\n",
       "      <td>0.9343</td>\n",
       "      <td>0.9186</td>\n",
       "      <td>0.9341</td>\n",
       "      <td>0.0107</td>\n",
       "      <td>7</td>\n",
       "    </tr>\n",
       "    <tr>\n",
       "      <th>2</th>\n",
       "      <td>136.2064</td>\n",
       "      <td>9.5070</td>\n",
       "      <td>0.2028</td>\n",
       "      <td>0.0121</td>\n",
       "      <td>0.8000</td>\n",
       "      <td>10</td>\n",
       "      <td>3</td>\n",
       "      <td>5</td>\n",
       "      <td>1.0000</td>\n",
       "      <td>{'subsample': 0.8, 'min_child_weight': 10, 'max_depth': 3, 'gamma': 5, 'colsample_bytree': 1.0}</td>\n",
       "      <td>0.9199</td>\n",
       "      <td>0.9417</td>\n",
       "      <td>0.9490</td>\n",
       "      <td>0.9345</td>\n",
       "      <td>0.9114</td>\n",
       "      <td>0.9313</td>\n",
       "      <td>0.0138</td>\n",
       "      <td>24</td>\n",
       "    </tr>\n",
       "    <tr>\n",
       "      <th>3</th>\n",
       "      <td>75.6563</td>\n",
       "      <td>8.5317</td>\n",
       "      <td>0.1894</td>\n",
       "      <td>0.0189</td>\n",
       "      <td>0.6000</td>\n",
       "      <td>10</td>\n",
       "      <td>3</td>\n",
       "      <td>1</td>\n",
       "      <td>0.6000</td>\n",
       "      <td>{'subsample': 0.6, 'min_child_weight': 10, 'max_depth': 3, 'gamma': 1, 'colsample_bytree': 0.6}</td>\n",
       "      <td>0.9257</td>\n",
       "      <td>0.9415</td>\n",
       "      <td>0.9487</td>\n",
       "      <td>0.9413</td>\n",
       "      <td>0.9175</td>\n",
       "      <td>0.9349</td>\n",
       "      <td>0.0115</td>\n",
       "      <td>3</td>\n",
       "    </tr>\n",
       "    <tr>\n",
       "      <th>4</th>\n",
       "      <td>85.9733</td>\n",
       "      <td>7.6852</td>\n",
       "      <td>0.1944</td>\n",
       "      <td>0.0096</td>\n",
       "      <td>0.6000</td>\n",
       "      <td>10</td>\n",
       "      <td>4</td>\n",
       "      <td>1</td>\n",
       "      <td>0.6000</td>\n",
       "      <td>{'subsample': 0.6, 'min_child_weight': 10, 'max_depth': 4, 'gamma': 1, 'colsample_bytree': 0.6}</td>\n",
       "      <td>0.9257</td>\n",
       "      <td>0.9410</td>\n",
       "      <td>0.9485</td>\n",
       "      <td>0.9413</td>\n",
       "      <td>0.9175</td>\n",
       "      <td>0.9348</td>\n",
       "      <td>0.0114</td>\n",
       "      <td>4</td>\n",
       "    </tr>\n",
       "  </tbody>\n",
       "</table>\n",
       "</div>"
      ],
      "text/plain": [
       "   mean_fit_time  std_fit_time  mean_score_time  std_score_time  \\\n",
       "0 104.9122       8.1958        0.2310           0.0334            \n",
       "1 120.4769       13.6534       0.2180           0.0118            \n",
       "2 136.2064       9.5070        0.2028           0.0121            \n",
       "3 75.6563        8.5317        0.1894           0.0189            \n",
       "4 85.9733        7.6852        0.1944           0.0096            \n",
       "\n",
       "  param_subsample param_min_child_weight param_max_depth param_gamma  \\\n",
       "0 0.8000           10                     4              1.5000        \n",
       "1 1.0000           1                      3               2            \n",
       "2 0.8000           10                     3               5            \n",
       "3 0.6000           10                     3               1            \n",
       "4 0.6000           10                     4               1            \n",
       "\n",
       "  param_colsample_bytree  \\\n",
       "0 0.6000                   \n",
       "1 0.8000                   \n",
       "2 1.0000                   \n",
       "3 0.6000                   \n",
       "4 0.6000                   \n",
       "\n",
       "                                                                                              params  \\\n",
       "0  {'subsample': 0.8, 'min_child_weight': 10, 'max_depth': 4, 'gamma': 1.5, 'colsample_bytree': 0.6}   \n",
       "1  {'subsample': 1.0, 'min_child_weight': 1, 'max_depth': 3, 'gamma': 2, 'colsample_bytree': 0.8}      \n",
       "2  {'subsample': 0.8, 'min_child_weight': 10, 'max_depth': 3, 'gamma': 5, 'colsample_bytree': 1.0}     \n",
       "3  {'subsample': 0.6, 'min_child_weight': 10, 'max_depth': 3, 'gamma': 1, 'colsample_bytree': 0.6}     \n",
       "4  {'subsample': 0.6, 'min_child_weight': 10, 'max_depth': 4, 'gamma': 1, 'colsample_bytree': 0.6}     \n",
       "\n",
       "   split0_test_score  split1_test_score  split2_test_score  split3_test_score  \\\n",
       "0 0.9261             0.9412             0.9487             0.9340               \n",
       "1 0.9270             0.9417             0.9490             0.9343               \n",
       "2 0.9199             0.9417             0.9490             0.9345               \n",
       "3 0.9257             0.9415             0.9487             0.9413               \n",
       "4 0.9257             0.9410             0.9485             0.9413               \n",
       "\n",
       "   split4_test_score  mean_test_score  std_test_score  rank_test_score  \n",
       "0 0.9178             0.9336           0.0109           15               \n",
       "1 0.9186             0.9341           0.0107           7                \n",
       "2 0.9114             0.9313           0.0138           24               \n",
       "3 0.9175             0.9349           0.0115           3                \n",
       "4 0.9175             0.9348           0.0114           4                "
      ]
     },
     "execution_count": 65,
     "metadata": {},
     "output_type": "execute_result"
    }
   ],
   "source": [
    "# scores of RandomizedSearchCV\n",
    "scores = xgb_random.cv_results_\n",
    "pd.DataFrame(scores).head()"
   ]
  },
  {
   "cell_type": "code",
   "execution_count": 66,
   "metadata": {},
   "outputs": [
    {
     "name": "stdout",
     "output_type": "stream",
     "text": [
      "0.9354436370568727\n",
      "{'subsample': 0.6, 'min_child_weight': 10, 'max_depth': 3, 'gamma': 1.5, 'colsample_bytree': 0.8}\n",
      "19\n"
     ]
    }
   ],
   "source": [
    "print(xgb_random.best_score_)\n",
    "print(xgb_random.best_params_)\n",
    "print(xgb_random.best_index_)"
   ]
  },
  {
   "cell_type": "markdown",
   "metadata": {},
   "source": [
    "0.9354436370568727\n",
    "{'subsample': 0.6, 'min_child_weight': 10, 'max_depth': 3, 'gamma': 1.5, 'colsample_bytree': 0.8}\n",
    "19"
   ]
  },
  {
   "cell_type": "code",
   "execution_count": 67,
   "metadata": {},
   "outputs": [],
   "source": [
    "# Passing the best parameteres based on Randomized Search CV\n",
    "model_xgb_tuned = XGBClassifier(min_child_weight= 10,\n",
    "        gamma= 1.5,\n",
    "        subsample= 0.6,\n",
    "        colsample_bytree= 0.8,\n",
    "        max_depth= 3)"
   ]
  },
  {
   "cell_type": "code",
   "execution_count": 68,
   "metadata": {},
   "outputs": [],
   "source": [
    "# Fitting the model on Train data and Predicting on Test data\n",
    "model_xgb_tuned.fit(X_train,y_train)\n",
    "y_predicted = model_xgb_tuned.predict(X_test)"
   ]
  },
  {
   "cell_type": "code",
   "execution_count": 69,
   "metadata": {},
   "outputs": [
    {
     "name": "stdout",
     "output_type": "stream",
     "text": [
      "Classification report:\n",
      "               precision    recall  f1-score   support\n",
      "\n",
      "           0       1.00      1.00      1.00     85295\n",
      "           1       0.95      0.70      0.81       148\n",
      "\n",
      "    accuracy                           1.00     85443\n",
      "   macro avg       0.98      0.85      0.90     85443\n",
      "weighted avg       1.00      1.00      1.00     85443\n",
      "\n",
      "Confusion matrix:\n",
      " [[85290     5]\n",
      " [   44   104]]\n",
      "Logistic Regression Accuracy:  0.9994265182636377\n",
      "ROC AUC :  0.8513220413097311\n"
     ]
    }
   ],
   "source": [
    "# Evaluation metrices\n",
    "print('Classification report:\\n', classification_report(y_test, y_predicted))\n",
    "print('Confusion matrix:\\n',confusion_matrix(y_true = y_test, y_pred = y_predicted))\n",
    "print(\"Logistic Regression Accuracy: \",accuracy_score(y_test,y_predicted))\n",
    "print('ROC AUC : ', roc_auc_score(y_test, y_predicted))"
   ]
  },
  {
   "cell_type": "code",
   "execution_count": 70,
   "metadata": {},
   "outputs": [
    {
     "data": {
      "image/png": "[encoded data removed]",
      "text/plain": [
       "<Figure size 432x432 with 1 Axes>"
      ]
     },
     "metadata": {
      "needs_background": "light"
     },
     "output_type": "display_data"
    }
   ],
   "source": [
    "# Create true and false positive rates\n",
    "fpr, tpr, threshold = roc_curve(y_test, y_predicted)\n",
    "roc_auc = roc_auc_score(y_test, y_predicted)\n",
    "# Plot the roc curve \n",
    "plt.rcParams['figure.figsize'] = [6,6]\n",
    "plot_roc_curve(fpr,tpr,roc_auc)"
   ]
  },
  {
   "cell_type": "markdown",
   "metadata": {},
   "source": [
    "<b>Inference:\n",
    "Precision : 0.95\n",
    "Recall : 0.70\n",
    "F1-score : 0.81\n",
    "Accuracy : 0.99\n",
    "ROC AUC : 0.85</b>"
   ]
  },
  {
   "cell_type": "markdown",
   "metadata": {},
   "source": [
    "<h2>Balanced Data Set<h2>"
   ]
  },
  {
   "cell_type": "code",
   "execution_count": 63,
   "metadata": {},
   "outputs": [],
   "source": [
    "from imblearn.over_sampling import RandomOverSampler\n",
    "from imblearn.over_sampling import SMOTE\n",
    "from imblearn.over_sampling import ADASYN\n",
    "\n",
    "# Resample training data\n",
    "ros = RandomOverSampler()\n",
    "smote = SMOTE(random_state=5)\n",
    "adasyn = ADASYN(random_state=5)\n",
    "\n",
    "X_train_ros, y_train_ros = ros.fit_sample(X_train,y_train)\n",
    "X_train_smote, y_train_smote = smote.fit_sample(X_train,y_train)\n",
    "X_train_adasyn, y_train_adasyn =adasyn.fit_sample(X_train,y_train)"
   ]
  },
  {
   "cell_type": "markdown",
   "metadata": {},
   "source": [
    "<h3>Model 7 : Logistic Regression on ROS Balanced Data </h3>"
   ]
  },
  {
   "cell_type": "code",
   "execution_count": 71,
   "metadata": {},
   "outputs": [],
   "source": [
    "# Fit a logistic regression model to our data\n",
    "from sklearn.linear_model import LogisticRegression\n",
    "\n",
    "model_lr = LogisticRegression()\n",
    "model_lr.fit(X_train_ros, y_train_ros)\n",
    "\n",
    "# Obtain model predictions\n",
    "y_predicted = model_lr.predict(X_test)"
   ]
  },
  {
   "cell_type": "code",
   "execution_count": 72,
   "metadata": {},
   "outputs": [
    {
     "name": "stdout",
     "output_type": "stream",
     "text": [
      "Classification report:\n",
      "               precision    recall  f1-score   support\n",
      "\n",
      "           0       1.00      0.98      0.99     85295\n",
      "           1       0.06      0.91      0.12       148\n",
      "\n",
      "    accuracy                           0.98     85443\n",
      "   macro avg       0.53      0.94      0.55     85443\n",
      "weighted avg       1.00      0.98      0.99     85443\n",
      "\n",
      "Confusion matrix:\n",
      " [[83291  2004]\n",
      " [   14   134]]\n",
      "Logistic Regression Accuracy:  0.9763819154289994\n",
      "ROC AUC :  0.9409552380213028\n"
     ]
    }
   ],
   "source": [
    "# Evaluation Metrics\n",
    "print('Classification report:\\n', classification_report(y_test, y_predicted))\n",
    "print('Confusion matrix:\\n',confusion_matrix(y_true = y_test, y_pred = y_predicted))\n",
    "print(\"Logistic Regression Accuracy: \",accuracy_score(y_test,y_predicted))\n",
    "print('ROC AUC : ', roc_auc_score(y_test, y_predicted))"
   ]
  },
  {
   "cell_type": "code",
   "execution_count": 73,
   "metadata": {},
   "outputs": [
    {
     "data": {
      "image/png": "[encoded data removed]",
      "text/plain": [
       "<Figure size 432x432 with 1 Axes>"
      ]
     },
     "metadata": {
      "needs_background": "light"
     },
     "output_type": "display_data"
    }
   ],
   "source": [
    "# Create true and false positive rates\n",
    "fpr, tpr, threshold = roc_curve(y_test, y_predicted)\n",
    "roc_auc = roc_auc_score(y_test, y_predicted)\n",
    "# Plot the roc curve \n",
    "plt.rcParams['figure.figsize'] = [6,6]\n",
    "plot_roc_curve(fpr,tpr,roc_auc)"
   ]
  },
  {
   "cell_type": "markdown",
   "metadata": {},
   "source": [
    "<b>Inference:\n",
    "Precision : 0.06\n",
    "Recall : 0.91\n",
    "F1-score : 0.12\n",
    "Accuracy : 0.97\n",
    "ROC AUC : 0.94</b>"
   ]
  },
  {
   "cell_type": "markdown",
   "metadata": {},
   "source": [
    "<h3>Model 8 : Logistic Regression on SMOTE Balanced Data</h3>"
   ]
  },
  {
   "cell_type": "code",
   "execution_count": 74,
   "metadata": {},
   "outputs": [],
   "source": [
    "# Fit a logistic regression model to our data\n",
    "from sklearn.linear_model import LogisticRegression\n",
    "\n",
    "model_lr = LogisticRegression()\n",
    "model_lr.fit(X_train_smote, y_train_smote)\n",
    "\n",
    "# Obtain model predictions\n",
    "y_predicted = model_lr.predict(X_test)"
   ]
  },
  {
   "cell_type": "code",
   "execution_count": 75,
   "metadata": {},
   "outputs": [
    {
     "name": "stdout",
     "output_type": "stream",
     "text": [
      "Classification report:\n",
      "               precision    recall  f1-score   support\n",
      "\n",
      "           0       1.00      0.97      0.99     85295\n",
      "           1       0.06      0.91      0.11       148\n",
      "\n",
      "    accuracy                           0.97     85443\n",
      "   macro avg       0.53      0.94      0.55     85443\n",
      "weighted avg       1.00      0.97      0.99     85443\n",
      "\n",
      "Confusion matrix:\n",
      " [[83076  2219]\n",
      " [   14   134]]\n",
      "Logistic Regression Accuracy:  0.9738656180143488\n",
      "ROC AUC :  0.9396949062316317\n"
     ]
    }
   ],
   "source": [
    "# Evaluation Metrics\n",
    "print('Classification report:\\n', classification_report(y_test, y_predicted))\n",
    "print('Confusion matrix:\\n',confusion_matrix(y_true = y_test, y_pred = y_predicted))\n",
    "print(\"Logistic Regression Accuracy: \",accuracy_score(y_test,y_predicted))\n",
    "print('ROC AUC : ', roc_auc_score(y_test, y_predicted))"
   ]
  },
  {
   "cell_type": "code",
   "execution_count": 76,
   "metadata": {},
   "outputs": [
    {
     "data": {
      "image/png": "[encoded data removed]",
      "text/plain": [
       "<Figure size 432x432 with 1 Axes>"
      ]
     },
     "metadata": {
      "needs_background": "light"
     },
     "output_type": "display_data"
    }
   ],
   "source": [
    "# Create true and false positive rates\n",
    "fpr, tpr, threshold = roc_curve(y_test, y_predicted)\n",
    "roc_auc = roc_auc_score(y_test, y_predicted)\n",
    "# Plot the roc curve \n",
    "plt.rcParams['figure.figsize'] = [6,6]\n",
    "plot_roc_curve(fpr,tpr,roc_auc)"
   ]
  },
  {
   "cell_type": "markdown",
   "metadata": {},
   "source": [
    "<b>Inference:\n",
    "Precision : 0.06\n",
    "Recall : 0.91\n",
    "F1-score : 0.11\n",
    "Accuracy : 0.97\n",
    "ROC AUC : 0.93</b>"
   ]
  },
  {
   "cell_type": "markdown",
   "metadata": {},
   "source": [
    "<h3>Model 9 : Logistic Regression on ADASYN Balanced Data</h3>"
   ]
  },
  {
   "cell_type": "code",
   "execution_count": 77,
   "metadata": {},
   "outputs": [],
   "source": [
    "# Fit a logistic regression model to our data\n",
    "from sklearn.linear_model import LogisticRegression\n",
    "\n",
    "model_lr = LogisticRegression()\n",
    "model_lr.fit(X_train_adasyn, y_train_adasyn)\n",
    "\n",
    "# Obtain model predictions\n",
    "y_predicted = model_lr.predict(X_test)"
   ]
  },
  {
   "cell_type": "code",
   "execution_count": 78,
   "metadata": {},
   "outputs": [
    {
     "name": "stdout",
     "output_type": "stream",
     "text": [
      "Classification report:\n",
      "               precision    recall  f1-score   support\n",
      "\n",
      "           0       1.00      0.92      0.96     85295\n",
      "           1       0.02      0.91      0.04       148\n",
      "\n",
      "    accuracy                           0.92     85443\n",
      "   macro avg       0.51      0.91      0.50     85443\n",
      "weighted avg       1.00      0.92      0.95     85443\n",
      "\n",
      "Confusion matrix:\n",
      " [[78046  7249]\n",
      " [   13   135]]\n",
      "Logistic Regression Accuracy:  0.915007665929333\n",
      "ROC AUC :  0.9135873827400295\n"
     ]
    }
   ],
   "source": [
    "# Evaluation Metrics\n",
    "print('Classification report:\\n', classification_report(y_test, y_predicted))\n",
    "print('Confusion matrix:\\n',confusion_matrix(y_true = y_test, y_pred = y_predicted))\n",
    "print(\"Logistic Regression Accuracy: \",accuracy_score(y_test,y_predicted))\n",
    "print('ROC AUC : ', roc_auc_score(y_test, y_predicted))"
   ]
  },
  {
   "cell_type": "code",
   "execution_count": 79,
   "metadata": {},
   "outputs": [
    {
     "data": {
      "image/png": "[encoded data removed]",
      "text/plain": [
       "<Figure size 432x432 with 1 Axes>"
      ]
     },
     "metadata": {
      "needs_background": "light"
     },
     "output_type": "display_data"
    }
   ],
   "source": [
    "# Create true and false positive rates\n",
    "fpr, tpr, threshold = roc_curve(y_test, y_predicted)\n",
    "roc_auc = roc_auc_score(y_test, y_predicted)\n",
    "# Plot the roc curve \n",
    "plt.rcParams['figure.figsize'] = [6,6]\n",
    "plot_roc_curve(fpr,tpr,roc_auc)"
   ]
  },
  {
   "cell_type": "markdown",
   "metadata": {},
   "source": [
    "<b>Inference:\n",
    "Precision : 0.02\n",
    "Recall : 0.91\n",
    "F1-score : 0.04\n",
    "Accuracy : 0.91\n",
    "ROC AUC : 0.91</b>"
   ]
  },
  {
   "cell_type": "markdown",
   "metadata": {},
   "source": [
    "<h3>Model 10 : Random Forest on ROS Balanced Data</h3>"
   ]
  },
  {
   "cell_type": "code",
   "execution_count": 80,
   "metadata": {},
   "outputs": [],
   "source": [
    "# Insantiate Model\n",
    "model_rfc = RandomForestClassifier(bootstrap=True,\n",
    "                               class_weight={0:1, 1:12}, # 0: non-fraud , 1:fraud\n",
    "                               criterion='entropy',\n",
    "                               max_depth=10, # Change depth of model\n",
    "                               min_samples_leaf=10, # Change the number of samples in leaf nodes\n",
    "                               n_estimators=20, # Change the number of trees to use\n",
    "                               n_jobs=-1, \n",
    "                               random_state=5)"
   ]
  },
  {
   "cell_type": "code",
   "execution_count": 81,
   "metadata": {},
   "outputs": [],
   "source": [
    "# Fit the model on train data and predict on test data \n",
    "model_rfc.fit(X_train_ros,y_train_ros)\n",
    "y_predicted = model_rfc.predict(X_test)"
   ]
  },
  {
   "cell_type": "code",
   "execution_count": 82,
   "metadata": {},
   "outputs": [
    {
     "name": "stdout",
     "output_type": "stream",
     "text": [
      "Classification report:\n",
      "               precision    recall  f1-score   support\n",
      "\n",
      "           0       1.00      1.00      1.00     85295\n",
      "           1       0.45      0.76      0.57       148\n",
      "\n",
      "    accuracy                           1.00     85443\n",
      "   macro avg       0.73      0.88      0.78     85443\n",
      "weighted avg       1.00      1.00      1.00     85443\n",
      "\n",
      "Confusion matrix:\n",
      " [[85158   137]\n",
      " [   35   113]]\n",
      "Logistic Regression Accuracy:  0.9979869620682794\n",
      "ROC AUC :  0.8809536616163617\n"
     ]
    }
   ],
   "source": [
    "# Evaluation Metrices\n",
    "print('Classification report:\\n', classification_report(y_test, y_predicted))\n",
    "print('Confusion matrix:\\n',confusion_matrix(y_true = y_test, y_pred = y_predicted))\n",
    "print(\"Logistic Regression Accuracy: \",accuracy_score(y_test,y_predicted))\n",
    "print('ROC AUC : ', roc_auc_score(y_test, y_predicted))"
   ]
  },
  {
   "cell_type": "code",
   "execution_count": 83,
   "metadata": {},
   "outputs": [
    {
     "data": {
      "image/png": "[encoded data removed]",
      "text/plain": [
       "<Figure size 432x432 with 1 Axes>"
      ]
     },
     "metadata": {
      "needs_background": "light"
     },
     "output_type": "display_data"
    }
   ],
   "source": [
    "# Create true and false positive rates\n",
    "fpr, tpr, threshold = roc_curve(y_test, y_predicted)\n",
    "roc_auc = roc_auc_score(y_test, y_predicted)\n",
    "# Plot the roc curve \n",
    "plt.rcParams['figure.figsize'] = [6,6]\n",
    "plot_roc_curve(fpr,tpr,roc_auc)"
   ]
  },
  {
   "cell_type": "markdown",
   "metadata": {},
   "source": [
    "<b>Inference:\n",
    "Precision : 0.45\n",
    "Recall : 0.76\n",
    "F1-score : 0.57\n",
    "Accuracy : 0.99\n",
    "ROC AUC : 0.88</b>"
   ]
  },
  {
   "cell_type": "markdown",
   "metadata": {},
   "source": [
    "<h3>Model 11 : Random Forest on SMOTE Balanced Data</h3>"
   ]
  },
  {
   "cell_type": "code",
   "execution_count": 84,
   "metadata": {},
   "outputs": [],
   "source": [
    "# Fit the model on train data and predict on test data \n",
    "model_rfc.fit(X_train_smote,y_train_smote)\n",
    "y_predicted = model_rfc.predict(X_test)"
   ]
  },
  {
   "cell_type": "code",
   "execution_count": 85,
   "metadata": {},
   "outputs": [
    {
     "name": "stdout",
     "output_type": "stream",
     "text": [
      "Classification report:\n",
      "               precision    recall  f1-score   support\n",
      "\n",
      "           0       1.00      0.98      0.99     85295\n",
      "           1       0.06      0.84      0.12       148\n",
      "\n",
      "    accuracy                           0.98     85443\n",
      "   macro avg       0.53      0.91      0.55     85443\n",
      "weighted avg       1.00      0.98      0.99     85443\n",
      "\n",
      "Confusion matrix:\n",
      " [[83462  1833]\n",
      " [   23   125]]\n",
      "Logistic Regression Accuracy:  0.9782779162716665\n",
      "ROC AUC :  0.9115522360393103\n"
     ]
    }
   ],
   "source": [
    "# Evaluation Metrices\n",
    "print('Classification report:\\n', classification_report(y_test, y_predicted))\n",
    "print('Confusion matrix:\\n',confusion_matrix(y_true = y_test, y_pred = y_predicted))\n",
    "print(\"Logistic Regression Accuracy: \",accuracy_score(y_test,y_predicted))\n",
    "print('ROC AUC : ', roc_auc_score(y_test, y_predicted))"
   ]
  },
  {
   "cell_type": "code",
   "execution_count": 86,
   "metadata": {},
   "outputs": [
    {
     "data": {
      "image/png": "[encoded data removed]",
      "text/plain": [
       "<Figure size 432x432 with 1 Axes>"
      ]
     },
     "metadata": {
      "needs_background": "light"
     },
     "output_type": "display_data"
    }
   ],
   "source": [
    "# Create true and false positive rates\n",
    "fpr, tpr, threshold = roc_curve(y_test, y_predicted)\n",
    "roc_auc = roc_auc_score(y_test, y_predicted)\n",
    "# Plot the roc curve \n",
    "plt.rcParams['figure.figsize'] = [6,6]\n",
    "plot_roc_curve(fpr,tpr,roc_auc)"
   ]
  },
  {
   "cell_type": "markdown",
   "metadata": {},
   "source": [
    "<b>Inference:\n",
    "Precision : 0.06\n",
    "Recall : 0.84\n",
    "F1-score : 0.12\n",
    "Accuracy : 0.97\n",
    "ROC AUC : 0.91</b>"
   ]
  },
  {
   "cell_type": "markdown",
   "metadata": {},
   "source": [
    "<h3>Model 12 : Random Forest on ADASYN Balanced Data</h3>"
   ]
  },
  {
   "cell_type": "code",
   "execution_count": 87,
   "metadata": {},
   "outputs": [],
   "source": [
    "# Fit the model on train data and predict on test data \n",
    "model_rfc.fit(X_train_adasyn,y_train_adasyn)\n",
    "y_predicted = model_rfc.predict(X_test)"
   ]
  },
  {
   "cell_type": "code",
   "execution_count": 88,
   "metadata": {},
   "outputs": [
    {
     "name": "stdout",
     "output_type": "stream",
     "text": [
      "Classification report:\n",
      "               precision    recall  f1-score   support\n",
      "\n",
      "           0       1.00      0.96      0.98     85295\n",
      "           1       0.03      0.84      0.06       148\n",
      "\n",
      "    accuracy                           0.95     85443\n",
      "   macro avg       0.52      0.90      0.52     85443\n",
      "weighted avg       1.00      0.95      0.98     85443\n",
      "\n",
      "Confusion matrix:\n",
      " [[81463  3832]\n",
      " [   24   124]]\n",
      "Logistic Regression Accuracy:  0.9548704984609623\n",
      "ROC AUC :  0.8964557030211523\n"
     ]
    }
   ],
   "source": [
    "# Evaluation Metrices\n",
    "print('Classification report:\\n', classification_report(y_test, y_predicted))\n",
    "print('Confusion matrix:\\n',confusion_matrix(y_true = y_test, y_pred = y_predicted))\n",
    "print(\"Logistic Regression Accuracy: \",accuracy_score(y_test,y_predicted))\n",
    "print('ROC AUC : ', roc_auc_score(y_test, y_predicted))"
   ]
  },
  {
   "cell_type": "code",
   "execution_count": 89,
   "metadata": {},
   "outputs": [
    {
     "data": {
      "image/png": "[encoded data removed]",
      "text/plain": [
       "<Figure size 432x432 with 1 Axes>"
      ]
     },
     "metadata": {
      "needs_background": "light"
     },
     "output_type": "display_data"
    }
   ],
   "source": [
    "# Create true and false positive rates\n",
    "fpr, tpr, threshold = roc_curve(y_test, y_predicted)\n",
    "roc_auc = roc_auc_score(y_test, y_predicted)\n",
    "# Plot the roc curve \n",
    "plt.rcParams['figure.figsize'] = [6,6]\n",
    "plot_roc_curve(fpr,tpr,roc_auc)"
   ]
  },
  {
   "cell_type": "markdown",
   "metadata": {},
   "source": [
    "<b>Inference:\n",
    "Precision : 0.03\n",
    "Recall : 0.84\n",
    "F1-score : 0.06\n",
    "Accuracy : 0.95\n",
    "ROC AUC : 0.89</b>\n"
   ]
  },
  {
   "cell_type": "markdown",
   "metadata": {},
   "source": [
    "Let's do a Hyperparameter tuning on ROS data as it gave a better Recall and Precision"
   ]
  },
  {
   "cell_type": "markdown",
   "metadata": {},
   "source": [
    "<h3>Model 13 : Hyper Tuning model Random Forest on ROS Balanced Data</h3>"
   ]
  },
  {
   "cell_type": "code",
   "execution_count": 90,
   "metadata": {},
   "outputs": [],
   "source": [
    "params = { \n",
    "    'n_estimators': [200, 400],\n",
    "    'max_features': ['auto', 'sqrt', 'log2'],\n",
    "    'max_depth' : [4,5,6,7,8],\n",
    "    'criterion' :['gini', 'entropy']\n",
    "}"
   ]
  },
  {
   "cell_type": "code",
   "execution_count": 91,
   "metadata": {},
   "outputs": [],
   "source": [
    "cross_val = StratifiedKFold(n_splits=3)\n",
    "index_iterator = cross_val.split(X_train_ros, y_train_ros)\n",
    "clf = RandomForestClassifier()\n",
    "clf_random = RandomizedSearchCV(estimator = clf, param_distributions = params, n_iter = 50, cv = cross_val,\n",
    "                                verbose=2, random_state=42, n_jobs = -1,scoring='roc_auc')"
   ]
  },
  {
   "cell_type": "code",
   "execution_count": 92,
   "metadata": {},
   "outputs": [
    {
     "name": "stdout",
     "output_type": "stream",
     "text": [
      "Fitting 3 folds for each of 50 candidates, totalling 150 fits\n"
     ]
    },
    {
     "name": "stderr",
     "output_type": "stream",
     "text": [
      "[Parallel(n_jobs=-1)]: Using backend LokyBackend with 4 concurrent workers.\n",
      "[Parallel(n_jobs=-1)]: Done  33 tasks      | elapsed: 73.0min\n",
      "[Parallel(n_jobs=-1)]: Done 150 out of 150 | elapsed: 325.3min finished\n"
     ]
    },
    {
     "data": {
      "text/plain": [
       "RandomizedSearchCV(cv=StratifiedKFold(n_splits=3, random_state=None, shuffle=False),\n",
       "                   estimator=RandomForestClassifier(), n_iter=50, n_jobs=-1,\n",
       "                   param_distributions={'criterion': ['gini', 'entropy'],\n",
       "                                        'max_depth': [4, 5, 6, 7, 8],\n",
       "                                        'max_features': ['auto', 'sqrt',\n",
       "                                                         'log2'],\n",
       "                                        'n_estimators': [200, 400]},\n",
       "                   random_state=42, scoring='roc_auc', verbose=2)"
      ]
     },
     "execution_count": 92,
     "metadata": {},
     "output_type": "execute_result"
    }
   ],
   "source": [
    "clf_random.fit(X_train_ros, y_train_ros)"
   ]
  },
  {
   "cell_type": "code",
   "execution_count": 93,
   "metadata": {},
   "outputs": [
    {
     "data": {
      "text/html": [
       "<div>\n",
       "<style scoped>\n",
       "    .dataframe tbody tr th:only-of-type {\n",
       "        vertical-align: middle;\n",
       "    }\n",
       "\n",
       "    .dataframe tbody tr th {\n",
       "        vertical-align: top;\n",
       "    }\n",
       "\n",
       "    .dataframe thead th {\n",
       "        text-align: right;\n",
       "    }\n",
       "</style>\n",
       "<table border=\"1\" class=\"dataframe\">\n",
       "  <thead>\n",
       "    <tr style=\"text-align: right;\">\n",
       "      <th></th>\n",
       "      <th>mean_fit_time</th>\n",
       "      <th>std_fit_time</th>\n",
       "      <th>mean_score_time</th>\n",
       "      <th>std_score_time</th>\n",
       "      <th>param_n_estimators</th>\n",
       "      <th>param_max_features</th>\n",
       "      <th>param_max_depth</th>\n",
       "      <th>param_criterion</th>\n",
       "      <th>params</th>\n",
       "      <th>split0_test_score</th>\n",
       "      <th>split1_test_score</th>\n",
       "      <th>split2_test_score</th>\n",
       "      <th>mean_test_score</th>\n",
       "      <th>std_test_score</th>\n",
       "      <th>rank_test_score</th>\n",
       "    </tr>\n",
       "  </thead>\n",
       "  <tbody>\n",
       "    <tr>\n",
       "      <th>0</th>\n",
       "      <td>225.1915</td>\n",
       "      <td>6.5137</td>\n",
       "      <td>4.3152</td>\n",
       "      <td>0.2336</td>\n",
       "      <td>200</td>\n",
       "      <td>auto</td>\n",
       "      <td>4</td>\n",
       "      <td>gini</td>\n",
       "      <td>{'n_estimators': 200, 'max_features': 'auto', 'max_depth': 4, 'criterion': 'gini'}</td>\n",
       "      <td>0.9916</td>\n",
       "      <td>0.9925</td>\n",
       "      <td>0.9914</td>\n",
       "      <td>0.9919</td>\n",
       "      <td>0.0005</td>\n",
       "      <td>46</td>\n",
       "    </tr>\n",
       "    <tr>\n",
       "      <th>1</th>\n",
       "      <td>362.0804</td>\n",
       "      <td>11.7128</td>\n",
       "      <td>8.0915</td>\n",
       "      <td>0.5256</td>\n",
       "      <td>400</td>\n",
       "      <td>log2</td>\n",
       "      <td>4</td>\n",
       "      <td>gini</td>\n",
       "      <td>{'n_estimators': 400, 'max_features': 'log2', 'max_depth': 4, 'criterion': 'gini'}</td>\n",
       "      <td>0.9917</td>\n",
       "      <td>0.9920</td>\n",
       "      <td>0.9915</td>\n",
       "      <td>0.9917</td>\n",
       "      <td>0.0002</td>\n",
       "      <td>48</td>\n",
       "    </tr>\n",
       "    <tr>\n",
       "      <th>2</th>\n",
       "      <td>364.9199</td>\n",
       "      <td>25.3789</td>\n",
       "      <td>4.5049</td>\n",
       "      <td>0.3636</td>\n",
       "      <td>200</td>\n",
       "      <td>auto</td>\n",
       "      <td>5</td>\n",
       "      <td>entropy</td>\n",
       "      <td>{'n_estimators': 200, 'max_features': 'auto', 'max_depth': 5, 'criterion': 'entropy'}</td>\n",
       "      <td>0.9977</td>\n",
       "      <td>0.9977</td>\n",
       "      <td>0.9976</td>\n",
       "      <td>0.9976</td>\n",
       "      <td>0.0000</td>\n",
       "      <td>29</td>\n",
       "    </tr>\n",
       "    <tr>\n",
       "      <th>3</th>\n",
       "      <td>838.7046</td>\n",
       "      <td>15.5717</td>\n",
       "      <td>9.9716</td>\n",
       "      <td>1.0186</td>\n",
       "      <td>400</td>\n",
       "      <td>sqrt</td>\n",
       "      <td>6</td>\n",
       "      <td>entropy</td>\n",
       "      <td>{'n_estimators': 400, 'max_features': 'sqrt', 'max_depth': 6, 'criterion': 'entropy'}</td>\n",
       "      <td>0.9991</td>\n",
       "      <td>0.9991</td>\n",
       "      <td>0.9991</td>\n",
       "      <td>0.9991</td>\n",
       "      <td>0.0000</td>\n",
       "      <td>20</td>\n",
       "    </tr>\n",
       "    <tr>\n",
       "      <th>4</th>\n",
       "      <td>609.8052</td>\n",
       "      <td>34.2553</td>\n",
       "      <td>9.0882</td>\n",
       "      <td>0.4120</td>\n",
       "      <td>400</td>\n",
       "      <td>auto</td>\n",
       "      <td>6</td>\n",
       "      <td>gini</td>\n",
       "      <td>{'n_estimators': 400, 'max_features': 'auto', 'max_depth': 6, 'criterion': 'gini'}</td>\n",
       "      <td>0.9981</td>\n",
       "      <td>0.9982</td>\n",
       "      <td>0.9980</td>\n",
       "      <td>0.9981</td>\n",
       "      <td>0.0001</td>\n",
       "      <td>25</td>\n",
       "    </tr>\n",
       "  </tbody>\n",
       "</table>\n",
       "</div>"
      ],
      "text/plain": [
       "   mean_fit_time  std_fit_time  mean_score_time  std_score_time  \\\n",
       "0 225.1915       6.5137        4.3152           0.2336            \n",
       "1 362.0804       11.7128       8.0915           0.5256            \n",
       "2 364.9199       25.3789       4.5049           0.3636            \n",
       "3 838.7046       15.5717       9.9716           1.0186            \n",
       "4 609.8052       34.2553       9.0882           0.4120            \n",
       "\n",
       "  param_n_estimators param_max_features param_max_depth param_criterion  \\\n",
       "0  200                auto               4               gini             \n",
       "1  400                log2               4               gini             \n",
       "2  200                auto               5               entropy          \n",
       "3  400                sqrt               6               entropy          \n",
       "4  400                auto               6               gini             \n",
       "\n",
       "                                                                                  params  \\\n",
       "0  {'n_estimators': 200, 'max_features': 'auto', 'max_depth': 4, 'criterion': 'gini'}      \n",
       "1  {'n_estimators': 400, 'max_features': 'log2', 'max_depth': 4, 'criterion': 'gini'}      \n",
       "2  {'n_estimators': 200, 'max_features': 'auto', 'max_depth': 5, 'criterion': 'entropy'}   \n",
       "3  {'n_estimators': 400, 'max_features': 'sqrt', 'max_depth': 6, 'criterion': 'entropy'}   \n",
       "4  {'n_estimators': 400, 'max_features': 'auto', 'max_depth': 6, 'criterion': 'gini'}      \n",
       "\n",
       "   split0_test_score  split1_test_score  split2_test_score  mean_test_score  \\\n",
       "0 0.9916             0.9925             0.9914             0.9919             \n",
       "1 0.9917             0.9920             0.9915             0.9917             \n",
       "2 0.9977             0.9977             0.9976             0.9976             \n",
       "3 0.9991             0.9991             0.9991             0.9991             \n",
       "4 0.9981             0.9982             0.9980             0.9981             \n",
       "\n",
       "   std_test_score  rank_test_score  \n",
       "0 0.0005           46               \n",
       "1 0.0002           48               \n",
       "2 0.0000           29               \n",
       "3 0.0000           20               \n",
       "4 0.0001           25               "
      ]
     },
     "execution_count": 93,
     "metadata": {},
     "output_type": "execute_result"
    }
   ],
   "source": [
    "# Scores of RandomizedSearchCV\n",
    "scores = clf_random.cv_results_\n",
    "pd.DataFrame(scores).head()"
   ]
  },
  {
   "cell_type": "code",
   "execution_count": 94,
   "metadata": {},
   "outputs": [
    {
     "name": "stdout",
     "output_type": "stream",
     "text": [
      "0.9999606524638803\n",
      "{'n_estimators': 200, 'max_features': 'auto', 'max_depth': 8, 'criterion': 'entropy'}\n",
      "5\n"
     ]
    }
   ],
   "source": [
    "print(clf_random.best_score_)\n",
    "print(clf_random.best_params_)\n",
    "print(clf_random.best_index_)"
   ]
  },
  {
   "cell_type": "markdown",
   "metadata": {},
   "source": [
    "0.9999606524638803\n",
    "{'n_estimators': 200, 'max_features': 'auto', 'max_depth': 8, 'criterion': 'entropy'}\n",
    "5"
   ]
  },
  {
   "cell_type": "code",
   "execution_count": 95,
   "metadata": {},
   "outputs": [],
   "source": [
    "# Insanitiate Model on best params\n",
    "model_rfc_tuned = RandomForestClassifier(bootstrap=True,\n",
    "                               class_weight={0:1, 1:12}, \n",
    "                               criterion='entropy',\n",
    "                               max_depth=8, \n",
    "                               max_features='auto',\n",
    "                               n_estimators=200,\n",
    "                               n_jobs=-1)"
   ]
  },
  {
   "cell_type": "code",
   "execution_count": 96,
   "metadata": {},
   "outputs": [],
   "source": [
    "#Fit the model on train data and predict the model on test data\n",
    "model_rfc_tuned.fit(X_train_ros,y_train_ros)\n",
    "y_predicted = model_rfc_tuned.predict(X_test)"
   ]
  },
  {
   "cell_type": "code",
   "execution_count": 97,
   "metadata": {},
   "outputs": [
    {
     "name": "stdout",
     "output_type": "stream",
     "text": [
      "Classification report:\n",
      "               precision    recall  f1-score   support\n",
      "\n",
      "           0       1.00      1.00      1.00     85295\n",
      "           1       0.24      0.80      0.37       148\n",
      "\n",
      "    accuracy                           1.00     85443\n",
      "   macro avg       0.62      0.90      0.69     85443\n",
      "weighted avg       1.00      1.00      1.00     85443\n",
      "\n",
      "Confusion matrix:\n",
      " [[84928   367]\n",
      " [   30   118]]\n",
      "Logistic Regression Accuracy:  0.9953536275645752\n",
      "ROC AUC :  0.8964972915937217\n"
     ]
    }
   ],
   "source": [
    "# Evaluation Metrices\n",
    "print('Classification report:\\n', classification_report(y_test, y_predicted))\n",
    "print('Confusion matrix:\\n',confusion_matrix(y_true = y_test, y_pred = y_predicted))\n",
    "print(\"Logistic Regression Accuracy: \",accuracy_score(y_test,y_predicted))\n",
    "print('ROC AUC : ', roc_auc_score(y_test, y_predicted))"
   ]
  },
  {
   "cell_type": "markdown",
   "metadata": {},
   "source": [
    "<b>Inference:\n",
    "Precision : 0.24\n",
    "Recall : 0.80\n",
    "F1-score : 0.37\n",
    "Accuracy : 0.99\n",
    "ROC AUC : 0.89</b>"
   ]
  },
  {
   "cell_type": "markdown",
   "metadata": {},
   "source": [
    "<h3>Model 14 : XGB on ROS Balanced Data</h3>"
   ]
  },
  {
   "cell_type": "code",
   "execution_count": 98,
   "metadata": {},
   "outputs": [],
   "source": [
    "model_xgb_ros = XGBClassifier()"
   ]
  },
  {
   "cell_type": "code",
   "execution_count": 99,
   "metadata": {},
   "outputs": [],
   "source": [
    "#Fit the model on train data and predict the model on test data\n",
    "model_xgb_ros.fit(X_train_ros,y_train_ros)\n",
    "y_predicted = model_xgb_ros.predict(X_test)"
   ]
  },
  {
   "cell_type": "code",
   "execution_count": 100,
   "metadata": {},
   "outputs": [
    {
     "name": "stdout",
     "output_type": "stream",
     "text": [
      "Classification report:\n",
      "               precision    recall  f1-score   support\n",
      "\n",
      "           0       1.00      1.00      1.00     85295\n",
      "           1       0.90      0.76      0.83       148\n",
      "\n",
      "    accuracy                           1.00     85443\n",
      "   macro avg       0.95      0.88      0.91     85443\n",
      "weighted avg       1.00      1.00      1.00     85443\n",
      "\n",
      "Confusion matrix:\n",
      " [[85283    12]\n",
      " [   35   113]]\n",
      "Logistic Regression Accuracy:  0.9994499256814484\n",
      "ROC AUC :  0.8816864126568682\n"
     ]
    }
   ],
   "source": [
    "# Evaluation Metrices\n",
    "print('Classification report:\\n', classification_report(y_test, y_predicted))\n",
    "print('Confusion matrix:\\n',confusion_matrix(y_true = y_test, y_pred = y_predicted))\n",
    "print(\"Logistic Regression Accuracy: \",accuracy_score(y_test,y_predicted))\n",
    "print('ROC AUC : ', roc_auc_score(y_test, y_predicted))"
   ]
  },
  {
   "cell_type": "markdown",
   "metadata": {},
   "source": [
    "<b>Inference:\n",
    "Precision : 0.90\n",
    "Recall : 0.76\n",
    "F1-score : 0.83\n",
    "Accuracy : 0.99\n",
    "ROC AUC : 0.88</b>"
   ]
  },
  {
   "cell_type": "markdown",
   "metadata": {},
   "source": [
    "<h3>Model 15 : XGB on SMOTE Balanced Data</h3>"
   ]
  },
  {
   "cell_type": "code",
   "execution_count": 101,
   "metadata": {},
   "outputs": [],
   "source": [
    "model_xgb_smote = XGBClassifier()"
   ]
  },
  {
   "cell_type": "code",
   "execution_count": 102,
   "metadata": {},
   "outputs": [],
   "source": [
    "#Fit the model on train data and predict the model on test data\n",
    "model_xgb_smote.fit(X_train_smote,y_train_smote)\n",
    "y_predicted = model_xgb_smote.predict(X_test)"
   ]
  },
  {
   "cell_type": "code",
   "execution_count": 103,
   "metadata": {},
   "outputs": [
    {
     "name": "stdout",
     "output_type": "stream",
     "text": [
      "Classification report:\n",
      "               precision    recall  f1-score   support\n",
      "\n",
      "           0       1.00      1.00      1.00     85295\n",
      "           1       0.82      0.76      0.79       148\n",
      "\n",
      "    accuracy                           1.00     85443\n",
      "   macro avg       0.91      0.88      0.89     85443\n",
      "weighted avg       1.00      1.00      1.00     85443\n",
      "\n",
      "Confusion matrix:\n",
      " [[85270    25]\n",
      " [   35   113]]\n",
      "Logistic Regression Accuracy:  0.9992977774656788\n",
      "ROC AUC :  0.8816102065486555\n"
     ]
    }
   ],
   "source": [
    "# Evaluation Metrices\n",
    "print('Classification report:\\n', classification_report(y_test, y_predicted))\n",
    "print('Confusion matrix:\\n',confusion_matrix(y_true = y_test, y_pred = y_predicted))\n",
    "print(\"Logistic Regression Accuracy: \",accuracy_score(y_test,y_predicted))\n",
    "print('ROC AUC : ', roc_auc_score(y_test, y_predicted))"
   ]
  },
  {
   "cell_type": "markdown",
   "metadata": {},
   "source": [
    "<b>Inference:\n",
    "Precision : 0.82\n",
    "Recall : 0.76\n",
    "F1-score : 0.79\n",
    "Accuracy : 0.99\n",
    "ROC AUC : 0.88</b>"
   ]
  },
  {
   "cell_type": "markdown",
   "metadata": {},
   "source": [
    "<h3>Model 16 : XGB on ADASYN Balanced Data</h3>"
   ]
  },
  {
   "cell_type": "code",
   "execution_count": 104,
   "metadata": {},
   "outputs": [],
   "source": [
    "model_xgb_adasyn = XGBClassifier()"
   ]
  },
  {
   "cell_type": "code",
   "execution_count": 105,
   "metadata": {},
   "outputs": [],
   "source": [
    "#Fit the model on train data and predict the model on test data\n",
    "model_xgb_adasyn.fit(X_train_adasyn,y_train_adasyn)\n",
    "y_predicted = model_xgb_adasyn.predict(X_test)"
   ]
  },
  {
   "cell_type": "code",
   "execution_count": 106,
   "metadata": {},
   "outputs": [
    {
     "name": "stdout",
     "output_type": "stream",
     "text": [
      "Classification report:\n",
      "               precision    recall  f1-score   support\n",
      "\n",
      "           0       1.00      1.00      1.00     85295\n",
      "           1       0.76      0.76      0.76       148\n",
      "\n",
      "    accuracy                           1.00     85443\n",
      "   macro avg       0.88      0.88      0.88     85443\n",
      "weighted avg       1.00      1.00      1.00     85443\n",
      "\n",
      "Confusion matrix:\n",
      " [[85259    36]\n",
      " [   36   112]]\n",
      "Logistic Regression Accuracy:  0.9991573329588147\n",
      "ROC AUC :  0.8781673460787126\n"
     ]
    }
   ],
   "source": [
    "#Evaluation Metrices\n",
    "print('Classification report:\\n', classification_report(y_test, y_predicted))\n",
    "print('Confusion matrix:\\n',confusion_matrix(y_true = y_test, y_pred = y_predicted))\n",
    "print(\"Logistic Regression Accuracy: \",accuracy_score(y_test,y_predicted))\n",
    "print('ROC AUC : ', roc_auc_score(y_test, y_predicted))"
   ]
  },
  {
   "cell_type": "markdown",
   "metadata": {},
   "source": [
    "<b>Inference:\n",
    "Precision : 0.76\n",
    "Recall : 0.76\n",
    "F1-score : 0.76\n",
    "Accuracy : 0.99\n",
    "ROC AUC : 0.87</b>"
   ]
  },
  {
   "cell_type": "markdown",
   "metadata": {},
   "source": [
    "<h3>Model 17 : Hyper Tuning XGB on ROS Balanced Data</h3>"
   ]
  },
  {
   "cell_type": "code",
   "execution_count": 107,
   "metadata": {},
   "outputs": [],
   "source": [
    "# A parameter grid for XGBoost\n",
    "params = {\n",
    "        'min_child_weight': [1, 5, 10],\n",
    "        'gamma': [0.5, 1, 1.5, 2, 5],\n",
    "        'subsample': [0.6, 0.8, 1.0],\n",
    "        'colsample_bytree': [0.6, 0.8, 1.0],\n",
    "        'max_depth': [3, 4, 5]\n",
    "        }"
   ]
  },
  {
   "cell_type": "code",
   "execution_count": 108,
   "metadata": {},
   "outputs": [],
   "source": [
    "cross_val = StratifiedKFold(n_splits=4)\n",
    "index_iterator = cross_val.split(X_train_ros, y_train_ros)\n",
    "\n",
    "\n",
    "xgb_cross = XGBClassifier(learning_rate=0.02, n_estimators=100, objective='binary:logistic',\n",
    "                    silent=True, nthread=1) \n",
    "\n",
    "\n",
    "xgb_random = RandomizedSearchCV(estimator = xgb_cross, param_distributions = params, n_iter =30 , cv = cross_val,\n",
    "                                verbose=2, random_state=42, n_jobs = -1,scoring='roc_auc')"
   ]
  },
  {
   "cell_type": "code",
   "execution_count": 109,
   "metadata": {},
   "outputs": [
    {
     "name": "stdout",
     "output_type": "stream",
     "text": [
      "Fitting 4 folds for each of 30 candidates, totalling 120 fits\n"
     ]
    },
    {
     "name": "stderr",
     "output_type": "stream",
     "text": [
      "[Parallel(n_jobs=-1)]: Using backend LokyBackend with 4 concurrent workers.\n",
      "[Parallel(n_jobs=-1)]: Done  33 tasks      | elapsed: 28.5min\n",
      "[Parallel(n_jobs=-1)]: Done 120 out of 120 | elapsed: 108.9min finished\n"
     ]
    },
    {
     "name": "stdout",
     "output_type": "stream",
     "text": [
      "[02:10:52] WARNING: C:\\Users\\Administrator\\workspace\\xgboost-win64_release_1.2.0\\src\\learner.cc:516: \n",
      "Parameters: { silent } might not be used.\n",
      "\n",
      "  This may not be accurate due to some parameters are only used in language bindings but\n",
      "  passed down to XGBoost core.  Or some parameters are not used but slip through this\n",
      "  verification. Please open an issue if you find above cases.\n",
      "\n",
      "\n"
     ]
    },
    {
     "data": {
      "text/plain": [
       "RandomizedSearchCV(cv=StratifiedKFold(n_splits=4, random_state=None, shuffle=False),\n",
       "                   estimator=XGBClassifier(base_score=None, booster=None,\n",
       "                                           colsample_bylevel=None,\n",
       "                                           colsample_bynode=None,\n",
       "                                           colsample_bytree=None, gamma=None,\n",
       "                                           gpu_id=None, importance_type='gain',\n",
       "                                           interaction_constraints=None,\n",
       "                                           learning_rate=0.02,\n",
       "                                           max_delta_step=None, max_depth=None,\n",
       "                                           min_child_weight=No...\n",
       "                                           random_state=None, reg_alpha=None,\n",
       "                                           reg_lambda=None,\n",
       "                                           scale_pos_weight=None, silent=True,\n",
       "                                           subsample=None, tree_method=None,\n",
       "                                           validate_parameters=None,\n",
       "                                           verbosity=None),\n",
       "                   n_iter=30, n_jobs=-1,\n",
       "                   param_distributions={'colsample_bytree': [0.6, 0.8, 1.0],\n",
       "                                        'gamma': [0.5, 1, 1.5, 2, 5],\n",
       "                                        'max_depth': [3, 4, 5],\n",
       "                                        'min_child_weight': [1, 5, 10],\n",
       "                                        'subsample': [0.6, 0.8, 1.0]},\n",
       "                   random_state=42, scoring='roc_auc', verbose=2)"
      ]
     },
     "execution_count": 109,
     "metadata": {},
     "output_type": "execute_result"
    }
   ],
   "source": [
    "xgb_random.fit(X_train_ros, y_train_ros)"
   ]
  },
  {
   "cell_type": "code",
   "execution_count": 110,
   "metadata": {},
   "outputs": [
    {
     "data": {
      "text/html": [
       "<div>\n",
       "<style scoped>\n",
       "    .dataframe tbody tr th:only-of-type {\n",
       "        vertical-align: middle;\n",
       "    }\n",
       "\n",
       "    .dataframe tbody tr th {\n",
       "        vertical-align: top;\n",
       "    }\n",
       "\n",
       "    .dataframe thead th {\n",
       "        text-align: right;\n",
       "    }\n",
       "</style>\n",
       "<table border=\"1\" class=\"dataframe\">\n",
       "  <thead>\n",
       "    <tr style=\"text-align: right;\">\n",
       "      <th></th>\n",
       "      <th>mean_fit_time</th>\n",
       "      <th>std_fit_time</th>\n",
       "      <th>mean_score_time</th>\n",
       "      <th>std_score_time</th>\n",
       "      <th>param_subsample</th>\n",
       "      <th>param_min_child_weight</th>\n",
       "      <th>param_max_depth</th>\n",
       "      <th>param_gamma</th>\n",
       "      <th>param_colsample_bytree</th>\n",
       "      <th>params</th>\n",
       "      <th>split0_test_score</th>\n",
       "      <th>split1_test_score</th>\n",
       "      <th>split2_test_score</th>\n",
       "      <th>split3_test_score</th>\n",
       "      <th>mean_test_score</th>\n",
       "      <th>std_test_score</th>\n",
       "      <th>rank_test_score</th>\n",
       "    </tr>\n",
       "  </thead>\n",
       "  <tbody>\n",
       "    <tr>\n",
       "      <th>0</th>\n",
       "      <td>190.2804</td>\n",
       "      <td>37.3181</td>\n",
       "      <td>0.9026</td>\n",
       "      <td>0.2546</td>\n",
       "      <td>0.8000</td>\n",
       "      <td>10</td>\n",
       "      <td>4</td>\n",
       "      <td>1.5000</td>\n",
       "      <td>0.6000</td>\n",
       "      <td>{'subsample': 0.8, 'min_child_weight': 10, 'max_depth': 4, 'gamma': 1.5, 'colsample_bytree': 0.6}</td>\n",
       "      <td>0.9991</td>\n",
       "      <td>0.9991</td>\n",
       "      <td>0.9990</td>\n",
       "      <td>0.9990</td>\n",
       "      <td>0.9990</td>\n",
       "      <td>0.0000</td>\n",
       "      <td>11</td>\n",
       "    </tr>\n",
       "    <tr>\n",
       "      <th>1</th>\n",
       "      <td>196.9883</td>\n",
       "      <td>36.3517</td>\n",
       "      <td>0.7360</td>\n",
       "      <td>0.1773</td>\n",
       "      <td>1.0000</td>\n",
       "      <td>1</td>\n",
       "      <td>3</td>\n",
       "      <td>2</td>\n",
       "      <td>0.8000</td>\n",
       "      <td>{'subsample': 1.0, 'min_child_weight': 1, 'max_depth': 3, 'gamma': 2, 'colsample_bytree': 0.8}</td>\n",
       "      <td>0.9957</td>\n",
       "      <td>0.9960</td>\n",
       "      <td>0.9957</td>\n",
       "      <td>0.9962</td>\n",
       "      <td>0.9959</td>\n",
       "      <td>0.0002</td>\n",
       "      <td>26</td>\n",
       "    </tr>\n",
       "    <tr>\n",
       "      <th>2</th>\n",
       "      <td>214.4905</td>\n",
       "      <td>29.1117</td>\n",
       "      <td>0.6095</td>\n",
       "      <td>0.0750</td>\n",
       "      <td>0.8000</td>\n",
       "      <td>10</td>\n",
       "      <td>3</td>\n",
       "      <td>5</td>\n",
       "      <td>1.0000</td>\n",
       "      <td>{'subsample': 0.8, 'min_child_weight': 10, 'max_depth': 3, 'gamma': 5, 'colsample_bytree': 1.0}</td>\n",
       "      <td>0.9952</td>\n",
       "      <td>0.9956</td>\n",
       "      <td>0.9958</td>\n",
       "      <td>0.9957</td>\n",
       "      <td>0.9956</td>\n",
       "      <td>0.0002</td>\n",
       "      <td>29</td>\n",
       "    </tr>\n",
       "    <tr>\n",
       "      <th>3</th>\n",
       "      <td>122.4155</td>\n",
       "      <td>9.1671</td>\n",
       "      <td>0.6318</td>\n",
       "      <td>0.0478</td>\n",
       "      <td>0.6000</td>\n",
       "      <td>10</td>\n",
       "      <td>3</td>\n",
       "      <td>1</td>\n",
       "      <td>0.6000</td>\n",
       "      <td>{'subsample': 0.6, 'min_child_weight': 10, 'max_depth': 3, 'gamma': 1, 'colsample_bytree': 0.6}</td>\n",
       "      <td>0.9963</td>\n",
       "      <td>0.9968</td>\n",
       "      <td>0.9964</td>\n",
       "      <td>0.9965</td>\n",
       "      <td>0.9965</td>\n",
       "      <td>0.0002</td>\n",
       "      <td>23</td>\n",
       "    </tr>\n",
       "    <tr>\n",
       "      <th>4</th>\n",
       "      <td>165.0699</td>\n",
       "      <td>16.8156</td>\n",
       "      <td>0.7685</td>\n",
       "      <td>0.0697</td>\n",
       "      <td>0.6000</td>\n",
       "      <td>10</td>\n",
       "      <td>4</td>\n",
       "      <td>1</td>\n",
       "      <td>0.6000</td>\n",
       "      <td>{'subsample': 0.6, 'min_child_weight': 10, 'max_depth': 4, 'gamma': 1, 'colsample_bytree': 0.6}</td>\n",
       "      <td>0.9991</td>\n",
       "      <td>0.9991</td>\n",
       "      <td>0.9990</td>\n",
       "      <td>0.9991</td>\n",
       "      <td>0.9991</td>\n",
       "      <td>0.0000</td>\n",
       "      <td>9</td>\n",
       "    </tr>\n",
       "  </tbody>\n",
       "</table>\n",
       "</div>"
      ],
      "text/plain": [
       "   mean_fit_time  std_fit_time  mean_score_time  std_score_time  \\\n",
       "0 190.2804       37.3181       0.9026           0.2546            \n",
       "1 196.9883       36.3517       0.7360           0.1773            \n",
       "2 214.4905       29.1117       0.6095           0.0750            \n",
       "3 122.4155       9.1671        0.6318           0.0478            \n",
       "4 165.0699       16.8156       0.7685           0.0697            \n",
       "\n",
       "  param_subsample param_min_child_weight param_max_depth param_gamma  \\\n",
       "0 0.8000           10                     4              1.5000        \n",
       "1 1.0000           1                      3               2            \n",
       "2 0.8000           10                     3               5            \n",
       "3 0.6000           10                     3               1            \n",
       "4 0.6000           10                     4               1            \n",
       "\n",
       "  param_colsample_bytree  \\\n",
       "0 0.6000                   \n",
       "1 0.8000                   \n",
       "2 1.0000                   \n",
       "3 0.6000                   \n",
       "4 0.6000                   \n",
       "\n",
       "                                                                                              params  \\\n",
       "0  {'subsample': 0.8, 'min_child_weight': 10, 'max_depth': 4, 'gamma': 1.5, 'colsample_bytree': 0.6}   \n",
       "1  {'subsample': 1.0, 'min_child_weight': 1, 'max_depth': 3, 'gamma': 2, 'colsample_bytree': 0.8}      \n",
       "2  {'subsample': 0.8, 'min_child_weight': 10, 'max_depth': 3, 'gamma': 5, 'colsample_bytree': 1.0}     \n",
       "3  {'subsample': 0.6, 'min_child_weight': 10, 'max_depth': 3, 'gamma': 1, 'colsample_bytree': 0.6}     \n",
       "4  {'subsample': 0.6, 'min_child_weight': 10, 'max_depth': 4, 'gamma': 1, 'colsample_bytree': 0.6}     \n",
       "\n",
       "   split0_test_score  split1_test_score  split2_test_score  split3_test_score  \\\n",
       "0 0.9991             0.9991             0.9990             0.9990               \n",
       "1 0.9957             0.9960             0.9957             0.9962               \n",
       "2 0.9952             0.9956             0.9958             0.9957               \n",
       "3 0.9963             0.9968             0.9964             0.9965               \n",
       "4 0.9991             0.9991             0.9990             0.9991               \n",
       "\n",
       "   mean_test_score  std_test_score  rank_test_score  \n",
       "0 0.9990           0.0000           11               \n",
       "1 0.9959           0.0002           26               \n",
       "2 0.9956           0.0002           29               \n",
       "3 0.9965           0.0002           23               \n",
       "4 0.9991           0.0000           9                "
      ]
     },
     "execution_count": 110,
     "metadata": {},
     "output_type": "execute_result"
    }
   ],
   "source": [
    "# scores of RandomizedSearchCV\n",
    "scores = xgb_random.cv_results_                                                \n",
    "pd.DataFrame(scores).head()"
   ]
  },
  {
   "cell_type": "code",
   "execution_count": 111,
   "metadata": {},
   "outputs": [
    {
     "name": "stdout",
     "output_type": "stream",
     "text": [
      "0.9998131468757255\n",
      "{'subsample': 1.0, 'min_child_weight': 5, 'max_depth': 5, 'gamma': 1.5, 'colsample_bytree': 0.6}\n",
      "5\n"
     ]
    }
   ],
   "source": [
    "print(xgb_random.best_score_)\n",
    "print(xgb_random.best_params_)\n",
    "print(xgb_random.best_index_)"
   ]
  },
  {
   "cell_type": "markdown",
   "metadata": {},
   "source": [
    "0.9998131468757255\n",
    "{'subsample': 1.0, 'min_child_weight': 5, 'max_depth': 5, 'gamma': 1.5, 'colsample_bytree': 0.6}\n",
    "5"
   ]
  },
  {
   "cell_type": "code",
   "execution_count": 112,
   "metadata": {},
   "outputs": [],
   "source": [
    "model_xgb_tuned_ros = XGBClassifier(min_child_weight= 5,\n",
    "        gamma= 1.5,\n",
    "        subsample= 1.0,\n",
    "        colsample_bytree= 0.6,\n",
    "        max_depth= 5)"
   ]
  },
  {
   "cell_type": "code",
   "execution_count": 113,
   "metadata": {},
   "outputs": [],
   "source": [
    "#Fit the model on train data and predict the model on test data\n",
    "model_xgb_tuned_ros.fit(X_train_ros,y_train_ros)\n",
    "y_predicted = model_xgb_tuned_ros.predict(X_test)"
   ]
  },
  {
   "cell_type": "code",
   "execution_count": 114,
   "metadata": {},
   "outputs": [
    {
     "name": "stdout",
     "output_type": "stream",
     "text": [
      "Classification report:\n",
      "               precision    recall  f1-score   support\n",
      "\n",
      "           0       1.00      1.00      1.00     85295\n",
      "           1       0.91      0.78      0.84       148\n",
      "\n",
      "    accuracy                           1.00     85443\n",
      "   macro avg       0.95      0.89      0.92     85443\n",
      "weighted avg       1.00      1.00      1.00     85443\n",
      "\n",
      "Confusion matrix:\n",
      " [[85283    12]\n",
      " [   33   115]]\n",
      "Logistic Regression Accuracy:  0.9994733330992591\n",
      "ROC AUC :  0.8884431694136249\n"
     ]
    }
   ],
   "source": [
    "# Evaluation Metrices\n",
    "print('Classification report:\\n', classification_report(y_test, y_predicted))\n",
    "print('Confusion matrix:\\n',confusion_matrix(y_true = y_test, y_pred = y_predicted))\n",
    "print(\"Logistic Regression Accuracy: \",accuracy_score(y_test,y_predicted))\n",
    "print('ROC AUC : ', roc_auc_score(y_test, y_predicted))"
   ]
  },
  {
   "cell_type": "markdown",
   "metadata": {},
   "source": [
    "<b>Inference:\n",
    "Precision : 0.91\n",
    "Recall : 0.78\n",
    "F1-score : 0.84\n",
    "Accuracy : 0.99\n",
    "ROC AUC : 0.88</b>"
   ]
  },
  {
   "cell_type": "markdown",
   "metadata": {},
   "source": [
    "<h3>Model 18 : Hyper Tuning XGB on SMOTE Balanced Data</h3>"
   ]
  },
  {
   "cell_type": "code",
   "execution_count": 115,
   "metadata": {},
   "outputs": [],
   "source": [
    "# A parameter grid for XGBoost\n",
    "params = {\n",
    "        'min_child_weight': [1, 5, 10,15],\n",
    "        'gamma': [0.5, 1, 1.5, 2, 5,8],\n",
    "        'subsample': [0.6, 0.8, 1.0],\n",
    "        'colsample_bytree': [0.6, 0.8, 1.0,1.2],\n",
    "        'max_depth': [3, 4, 5,6,7]\n",
    "        }"
   ]
  },
  {
   "cell_type": "code",
   "execution_count": 116,
   "metadata": {},
   "outputs": [],
   "source": [
    "cross_val = StratifiedKFold(n_splits=5)\n",
    "index_iterator = cross_val.split(X_train_smote, y_train_smote)\n",
    "\n",
    "\n",
    "xgb_cross = XGBClassifier(learning_rate=0.02, n_estimators=100, objective='binary:logistic',\n",
    "                    silent=True, nthread=1) \n",
    "\n",
    "\n",
    "xgb_random = RandomizedSearchCV(estimator = xgb_cross, param_distributions = params, n_iter =40 , cv = cross_val,\n",
    "                                verbose=2, random_state=42, n_jobs = -1,scoring='roc_auc')"
   ]
  },
  {
   "cell_type": "code",
   "execution_count": 117,
   "metadata": {},
   "outputs": [
    {
     "name": "stdout",
     "output_type": "stream",
     "text": [
      "Fitting 5 folds for each of 40 candidates, totalling 200 fits\n"
     ]
    },
    {
     "name": "stderr",
     "output_type": "stream",
     "text": [
      "[Parallel(n_jobs=-1)]: Using backend LokyBackend with 4 concurrent workers.\n",
      "[Parallel(n_jobs=-1)]: Done  33 tasks      | elapsed: 35.7min\n",
      "[Parallel(n_jobs=-1)]: Done 154 tasks      | elapsed: 186.2min\n",
      "[Parallel(n_jobs=-1)]: Done 200 out of 200 | elapsed: 245.6min finished\n"
     ]
    },
    {
     "name": "stdout",
     "output_type": "stream",
     "text": [
      "[06:24:25] WARNING: C:\\Users\\Administrator\\workspace\\xgboost-win64_release_1.2.0\\src\\learner.cc:516: \n",
      "Parameters: { silent } might not be used.\n",
      "\n",
      "  This may not be accurate due to some parameters are only used in language bindings but\n",
      "  passed down to XGBoost core.  Or some parameters are not used but slip through this\n",
      "  verification. Please open an issue if you find above cases.\n",
      "\n",
      "\n"
     ]
    },
    {
     "data": {
      "text/plain": [
       "RandomizedSearchCV(cv=StratifiedKFold(n_splits=5, random_state=None, shuffle=False),\n",
       "                   estimator=XGBClassifier(base_score=None, booster=None,\n",
       "                                           colsample_bylevel=None,\n",
       "                                           colsample_bynode=None,\n",
       "                                           colsample_bytree=None, gamma=None,\n",
       "                                           gpu_id=None, importance_type='gain',\n",
       "                                           interaction_constraints=None,\n",
       "                                           learning_rate=0.02,\n",
       "                                           max_delta_step=None, max_depth=None,\n",
       "                                           min_child_weight=No...\n",
       "                                           reg_lambda=None,\n",
       "                                           scale_pos_weight=None, silent=True,\n",
       "                                           subsample=None, tree_method=None,\n",
       "                                           validate_parameters=None,\n",
       "                                           verbosity=None),\n",
       "                   n_iter=40, n_jobs=-1,\n",
       "                   param_distributions={'colsample_bytree': [0.6, 0.8, 1.0,\n",
       "                                                             1.2],\n",
       "                                        'gamma': [0.5, 1, 1.5, 2, 5, 8],\n",
       "                                        'max_depth': [3, 4, 5, 6, 7],\n",
       "                                        'min_child_weight': [1, 5, 10, 15],\n",
       "                                        'subsample': [0.6, 0.8, 1.0]},\n",
       "                   random_state=42, scoring='roc_auc', verbose=2)"
      ]
     },
     "execution_count": 117,
     "metadata": {},
     "output_type": "execute_result"
    }
   ],
   "source": [
    "xgb_random.fit(X_train_smote, y_train_smote)"
   ]
  },
  {
   "cell_type": "code",
   "execution_count": 118,
   "metadata": {},
   "outputs": [
    {
     "data": {
      "text/html": [
       "<div>\n",
       "<style scoped>\n",
       "    .dataframe tbody tr th:only-of-type {\n",
       "        vertical-align: middle;\n",
       "    }\n",
       "\n",
       "    .dataframe tbody tr th {\n",
       "        vertical-align: top;\n",
       "    }\n",
       "\n",
       "    .dataframe thead th {\n",
       "        text-align: right;\n",
       "    }\n",
       "</style>\n",
       "<table border=\"1\" class=\"dataframe\">\n",
       "  <thead>\n",
       "    <tr style=\"text-align: right;\">\n",
       "      <th></th>\n",
       "      <th>mean_fit_time</th>\n",
       "      <th>std_fit_time</th>\n",
       "      <th>mean_score_time</th>\n",
       "      <th>std_score_time</th>\n",
       "      <th>param_subsample</th>\n",
       "      <th>param_min_child_weight</th>\n",
       "      <th>param_max_depth</th>\n",
       "      <th>param_gamma</th>\n",
       "      <th>param_colsample_bytree</th>\n",
       "      <th>params</th>\n",
       "      <th>split0_test_score</th>\n",
       "      <th>split1_test_score</th>\n",
       "      <th>split2_test_score</th>\n",
       "      <th>split3_test_score</th>\n",
       "      <th>split4_test_score</th>\n",
       "      <th>mean_test_score</th>\n",
       "      <th>std_test_score</th>\n",
       "      <th>rank_test_score</th>\n",
       "    </tr>\n",
       "  </thead>\n",
       "  <tbody>\n",
       "    <tr>\n",
       "      <th>0</th>\n",
       "      <td>380.4180</td>\n",
       "      <td>30.0873</td>\n",
       "      <td>1.1477</td>\n",
       "      <td>0.2332</td>\n",
       "      <td>0.6000</td>\n",
       "      <td>1</td>\n",
       "      <td>7</td>\n",
       "      <td>1.5000</td>\n",
       "      <td>0.6000</td>\n",
       "      <td>{'subsample': 0.6, 'min_child_weight': 1, 'max_depth': 7, 'gamma': 1.5, 'colsample_bytree': 0.6}</td>\n",
       "      <td>0.9997</td>\n",
       "      <td>0.9997</td>\n",
       "      <td>0.9997</td>\n",
       "      <td>0.9998</td>\n",
       "      <td>0.9997</td>\n",
       "      <td>0.9997</td>\n",
       "      <td>0.0000</td>\n",
       "      <td>2</td>\n",
       "    </tr>\n",
       "    <tr>\n",
       "      <th>1</th>\n",
       "      <td>278.6287</td>\n",
       "      <td>41.5142</td>\n",
       "      <td>0.6124</td>\n",
       "      <td>0.1562</td>\n",
       "      <td>1.0000</td>\n",
       "      <td>5</td>\n",
       "      <td>3</td>\n",
       "      <td>5</td>\n",
       "      <td>0.8000</td>\n",
       "      <td>{'subsample': 1.0, 'min_child_weight': 5, 'max_depth': 3, 'gamma': 5, 'colsample_bytree': 0.8}</td>\n",
       "      <td>0.9919</td>\n",
       "      <td>0.9920</td>\n",
       "      <td>0.9922</td>\n",
       "      <td>0.9925</td>\n",
       "      <td>0.9916</td>\n",
       "      <td>0.9920</td>\n",
       "      <td>0.0003</td>\n",
       "      <td>28</td>\n",
       "    </tr>\n",
       "    <tr>\n",
       "      <th>2</th>\n",
       "      <td>266.7053</td>\n",
       "      <td>53.9317</td>\n",
       "      <td>0.4838</td>\n",
       "      <td>0.0426</td>\n",
       "      <td>1.0000</td>\n",
       "      <td>10</td>\n",
       "      <td>3</td>\n",
       "      <td>2</td>\n",
       "      <td>0.8000</td>\n",
       "      <td>{'subsample': 1.0, 'min_child_weight': 10, 'max_depth': 3, 'gamma': 2, 'colsample_bytree': 0.8}</td>\n",
       "      <td>0.9919</td>\n",
       "      <td>0.9921</td>\n",
       "      <td>0.9922</td>\n",
       "      <td>0.9926</td>\n",
       "      <td>0.9916</td>\n",
       "      <td>0.9921</td>\n",
       "      <td>0.0003</td>\n",
       "      <td>27</td>\n",
       "    </tr>\n",
       "    <tr>\n",
       "      <th>3</th>\n",
       "      <td>210.8679</td>\n",
       "      <td>34.8373</td>\n",
       "      <td>0.5074</td>\n",
       "      <td>0.0478</td>\n",
       "      <td>1.0000</td>\n",
       "      <td>5</td>\n",
       "      <td>3</td>\n",
       "      <td>1</td>\n",
       "      <td>0.6000</td>\n",
       "      <td>{'subsample': 1.0, 'min_child_weight': 5, 'max_depth': 3, 'gamma': 1, 'colsample_bytree': 0.6}</td>\n",
       "      <td>0.9925</td>\n",
       "      <td>0.9925</td>\n",
       "      <td>0.9928</td>\n",
       "      <td>0.9930</td>\n",
       "      <td>0.9921</td>\n",
       "      <td>0.9926</td>\n",
       "      <td>0.0003</td>\n",
       "      <td>26</td>\n",
       "    </tr>\n",
       "    <tr>\n",
       "      <th>4</th>\n",
       "      <td>388.3924</td>\n",
       "      <td>39.3795</td>\n",
       "      <td>0.6754</td>\n",
       "      <td>0.0410</td>\n",
       "      <td>0.8000</td>\n",
       "      <td>5</td>\n",
       "      <td>5</td>\n",
       "      <td>5</td>\n",
       "      <td>0.8000</td>\n",
       "      <td>{'subsample': 0.8, 'min_child_weight': 5, 'max_depth': 5, 'gamma': 5, 'colsample_bytree': 0.8}</td>\n",
       "      <td>0.9982</td>\n",
       "      <td>0.9981</td>\n",
       "      <td>0.9984</td>\n",
       "      <td>0.9984</td>\n",
       "      <td>0.9981</td>\n",
       "      <td>0.9982</td>\n",
       "      <td>0.0001</td>\n",
       "      <td>18</td>\n",
       "    </tr>\n",
       "  </tbody>\n",
       "</table>\n",
       "</div>"
      ],
      "text/plain": [
       "   mean_fit_time  std_fit_time  mean_score_time  std_score_time  \\\n",
       "0 380.4180       30.0873       1.1477           0.2332            \n",
       "1 278.6287       41.5142       0.6124           0.1562            \n",
       "2 266.7053       53.9317       0.4838           0.0426            \n",
       "3 210.8679       34.8373       0.5074           0.0478            \n",
       "4 388.3924       39.3795       0.6754           0.0410            \n",
       "\n",
       "  param_subsample param_min_child_weight param_max_depth param_gamma  \\\n",
       "0 0.6000           1                      7              1.5000        \n",
       "1 1.0000           5                      3               5            \n",
       "2 1.0000           10                     3               2            \n",
       "3 1.0000           5                      3               1            \n",
       "4 0.8000           5                      5               5            \n",
       "\n",
       "  param_colsample_bytree  \\\n",
       "0 0.6000                   \n",
       "1 0.8000                   \n",
       "2 0.8000                   \n",
       "3 0.6000                   \n",
       "4 0.8000                   \n",
       "\n",
       "                                                                                             params  \\\n",
       "0  {'subsample': 0.6, 'min_child_weight': 1, 'max_depth': 7, 'gamma': 1.5, 'colsample_bytree': 0.6}   \n",
       "1  {'subsample': 1.0, 'min_child_weight': 5, 'max_depth': 3, 'gamma': 5, 'colsample_bytree': 0.8}     \n",
       "2  {'subsample': 1.0, 'min_child_weight': 10, 'max_depth': 3, 'gamma': 2, 'colsample_bytree': 0.8}    \n",
       "3  {'subsample': 1.0, 'min_child_weight': 5, 'max_depth': 3, 'gamma': 1, 'colsample_bytree': 0.6}     \n",
       "4  {'subsample': 0.8, 'min_child_weight': 5, 'max_depth': 5, 'gamma': 5, 'colsample_bytree': 0.8}     \n",
       "\n",
       "   split0_test_score  split1_test_score  split2_test_score  split3_test_score  \\\n",
       "0 0.9997             0.9997             0.9997             0.9998               \n",
       "1 0.9919             0.9920             0.9922             0.9925               \n",
       "2 0.9919             0.9921             0.9922             0.9926               \n",
       "3 0.9925             0.9925             0.9928             0.9930               \n",
       "4 0.9982             0.9981             0.9984             0.9984               \n",
       "\n",
       "   split4_test_score  mean_test_score  std_test_score  rank_test_score  \n",
       "0 0.9997             0.9997           0.0000           2                \n",
       "1 0.9916             0.9920           0.0003           28               \n",
       "2 0.9916             0.9921           0.0003           27               \n",
       "3 0.9921             0.9926           0.0003           26               \n",
       "4 0.9981             0.9982           0.0001           18               "
      ]
     },
     "execution_count": 118,
     "metadata": {},
     "output_type": "execute_result"
    }
   ],
   "source": [
    "# scores of RandomizedSearchCV\n",
    "scores = xgb_random.cv_results_\n",
    "pd.DataFrame(scores).head()"
   ]
  },
  {
   "cell_type": "code",
   "execution_count": 119,
   "metadata": {},
   "outputs": [
    {
     "name": "stdout",
     "output_type": "stream",
     "text": [
      "0.9997121847585781\n",
      "{'subsample': 0.8, 'min_child_weight': 1, 'max_depth': 7, 'gamma': 0.5, 'colsample_bytree': 0.6}\n",
      "36\n"
     ]
    }
   ],
   "source": [
    "print(xgb_random.best_score_)\n",
    "print(xgb_random.best_params_)\n",
    "print(xgb_random.best_index_)"
   ]
  },
  {
   "cell_type": "markdown",
   "metadata": {},
   "source": [
    "0.9997121847585781\n",
    "{'subsample': 0.8, 'min_child_weight': 1, 'max_depth': 7, 'gamma': 0.5, 'colsample_bytree': 0.6}\n",
    "36"
   ]
  },
  {
   "cell_type": "code",
   "execution_count": 120,
   "metadata": {},
   "outputs": [],
   "source": [
    "model_xgb_tuned_smote = XGBClassifier(min_child_weight= 1,\n",
    "        gamma= 0.5,\n",
    "        subsample= 0.8,\n",
    "        colsample_bytree= 0.6,\n",
    "        max_depth= 7)"
   ]
  },
  {
   "cell_type": "code",
   "execution_count": 121,
   "metadata": {},
   "outputs": [],
   "source": [
    "#Fit the model on train data and predict the model on test data\n",
    "model_xgb_tuned_smote.fit(X_train_smote,y_train_smote)\n",
    "y_predicted = model_xgb_tuned.predict(X_test)"
   ]
  },
  {
   "cell_type": "code",
   "execution_count": 122,
   "metadata": {},
   "outputs": [
    {
     "name": "stdout",
     "output_type": "stream",
     "text": [
      "Classification report:\n",
      "               precision    recall  f1-score   support\n",
      "\n",
      "           0       1.00      1.00      1.00     85295\n",
      "           1       0.95      0.70      0.81       148\n",
      "\n",
      "    accuracy                           1.00     85443\n",
      "   macro avg       0.98      0.85      0.90     85443\n",
      "weighted avg       1.00      1.00      1.00     85443\n",
      "\n",
      "Confusion matrix:\n",
      " [[85290     5]\n",
      " [   44   104]]\n",
      "Logistic Regression Accuracy:  0.9994265182636377\n",
      "ROC AUC :  0.8513220413097311\n"
     ]
    }
   ],
   "source": [
    "#Evaluation Metrices\n",
    "print('Classification report:\\n', classification_report(y_test, y_predicted))\n",
    "print('Confusion matrix:\\n',confusion_matrix(y_true = y_test, y_pred = y_predicted))\n",
    "print(\"Logistic Regression Accuracy: \",accuracy_score(y_test,y_predicted))\n",
    "print('ROC AUC : ', roc_auc_score(y_test, y_predicted))"
   ]
  },
  {
   "cell_type": "markdown",
   "metadata": {},
   "source": [
    "<b>Inference:\n",
    "Precision : 0.95\n",
    "Recall : 0.70\n",
    "F1-score : 0.81\n",
    "Accuracy : 0.99\n",
    "ROC AUC : 0.85</b>"
   ]
  },
  {
   "cell_type": "markdown",
   "metadata": {},
   "source": [
    "<h3>Model 19: Hyperparameter Tuning on Adasyn Balanced data</h3>"
   ]
  },
  {
   "cell_type": "code",
   "execution_count": 123,
   "metadata": {},
   "outputs": [],
   "source": [
    "# A parameter grid for XGBoost\n",
    "params = {\n",
    "        'min_child_weight': [1, 5, 10],\n",
    "        'gamma': [0.5, 1, 1.5, 2, 5],\n",
    "        'subsample': [0.6, 0.8, 1.0],\n",
    "        'colsample_bytree': [0.6, 0.8, 1.0],\n",
    "        'max_depth': [3, 4, 5]\n",
    "        }"
   ]
  },
  {
   "cell_type": "code",
   "execution_count": 124,
   "metadata": {},
   "outputs": [],
   "source": [
    "cross_val = StratifiedKFold(n_splits=5)\n",
    "index_iterator = cross_val.split(X_train_adasyn, y_train_adasyn)\n",
    "\n",
    "\n",
    "xgb_cross = XGBClassifier(learning_rate=0.02, n_estimators=100, objective='binary:logistic',\n",
    "                    silent=True, nthread=1) \n",
    "\n",
    "\n",
    "xgb_random = RandomizedSearchCV(estimator = xgb_cross, param_distributions = params, n_iter =30 , cv = cross_val,\n",
    "                                verbose=2, random_state=42, n_jobs = -1,scoring='roc_auc')"
   ]
  },
  {
   "cell_type": "code",
   "execution_count": 125,
   "metadata": {},
   "outputs": [
    {
     "name": "stdout",
     "output_type": "stream",
     "text": [
      "Fitting 5 folds for each of 30 candidates, totalling 150 fits\n"
     ]
    },
    {
     "name": "stderr",
     "output_type": "stream",
     "text": [
      "[Parallel(n_jobs=-1)]: Using backend LokyBackend with 4 concurrent workers.\n",
      "[Parallel(n_jobs=-1)]: Done  33 tasks      | elapsed: 32.9min\n",
      "[Parallel(n_jobs=-1)]: Done 150 out of 150 | elapsed: 176.6min finished\n"
     ]
    },
    {
     "name": "stdout",
     "output_type": "stream",
     "text": [
      "[11:29:19] WARNING: C:\\Users\\Administrator\\workspace\\xgboost-win64_release_1.2.0\\src\\learner.cc:516: \n",
      "Parameters: { silent } might not be used.\n",
      "\n",
      "  This may not be accurate due to some parameters are only used in language bindings but\n",
      "  passed down to XGBoost core.  Or some parameters are not used but slip through this\n",
      "  verification. Please open an issue if you find above cases.\n",
      "\n",
      "\n"
     ]
    },
    {
     "data": {
      "text/plain": [
       "RandomizedSearchCV(cv=StratifiedKFold(n_splits=5, random_state=None, shuffle=False),\n",
       "                   estimator=XGBClassifier(base_score=None, booster=None,\n",
       "                                           colsample_bylevel=None,\n",
       "                                           colsample_bynode=None,\n",
       "                                           colsample_bytree=None, gamma=None,\n",
       "                                           gpu_id=None, importance_type='gain',\n",
       "                                           interaction_constraints=None,\n",
       "                                           learning_rate=0.02,\n",
       "                                           max_delta_step=None, max_depth=None,\n",
       "                                           min_child_weight=No...\n",
       "                                           random_state=None, reg_alpha=None,\n",
       "                                           reg_lambda=None,\n",
       "                                           scale_pos_weight=None, silent=True,\n",
       "                                           subsample=None, tree_method=None,\n",
       "                                           validate_parameters=None,\n",
       "                                           verbosity=None),\n",
       "                   n_iter=30, n_jobs=-1,\n",
       "                   param_distributions={'colsample_bytree': [0.6, 0.8, 1.0],\n",
       "                                        'gamma': [0.5, 1, 1.5, 2, 5],\n",
       "                                        'max_depth': [3, 4, 5],\n",
       "                                        'min_child_weight': [1, 5, 10],\n",
       "                                        'subsample': [0.6, 0.8, 1.0]},\n",
       "                   random_state=42, scoring='roc_auc', verbose=2)"
      ]
     },
     "execution_count": 125,
     "metadata": {},
     "output_type": "execute_result"
    }
   ],
   "source": [
    "xgb_random.fit(X_train_adasyn, y_train_adasyn)"
   ]
  },
  {
   "cell_type": "code",
   "execution_count": 126,
   "metadata": {},
   "outputs": [
    {
     "data": {
      "text/html": [
       "<div>\n",
       "<style scoped>\n",
       "    .dataframe tbody tr th:only-of-type {\n",
       "        vertical-align: middle;\n",
       "    }\n",
       "\n",
       "    .dataframe tbody tr th {\n",
       "        vertical-align: top;\n",
       "    }\n",
       "\n",
       "    .dataframe thead th {\n",
       "        text-align: right;\n",
       "    }\n",
       "</style>\n",
       "<table border=\"1\" class=\"dataframe\">\n",
       "  <thead>\n",
       "    <tr style=\"text-align: right;\">\n",
       "      <th></th>\n",
       "      <th>mean_fit_time</th>\n",
       "      <th>std_fit_time</th>\n",
       "      <th>mean_score_time</th>\n",
       "      <th>std_score_time</th>\n",
       "      <th>param_subsample</th>\n",
       "      <th>param_min_child_weight</th>\n",
       "      <th>param_max_depth</th>\n",
       "      <th>param_gamma</th>\n",
       "      <th>param_colsample_bytree</th>\n",
       "      <th>params</th>\n",
       "      <th>split0_test_score</th>\n",
       "      <th>split1_test_score</th>\n",
       "      <th>split2_test_score</th>\n",
       "      <th>split3_test_score</th>\n",
       "      <th>split4_test_score</th>\n",
       "      <th>mean_test_score</th>\n",
       "      <th>std_test_score</th>\n",
       "      <th>rank_test_score</th>\n",
       "    </tr>\n",
       "  </thead>\n",
       "  <tbody>\n",
       "    <tr>\n",
       "      <th>0</th>\n",
       "      <td>226.2007</td>\n",
       "      <td>19.0909</td>\n",
       "      <td>0.5714</td>\n",
       "      <td>0.0186</td>\n",
       "      <td>0.8000</td>\n",
       "      <td>10</td>\n",
       "      <td>4</td>\n",
       "      <td>1.5000</td>\n",
       "      <td>0.6000</td>\n",
       "      <td>{'subsample': 0.8, 'min_child_weight': 10, 'max_depth': 4, 'gamma': 1.5, 'colsample_bytree': 0.6}</td>\n",
       "      <td>0.9594</td>\n",
       "      <td>0.9896</td>\n",
       "      <td>0.9737</td>\n",
       "      <td>0.9917</td>\n",
       "      <td>0.9760</td>\n",
       "      <td>0.9781</td>\n",
       "      <td>0.0118</td>\n",
       "      <td>14</td>\n",
       "    </tr>\n",
       "    <tr>\n",
       "      <th>1</th>\n",
       "      <td>239.5233</td>\n",
       "      <td>13.3223</td>\n",
       "      <td>0.5408</td>\n",
       "      <td>0.0775</td>\n",
       "      <td>1.0000</td>\n",
       "      <td>1</td>\n",
       "      <td>3</td>\n",
       "      <td>2</td>\n",
       "      <td>0.8000</td>\n",
       "      <td>{'subsample': 1.0, 'min_child_weight': 1, 'max_depth': 3, 'gamma': 2, 'colsample_bytree': 0.8}</td>\n",
       "      <td>0.9476</td>\n",
       "      <td>0.9811</td>\n",
       "      <td>0.9584</td>\n",
       "      <td>0.9840</td>\n",
       "      <td>0.9598</td>\n",
       "      <td>0.9662</td>\n",
       "      <td>0.0141</td>\n",
       "      <td>26</td>\n",
       "    </tr>\n",
       "    <tr>\n",
       "      <th>2</th>\n",
       "      <td>264.4751</td>\n",
       "      <td>25.8337</td>\n",
       "      <td>0.4912</td>\n",
       "      <td>0.0430</td>\n",
       "      <td>0.8000</td>\n",
       "      <td>10</td>\n",
       "      <td>3</td>\n",
       "      <td>5</td>\n",
       "      <td>1.0000</td>\n",
       "      <td>{'subsample': 0.8, 'min_child_weight': 10, 'max_depth': 3, 'gamma': 5, 'colsample_bytree': 1.0}</td>\n",
       "      <td>0.9452</td>\n",
       "      <td>0.9800</td>\n",
       "      <td>0.9568</td>\n",
       "      <td>0.9801</td>\n",
       "      <td>0.9582</td>\n",
       "      <td>0.9641</td>\n",
       "      <td>0.0138</td>\n",
       "      <td>28</td>\n",
       "    </tr>\n",
       "    <tr>\n",
       "      <th>3</th>\n",
       "      <td>156.9048</td>\n",
       "      <td>13.7927</td>\n",
       "      <td>0.5266</td>\n",
       "      <td>0.0338</td>\n",
       "      <td>0.6000</td>\n",
       "      <td>10</td>\n",
       "      <td>3</td>\n",
       "      <td>1</td>\n",
       "      <td>0.6000</td>\n",
       "      <td>{'subsample': 0.6, 'min_child_weight': 10, 'max_depth': 3, 'gamma': 1, 'colsample_bytree': 0.6}</td>\n",
       "      <td>0.9470</td>\n",
       "      <td>0.9838</td>\n",
       "      <td>0.9614</td>\n",
       "      <td>0.9858</td>\n",
       "      <td>0.9627</td>\n",
       "      <td>0.9681</td>\n",
       "      <td>0.0147</td>\n",
       "      <td>22</td>\n",
       "    </tr>\n",
       "    <tr>\n",
       "      <th>4</th>\n",
       "      <td>197.3499</td>\n",
       "      <td>16.6910</td>\n",
       "      <td>0.8068</td>\n",
       "      <td>0.2809</td>\n",
       "      <td>0.6000</td>\n",
       "      <td>10</td>\n",
       "      <td>4</td>\n",
       "      <td>1</td>\n",
       "      <td>0.6000</td>\n",
       "      <td>{'subsample': 0.6, 'min_child_weight': 10, 'max_depth': 4, 'gamma': 1, 'colsample_bytree': 0.6}</td>\n",
       "      <td>0.9587</td>\n",
       "      <td>0.9903</td>\n",
       "      <td>0.9728</td>\n",
       "      <td>0.9915</td>\n",
       "      <td>0.9769</td>\n",
       "      <td>0.9781</td>\n",
       "      <td>0.0121</td>\n",
       "      <td>16</td>\n",
       "    </tr>\n",
       "  </tbody>\n",
       "</table>\n",
       "</div>"
      ],
      "text/plain": [
       "   mean_fit_time  std_fit_time  mean_score_time  std_score_time  \\\n",
       "0 226.2007       19.0909       0.5714           0.0186            \n",
       "1 239.5233       13.3223       0.5408           0.0775            \n",
       "2 264.4751       25.8337       0.4912           0.0430            \n",
       "3 156.9048       13.7927       0.5266           0.0338            \n",
       "4 197.3499       16.6910       0.8068           0.2809            \n",
       "\n",
       "  param_subsample param_min_child_weight param_max_depth param_gamma  \\\n",
       "0 0.8000           10                     4              1.5000        \n",
       "1 1.0000           1                      3               2            \n",
       "2 0.8000           10                     3               5            \n",
       "3 0.6000           10                     3               1            \n",
       "4 0.6000           10                     4               1            \n",
       "\n",
       "  param_colsample_bytree  \\\n",
       "0 0.6000                   \n",
       "1 0.8000                   \n",
       "2 1.0000                   \n",
       "3 0.6000                   \n",
       "4 0.6000                   \n",
       "\n",
       "                                                                                              params  \\\n",
       "0  {'subsample': 0.8, 'min_child_weight': 10, 'max_depth': 4, 'gamma': 1.5, 'colsample_bytree': 0.6}   \n",
       "1  {'subsample': 1.0, 'min_child_weight': 1, 'max_depth': 3, 'gamma': 2, 'colsample_bytree': 0.8}      \n",
       "2  {'subsample': 0.8, 'min_child_weight': 10, 'max_depth': 3, 'gamma': 5, 'colsample_bytree': 1.0}     \n",
       "3  {'subsample': 0.6, 'min_child_weight': 10, 'max_depth': 3, 'gamma': 1, 'colsample_bytree': 0.6}     \n",
       "4  {'subsample': 0.6, 'min_child_weight': 10, 'max_depth': 4, 'gamma': 1, 'colsample_bytree': 0.6}     \n",
       "\n",
       "   split0_test_score  split1_test_score  split2_test_score  split3_test_score  \\\n",
       "0 0.9594             0.9896             0.9737             0.9917               \n",
       "1 0.9476             0.9811             0.9584             0.9840               \n",
       "2 0.9452             0.9800             0.9568             0.9801               \n",
       "3 0.9470             0.9838             0.9614             0.9858               \n",
       "4 0.9587             0.9903             0.9728             0.9915               \n",
       "\n",
       "   split4_test_score  mean_test_score  std_test_score  rank_test_score  \n",
       "0 0.9760             0.9781           0.0118           14               \n",
       "1 0.9598             0.9662           0.0141           26               \n",
       "2 0.9582             0.9641           0.0138           28               \n",
       "3 0.9627             0.9681           0.0147           22               \n",
       "4 0.9769             0.9781           0.0121           16               "
      ]
     },
     "execution_count": 126,
     "metadata": {},
     "output_type": "execute_result"
    }
   ],
   "source": [
    "# scores of RandomizedSearchCV\n",
    "scores = xgb_random.cv_results_\n",
    "pd.DataFrame(scores).head()"
   ]
  },
  {
   "cell_type": "code",
   "execution_count": 127,
   "metadata": {},
   "outputs": [
    {
     "name": "stdout",
     "output_type": "stream",
     "text": [
      "0.9851735074573943\n",
      "{'subsample': 1.0, 'min_child_weight': 5, 'max_depth': 5, 'gamma': 1.5, 'colsample_bytree': 0.6}\n",
      "5\n"
     ]
    }
   ],
   "source": [
    "print(xgb_random.best_score_)\n",
    "print(xgb_random.best_params_)\n",
    "print(xgb_random.best_index_)"
   ]
  },
  {
   "cell_type": "markdown",
   "metadata": {},
   "source": [
    "0.9851735074573943\n",
    "{'subsample': 1.0, 'min_child_weight': 5, 'max_depth': 5, 'gamma': 1.5, 'colsample_bytree': 0.6}\n",
    "5"
   ]
  },
  {
   "cell_type": "code",
   "execution_count": 128,
   "metadata": {},
   "outputs": [],
   "source": [
    "model_xgb_tuned_adasyn = XGBClassifier(min_child_weight= 5,\n",
    "        gamma= 1.5,\n",
    "        subsample= 1.0,\n",
    "        colsample_bytree= 0.6,\n",
    "        max_depth= 5)"
   ]
  },
  {
   "cell_type": "code",
   "execution_count": 129,
   "metadata": {},
   "outputs": [],
   "source": [
    "#Fit the model on train data and predict the model on test data\n",
    "model_xgb_tuned_adasyn.fit(X_train_adasyn,y_train_adasyn)\n",
    "y_predicted = model_xgb_tuned_adasyn.predict(X_test)"
   ]
  },
  {
   "cell_type": "code",
   "execution_count": 130,
   "metadata": {},
   "outputs": [
    {
     "name": "stdout",
     "output_type": "stream",
     "text": [
      "Classification report:\n",
      "               precision    recall  f1-score   support\n",
      "\n",
      "           0       1.00      1.00      1.00     85295\n",
      "           1       0.61      0.76      0.67       148\n",
      "\n",
      "    accuracy                           1.00     85443\n",
      "   macro avg       0.80      0.88      0.84     85443\n",
      "weighted avg       1.00      1.00      1.00     85443\n",
      "\n",
      "Confusion matrix:\n",
      " [[85223    72]\n",
      " [   36   112]]\n",
      "Logistic Regression Accuracy:  0.998735999438222\n",
      "ROC AUC :  0.8779563137790466\n"
     ]
    }
   ],
   "source": [
    "#Evaluation Metrices\n",
    "print('Classification report:\\n', classification_report(y_test, y_predicted))\n",
    "print('Confusion matrix:\\n',confusion_matrix(y_true = y_test, y_pred = y_predicted))\n",
    "print(\"Logistic Regression Accuracy: \",accuracy_score(y_test,y_predicted))\n",
    "print('ROC AUC : ', roc_auc_score(y_test, y_predicted))"
   ]
  },
  {
   "cell_type": "markdown",
   "metadata": {},
   "source": [
    "<b>Inference:\n",
    "Precision : 0.61\n",
    "Recall : 0.76\n",
    "F1-score : 0.67\n",
    "Accuracy : 0.99\n",
    "ROC AUC : 0.87</b>"
   ]
  },
  {
   "cell_type": "markdown",
   "metadata": {},
   "source": [
    "<h3>Model 20: SVM on Imbalanced data</h3>"
   ]
  },
  {
   "cell_type": "code",
   "execution_count": 137,
   "metadata": {},
   "outputs": [],
   "source": [
    "model_svc = SVC()"
   ]
  },
  {
   "cell_type": "code",
   "execution_count": 138,
   "metadata": {},
   "outputs": [],
   "source": [
    "#Fit the model on train data and predict the model on test data\n",
    "model_svc.fit(X_train,y_train)\n",
    "y_predicted = model_svc.predict(X_test)"
   ]
  },
  {
   "cell_type": "code",
   "execution_count": 139,
   "metadata": {},
   "outputs": [
    {
     "name": "stdout",
     "output_type": "stream",
     "text": [
      "Classification report:\n",
      "               precision    recall  f1-score   support\n",
      "\n",
      "           0       1.00      1.00      1.00     85295\n",
      "           1       0.94      0.63      0.75       148\n",
      "\n",
      "    accuracy                           1.00     85443\n",
      "   macro avg       0.97      0.81      0.88     85443\n",
      "weighted avg       1.00      1.00      1.00     85443\n",
      "\n",
      "Confusion matrix:\n",
      " [[85289     6]\n",
      " [   55    93]]\n",
      "Logistic Regression Accuracy:  0.9992860737567735\n",
      "ROC AUC :  0.814154017139245\n"
     ]
    }
   ],
   "source": [
    "#Evaluation Metrices\n",
    "print('Classification report:\\n', classification_report(y_test, y_predicted))\n",
    "print('Confusion matrix:\\n',confusion_matrix(y_true = y_test, y_pred = y_predicted))\n",
    "print(\"Logistic Regression Accuracy: \",accuracy_score(y_test,y_predicted))\n",
    "print('ROC AUC : ', roc_auc_score(y_test, y_predicted))"
   ]
  },
  {
   "cell_type": "markdown",
   "metadata": {},
   "source": [
    "<b>Inference: Precision : 0.94 Recall : 0.63 F1-score : 0.75 Accuracy : 0.99 ROC AUC : 0.81</b>"
   ]
  },
  {
   "cell_type": "markdown",
   "metadata": {},
   "source": [
    "<h3>Model 21: Hyper Parameter tuning in SVM on Imbalanced data</h3>"
   ]
  },
  {
   "cell_type": "code",
   "execution_count": 133,
   "metadata": {},
   "outputs": [],
   "source": [
    "#Initializing svm and creating model\n",
    "\n",
    "from sklearn.svm import SVC\n",
    "svm_model = SVC()\n",
    "svm_params = {\"C\": np.arange(1,10), \"kernel\":[\"linear\", \"rbf\"]}"
   ]
  },
  {
   "cell_type": "code",
   "execution_count": 134,
   "metadata": {},
   "outputs": [
    {
     "name": "stdout",
     "output_type": "stream",
     "text": [
      "Fitting 7 folds for each of 18 candidates, totalling 126 fits\n"
     ]
    },
    {
     "name": "stderr",
     "output_type": "stream",
     "text": [
      "[Parallel(n_jobs=-1)]: Using backend LokyBackend with 4 concurrent workers.\n",
      "[Parallel(n_jobs=-1)]: Done  24 tasks      | elapsed: 32.8min\n",
      "[Parallel(n_jobs=-1)]: Done  64 tasks      | elapsed: 118.0min\n",
      "[Parallel(n_jobs=-1)]: Done 126 out of 126 | elapsed: 311.1min finished\n"
     ]
    }
   ],
   "source": [
    "svm_cv_model = GridSearchCV(svm_model, svm_params, cv=7, n_jobs=-1, verbose=7).fit(X_train, y_train)"
   ]
  },
  {
   "cell_type": "code",
   "execution_count": 135,
   "metadata": {},
   "outputs": [
    {
     "data": {
      "text/html": [
       "<div>\n",
       "<style scoped>\n",
       "    .dataframe tbody tr th:only-of-type {\n",
       "        vertical-align: middle;\n",
       "    }\n",
       "\n",
       "    .dataframe tbody tr th {\n",
       "        vertical-align: top;\n",
       "    }\n",
       "\n",
       "    .dataframe thead th {\n",
       "        text-align: right;\n",
       "    }\n",
       "</style>\n",
       "<table border=\"1\" class=\"dataframe\">\n",
       "  <thead>\n",
       "    <tr style=\"text-align: right;\">\n",
       "      <th></th>\n",
       "      <th>mean_fit_time</th>\n",
       "      <th>std_fit_time</th>\n",
       "      <th>mean_score_time</th>\n",
       "      <th>std_score_time</th>\n",
       "      <th>param_C</th>\n",
       "      <th>param_kernel</th>\n",
       "      <th>params</th>\n",
       "      <th>split0_test_score</th>\n",
       "      <th>split1_test_score</th>\n",
       "      <th>split2_test_score</th>\n",
       "      <th>split3_test_score</th>\n",
       "      <th>split4_test_score</th>\n",
       "      <th>split5_test_score</th>\n",
       "      <th>split6_test_score</th>\n",
       "      <th>mean_test_score</th>\n",
       "      <th>std_test_score</th>\n",
       "      <th>rank_test_score</th>\n",
       "    </tr>\n",
       "  </thead>\n",
       "  <tbody>\n",
       "    <tr>\n",
       "      <th>0</th>\n",
       "      <td>254.8201</td>\n",
       "      <td>16.5115</td>\n",
       "      <td>0.5202</td>\n",
       "      <td>0.0929</td>\n",
       "      <td>1</td>\n",
       "      <td>linear</td>\n",
       "      <td>{'C': 1, 'kernel': 'linear'}</td>\n",
       "      <td>0.9993</td>\n",
       "      <td>0.9995</td>\n",
       "      <td>0.9994</td>\n",
       "      <td>0.9995</td>\n",
       "      <td>0.9995</td>\n",
       "      <td>0.9994</td>\n",
       "      <td>0.9994</td>\n",
       "      <td>0.9994</td>\n",
       "      <td>0.0001</td>\n",
       "      <td>1</td>\n",
       "    </tr>\n",
       "    <tr>\n",
       "      <th>1</th>\n",
       "      <td>244.3744</td>\n",
       "      <td>103.2540</td>\n",
       "      <td>8.2126</td>\n",
       "      <td>1.4575</td>\n",
       "      <td>1</td>\n",
       "      <td>rbf</td>\n",
       "      <td>{'C': 1, 'kernel': 'rbf'}</td>\n",
       "      <td>0.9994</td>\n",
       "      <td>0.9995</td>\n",
       "      <td>0.9995</td>\n",
       "      <td>0.9995</td>\n",
       "      <td>0.9994</td>\n",
       "      <td>0.9993</td>\n",
       "      <td>0.9993</td>\n",
       "      <td>0.9994</td>\n",
       "      <td>0.0001</td>\n",
       "      <td>17</td>\n",
       "    </tr>\n",
       "    <tr>\n",
       "      <th>2</th>\n",
       "      <td>500.4395</td>\n",
       "      <td>68.2502</td>\n",
       "      <td>0.4479</td>\n",
       "      <td>0.0520</td>\n",
       "      <td>2</td>\n",
       "      <td>linear</td>\n",
       "      <td>{'C': 2, 'kernel': 'linear'}</td>\n",
       "      <td>0.9993</td>\n",
       "      <td>0.9995</td>\n",
       "      <td>0.9994</td>\n",
       "      <td>0.9995</td>\n",
       "      <td>0.9995</td>\n",
       "      <td>0.9994</td>\n",
       "      <td>0.9994</td>\n",
       "      <td>0.9994</td>\n",
       "      <td>0.0001</td>\n",
       "      <td>1</td>\n",
       "    </tr>\n",
       "    <tr>\n",
       "      <th>3</th>\n",
       "      <td>206.1022</td>\n",
       "      <td>30.2042</td>\n",
       "      <td>9.3555</td>\n",
       "      <td>3.4788</td>\n",
       "      <td>2</td>\n",
       "      <td>rbf</td>\n",
       "      <td>{'C': 2, 'kernel': 'rbf'}</td>\n",
       "      <td>0.9994</td>\n",
       "      <td>0.9995</td>\n",
       "      <td>0.9995</td>\n",
       "      <td>0.9995</td>\n",
       "      <td>0.9994</td>\n",
       "      <td>0.9993</td>\n",
       "      <td>0.9992</td>\n",
       "      <td>0.9994</td>\n",
       "      <td>0.0001</td>\n",
       "      <td>13</td>\n",
       "    </tr>\n",
       "    <tr>\n",
       "      <th>4</th>\n",
       "      <td>664.7006</td>\n",
       "      <td>84.6447</td>\n",
       "      <td>0.4885</td>\n",
       "      <td>0.1207</td>\n",
       "      <td>3</td>\n",
       "      <td>linear</td>\n",
       "      <td>{'C': 3, 'kernel': 'linear'}</td>\n",
       "      <td>0.9993</td>\n",
       "      <td>0.9995</td>\n",
       "      <td>0.9994</td>\n",
       "      <td>0.9995</td>\n",
       "      <td>0.9995</td>\n",
       "      <td>0.9994</td>\n",
       "      <td>0.9994</td>\n",
       "      <td>0.9994</td>\n",
       "      <td>0.0001</td>\n",
       "      <td>1</td>\n",
       "    </tr>\n",
       "  </tbody>\n",
       "</table>\n",
       "</div>"
      ],
      "text/plain": [
       "   mean_fit_time  std_fit_time  mean_score_time  std_score_time param_C  \\\n",
       "0 254.8201       16.5115       0.5202           0.0929           1        \n",
       "1 244.3744       103.2540      8.2126           1.4575           1        \n",
       "2 500.4395       68.2502       0.4479           0.0520           2        \n",
       "3 206.1022       30.2042       9.3555           3.4788           2        \n",
       "4 664.7006       84.6447       0.4885           0.1207           3        \n",
       "\n",
       "  param_kernel                        params  split0_test_score  \\\n",
       "0  linear       {'C': 1, 'kernel': 'linear'} 0.9993               \n",
       "1  rbf          {'C': 1, 'kernel': 'rbf'}    0.9994               \n",
       "2  linear       {'C': 2, 'kernel': 'linear'} 0.9993               \n",
       "3  rbf          {'C': 2, 'kernel': 'rbf'}    0.9994               \n",
       "4  linear       {'C': 3, 'kernel': 'linear'} 0.9993               \n",
       "\n",
       "   split1_test_score  split2_test_score  split3_test_score  split4_test_score  \\\n",
       "0 0.9995             0.9994             0.9995             0.9995               \n",
       "1 0.9995             0.9995             0.9995             0.9994               \n",
       "2 0.9995             0.9994             0.9995             0.9995               \n",
       "3 0.9995             0.9995             0.9995             0.9994               \n",
       "4 0.9995             0.9994             0.9995             0.9995               \n",
       "\n",
       "   split5_test_score  split6_test_score  mean_test_score  std_test_score  \\\n",
       "0 0.9994             0.9994             0.9994           0.0001            \n",
       "1 0.9993             0.9993             0.9994           0.0001            \n",
       "2 0.9994             0.9994             0.9994           0.0001            \n",
       "3 0.9993             0.9992             0.9994           0.0001            \n",
       "4 0.9994             0.9994             0.9994           0.0001            \n",
       "\n",
       "   rank_test_score  \n",
       "0  1                \n",
       "1  17               \n",
       "2  1                \n",
       "3  13               \n",
       "4  1                "
      ]
     },
     "execution_count": 135,
     "metadata": {},
     "output_type": "execute_result"
    }
   ],
   "source": [
    "# scores of SVM model\n",
    "scores = svm_cv_model.cv_results_\n",
    "pd.DataFrame(scores).head()"
   ]
  },
  {
   "cell_type": "code",
   "execution_count": 136,
   "metadata": {},
   "outputs": [
    {
     "name": "stdout",
     "output_type": "stream",
     "text": [
      "0.999428181416092\n",
      "{'C': 1, 'kernel': 'linear'}\n",
      "0\n"
     ]
    }
   ],
   "source": [
    "print(svm_cv_model.best_score_)\n",
    "print(svm_cv_model.best_params_)\n",
    "print(svm_cv_model.best_index_)"
   ]
  },
  {
   "cell_type": "code",
   "execution_count": 140,
   "metadata": {},
   "outputs": [],
   "source": [
    "model_svm = SVC(C=1,kernel='linear')"
   ]
  },
  {
   "cell_type": "code",
   "execution_count": 141,
   "metadata": {},
   "outputs": [],
   "source": [
    "# Fitting the model on Train data and Predicting on Test data\n",
    "\n",
    "model_svm.fit(X_train,y_train)\n",
    "y_predicted = model_rfc.predict(X_test)"
   ]
  },
  {
   "cell_type": "code",
   "execution_count": 144,
   "metadata": {},
   "outputs": [
    {
     "name": "stdout",
     "output_type": "stream",
     "text": [
      "Classification report:\n",
      "               precision    recall  f1-score   support\n",
      "\n",
      "           0       1.00      0.96      0.98     85295\n",
      "           1       0.03      0.84      0.06       148\n",
      "\n",
      "    accuracy                           0.95     85443\n",
      "   macro avg       0.52      0.90      0.52     85443\n",
      "weighted avg       1.00      0.95      0.98     85443\n",
      "\n",
      "Confusion matrix:\n",
      " [[81463  3832]\n",
      " [   24   124]]\n",
      "SVM Accuracy:  0.9548704984609623\n",
      "ROC AUC :  0.8964557030211523\n"
     ]
    }
   ],
   "source": [
    "# Evaluation Metrics\n",
    "\n",
    "print('Classification report:\\n', classification_report(y_test, y_predicted))\n",
    "print('Confusion matrix:\\n',confusion_matrix(y_true = y_test, y_pred = y_predicted))\n",
    "print(\"SVM Accuracy: \",accuracy_score(y_test,y_predicted))\n",
    "print('ROC AUC : ', roc_auc_score(y_test, y_predicted))"
   ]
  },
  {
   "cell_type": "code",
   "execution_count": 143,
   "metadata": {},
   "outputs": [
    {
     "data": {
      "image/png": "[encoded data removed]",
      "text/plain": [
       "<Figure size 432x432 with 1 Axes>"
      ]
     },
     "metadata": {
      "needs_background": "light"
     },
     "output_type": "display_data"
    }
   ],
   "source": [
    "# Create true and false positive rates\n",
    "fpr, tpr, threshold = roc_curve(y_test, y_predicted)\n",
    "roc_auc = roc_auc_score(y_test, y_predicted)\n",
    "# Plot the roc curve \n",
    "plt.rcParams['figure.figsize'] = [6,6]\n",
    "plot_roc_curve(fpr,tpr,roc_auc)"
   ]
  },
  {
   "cell_type": "markdown",
   "metadata": {},
   "source": [
    "<b>Inference: Precision : 0.03 Recall : 0.84 F1-score : 0.06 Accuracy : 0.95 ROC AUC : 0.89</b>"
   ]
  },
  {
   "cell_type": "markdown",
   "metadata": {},
   "source": [
    "<h3>Model 22: SVM on balanced data with SMOTE</h3>"
   ]
  },
  {
   "cell_type": "code",
   "execution_count": 145,
   "metadata": {},
   "outputs": [],
   "source": [
    "model_svc = SVC()"
   ]
  },
  {
   "cell_type": "code",
   "execution_count": 146,
   "metadata": {},
   "outputs": [],
   "source": [
    "#Fit the model on train data and predict the model on test data\n",
    "model_svc.fit(X_train_smote,y_train_smote)\n",
    "y_predicted = model_svc.predict(X_test)"
   ]
  },
  {
   "cell_type": "code",
   "execution_count": 148,
   "metadata": {},
   "outputs": [
    {
     "name": "stdout",
     "output_type": "stream",
     "text": [
      "Classification report:\n",
      "               precision    recall  f1-score   support\n",
      "\n",
      "           0       1.00      0.99      0.99     85295\n",
      "           1       0.11      0.84      0.20       148\n",
      "\n",
      "    accuracy                           0.99     85443\n",
      "   macro avg       0.56      0.92      0.60     85443\n",
      "weighted avg       1.00      0.99      0.99     85443\n",
      "\n",
      "Confusion matrix:\n",
      " [[84330   965]\n",
      " [   23   125]]\n",
      "SVM with SMOTE Accuracy:  0.9884367356015121\n",
      "ROC AUC :  0.9166404592645874\n"
     ]
    }
   ],
   "source": [
    "#Evaluation Metrices\n",
    "print('Classification report:\\n', classification_report(y_test, y_predicted))\n",
    "print('Confusion matrix:\\n',confusion_matrix(y_true = y_test, y_pred = y_predicted))\n",
    "print(\"SVM with SMOTE Accuracy: \",accuracy_score(y_test,y_predicted))\n",
    "print('ROC AUC : ', roc_auc_score(y_test, y_predicted))"
   ]
  },
  {
   "cell_type": "markdown",
   "metadata": {},
   "source": [
    "<b>Inference: Precision : 0.11 Recall : 0.84 F1-score : 0.20 Accuracy : 0.98 ROC AUC : 0.91</b>"
   ]
  },
  {
   "cell_type": "markdown",
   "metadata": {},
   "source": [
    "<h3>Model 23: CNN on imbalanced data</h3>"
   ]
  },
  {
   "cell_type": "code",
   "execution_count": 151,
   "metadata": {},
   "outputs": [],
   "source": [
    "import keras\n",
    "from keras.models import Sequential\n",
    "from keras.layers import Conv1D, MaxPooling1D, Dense, Flatten, Dropout, BatchNormalization\n",
    "from keras.optimizers import Adam\n",
    "from keras.callbacks import TensorBoard"
   ]
  },
  {
   "cell_type": "code",
   "execution_count": 154,
   "metadata": {},
   "outputs": [],
   "source": [
    "X_train_d = np.expand_dims(X_train, -1)\n",
    "X_test_d = np.expand_dims(X_test, -1)"
   ]
  },
  {
   "cell_type": "code",
   "execution_count": 155,
   "metadata": {},
   "outputs": [],
   "source": [
    "epochs = 20\n",
    "model = Sequential()\n",
    "model.add(Conv1D(32, 2, activation='relu', input_shape=X_train_d[0].shape))\n",
    "model.add(BatchNormalization())\n",
    "model.add(Dropout(0.1))\n",
    "\n",
    "model.add(Conv1D(64, 2, activation='relu'))\n",
    "model.add(BatchNormalization())\n",
    "model.add(Dropout(0.2))\n",
    "\n",
    "model.add(Conv1D(128, 2, activation='relu'))\n",
    "model.add(BatchNormalization())\n",
    "model.add(Dropout(0.3))\n",
    "\n",
    "model.add(Flatten())\n",
    "model.add(Dropout(0.4))\n",
    "model.add(Dense(512, activation='relu'))\n",
    "model.add(Dropout(0.5))\n",
    "\n",
    "model.add(Dense(1, activation='sigmoid'))"
   ]
  },
  {
   "cell_type": "code",
   "execution_count": 156,
   "metadata": {},
   "outputs": [
    {
     "name": "stdout",
     "output_type": "stream",
     "text": [
      "Model: \"sequential_2\"\n",
      "_________________________________________________________________\n",
      "Layer (type)                 Output Shape              Param #   \n",
      "=================================================================\n",
      "conv1d_1 (Conv1D)            (None, 29, 32)            96        \n",
      "_________________________________________________________________\n",
      "batch_normalization (BatchNo (None, 29, 32)            128       \n",
      "_________________________________________________________________\n",
      "dropout (Dropout)            (None, 29, 32)            0         \n",
      "_________________________________________________________________\n",
      "conv1d_2 (Conv1D)            (None, 28, 64)            4160      \n",
      "_________________________________________________________________\n",
      "batch_normalization_1 (Batch (None, 28, 64)            256       \n",
      "_________________________________________________________________\n",
      "dropout_1 (Dropout)          (None, 28, 64)            0         \n",
      "_________________________________________________________________\n",
      "conv1d_3 (Conv1D)            (None, 27, 128)           16512     \n",
      "_________________________________________________________________\n",
      "batch_normalization_2 (Batch (None, 27, 128)           512       \n",
      "_________________________________________________________________\n",
      "dropout_2 (Dropout)          (None, 27, 128)           0         \n",
      "_________________________________________________________________\n",
      "flatten (Flatten)            (None, 3456)              0         \n",
      "_________________________________________________________________\n",
      "dropout_3 (Dropout)          (None, 3456)              0         \n",
      "_________________________________________________________________\n",
      "dense (Dense)                (None, 512)               1769984   \n",
      "_________________________________________________________________\n",
      "dropout_4 (Dropout)          (None, 512)               0         \n",
      "_________________________________________________________________\n",
      "dense_1 (Dense)              (None, 1)                 513       \n",
      "=================================================================\n",
      "Total params: 1,792,161\n",
      "Trainable params: 1,791,713\n",
      "Non-trainable params: 448\n",
      "_________________________________________________________________\n"
     ]
    }
   ],
   "source": [
    "model.summary()"
   ]
  },
  {
   "cell_type": "code",
   "execution_count": 158,
   "metadata": {},
   "outputs": [
    {
     "name": "stdout",
     "output_type": "stream",
     "text": [
      "Epoch 1/20\n",
      "399/399 [==============================] - 178s 446ms/step - loss: 0.0209 - auc_1: 0.8399\n",
      "Epoch 2/20\n",
      "399/399 [==============================] - 178s 447ms/step - loss: 0.0086 - auc_1: 0.8864\n",
      "Epoch 3/20\n",
      "399/399 [==============================] - 178s 445ms/step - loss: 0.0077 - auc_1: 0.9035\n",
      "Epoch 4/20\n",
      "399/399 [==============================] - 178s 445ms/step - loss: 0.0062 - auc_1: 0.9040\n",
      "Epoch 5/20\n",
      "399/399 [==============================] - 178s 446ms/step - loss: 0.0058 - auc_1: 0.9129\n",
      "Epoch 6/20\n",
      "399/399 [==============================] - 178s 447ms/step - loss: 0.0063 - auc_1: 0.9042\n",
      "Epoch 7/20\n",
      "399/399 [==============================] - 178s 445ms/step - loss: 0.0050 - auc_1: 0.9204\n",
      "Epoch 8/20\n",
      "399/399 [==============================] - 178s 445ms/step - loss: 0.0051 - auc_1: 0.9263\n",
      "Epoch 9/20\n",
      "399/399 [==============================] - 178s 447ms/step - loss: 0.0040 - auc_1: 0.9335\n",
      "Epoch 10/20\n",
      "399/399 [==============================] - 179s 448ms/step - loss: 0.0044 - auc_1: 0.9292\n",
      "Epoch 11/20\n",
      "399/399 [==============================] - 178s 446ms/step - loss: 0.0039 - auc_1: 0.9379\n",
      "Epoch 12/20\n",
      "399/399 [==============================] - 179s 448ms/step - loss: 0.0037 - auc_1: 0.9336\n",
      "Epoch 13/20\n",
      "399/399 [==============================] - 179s 448ms/step - loss: 0.0035 - auc_1: 0.9423\n",
      "Epoch 14/20\n",
      "399/399 [==============================] - 180s 450ms/step - loss: 0.0032 - auc_1: 0.9424\n",
      "Epoch 15/20\n",
      "399/399 [==============================] - 183s 457ms/step - loss: 0.0032 - auc_1: 0.9396\n",
      "Epoch 16/20\n",
      "399/399 [==============================] - 187s 468ms/step - loss: 0.0030 - auc_1: 0.9541\n",
      "Epoch 17/20\n",
      "399/399 [==============================] - 191s 478ms/step - loss: 0.0030 - auc_1: 0.9381\n",
      "Epoch 18/20\n",
      "399/399 [==============================] - 192s 480ms/step - loss: 0.0030 - auc_1: 0.9440\n",
      "Epoch 19/20\n",
      "399/399 [==============================] - 194s 486ms/step - loss: 0.0026 - auc_1: 0.9601\n",
      "Epoch 20/20\n",
      "399/399 [==============================] - 195s 490ms/step - loss: 0.0026 - auc_1: 0.9528\n"
     ]
    }
   ],
   "source": [
    "# weights = {0:1, 1:5}\n",
    "model.compile(optimizer=Adam(0.0001), loss='binary_crossentropy', metrics=[keras.metrics.AUC()])\n",
    "r = model.fit(X_train_d, y_train, \n",
    "              #validation_data=(X_validate_d, y_validate),\n",
    "              batch_size=500, \n",
    "              epochs=epochs, \n",
    "#               class_weight=weights\n",
    "             )"
   ]
  },
  {
   "cell_type": "code",
   "execution_count": 159,
   "metadata": {},
   "outputs": [
    {
     "name": "stdout",
     "output_type": "stream",
     "text": [
      "2671/2671 [==============================] - 24s 9ms/step - loss: 0.0033 - auc_1: 0.9550\n"
     ]
    }
   ],
   "source": [
    "score = model.evaluate(X_test_d, y_test)"
   ]
  },
  {
   "cell_type": "code",
   "execution_count": 160,
   "metadata": {},
   "outputs": [
    {
     "name": "stdout",
     "output_type": "stream",
     "text": [
      "[0.003310193307697773, 0.9549574851989746]\n"
     ]
    }
   ],
   "source": [
    "print(score)"
   ]
  },
  {
   "cell_type": "code",
   "execution_count": 195,
   "metadata": {},
   "outputs": [],
   "source": [
    "y_predicted = model.predict(X_test_d)"
   ]
  },
  {
   "cell_type": "code",
   "execution_count": 196,
   "metadata": {},
   "outputs": [],
   "source": [
    "y_predicted = np.squeeze(y_predicted.round(), axis=1)"
   ]
  },
  {
   "cell_type": "code",
   "execution_count": 199,
   "metadata": {},
   "outputs": [
    {
     "name": "stdout",
     "output_type": "stream",
     "text": [
      "Classification report:\n",
      "               precision    recall  f1-score   support\n",
      "\n",
      "           0       1.00      1.00      1.00     85295\n",
      "           1       0.86      0.74      0.79       148\n",
      "\n",
      "    accuracy                           1.00     85443\n",
      "   macro avg       0.93      0.87      0.90     85443\n",
      "weighted avg       1.00      1.00      1.00     85443\n",
      "\n",
      "Confusion matrix:\n",
      " [[85277    18]\n",
      " [   39   109]]\n",
      "CNN:  0.9993328885923949\n",
      "ROC AUC :  0.8681377270934102\n"
     ]
    }
   ],
   "source": [
    "#Evaluation Metrices\n",
    "print('Classification report:\\n', classification_report(y_test, y_predicted))\n",
    "print('Confusion matrix:\\n',confusion_matrix(y_true = y_test, y_pred = y_predicted))\n",
    "print(\"CNN: \",accuracy_score(y_test,y_predicted))\n",
    "print('ROC AUC : ', roc_auc_score(y_test, y_predicted))"
   ]
  },
  {
   "cell_type": "markdown",
   "metadata": {},
   "source": [
    "<b>Inference: Precision : 0.86 Recall : 0.74 F1-score : 0.79 Accuracy : 0.99 ROC AUC : 0.86</b>"
   ]
  },
  {
   "cell_type": "markdown",
   "metadata": {},
   "source": [
    "<h2>Step 6: Final Analysis</h2>"
   ]
  },
  {
   "cell_type": "markdown",
   "metadata": {},
   "source": [
    "<h4>Consolidated Report</h4>"
   ]
  },
  {
   "attachments": {
    "image.png": {
     "image/png": "[encoded data removed]"
    }
   },
   "cell_type": "markdown",
   "metadata": {},
   "source": [
    "![image.png](attachment:image.png)"
   ]
  },
  {
   "cell_type": "markdown",
   "metadata": {},
   "source": [
    "<b>Best Model considering various parameters and scenarios</b>"
   ]
  },
  {
   "cell_type": "markdown",
   "metadata": {},
   "source": [
    "Since the data is highly imbalanced and in the interest of finding the correct fraud cases rather than the accuracy of the entire dataset , we are going to consider the recall, precision and ROC AUC paramenter. <b>By analyzing the above 19 models we can conclude that<font color='green'> HyperTuning the XGBoost on SMOTE Balanced Dataset</font> got the best evaluation metrices.</b>"
   ]
  },
  {
   "cell_type": "code",
   "execution_count": 229,
   "metadata": {},
   "outputs": [
    {
     "name": "stdout",
     "output_type": "stream",
     "text": [
      "Top var = 15\n",
      "2nd Top var = 5\n",
      "3rd Top var = 13\n"
     ]
    },
    {
     "data": {
      "text/plain": [
       "<matplotlib.legend.Legend at 0x42cb0610>"
      ]
     },
     "execution_count": 229,
     "metadata": {},
     "output_type": "execute_result"
    },
    {
     "data": {
      "image/png": "[encoded data removed]",
      "text/plain": [
       "<Figure size 1440x1440 with 1 Axes>"
      ]
     },
     "metadata": {
      "needs_background": "light"
     },
     "output_type": "display_data"
    }
   ],
   "source": [
    "var_imp = []\n",
    "for i in model_xgb_smote.feature_importances_:\n",
    "    var_imp.append(i)\n",
    "print('Top var =', var_imp.index(np.sort(model_xgb_smote.feature_importances_)[-1])+1)\n",
    "print('2nd Top var =', var_imp.index(np.sort(model_xgb_smote.feature_importances_)[-2])+1)\n",
    "print('3rd Top var =', var_imp.index(np.sort(model_xgb_smote.feature_importances_)[-3])+1)\n",
    "\n",
    "# Variable on Index-16 and Index-13 seems to be the top 2 variables\n",
    "top_var_index = var_imp.index(np.sort(model_xgb_smote.feature_importances_)[-1])\n",
    "second_top_var_index = var_imp.index(np.sort(model_xgb_smote.feature_importances_)[-2])\n",
    "\n",
    "X_train_1 = X_train[np.where(y_train==1.0)]\n",
    "X_train_0 = X_train[np.where(y_train==0.0)]\n",
    "\n",
    "np.random.shuffle(X_train_0)\n",
    "\n",
    "import matplotlib.pyplot as plt\n",
    "%matplotlib inline\n",
    "plt.rcParams['figure.figsize'] = [20, 20]\n",
    "\n",
    "plt.scatter(X_train_1[:, top_var_index], X_train_1[:, second_top_var_index], label='Actual Class-1 Examples')\n",
    "plt.scatter(X_train_0[:X_train_1.shape[0], top_var_index], X_train_0[:X_train_1.shape[0], second_top_var_index],\n",
    "            label='Actual Class-0 Examples')\n",
    "plt.legend()"
   ]
  },
  {
   "cell_type": "markdown",
   "metadata": {},
   "source": [
    "<b>Important Features</b>"
   ]
  },
  {
   "cell_type": "code",
   "execution_count": 131,
   "metadata": {},
   "outputs": [],
   "source": [
    "target = 'Class'\n",
    "pca_comp = ['V1', 'V2', 'V3', 'V4', 'V5', 'V6', 'V7', 'V8', 'V9', 'V10',\\\n",
    "       'V11', 'V12', 'V13', 'V14', 'V15', 'V16', 'V17', 'V18', 'V19',\\\n",
    "       'V20', 'V21', 'V22', 'V23', 'V24', 'V25', 'V26', 'V27', 'V28',\\\n",
    "       'Amount', 'Time']"
   ]
  },
  {
   "cell_type": "code",
   "execution_count": 132,
   "metadata": {},
   "outputs": [
    {
     "data": {
      "image/png": "[encoded data removed]",
      "text/plain": [
       "<Figure size 504x288 with 1 Axes>"
      ]
     },
     "metadata": {
      "needs_background": "light"
     },
     "output_type": "display_data"
    }
   ],
   "source": [
    "tmp = pd.DataFrame({'Feature': pca_comp, 'Feature importance': model_xgb_smote.feature_importances_})\n",
    "tmp = tmp.sort_values(by='Feature importance',ascending=False)\n",
    "plt.figure(figsize = (7,4))\n",
    "plt.title('Features importance',fontsize=14)\n",
    "s = sns.barplot(x='Feature',y='Feature importance',data=tmp)\n",
    "s.set_xticklabels(s.get_xticklabels(),rotation=90)\n",
    "plt.show() "
   ]
  },
  {
   "cell_type": "markdown",
   "metadata": {},
   "source": [
    "Inference:<br>\n",
    "We found out that PCA converted variables like V15, V5 , V13 can able to explain the maximum variance and hence we can target these variables to detect a fraud which matches with our model's feature aswell."
   ]
  },
  {
   "cell_type": "markdown",
   "metadata": {},
   "source": [
    "<h2>Conclusion : </h2>"
   ]
  },
  {
   "cell_type": "markdown",
   "metadata": {},
   "source": [
    "We have build a logistic regression model based on the transaction data provided to us.\n",
    "The data provided to us was very imbalanced data set. Hence, for building a proper logistic model on top of that we have used some balancing techniques like (ROS,SMOTE and ADASYN) to balance the data and applied some of very popular logistic regression models like Random Forest, Logistic regression and some boosting techniques like XGBoost to catch any frud transactions.\n",
    "In our scenario Accuracy was not a concerning Evaluation criteria and we focussed more on Recall and AUC.\n",
    "We finally able to build a proper logistic model and predicted on test data and the results were satisfying.\n",
    "We were also able to figure out the variables which will be important in detecting any fraud transactions."
   ]
  }
 ],
 "metadata": {
  "colab": {
   "collapsed_sections": [],
   "name": "Credit_card_fraud_detection_Starter_code+.ipynb",
   "provenance": []
  },
  "kernelspec": {
   "display_name": "Python 3",
   "language": "python",
   "name": "python3"
  },
  "language_info": {
   "codemirror_mode": {
    "name": "ipython",
    "version": 3
   },
   "file_extension": ".py",
   "mimetype": "text/x-python",
   "name": "python",
   "nbconvert_exporter": "python",
   "pygments_lexer": "ipython3",
   "version": "3.7.4"
  }
 },
 "nbformat": 4,
 "nbformat_minor": 1
}
