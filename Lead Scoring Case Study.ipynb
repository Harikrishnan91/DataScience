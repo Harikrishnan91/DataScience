{
 "cells": [
  {
   "cell_type": "markdown",
   "metadata": {},
   "source": [
    "# Problem Statement\n",
    "\n",
    "An education company named X Education sells online courses to industry professionals. On any given day, many professionals who are interested in the courses land on their website and browse for courses. \n",
    "\n",
    "When these people fill up a form providing their email address or phone number, they are classified to be a lead.\n",
    "\n",
    "The typical lead conversion rate at X education is around 30%. ```Goal of this case study is create a logisitic model which  increase the lead conversion to 80%```"
   ]
  },
  {
   "cell_type": "markdown",
   "metadata": {},
   "source": [
    "## Step 1 : Importing Data"
   ]
  },
  {
   "cell_type": "code",
   "execution_count": 1,
   "metadata": {},
   "outputs": [],
   "source": [
    "# Suppressing Warnings\n",
    "import warnings\n",
    "warnings.filterwarnings('ignore')\n",
    "# Importing Pandas and NumPy\n",
    "import pandas as pd, numpy as np"
   ]
  },
  {
   "cell_type": "code",
   "execution_count": 2,
   "metadata": {},
   "outputs": [
    {
     "data": {
      "text/html": [
       "<div>\n",
       "<style scoped>\n",
       "    .dataframe tbody tr th:only-of-type {\n",
       "        vertical-align: middle;\n",
       "    }\n",
       "\n",
       "    .dataframe tbody tr th {\n",
       "        vertical-align: top;\n",
       "    }\n",
       "\n",
       "    .dataframe thead th {\n",
       "        text-align: right;\n",
       "    }\n",
       "</style>\n",
       "<table border=\"1\" class=\"dataframe\">\n",
       "  <thead>\n",
       "    <tr style=\"text-align: right;\">\n",
       "      <th></th>\n",
       "      <th>Prospect ID</th>\n",
       "      <th>Lead Number</th>\n",
       "      <th>Lead Origin</th>\n",
       "      <th>Lead Source</th>\n",
       "      <th>Do Not Email</th>\n",
       "      <th>Do Not Call</th>\n",
       "      <th>Converted</th>\n",
       "      <th>TotalVisits</th>\n",
       "      <th>Total Time Spent on Website</th>\n",
       "      <th>Page Views Per Visit</th>\n",
       "      <th>...</th>\n",
       "      <th>Get updates on DM Content</th>\n",
       "      <th>Lead Profile</th>\n",
       "      <th>City</th>\n",
       "      <th>Asymmetrique Activity Index</th>\n",
       "      <th>Asymmetrique Profile Index</th>\n",
       "      <th>Asymmetrique Activity Score</th>\n",
       "      <th>Asymmetrique Profile Score</th>\n",
       "      <th>I agree to pay the amount through cheque</th>\n",
       "      <th>A free copy of Mastering The Interview</th>\n",
       "      <th>Last Notable Activity</th>\n",
       "    </tr>\n",
       "  </thead>\n",
       "  <tbody>\n",
       "    <tr>\n",
       "      <td>0</td>\n",
       "      <td>7927b2df-8bba-4d29-b9a2-b6e0beafe620</td>\n",
       "      <td>660737</td>\n",
       "      <td>API</td>\n",
       "      <td>Olark Chat</td>\n",
       "      <td>No</td>\n",
       "      <td>No</td>\n",
       "      <td>0</td>\n",
       "      <td>0.0</td>\n",
       "      <td>0</td>\n",
       "      <td>0.0</td>\n",
       "      <td>...</td>\n",
       "      <td>No</td>\n",
       "      <td>Select</td>\n",
       "      <td>Select</td>\n",
       "      <td>02.Medium</td>\n",
       "      <td>02.Medium</td>\n",
       "      <td>15.0</td>\n",
       "      <td>15.0</td>\n",
       "      <td>No</td>\n",
       "      <td>No</td>\n",
       "      <td>Modified</td>\n",
       "    </tr>\n",
       "    <tr>\n",
       "      <td>1</td>\n",
       "      <td>2a272436-5132-4136-86fa-dcc88c88f482</td>\n",
       "      <td>660728</td>\n",
       "      <td>API</td>\n",
       "      <td>Organic Search</td>\n",
       "      <td>No</td>\n",
       "      <td>No</td>\n",
       "      <td>0</td>\n",
       "      <td>5.0</td>\n",
       "      <td>674</td>\n",
       "      <td>2.5</td>\n",
       "      <td>...</td>\n",
       "      <td>No</td>\n",
       "      <td>Select</td>\n",
       "      <td>Select</td>\n",
       "      <td>02.Medium</td>\n",
       "      <td>02.Medium</td>\n",
       "      <td>15.0</td>\n",
       "      <td>15.0</td>\n",
       "      <td>No</td>\n",
       "      <td>No</td>\n",
       "      <td>Email Opened</td>\n",
       "    </tr>\n",
       "    <tr>\n",
       "      <td>2</td>\n",
       "      <td>8cc8c611-a219-4f35-ad23-fdfd2656bd8a</td>\n",
       "      <td>660727</td>\n",
       "      <td>Landing Page Submission</td>\n",
       "      <td>Direct Traffic</td>\n",
       "      <td>No</td>\n",
       "      <td>No</td>\n",
       "      <td>1</td>\n",
       "      <td>2.0</td>\n",
       "      <td>1532</td>\n",
       "      <td>2.0</td>\n",
       "      <td>...</td>\n",
       "      <td>No</td>\n",
       "      <td>Potential Lead</td>\n",
       "      <td>Mumbai</td>\n",
       "      <td>02.Medium</td>\n",
       "      <td>01.High</td>\n",
       "      <td>14.0</td>\n",
       "      <td>20.0</td>\n",
       "      <td>No</td>\n",
       "      <td>Yes</td>\n",
       "      <td>Email Opened</td>\n",
       "    </tr>\n",
       "    <tr>\n",
       "      <td>3</td>\n",
       "      <td>0cc2df48-7cf4-4e39-9de9-19797f9b38cc</td>\n",
       "      <td>660719</td>\n",
       "      <td>Landing Page Submission</td>\n",
       "      <td>Direct Traffic</td>\n",
       "      <td>No</td>\n",
       "      <td>No</td>\n",
       "      <td>0</td>\n",
       "      <td>1.0</td>\n",
       "      <td>305</td>\n",
       "      <td>1.0</td>\n",
       "      <td>...</td>\n",
       "      <td>No</td>\n",
       "      <td>Select</td>\n",
       "      <td>Mumbai</td>\n",
       "      <td>02.Medium</td>\n",
       "      <td>01.High</td>\n",
       "      <td>13.0</td>\n",
       "      <td>17.0</td>\n",
       "      <td>No</td>\n",
       "      <td>No</td>\n",
       "      <td>Modified</td>\n",
       "    </tr>\n",
       "    <tr>\n",
       "      <td>4</td>\n",
       "      <td>3256f628-e534-4826-9d63-4a8b88782852</td>\n",
       "      <td>660681</td>\n",
       "      <td>Landing Page Submission</td>\n",
       "      <td>Google</td>\n",
       "      <td>No</td>\n",
       "      <td>No</td>\n",
       "      <td>1</td>\n",
       "      <td>2.0</td>\n",
       "      <td>1428</td>\n",
       "      <td>1.0</td>\n",
       "      <td>...</td>\n",
       "      <td>No</td>\n",
       "      <td>Select</td>\n",
       "      <td>Mumbai</td>\n",
       "      <td>02.Medium</td>\n",
       "      <td>01.High</td>\n",
       "      <td>15.0</td>\n",
       "      <td>18.0</td>\n",
       "      <td>No</td>\n",
       "      <td>No</td>\n",
       "      <td>Modified</td>\n",
       "    </tr>\n",
       "  </tbody>\n",
       "</table>\n",
       "<p>5 rows × 37 columns</p>\n",
       "</div>"
      ],
      "text/plain": [
       "                            Prospect ID  Lead Number              Lead Origin  \\\n",
       "0  7927b2df-8bba-4d29-b9a2-b6e0beafe620       660737                      API   \n",
       "1  2a272436-5132-4136-86fa-dcc88c88f482       660728                      API   \n",
       "2  8cc8c611-a219-4f35-ad23-fdfd2656bd8a       660727  Landing Page Submission   \n",
       "3  0cc2df48-7cf4-4e39-9de9-19797f9b38cc       660719  Landing Page Submission   \n",
       "4  3256f628-e534-4826-9d63-4a8b88782852       660681  Landing Page Submission   \n",
       "\n",
       "      Lead Source Do Not Email Do Not Call  Converted  TotalVisits  \\\n",
       "0      Olark Chat           No          No          0          0.0   \n",
       "1  Organic Search           No          No          0          5.0   \n",
       "2  Direct Traffic           No          No          1          2.0   \n",
       "3  Direct Traffic           No          No          0          1.0   \n",
       "4          Google           No          No          1          2.0   \n",
       "\n",
       "   Total Time Spent on Website  Page Views Per Visit  ...  \\\n",
       "0                            0                   0.0  ...   \n",
       "1                          674                   2.5  ...   \n",
       "2                         1532                   2.0  ...   \n",
       "3                          305                   1.0  ...   \n",
       "4                         1428                   1.0  ...   \n",
       "\n",
       "  Get updates on DM Content    Lead Profile    City  \\\n",
       "0                        No          Select  Select   \n",
       "1                        No          Select  Select   \n",
       "2                        No  Potential Lead  Mumbai   \n",
       "3                        No          Select  Mumbai   \n",
       "4                        No          Select  Mumbai   \n",
       "\n",
       "  Asymmetrique Activity Index Asymmetrique Profile Index  \\\n",
       "0                   02.Medium                  02.Medium   \n",
       "1                   02.Medium                  02.Medium   \n",
       "2                   02.Medium                    01.High   \n",
       "3                   02.Medium                    01.High   \n",
       "4                   02.Medium                    01.High   \n",
       "\n",
       "  Asymmetrique Activity Score Asymmetrique Profile Score  \\\n",
       "0                        15.0                       15.0   \n",
       "1                        15.0                       15.0   \n",
       "2                        14.0                       20.0   \n",
       "3                        13.0                       17.0   \n",
       "4                        15.0                       18.0   \n",
       "\n",
       "  I agree to pay the amount through cheque  \\\n",
       "0                                       No   \n",
       "1                                       No   \n",
       "2                                       No   \n",
       "3                                       No   \n",
       "4                                       No   \n",
       "\n",
       "  A free copy of Mastering The Interview Last Notable Activity  \n",
       "0                                     No              Modified  \n",
       "1                                     No          Email Opened  \n",
       "2                                    Yes          Email Opened  \n",
       "3                                     No              Modified  \n",
       "4                                     No              Modified  \n",
       "\n",
       "[5 rows x 37 columns]"
      ]
     },
     "execution_count": 2,
     "metadata": {},
     "output_type": "execute_result"
    }
   ],
   "source": [
    "# Importing all datasets\n",
    "lead = pd.read_csv('Leads.csv')\n",
    "lead.head()"
   ]
  },
  {
   "cell_type": "code",
   "execution_count": 3,
   "metadata": {},
   "outputs": [
    {
     "data": {
      "text/plain": [
       "(9240, 37)"
      ]
     },
     "execution_count": 3,
     "metadata": {},
     "output_type": "execute_result"
    }
   ],
   "source": [
    "# Let's check the dimensions of the dataframe\n",
    "lead.shape"
   ]
  },
  {
   "cell_type": "code",
   "execution_count": 4,
   "metadata": {},
   "outputs": [
    {
     "data": {
      "text/html": [
       "<div>\n",
       "<style scoped>\n",
       "    .dataframe tbody tr th:only-of-type {\n",
       "        vertical-align: middle;\n",
       "    }\n",
       "\n",
       "    .dataframe tbody tr th {\n",
       "        vertical-align: top;\n",
       "    }\n",
       "\n",
       "    .dataframe thead th {\n",
       "        text-align: right;\n",
       "    }\n",
       "</style>\n",
       "<table border=\"1\" class=\"dataframe\">\n",
       "  <thead>\n",
       "    <tr style=\"text-align: right;\">\n",
       "      <th></th>\n",
       "      <th>Lead Number</th>\n",
       "      <th>Converted</th>\n",
       "      <th>TotalVisits</th>\n",
       "      <th>Total Time Spent on Website</th>\n",
       "      <th>Page Views Per Visit</th>\n",
       "      <th>Asymmetrique Activity Score</th>\n",
       "      <th>Asymmetrique Profile Score</th>\n",
       "    </tr>\n",
       "  </thead>\n",
       "  <tbody>\n",
       "    <tr>\n",
       "      <td>count</td>\n",
       "      <td>9240.000000</td>\n",
       "      <td>9240.000000</td>\n",
       "      <td>9103.000000</td>\n",
       "      <td>9240.000000</td>\n",
       "      <td>9103.000000</td>\n",
       "      <td>5022.000000</td>\n",
       "      <td>5022.000000</td>\n",
       "    </tr>\n",
       "    <tr>\n",
       "      <td>mean</td>\n",
       "      <td>617188.435606</td>\n",
       "      <td>0.385390</td>\n",
       "      <td>3.445238</td>\n",
       "      <td>487.698268</td>\n",
       "      <td>2.362820</td>\n",
       "      <td>14.306252</td>\n",
       "      <td>16.344883</td>\n",
       "    </tr>\n",
       "    <tr>\n",
       "      <td>std</td>\n",
       "      <td>23405.995698</td>\n",
       "      <td>0.486714</td>\n",
       "      <td>4.854853</td>\n",
       "      <td>548.021466</td>\n",
       "      <td>2.161418</td>\n",
       "      <td>1.386694</td>\n",
       "      <td>1.811395</td>\n",
       "    </tr>\n",
       "    <tr>\n",
       "      <td>min</td>\n",
       "      <td>579533.000000</td>\n",
       "      <td>0.000000</td>\n",
       "      <td>0.000000</td>\n",
       "      <td>0.000000</td>\n",
       "      <td>0.000000</td>\n",
       "      <td>7.000000</td>\n",
       "      <td>11.000000</td>\n",
       "    </tr>\n",
       "    <tr>\n",
       "      <td>25%</td>\n",
       "      <td>596484.500000</td>\n",
       "      <td>0.000000</td>\n",
       "      <td>1.000000</td>\n",
       "      <td>12.000000</td>\n",
       "      <td>1.000000</td>\n",
       "      <td>14.000000</td>\n",
       "      <td>15.000000</td>\n",
       "    </tr>\n",
       "    <tr>\n",
       "      <td>50%</td>\n",
       "      <td>615479.000000</td>\n",
       "      <td>0.000000</td>\n",
       "      <td>3.000000</td>\n",
       "      <td>248.000000</td>\n",
       "      <td>2.000000</td>\n",
       "      <td>14.000000</td>\n",
       "      <td>16.000000</td>\n",
       "    </tr>\n",
       "    <tr>\n",
       "      <td>75%</td>\n",
       "      <td>637387.250000</td>\n",
       "      <td>1.000000</td>\n",
       "      <td>5.000000</td>\n",
       "      <td>936.000000</td>\n",
       "      <td>3.000000</td>\n",
       "      <td>15.000000</td>\n",
       "      <td>18.000000</td>\n",
       "    </tr>\n",
       "    <tr>\n",
       "      <td>max</td>\n",
       "      <td>660737.000000</td>\n",
       "      <td>1.000000</td>\n",
       "      <td>251.000000</td>\n",
       "      <td>2272.000000</td>\n",
       "      <td>55.000000</td>\n",
       "      <td>18.000000</td>\n",
       "      <td>20.000000</td>\n",
       "    </tr>\n",
       "  </tbody>\n",
       "</table>\n",
       "</div>"
      ],
      "text/plain": [
       "         Lead Number    Converted  TotalVisits  Total Time Spent on Website  \\\n",
       "count    9240.000000  9240.000000  9103.000000                  9240.000000   \n",
       "mean   617188.435606     0.385390     3.445238                   487.698268   \n",
       "std     23405.995698     0.486714     4.854853                   548.021466   \n",
       "min    579533.000000     0.000000     0.000000                     0.000000   \n",
       "25%    596484.500000     0.000000     1.000000                    12.000000   \n",
       "50%    615479.000000     0.000000     3.000000                   248.000000   \n",
       "75%    637387.250000     1.000000     5.000000                   936.000000   \n",
       "max    660737.000000     1.000000   251.000000                  2272.000000   \n",
       "\n",
       "       Page Views Per Visit  Asymmetrique Activity Score  \\\n",
       "count           9103.000000                  5022.000000   \n",
       "mean               2.362820                    14.306252   \n",
       "std                2.161418                     1.386694   \n",
       "min                0.000000                     7.000000   \n",
       "25%                1.000000                    14.000000   \n",
       "50%                2.000000                    14.000000   \n",
       "75%                3.000000                    15.000000   \n",
       "max               55.000000                    18.000000   \n",
       "\n",
       "       Asymmetrique Profile Score  \n",
       "count                 5022.000000  \n",
       "mean                    16.344883  \n",
       "std                      1.811395  \n",
       "min                     11.000000  \n",
       "25%                     15.000000  \n",
       "50%                     16.000000  \n",
       "75%                     18.000000  \n",
       "max                     20.000000  "
      ]
     },
     "execution_count": 4,
     "metadata": {},
     "output_type": "execute_result"
    }
   ],
   "source": [
    "# let's look at the statistical aspects of the dataframe\n",
    "lead.describe()"
   ]
  },
  {
   "cell_type": "code",
   "execution_count": 5,
   "metadata": {},
   "outputs": [
    {
     "name": "stdout",
     "output_type": "stream",
     "text": [
      "<class 'pandas.core.frame.DataFrame'>\n",
      "RangeIndex: 9240 entries, 0 to 9239\n",
      "Data columns (total 37 columns):\n",
      "Prospect ID                                      9240 non-null object\n",
      "Lead Number                                      9240 non-null int64\n",
      "Lead Origin                                      9240 non-null object\n",
      "Lead Source                                      9204 non-null object\n",
      "Do Not Email                                     9240 non-null object\n",
      "Do Not Call                                      9240 non-null object\n",
      "Converted                                        9240 non-null int64\n",
      "TotalVisits                                      9103 non-null float64\n",
      "Total Time Spent on Website                      9240 non-null int64\n",
      "Page Views Per Visit                             9103 non-null float64\n",
      "Last Activity                                    9137 non-null object\n",
      "Country                                          6779 non-null object\n",
      "Specialization                                   7802 non-null object\n",
      "How did you hear about X Education               7033 non-null object\n",
      "What is your current occupation                  6550 non-null object\n",
      "What matters most to you in choosing a course    6531 non-null object\n",
      "Search                                           9240 non-null object\n",
      "Magazine                                         9240 non-null object\n",
      "Newspaper Article                                9240 non-null object\n",
      "X Education Forums                               9240 non-null object\n",
      "Newspaper                                        9240 non-null object\n",
      "Digital Advertisement                            9240 non-null object\n",
      "Through Recommendations                          9240 non-null object\n",
      "Receive More Updates About Our Courses           9240 non-null object\n",
      "Tags                                             5887 non-null object\n",
      "Lead Quality                                     4473 non-null object\n",
      "Update me on Supply Chain Content                9240 non-null object\n",
      "Get updates on DM Content                        9240 non-null object\n",
      "Lead Profile                                     6531 non-null object\n",
      "City                                             7820 non-null object\n",
      "Asymmetrique Activity Index                      5022 non-null object\n",
      "Asymmetrique Profile Index                       5022 non-null object\n",
      "Asymmetrique Activity Score                      5022 non-null float64\n",
      "Asymmetrique Profile Score                       5022 non-null float64\n",
      "I agree to pay the amount through cheque         9240 non-null object\n",
      "A free copy of Mastering The Interview           9240 non-null object\n",
      "Last Notable Activity                            9240 non-null object\n",
      "dtypes: float64(4), int64(3), object(30)\n",
      "memory usage: 2.6+ MB\n"
     ]
    }
   ],
   "source": [
    "# Let's see the type of each column\n",
    "lead.info()"
   ]
  },
  {
   "cell_type": "code",
   "execution_count": 6,
   "metadata": {},
   "outputs": [],
   "source": [
    "#replacing Select with Null value\n",
    "lead.replace(to_replace = 'Select',value=np.nan,inplace=True)"
   ]
  },
  {
   "cell_type": "code",
   "execution_count": 8,
   "metadata": {},
   "outputs": [
    {
     "data": {
      "text/plain": [
       "Prospect ID                                       0.00\n",
       "I agree to pay the amount through cheque          0.00\n",
       "Get updates on DM Content                         0.00\n",
       "Update me on Supply Chain Content                 0.00\n",
       "Receive More Updates About Our Courses            0.00\n",
       "Through Recommendations                           0.00\n",
       "Digital Advertisement                             0.00\n",
       "Newspaper                                         0.00\n",
       "X Education Forums                                0.00\n",
       "A free copy of Mastering The Interview            0.00\n",
       "Magazine                                          0.00\n",
       "Search                                            0.00\n",
       "Newspaper Article                                 0.00\n",
       "Last Notable Activity                             0.00\n",
       "Total Time Spent on Website                       0.00\n",
       "Converted                                         0.00\n",
       "Do Not Call                                       0.00\n",
       "Do Not Email                                      0.00\n",
       "Lead Number                                       0.00\n",
       "Lead Origin                                       0.00\n",
       "Lead Source                                       0.39\n",
       "Last Activity                                     1.11\n",
       "Page Views Per Visit                              1.48\n",
       "TotalVisits                                       1.48\n",
       "Country                                          26.63\n",
       "What is your current occupation                  29.11\n",
       "What matters most to you in choosing a course    29.32\n",
       "Tags                                             36.29\n",
       "Specialization                                   36.58\n",
       "City                                             39.71\n",
       "Asymmetrique Activity Index                      45.65\n",
       "Asymmetrique Profile Index                       45.65\n",
       "Asymmetrique Activity Score                      45.65\n",
       "Asymmetrique Profile Score                       45.65\n",
       "Lead Quality                                     51.59\n",
       "Lead Profile                                     74.19\n",
       "How did you hear about X Education               78.46\n",
       "dtype: float64"
      ]
     },
     "execution_count": 8,
     "metadata": {},
     "output_type": "execute_result"
    }
   ],
   "source": [
    "# Checking the percentage of missing values\n",
    "round(100*(lead.isnull().sum()/len(lead.index)), 2).sort_values()"
   ]
  },
  {
   "cell_type": "markdown",
   "metadata": {},
   "source": [
    "## Step 2 : Data Prepration\n",
    "\n",
    "### Dropping Columns with High Missing Percentage\n",
    "\n",
    "```Missing Percentage Threshold for this case study =``` **`45%`** <br><br>\n",
    "As seen from Missing percentage table above, the following columns have more 45% missing values. Hence dropping those columns\n",
    "\n",
    "1. How did you hear about X Education\n",
    "2. Lead Profile\n",
    "3. Lead Quality\n",
    "4. Asymmetrique Activity Index \n",
    "5. Asymmetrique Profile Index\n",
    "6. Asymmetrique Profile Score\n",
    "7. Asymmetrique Activity Score"
   ]
  },
  {
   "cell_type": "code",
   "execution_count": 9,
   "metadata": {},
   "outputs": [],
   "source": [
    "columns_to_drop = ['How did you hear about X Education','Lead Profile','Lead Quality'\n",
    "                   ,'Asymmetrique Activity Index','Asymmetrique Profile Index','Asymmetrique Profile Score','Asymmetrique Activity Score']\n",
    "\n",
    "lead.drop(columns_to_drop,axis=1,inplace=True)"
   ]
  },
  {
   "cell_type": "code",
   "execution_count": 11,
   "metadata": {},
   "outputs": [
    {
     "data": {
      "text/plain": [
       "Receive More Updates About Our Courses              1\n",
       "I agree to pay the amount through cheque            1\n",
       "Magazine                                            1\n",
       "Get updates on DM Content                           1\n",
       "Update me on Supply Chain Content                   1\n",
       "Search                                              2\n",
       "A free copy of Mastering The Interview              2\n",
       "Newspaper                                           2\n",
       "Digital Advertisement                               2\n",
       "Through Recommendations                             2\n",
       "X Education Forums                                  2\n",
       "Converted                                           2\n",
       "Do Not Call                                         2\n",
       "Do Not Email                                        2\n",
       "Newspaper Article                                   2\n",
       "What matters most to you in choosing a course       3\n",
       "Lead Origin                                         5\n",
       "What is your current occupation                     6\n",
       "City                                                6\n",
       "Last Notable Activity                              16\n",
       "Last Activity                                      17\n",
       "Specialization                                     18\n",
       "Lead Source                                        21\n",
       "Tags                                               26\n",
       "Country                                            38\n",
       "TotalVisits                                        41\n",
       "Page Views Per Visit                              114\n",
       "Total Time Spent on Website                      1731\n",
       "Lead Number                                      9240\n",
       "Prospect ID                                      9240\n",
       "dtype: int64"
      ]
     },
     "execution_count": 11,
     "metadata": {},
     "output_type": "execute_result"
    }
   ],
   "source": [
    "#Finding the unique values amongst each columns\n",
    "lead.nunique().sort_values()"
   ]
  },
  {
   "cell_type": "markdown",
   "metadata": {},
   "source": [
    "As seen from above table, the following columns have just one unique value or is highly skewed<br> Hence dropping the same\n",
    "\n",
    "1. I agree to pay the amount through cheque\n",
    "2. Magazine\n",
    "3. Receive More Updates About Our Courses\n",
    "4. Update me on Supply Chain Content\n",
    "5. Get updates on DM Content\n",
    "\n",
    "Also dropping the column Prospect ID as Prospect ID and Lead Number serves the same purpose\n"
   ]
  },
  {
   "cell_type": "code",
   "execution_count": 12,
   "metadata": {},
   "outputs": [],
   "source": [
    "col_to_drop = ['I agree to pay the amount through cheque','Magazine','Receive More Updates About Our Courses',\n",
    "               'Update me on Supply Chain Content','Get updates on DM Content','Prospect ID']\n",
    "\n",
    "lead.drop(col_to_drop,axis=1,inplace=True)"
   ]
  },
  {
   "cell_type": "markdown",
   "metadata": {},
   "source": [
    "#### Skewness Check"
   ]
  },
  {
   "cell_type": "code",
   "execution_count": 14,
   "metadata": {},
   "outputs": [
    {
     "name": "stdout",
     "output_type": "stream",
     "text": [
      "No     8506\n",
      "Yes     734\n",
      "Name: Do Not Email, dtype: int64\n"
     ]
    },
    {
     "data": {
      "image/png": "[encoded data removed]",
      "text/plain": [
       "<Figure size 432x288 with 1 Axes>"
      ]
     },
     "metadata": {
      "needs_background": "light"
     },
     "output_type": "display_data"
    },
    {
     "name": "stdout",
     "output_type": "stream",
     "text": [
      "No     9238\n",
      "Yes       2\n",
      "Name: Do Not Call, dtype: int64\n"
     ]
    },
    {
     "data": {
      "image/png": "[encoded data removed]",
      "text/plain": [
       "<Figure size 432x288 with 1 Axes>"
      ]
     },
     "metadata": {
      "needs_background": "light"
     },
     "output_type": "display_data"
    },
    {
     "name": "stdout",
     "output_type": "stream",
     "text": [
      "No     9226\n",
      "Yes      14\n",
      "Name: Search, dtype: int64\n"
     ]
    },
    {
     "data": {
      "image/png": "[encoded data removed]",
      "text/plain": [
       "<Figure size 432x288 with 1 Axes>"
      ]
     },
     "metadata": {
      "needs_background": "light"
     },
     "output_type": "display_data"
    },
    {
     "name": "stdout",
     "output_type": "stream",
     "text": [
      "No     9238\n",
      "Yes       2\n",
      "Name: Newspaper Article, dtype: int64\n"
     ]
    },
    {
     "data": {
      "image/png": "[encoded data removed]",
      "text/plain": [
       "<Figure size 432x288 with 1 Axes>"
      ]
     },
     "metadata": {
      "needs_background": "light"
     },
     "output_type": "display_data"
    },
    {
     "name": "stdout",
     "output_type": "stream",
     "text": [
      "No     9239\n",
      "Yes       1\n",
      "Name: X Education Forums, dtype: int64\n"
     ]
    },
    {
     "data": {
      "image/png": "[encoded data removed]",
      "text/plain": [
       "<Figure size 432x288 with 1 Axes>"
      ]
     },
     "metadata": {
      "needs_background": "light"
     },
     "output_type": "display_data"
    },
    {
     "name": "stdout",
     "output_type": "stream",
     "text": [
      "No     9239\n",
      "Yes       1\n",
      "Name: Newspaper, dtype: int64\n"
     ]
    },
    {
     "data": {
      "image/png": "[encoded data removed]",
      "text/plain": [
       "<Figure size 432x288 with 1 Axes>"
      ]
     },
     "metadata": {
      "needs_background": "light"
     },
     "output_type": "display_data"
    },
    {
     "name": "stdout",
     "output_type": "stream",
     "text": [
      "No     9236\n",
      "Yes       4\n",
      "Name: Digital Advertisement, dtype: int64\n"
     ]
    },
    {
     "data": {
      "image/png": "[encoded data removed]",
      "text/plain": [
       "<Figure size 432x288 with 1 Axes>"
      ]
     },
     "metadata": {
      "needs_background": "light"
     },
     "output_type": "display_data"
    },
    {
     "name": "stdout",
     "output_type": "stream",
     "text": [
      "Better Career Prospects      6528\n",
      "Flexibility & Convenience       2\n",
      "Other                           1\n",
      "Name: What matters most to you in choosing a course, dtype: int64\n"
     ]
    },
    {
     "data": {
      "image/png": "[encoded data removed]",
      "text/plain": [
       "<Figure size 432x288 with 1 Axes>"
      ]
     },
     "metadata": {
      "needs_background": "light"
     },
     "output_type": "display_data"
    },
    {
     "name": "stdout",
     "output_type": "stream",
     "text": [
      "No     9233\n",
      "Yes       7\n",
      "Name: Through Recommendations, dtype: int64\n"
     ]
    },
    {
     "data": {
      "image/png": "[encoded data removed]",
      "text/plain": [
       "<Figure size 432x288 with 1 Axes>"
      ]
     },
     "metadata": {
      "needs_background": "light"
     },
     "output_type": "display_data"
    },
    {
     "name": "stdout",
     "output_type": "stream",
     "text": [
      "No     6352\n",
      "Yes    2888\n",
      "Name: A free copy of Mastering The Interview, dtype: int64\n"
     ]
    },
    {
     "data": {
      "image/png": "[encoded data removed]",
      "text/plain": [
       "<Figure size 432x288 with 1 Axes>"
      ]
     },
     "metadata": {
      "needs_background": "light"
     },
     "output_type": "display_data"
    }
   ],
   "source": [
    "#Checking the Skewness of other columns\n",
    "#Choosing the columns which has not more than 3 unique values\n",
    "import matplotlib.pyplot as plt\n",
    "skew_check = ['Do Not Email','Do Not Call','Search','Newspaper Article','X Education Forums',\n",
    "              'Newspaper','Digital Advertisement',\n",
    "              'What matters most to you in choosing a course','Through Recommendations',\n",
    "              'A free copy of Mastering The Interview']\n",
    "\n",
    "for i in skew_check:\n",
    "    print(lead[i].value_counts())\n",
    "    lead[i].value_counts().plot(kind='bar')\n",
    "    plt.show()"
   ]
  },
  {
   "cell_type": "markdown",
   "metadata": {},
   "source": [
    "As seen from above skew check table, the following columns are ***highly skewed (99% threshold)***\n",
    "\n",
    "1. Do Not Call\n",
    "2. Search\n",
    "3. Newspaper Article\n",
    "4. X Education Forums\n",
    "5. Newspaper\n",
    "6. Digital Advertisement\n",
    "7. What matters most to you in choosing a course\n",
    "8. Through Recommendations\n",
    "\n",
    "It is best to drop these columns as they will bias the model"
   ]
  },
  {
   "cell_type": "code",
   "execution_count": 15,
   "metadata": {},
   "outputs": [],
   "source": [
    "skewed_columns = ['Do Not Call','Search','Newspaper Article','X Education Forums',\n",
    "              'Newspaper','Digital Advertisement',\n",
    "              'What matters most to you in choosing a course','Through Recommendations']\n",
    "lead.drop(skewed_columns,axis=1,inplace=True)"
   ]
  },
  {
   "cell_type": "code",
   "execution_count": 16,
   "metadata": {},
   "outputs": [
    {
     "data": {
      "text/html": [
       "<div>\n",
       "<style scoped>\n",
       "    .dataframe tbody tr th:only-of-type {\n",
       "        vertical-align: middle;\n",
       "    }\n",
       "\n",
       "    .dataframe tbody tr th {\n",
       "        vertical-align: top;\n",
       "    }\n",
       "\n",
       "    .dataframe thead th {\n",
       "        text-align: right;\n",
       "    }\n",
       "</style>\n",
       "<table border=\"1\" class=\"dataframe\">\n",
       "  <thead>\n",
       "    <tr style=\"text-align: right;\">\n",
       "      <th></th>\n",
       "      <th>Lead Number</th>\n",
       "      <th>Lead Origin</th>\n",
       "      <th>Lead Source</th>\n",
       "      <th>Do Not Email</th>\n",
       "      <th>Converted</th>\n",
       "      <th>TotalVisits</th>\n",
       "      <th>Total Time Spent on Website</th>\n",
       "      <th>Page Views Per Visit</th>\n",
       "      <th>Last Activity</th>\n",
       "      <th>Country</th>\n",
       "      <th>Specialization</th>\n",
       "      <th>What is your current occupation</th>\n",
       "      <th>Tags</th>\n",
       "      <th>City</th>\n",
       "      <th>A free copy of Mastering The Interview</th>\n",
       "      <th>Last Notable Activity</th>\n",
       "    </tr>\n",
       "  </thead>\n",
       "  <tbody>\n",
       "    <tr>\n",
       "      <td>0</td>\n",
       "      <td>660737</td>\n",
       "      <td>API</td>\n",
       "      <td>Olark Chat</td>\n",
       "      <td>No</td>\n",
       "      <td>0</td>\n",
       "      <td>0.0</td>\n",
       "      <td>0</td>\n",
       "      <td>0.0</td>\n",
       "      <td>Page Visited on Website</td>\n",
       "      <td>NaN</td>\n",
       "      <td>NaN</td>\n",
       "      <td>Unemployed</td>\n",
       "      <td>Interested in other courses</td>\n",
       "      <td>NaN</td>\n",
       "      <td>No</td>\n",
       "      <td>Modified</td>\n",
       "    </tr>\n",
       "    <tr>\n",
       "      <td>1</td>\n",
       "      <td>660728</td>\n",
       "      <td>API</td>\n",
       "      <td>Organic Search</td>\n",
       "      <td>No</td>\n",
       "      <td>0</td>\n",
       "      <td>5.0</td>\n",
       "      <td>674</td>\n",
       "      <td>2.5</td>\n",
       "      <td>Email Opened</td>\n",
       "      <td>India</td>\n",
       "      <td>NaN</td>\n",
       "      <td>Unemployed</td>\n",
       "      <td>Ringing</td>\n",
       "      <td>NaN</td>\n",
       "      <td>No</td>\n",
       "      <td>Email Opened</td>\n",
       "    </tr>\n",
       "    <tr>\n",
       "      <td>2</td>\n",
       "      <td>660727</td>\n",
       "      <td>Landing Page Submission</td>\n",
       "      <td>Direct Traffic</td>\n",
       "      <td>No</td>\n",
       "      <td>1</td>\n",
       "      <td>2.0</td>\n",
       "      <td>1532</td>\n",
       "      <td>2.0</td>\n",
       "      <td>Email Opened</td>\n",
       "      <td>India</td>\n",
       "      <td>Business Administration</td>\n",
       "      <td>Student</td>\n",
       "      <td>Will revert after reading the email</td>\n",
       "      <td>Mumbai</td>\n",
       "      <td>Yes</td>\n",
       "      <td>Email Opened</td>\n",
       "    </tr>\n",
       "    <tr>\n",
       "      <td>3</td>\n",
       "      <td>660719</td>\n",
       "      <td>Landing Page Submission</td>\n",
       "      <td>Direct Traffic</td>\n",
       "      <td>No</td>\n",
       "      <td>0</td>\n",
       "      <td>1.0</td>\n",
       "      <td>305</td>\n",
       "      <td>1.0</td>\n",
       "      <td>Unreachable</td>\n",
       "      <td>India</td>\n",
       "      <td>Media and Advertising</td>\n",
       "      <td>Unemployed</td>\n",
       "      <td>Ringing</td>\n",
       "      <td>Mumbai</td>\n",
       "      <td>No</td>\n",
       "      <td>Modified</td>\n",
       "    </tr>\n",
       "    <tr>\n",
       "      <td>4</td>\n",
       "      <td>660681</td>\n",
       "      <td>Landing Page Submission</td>\n",
       "      <td>Google</td>\n",
       "      <td>No</td>\n",
       "      <td>1</td>\n",
       "      <td>2.0</td>\n",
       "      <td>1428</td>\n",
       "      <td>1.0</td>\n",
       "      <td>Converted to Lead</td>\n",
       "      <td>India</td>\n",
       "      <td>NaN</td>\n",
       "      <td>Unemployed</td>\n",
       "      <td>Will revert after reading the email</td>\n",
       "      <td>Mumbai</td>\n",
       "      <td>No</td>\n",
       "      <td>Modified</td>\n",
       "    </tr>\n",
       "  </tbody>\n",
       "</table>\n",
       "</div>"
      ],
      "text/plain": [
       "   Lead Number              Lead Origin     Lead Source Do Not Email  \\\n",
       "0       660737                      API      Olark Chat           No   \n",
       "1       660728                      API  Organic Search           No   \n",
       "2       660727  Landing Page Submission  Direct Traffic           No   \n",
       "3       660719  Landing Page Submission  Direct Traffic           No   \n",
       "4       660681  Landing Page Submission          Google           No   \n",
       "\n",
       "   Converted  TotalVisits  Total Time Spent on Website  Page Views Per Visit  \\\n",
       "0          0          0.0                            0                   0.0   \n",
       "1          0          5.0                          674                   2.5   \n",
       "2          1          2.0                         1532                   2.0   \n",
       "3          0          1.0                          305                   1.0   \n",
       "4          1          2.0                         1428                   1.0   \n",
       "\n",
       "             Last Activity Country           Specialization  \\\n",
       "0  Page Visited on Website     NaN                      NaN   \n",
       "1             Email Opened   India                      NaN   \n",
       "2             Email Opened   India  Business Administration   \n",
       "3              Unreachable   India    Media and Advertising   \n",
       "4        Converted to Lead   India                      NaN   \n",
       "\n",
       "  What is your current occupation                                 Tags  \\\n",
       "0                      Unemployed          Interested in other courses   \n",
       "1                      Unemployed                              Ringing   \n",
       "2                         Student  Will revert after reading the email   \n",
       "3                      Unemployed                              Ringing   \n",
       "4                      Unemployed  Will revert after reading the email   \n",
       "\n",
       "     City A free copy of Mastering The Interview Last Notable Activity  \n",
       "0     NaN                                     No              Modified  \n",
       "1     NaN                                     No          Email Opened  \n",
       "2  Mumbai                                    Yes          Email Opened  \n",
       "3  Mumbai                                     No              Modified  \n",
       "4  Mumbai                                     No              Modified  "
      ]
     },
     "execution_count": 16,
     "metadata": {},
     "output_type": "execute_result"
    }
   ],
   "source": [
    "#visualising the data set\n",
    "lead.head()"
   ]
  },
  {
   "cell_type": "code",
   "execution_count": 17,
   "metadata": {},
   "outputs": [
    {
     "data": {
      "text/plain": [
       "Index(['Lead Number', 'Lead Origin', 'Lead Source', 'Do Not Email',\n",
       "       'Converted', 'TotalVisits', 'Total Time Spent on Website',\n",
       "       'Page Views Per Visit', 'Last Activity', 'Country', 'Specialization',\n",
       "       'What is your current occupation', 'Tags', 'City',\n",
       "       'A free copy of Mastering The Interview', 'Last Notable Activity'],\n",
       "      dtype='object')"
      ]
     },
     "execution_count": 17,
     "metadata": {},
     "output_type": "execute_result"
    }
   ],
   "source": [
    "#Fetching the columns\n",
    "lead.columns"
   ]
  },
  {
   "cell_type": "markdown",
   "metadata": {},
   "source": [
    "#### Perfoming more data cleaning operations"
   ]
  },
  {
   "cell_type": "code",
   "execution_count": 18,
   "metadata": {},
   "outputs": [
    {
     "data": {
      "text/plain": [
       "Landing Page Submission    4886\n",
       "API                        3580\n",
       "Lead Add Form               718\n",
       "Lead Import                  55\n",
       "Quick Add Form                1\n",
       "Name: Lead Origin, dtype: int64"
      ]
     },
     "execution_count": 18,
     "metadata": {},
     "output_type": "execute_result"
    }
   ],
   "source": [
    "#Checking the unique values of Lead Origin\n",
    "lead['Lead Origin'].value_counts()"
   ]
  },
  {
   "cell_type": "markdown",
   "metadata": {},
   "source": [
    "As seen we have just one row for Quick Add Form and it is insignificant. Hence dropping that row"
   ]
  },
  {
   "cell_type": "code",
   "execution_count": 19,
   "metadata": {},
   "outputs": [
    {
     "data": {
      "text/html": [
       "<div>\n",
       "<style scoped>\n",
       "    .dataframe tbody tr th:only-of-type {\n",
       "        vertical-align: middle;\n",
       "    }\n",
       "\n",
       "    .dataframe tbody tr th {\n",
       "        vertical-align: top;\n",
       "    }\n",
       "\n",
       "    .dataframe thead th {\n",
       "        text-align: right;\n",
       "    }\n",
       "</style>\n",
       "<table border=\"1\" class=\"dataframe\">\n",
       "  <thead>\n",
       "    <tr style=\"text-align: right;\">\n",
       "      <th></th>\n",
       "      <th>Lead Number</th>\n",
       "      <th>Lead Origin</th>\n",
       "      <th>Lead Source</th>\n",
       "      <th>Do Not Email</th>\n",
       "      <th>Converted</th>\n",
       "      <th>TotalVisits</th>\n",
       "      <th>Total Time Spent on Website</th>\n",
       "      <th>Page Views Per Visit</th>\n",
       "      <th>Last Activity</th>\n",
       "      <th>Country</th>\n",
       "      <th>Specialization</th>\n",
       "      <th>What is your current occupation</th>\n",
       "      <th>Tags</th>\n",
       "      <th>City</th>\n",
       "      <th>A free copy of Mastering The Interview</th>\n",
       "      <th>Last Notable Activity</th>\n",
       "    </tr>\n",
       "  </thead>\n",
       "  <tbody>\n",
       "    <tr>\n",
       "      <td>2601</td>\n",
       "      <td>634618</td>\n",
       "      <td>Quick Add Form</td>\n",
       "      <td>NaN</td>\n",
       "      <td>Yes</td>\n",
       "      <td>1</td>\n",
       "      <td>NaN</td>\n",
       "      <td>2217</td>\n",
       "      <td>NaN</td>\n",
       "      <td>Email Bounced</td>\n",
       "      <td>NaN</td>\n",
       "      <td>E-COMMERCE</td>\n",
       "      <td>Unemployed</td>\n",
       "      <td>NaN</td>\n",
       "      <td>Other Metro Cities</td>\n",
       "      <td>No</td>\n",
       "      <td>Modified</td>\n",
       "    </tr>\n",
       "  </tbody>\n",
       "</table>\n",
       "</div>"
      ],
      "text/plain": [
       "      Lead Number     Lead Origin Lead Source Do Not Email  Converted  \\\n",
       "2601       634618  Quick Add Form         NaN          Yes          1   \n",
       "\n",
       "      TotalVisits  Total Time Spent on Website  Page Views Per Visit  \\\n",
       "2601          NaN                         2217                   NaN   \n",
       "\n",
       "      Last Activity Country Specialization What is your current occupation  \\\n",
       "2601  Email Bounced     NaN     E-COMMERCE                      Unemployed   \n",
       "\n",
       "     Tags                City A free copy of Mastering The Interview  \\\n",
       "2601  NaN  Other Metro Cities                                     No   \n",
       "\n",
       "     Last Notable Activity  \n",
       "2601              Modified  "
      ]
     },
     "execution_count": 19,
     "metadata": {},
     "output_type": "execute_result"
    }
   ],
   "source": [
    "#Searching the data frame to find the row which has the value Quick Add Form\n",
    "lead[lead.eq('Quick Add Form').any(1)]"
   ]
  },
  {
   "cell_type": "code",
   "execution_count": 20,
   "metadata": {},
   "outputs": [],
   "source": [
    "#Dropping the row index 2601\n",
    "lead.drop([2601],inplace=True)"
   ]
  },
  {
   "cell_type": "code",
   "execution_count": 21,
   "metadata": {},
   "outputs": [
    {
     "data": {
      "text/plain": [
       "Google               2868\n",
       "Direct Traffic       2543\n",
       "Olark Chat           1755\n",
       "Organic Search       1154\n",
       "Reference             534\n",
       "Welingak Website      142\n",
       "Referral Sites        125\n",
       "Facebook               55\n",
       "bing                    6\n",
       "google                  5\n",
       "Click2call              4\n",
       "Live Chat               2\n",
       "Press_Release           2\n",
       "Social Media            2\n",
       "Pay per Click Ads       1\n",
       "NC_EDM                  1\n",
       "welearnblog_Home        1\n",
       "blog                    1\n",
       "WeLearn                 1\n",
       "youtubechannel          1\n",
       "testone                 1\n",
       "Name: Lead Source, dtype: int64"
      ]
     },
     "execution_count": 21,
     "metadata": {},
     "output_type": "execute_result"
    }
   ],
   "source": [
    "#Checking the unique values of Lead Source\n",
    "lead['Lead Source'].value_counts()"
   ]
  },
  {
   "cell_type": "code",
   "execution_count": 22,
   "metadata": {},
   "outputs": [],
   "source": [
    "#Clubbing all the single digit occurences into 'Others' Category\n",
    "value_merge1 = ['bing','Click2call','Press_Release','Live Chat','Social Media','testone','Pay per Click Ads','blog',\n",
    "                'youtubechannel','NC_EDM','WeLearn','welearnblog_Home']\n",
    "lead['Lead Source'].replace(to_replace = value_merge1,value='Others',inplace=True)"
   ]
  },
  {
   "cell_type": "code",
   "execution_count": 23,
   "metadata": {},
   "outputs": [],
   "source": [
    "#replacing google with Google\n",
    "lead['Lead Source'].replace(to_replace = 'google',value='Google',inplace=True)"
   ]
  },
  {
   "cell_type": "code",
   "execution_count": 24,
   "metadata": {},
   "outputs": [
    {
     "data": {
      "text/plain": [
       "Google              2873\n",
       "Direct Traffic      2543\n",
       "Olark Chat          1755\n",
       "Organic Search      1154\n",
       "Reference            534\n",
       "Welingak Website     142\n",
       "Referral Sites       125\n",
       "Facebook              55\n",
       "Others                23\n",
       "Name: Lead Source, dtype: int64"
      ]
     },
     "execution_count": 24,
     "metadata": {},
     "output_type": "execute_result"
    }
   ],
   "source": [
    "#Checking the unique values of Lead Source again\n",
    "lead['Lead Source'].value_counts()"
   ]
  },
  {
   "cell_type": "code",
   "execution_count": 25,
   "metadata": {},
   "outputs": [],
   "source": [
    "# Imputing the mode 'Google' for the missing values\n",
    "lead['Lead Source'].replace(to_replace=np.nan,value='Google',inplace=True)"
   ]
  },
  {
   "cell_type": "markdown",
   "metadata": {},
   "source": [
    "#### Converting some binary variables (Yes/No) to 1/0"
   ]
  },
  {
   "cell_type": "code",
   "execution_count": 26,
   "metadata": {},
   "outputs": [],
   "source": [
    "# List of variables to map\n",
    "\n",
    "varlist =  ['Do Not Email','A free copy of Mastering The Interview']\n",
    "\n",
    "# Defining the map function\n",
    "def binary_map(x):\n",
    "    return x.map({'Yes': 1, \"No\": 0})\n",
    "\n",
    "# Applying the function to the housing list\n",
    "lead[varlist] = lead[varlist].apply(binary_map)"
   ]
  },
  {
   "cell_type": "code",
   "execution_count": 27,
   "metadata": {},
   "outputs": [
    {
     "data": {
      "text/plain": [
       "Email Opened                    3437\n",
       "SMS Sent                        2745\n",
       "Olark Chat Conversation          973\n",
       "Page Visited on Website          640\n",
       "Converted to Lead                428\n",
       "Email Bounced                    325\n",
       "Email Link Clicked               267\n",
       "Form Submitted on Website        116\n",
       "Unreachable                       93\n",
       "Unsubscribed                      61\n",
       "Had a Phone Conversation          30\n",
       "Approached upfront                 9\n",
       "View in browser link Clicked       6\n",
       "Email Received                     2\n",
       "Email Marked Spam                  2\n",
       "Visited Booth in Tradeshow         1\n",
       "Resubscribed to emails             1\n",
       "Name: Last Activity, dtype: int64"
      ]
     },
     "execution_count": 27,
     "metadata": {},
     "output_type": "execute_result"
    }
   ],
   "source": [
    "#Checking the unique values of Last Activity\n",
    "lead['Last Activity'].value_counts()"
   ]
  },
  {
   "cell_type": "code",
   "execution_count": 28,
   "metadata": {},
   "outputs": [],
   "source": [
    "#Clubbing the values whose count is less than 100 into a single value\n",
    "value_merge2 = ['Unreachable','Unsubscribed','Had a Phone Conversation','Approached upfront','View in browser link Clicked',\n",
    "               'Email Marked Spam','Email Received','Resubscribed to emails','Visited Booth in Tradeshow']\n",
    "lead['Last Activity'].replace(to_replace = value_merge2,value='Others',inplace=True)"
   ]
  },
  {
   "cell_type": "code",
   "execution_count": 29,
   "metadata": {},
   "outputs": [],
   "source": [
    "#Imputing None in Numerical Columns Total Visits, Page Views Per Visit column with median value\n",
    "lead['TotalVisits'].fillna((lead['TotalVisits'].median()), inplace=True)\n",
    "lead['Page Views Per Visit'].fillna((lead['Page Views Per Visit'].median()), inplace=True)"
   ]
  },
  {
   "cell_type": "code",
   "execution_count": 30,
   "metadata": {},
   "outputs": [],
   "source": [
    "#Imputing missing values in Last Activity Categorical Column with Mode of that column\n",
    "lead['Last Activity'].replace(to_replace=np.nan,value='Email Opened',inplace=True)"
   ]
  },
  {
   "cell_type": "code",
   "execution_count": 31,
   "metadata": {},
   "outputs": [],
   "source": [
    "#Imputing any other country apart from India as Others and also replacing null with Mode India\n",
    "lead['Country'].replace(to_replace=np.nan,value='India',inplace=True)\n",
    "lead['Country'] = np.where((lead.Country != 'India'),'Others',lead.Country)"
   ]
  },
  {
   "cell_type": "markdown",
   "metadata": {},
   "source": [
    "***Important Note*** <br>\n",
    "1. The columns Specilization, What is your current occupation,Tags,City are all Categorical Variables\n",
    "2. The null values in those categorical variables can be replaced with a string 'Ignorable'\n",
    "3. When these columns are represented in dummies, the column created for value 'Ignorable' can be dropped"
   ]
  },
  {
   "cell_type": "code",
   "execution_count": 32,
   "metadata": {},
   "outputs": [],
   "source": [
    "#Given that this column needs to be converted into dummies at later stage , replacing all null values with a string Ignorable, \n",
    "#so that this dummy column can be dropped later\n",
    "lead.Specialization.replace(to_replace=np.nan,value='Ignorable',inplace=True)"
   ]
  },
  {
   "cell_type": "code",
   "execution_count": 33,
   "metadata": {},
   "outputs": [],
   "source": [
    "lead.Tags.replace(to_replace=np.nan,value='Ignorable',inplace=True)\n",
    "lead.City.replace(to_replace=np.nan,value='Ignorable',inplace=True)\n",
    "lead['What is your current occupation'].replace(to_replace=np.nan,value='Ignorable',inplace=True)"
   ]
  },
  {
   "cell_type": "markdown",
   "metadata": {},
   "source": [
    "#### For categorical variables with multiple levels, create dummy features (one-hot encoded)"
   ]
  },
  {
   "cell_type": "code",
   "execution_count": 34,
   "metadata": {},
   "outputs": [],
   "source": [
    "# Creating a dummy variable for some of the categorical variables\n",
    "dummy1 = pd.get_dummies(lead[['Lead Origin', 'Lead Source', 'Last Activity', 'Country']], drop_first=True)\n",
    "\n",
    "# Adding the results to the master dataframe\n",
    "lead = pd.concat([lead, dummy1], axis=1)"
   ]
  },
  {
   "cell_type": "code",
   "execution_count": 35,
   "metadata": {},
   "outputs": [],
   "source": [
    "#Dropping the categorical columns as dummies have been created\n",
    "lead.drop(['Lead Origin', 'Lead Source', 'Last Activity', 'Country'],axis=1,inplace=True)"
   ]
  },
  {
   "cell_type": "code",
   "execution_count": 36,
   "metadata": {},
   "outputs": [],
   "source": [
    "# Creating a dummy variable for some of the categorical variables\n",
    "dummy2 = pd.get_dummies(lead[['Last Notable Activity']], drop_first=True)\n",
    "\n",
    "# Adding the results to the master dataframe\n",
    "lead = pd.concat([lead, dummy2], axis=1)\n",
    "lead.drop(['Last Notable Activity'],axis=1,inplace=True)"
   ]
  },
  {
   "cell_type": "code",
   "execution_count": 37,
   "metadata": {},
   "outputs": [],
   "source": [
    "# Creating  dummy variables for some of the categorical variables whose null values have been replaced with Ignorable\n",
    "dummy3 = pd.get_dummies(lead[['Specialization','What is your current occupation','Tags','City']])\n",
    "\n",
    "# Adding the results to the master dataframe\n",
    "lead = pd.concat([lead, dummy3], axis=1)\n",
    "lead.drop(['Specialization','What is your current occupation','Tags','City'],axis=1,inplace=True)"
   ]
  },
  {
   "cell_type": "code",
   "execution_count": 38,
   "metadata": {},
   "outputs": [],
   "source": [
    "#Removing the columns which has Ignorable in it\n",
    "lead.drop(['Specialization_Ignorable','What is your current occupation_Ignorable',\n",
    "           'Tags_Ignorable','City_Ignorable'],axis=1,inplace=True)"
   ]
  },
  {
   "cell_type": "code",
   "execution_count": 39,
   "metadata": {},
   "outputs": [],
   "source": [
    "#Replacing all white spaces in the column names with underscore\n",
    "lead.columns = lead.columns.str.replace(' ','_')"
   ]
  },
  {
   "cell_type": "markdown",
   "metadata": {},
   "source": [
    "#### Outlier Treatment"
   ]
  },
  {
   "cell_type": "code",
   "execution_count": 40,
   "metadata": {},
   "outputs": [
    {
     "data": {
      "text/html": [
       "<div>\n",
       "<style scoped>\n",
       "    .dataframe tbody tr th:only-of-type {\n",
       "        vertical-align: middle;\n",
       "    }\n",
       "\n",
       "    .dataframe tbody tr th {\n",
       "        vertical-align: top;\n",
       "    }\n",
       "\n",
       "    .dataframe thead th {\n",
       "        text-align: right;\n",
       "    }\n",
       "</style>\n",
       "<table border=\"1\" class=\"dataframe\">\n",
       "  <thead>\n",
       "    <tr style=\"text-align: right;\">\n",
       "      <th></th>\n",
       "      <th>TotalVisits</th>\n",
       "      <th>Total_Time_Spent_on_Website</th>\n",
       "      <th>Page_Views_Per_Visit</th>\n",
       "    </tr>\n",
       "  </thead>\n",
       "  <tbody>\n",
       "    <tr>\n",
       "      <td>count</td>\n",
       "      <td>9239.000000</td>\n",
       "      <td>9239.000000</td>\n",
       "      <td>9239.000000</td>\n",
       "    </tr>\n",
       "    <tr>\n",
       "      <td>mean</td>\n",
       "      <td>3.438684</td>\n",
       "      <td>487.511094</td>\n",
       "      <td>2.357479</td>\n",
       "    </tr>\n",
       "    <tr>\n",
       "      <td>std</td>\n",
       "      <td>4.819282</td>\n",
       "      <td>547.755682</td>\n",
       "      <td>2.145894</td>\n",
       "    </tr>\n",
       "    <tr>\n",
       "      <td>min</td>\n",
       "      <td>0.000000</td>\n",
       "      <td>0.000000</td>\n",
       "      <td>0.000000</td>\n",
       "    </tr>\n",
       "    <tr>\n",
       "      <td>25%</td>\n",
       "      <td>1.000000</td>\n",
       "      <td>12.000000</td>\n",
       "      <td>1.000000</td>\n",
       "    </tr>\n",
       "    <tr>\n",
       "      <td>50%</td>\n",
       "      <td>3.000000</td>\n",
       "      <td>248.000000</td>\n",
       "      <td>2.000000</td>\n",
       "    </tr>\n",
       "    <tr>\n",
       "      <td>75%</td>\n",
       "      <td>5.000000</td>\n",
       "      <td>936.000000</td>\n",
       "      <td>3.000000</td>\n",
       "    </tr>\n",
       "    <tr>\n",
       "      <td>90%</td>\n",
       "      <td>7.000000</td>\n",
       "      <td>1379.200000</td>\n",
       "      <td>5.000000</td>\n",
       "    </tr>\n",
       "    <tr>\n",
       "      <td>95%</td>\n",
       "      <td>10.000000</td>\n",
       "      <td>1562.000000</td>\n",
       "      <td>6.000000</td>\n",
       "    </tr>\n",
       "    <tr>\n",
       "      <td>99%</td>\n",
       "      <td>17.000000</td>\n",
       "      <td>1839.620000</td>\n",
       "      <td>9.000000</td>\n",
       "    </tr>\n",
       "    <tr>\n",
       "      <td>max</td>\n",
       "      <td>251.000000</td>\n",
       "      <td>2272.000000</td>\n",
       "      <td>55.000000</td>\n",
       "    </tr>\n",
       "  </tbody>\n",
       "</table>\n",
       "</div>"
      ],
      "text/plain": [
       "       TotalVisits  Total_Time_Spent_on_Website  Page_Views_Per_Visit\n",
       "count  9239.000000                  9239.000000           9239.000000\n",
       "mean      3.438684                   487.511094              2.357479\n",
       "std       4.819282                   547.755682              2.145894\n",
       "min       0.000000                     0.000000              0.000000\n",
       "25%       1.000000                    12.000000              1.000000\n",
       "50%       3.000000                   248.000000              2.000000\n",
       "75%       5.000000                   936.000000              3.000000\n",
       "90%       7.000000                  1379.200000              5.000000\n",
       "95%      10.000000                  1562.000000              6.000000\n",
       "99%      17.000000                  1839.620000              9.000000\n",
       "max     251.000000                  2272.000000             55.000000"
      ]
     },
     "execution_count": 40,
     "metadata": {},
     "output_type": "execute_result"
    }
   ],
   "source": [
    "num_lead = lead[['TotalVisits','Total_Time_Spent_on_Website','Page_Views_Per_Visit']]\n",
    "num_lead.describe(percentiles=[.25, .5, .75, .90, .95, .99])"
   ]
  },
  {
   "cell_type": "code",
   "execution_count": 166,
   "metadata": {},
   "outputs": [
    {
     "data": {
      "image/png": "[encoded data removed]",
      "text/plain": [
       "<Figure size 864x576 with 3 Axes>"
      ]
     },
     "metadata": {
      "needs_background": "light"
     },
     "output_type": "display_data"
    }
   ],
   "source": [
    "#Box plot to identify Outliers\n",
    "import seaborn as sns\n",
    "numeric_variables = ['TotalVisits','Total_Time_Spent_on_Website','Page_Views_Per_Visit']\n",
    "\n",
    " #Function to plot the distribution plot of the numeric variable list\n",
    "def boxplot(var_list):\n",
    "    plt.figure(figsize=(12,8))\n",
    "    for var in var_list:\n",
    "        plt.subplot(2,5,var_list.index(var)+1)\n",
    "        #plt.boxplot(country[var])\n",
    "        sns.boxplot(y=var,palette='cubehelix', data=lead)\n",
    "    # Automatically adjust subplot params so that the subplotS fits in to the figure area.\n",
    "    plt.tight_layout()\n",
    "    # display the plot\n",
    "    plt.show()\n",
    "    \n",
    "boxplot(numeric_variables)"
   ]
  },
  {
   "cell_type": "markdown",
   "metadata": {},
   "source": [
    "As seen from above table and box plots, both TotalVists and Page_Views_Per_Visit has outliers. Hence it is imperative to treat them"
   ]
  },
  {
   "cell_type": "code",
   "execution_count": 57,
   "metadata": {},
   "outputs": [],
   "source": [
    "# removing (statistical) outliers for TotalVisits\n",
    "Q1 = lead.TotalVisits.quantile(0.05)\n",
    "Q3 = lead.TotalVisits.quantile(0.95)\n",
    "IQR = Q3 - Q1\n",
    "lead = lead[(lead.TotalVisits >= Q1 - 1.5*IQR) & (lead.TotalVisits <= Q3 + 1.5*IQR)]\n",
    "\n",
    "# outlier treatment for Page_Views_Per_Visit\n",
    "Q1 = lead.Page_Views_Per_Visit.quantile(0.05)\n",
    "Q3 = lead.Page_Views_Per_Visit.quantile(0.95)\n",
    "IQR = Q3 - Q1\n",
    "lead = lead[(lead.Page_Views_Per_Visit >= Q1 - 1.5*IQR) & (lead.Page_Views_Per_Visit <= Q3 + 1.5*IQR)]"
   ]
  },
  {
   "cell_type": "code",
   "execution_count": 58,
   "metadata": {},
   "outputs": [
    {
     "data": {
      "text/plain": [
       "Lead_Number                         0.0\n",
       "Do_Not_Email                        0.0\n",
       "Converted                           0.0\n",
       "TotalVisits                         0.0\n",
       "Total_Time_Spent_on_Website         0.0\n",
       "                                   ... \n",
       "City_Other_Cities                   0.0\n",
       "City_Other_Cities_of_Maharashtra    0.0\n",
       "City_Other_Metro_Cities             0.0\n",
       "City_Thane_&_Outskirts              0.0\n",
       "City_Tier_II_Cities                 0.0\n",
       "Length: 98, dtype: float64"
      ]
     },
     "execution_count": 58,
     "metadata": {},
     "output_type": "execute_result"
    }
   ],
   "source": [
    "#Checking the presentage of missing values again\n",
    "round(100*(lead.isnull().sum()/len(lead.index)), 2)"
   ]
  },
  {
   "cell_type": "markdown",
   "metadata": {},
   "source": [
    "We don't have any missing values in the columns"
   ]
  },
  {
   "cell_type": "markdown",
   "metadata": {},
   "source": [
    "## Step 3: Data Modelling"
   ]
  },
  {
   "cell_type": "code",
   "execution_count": 59,
   "metadata": {},
   "outputs": [],
   "source": [
    "from sklearn.model_selection import train_test_split"
   ]
  },
  {
   "cell_type": "code",
   "execution_count": 60,
   "metadata": {},
   "outputs": [],
   "source": [
    "# Dropping target variable from X\n",
    "X = lead.drop(['Converted','Lead_Number'], axis=1)"
   ]
  },
  {
   "cell_type": "code",
   "execution_count": 61,
   "metadata": {},
   "outputs": [],
   "source": [
    "# Putting response variable to y\n",
    "y = lead['Converted']"
   ]
  },
  {
   "cell_type": "code",
   "execution_count": 62,
   "metadata": {},
   "outputs": [],
   "source": [
    "# Splitting the data into train and test\n",
    "X_train, X_test, y_train, y_test = train_test_split(X, y, train_size=0.7, test_size=0.3, random_state=100)"
   ]
  },
  {
   "cell_type": "code",
   "execution_count": 163,
   "metadata": {},
   "outputs": [
    {
     "data": {
      "text/plain": [
       "pandas.core.series.Series"
      ]
     },
     "execution_count": 163,
     "metadata": {},
     "output_type": "execute_result"
    }
   ],
   "source": [
    "type(y_train)"
   ]
  },
  {
   "cell_type": "markdown",
   "metadata": {},
   "source": [
    "### Feature Scaling"
   ]
  },
  {
   "cell_type": "code",
   "execution_count": 63,
   "metadata": {},
   "outputs": [
    {
     "data": {
      "text/html": [
       "<div>\n",
       "<style scoped>\n",
       "    .dataframe tbody tr th:only-of-type {\n",
       "        vertical-align: middle;\n",
       "    }\n",
       "\n",
       "    .dataframe tbody tr th {\n",
       "        vertical-align: top;\n",
       "    }\n",
       "\n",
       "    .dataframe thead th {\n",
       "        text-align: right;\n",
       "    }\n",
       "</style>\n",
       "<table border=\"1\" class=\"dataframe\">\n",
       "  <thead>\n",
       "    <tr style=\"text-align: right;\">\n",
       "      <th></th>\n",
       "      <th>Do_Not_Email</th>\n",
       "      <th>TotalVisits</th>\n",
       "      <th>Total_Time_Spent_on_Website</th>\n",
       "      <th>Page_Views_Per_Visit</th>\n",
       "      <th>A_free_copy_of_Mastering_The_Interview</th>\n",
       "      <th>Lead_Origin_Landing_Page_Submission</th>\n",
       "      <th>Lead_Origin_Lead_Add_Form</th>\n",
       "      <th>Lead_Origin_Lead_Import</th>\n",
       "      <th>Lead_Source_Facebook</th>\n",
       "      <th>Lead_Source_Google</th>\n",
       "      <th>...</th>\n",
       "      <th>Tags_number_not_provided</th>\n",
       "      <th>Tags_opp_hangup</th>\n",
       "      <th>Tags_switched_off</th>\n",
       "      <th>Tags_wrong_number_given</th>\n",
       "      <th>City_Mumbai</th>\n",
       "      <th>City_Other_Cities</th>\n",
       "      <th>City_Other_Cities_of_Maharashtra</th>\n",
       "      <th>City_Other_Metro_Cities</th>\n",
       "      <th>City_Thane_&amp;_Outskirts</th>\n",
       "      <th>City_Tier_II_Cities</th>\n",
       "    </tr>\n",
       "  </thead>\n",
       "  <tbody>\n",
       "    <tr>\n",
       "      <td>3070</td>\n",
       "      <td>0</td>\n",
       "      <td>-0.095859</td>\n",
       "      <td>0.052639</td>\n",
       "      <td>-0.660786</td>\n",
       "      <td>0</td>\n",
       "      <td>0</td>\n",
       "      <td>0</td>\n",
       "      <td>0</td>\n",
       "      <td>0</td>\n",
       "      <td>1</td>\n",
       "      <td>...</td>\n",
       "      <td>0</td>\n",
       "      <td>0</td>\n",
       "      <td>0</td>\n",
       "      <td>0</td>\n",
       "      <td>0</td>\n",
       "      <td>0</td>\n",
       "      <td>0</td>\n",
       "      <td>0</td>\n",
       "      <td>0</td>\n",
       "      <td>0</td>\n",
       "    </tr>\n",
       "    <tr>\n",
       "      <td>2178</td>\n",
       "      <td>0</td>\n",
       "      <td>0.521104</td>\n",
       "      <td>-0.719130</td>\n",
       "      <td>1.314576</td>\n",
       "      <td>0</td>\n",
       "      <td>1</td>\n",
       "      <td>0</td>\n",
       "      <td>0</td>\n",
       "      <td>0</td>\n",
       "      <td>0</td>\n",
       "      <td>...</td>\n",
       "      <td>0</td>\n",
       "      <td>0</td>\n",
       "      <td>0</td>\n",
       "      <td>0</td>\n",
       "      <td>0</td>\n",
       "      <td>0</td>\n",
       "      <td>0</td>\n",
       "      <td>0</td>\n",
       "      <td>0</td>\n",
       "      <td>0</td>\n",
       "    </tr>\n",
       "    <tr>\n",
       "      <td>2925</td>\n",
       "      <td>0</td>\n",
       "      <td>-0.095859</td>\n",
       "      <td>1.256598</td>\n",
       "      <td>-0.166946</td>\n",
       "      <td>0</td>\n",
       "      <td>0</td>\n",
       "      <td>1</td>\n",
       "      <td>0</td>\n",
       "      <td>0</td>\n",
       "      <td>0</td>\n",
       "      <td>...</td>\n",
       "      <td>0</td>\n",
       "      <td>0</td>\n",
       "      <td>0</td>\n",
       "      <td>0</td>\n",
       "      <td>0</td>\n",
       "      <td>0</td>\n",
       "      <td>0</td>\n",
       "      <td>0</td>\n",
       "      <td>0</td>\n",
       "      <td>0</td>\n",
       "    </tr>\n",
       "    <tr>\n",
       "      <td>8886</td>\n",
       "      <td>0</td>\n",
       "      <td>-0.404341</td>\n",
       "      <td>1.467245</td>\n",
       "      <td>-0.660786</td>\n",
       "      <td>0</td>\n",
       "      <td>0</td>\n",
       "      <td>0</td>\n",
       "      <td>0</td>\n",
       "      <td>0</td>\n",
       "      <td>1</td>\n",
       "      <td>...</td>\n",
       "      <td>0</td>\n",
       "      <td>0</td>\n",
       "      <td>0</td>\n",
       "      <td>0</td>\n",
       "      <td>0</td>\n",
       "      <td>0</td>\n",
       "      <td>0</td>\n",
       "      <td>0</td>\n",
       "      <td>0</td>\n",
       "      <td>0</td>\n",
       "    </tr>\n",
       "    <tr>\n",
       "      <td>7926</td>\n",
       "      <td>0</td>\n",
       "      <td>0.212622</td>\n",
       "      <td>-0.466716</td>\n",
       "      <td>-0.497819</td>\n",
       "      <td>0</td>\n",
       "      <td>0</td>\n",
       "      <td>0</td>\n",
       "      <td>0</td>\n",
       "      <td>0</td>\n",
       "      <td>0</td>\n",
       "      <td>...</td>\n",
       "      <td>0</td>\n",
       "      <td>0</td>\n",
       "      <td>0</td>\n",
       "      <td>0</td>\n",
       "      <td>0</td>\n",
       "      <td>0</td>\n",
       "      <td>0</td>\n",
       "      <td>0</td>\n",
       "      <td>0</td>\n",
       "      <td>0</td>\n",
       "    </tr>\n",
       "  </tbody>\n",
       "</table>\n",
       "<p>5 rows × 96 columns</p>\n",
       "</div>"
      ],
      "text/plain": [
       "      Do_Not_Email  TotalVisits  Total_Time_Spent_on_Website  \\\n",
       "3070             0    -0.095859                     0.052639   \n",
       "2178             0     0.521104                    -0.719130   \n",
       "2925             0    -0.095859                     1.256598   \n",
       "8886             0    -0.404341                     1.467245   \n",
       "7926             0     0.212622                    -0.466716   \n",
       "\n",
       "      Page_Views_Per_Visit  A_free_copy_of_Mastering_The_Interview  \\\n",
       "3070             -0.660786                                       0   \n",
       "2178              1.314576                                       0   \n",
       "2925             -0.166946                                       0   \n",
       "8886             -0.660786                                       0   \n",
       "7926             -0.497819                                       0   \n",
       "\n",
       "      Lead_Origin_Landing_Page_Submission  Lead_Origin_Lead_Add_Form  \\\n",
       "3070                                    0                          0   \n",
       "2178                                    1                          0   \n",
       "2925                                    0                          1   \n",
       "8886                                    0                          0   \n",
       "7926                                    0                          0   \n",
       "\n",
       "      Lead_Origin_Lead_Import  Lead_Source_Facebook  Lead_Source_Google  ...  \\\n",
       "3070                        0                     0                   1  ...   \n",
       "2178                        0                     0                   0  ...   \n",
       "2925                        0                     0                   0  ...   \n",
       "8886                        0                     0                   1  ...   \n",
       "7926                        0                     0                   0  ...   \n",
       "\n",
       "      Tags_number_not_provided  Tags_opp_hangup  Tags_switched_off  \\\n",
       "3070                         0                0                  0   \n",
       "2178                         0                0                  0   \n",
       "2925                         0                0                  0   \n",
       "8886                         0                0                  0   \n",
       "7926                         0                0                  0   \n",
       "\n",
       "      Tags_wrong_number_given  City_Mumbai  City_Other_Cities  \\\n",
       "3070                        0            0                  0   \n",
       "2178                        0            0                  0   \n",
       "2925                        0            0                  0   \n",
       "8886                        0            0                  0   \n",
       "7926                        0            0                  0   \n",
       "\n",
       "      City_Other_Cities_of_Maharashtra  City_Other_Metro_Cities  \\\n",
       "3070                                 0                        0   \n",
       "2178                                 0                        0   \n",
       "2925                                 0                        0   \n",
       "8886                                 0                        0   \n",
       "7926                                 0                        0   \n",
       "\n",
       "      City_Thane_&_Outskirts  City_Tier_II_Cities  \n",
       "3070                       0                    0  \n",
       "2178                       0                    0  \n",
       "2925                       0                    0  \n",
       "8886                       0                    0  \n",
       "7926                       0                    0  \n",
       "\n",
       "[5 rows x 96 columns]"
      ]
     },
     "execution_count": 63,
     "metadata": {},
     "output_type": "execute_result"
    }
   ],
   "source": [
    "from sklearn.preprocessing import StandardScaler\n",
    "scaler = StandardScaler()\n",
    "\n",
    "X_train[['TotalVisits','Total_Time_Spent_on_Website','Page_Views_Per_Visit']] = scaler.fit_transform(X_train[['TotalVisits','Total_Time_Spent_on_Website','Page_Views_Per_Visit']])\n",
    "\n",
    "X_train.head()"
   ]
  },
  {
   "cell_type": "code",
   "execution_count": 64,
   "metadata": {},
   "outputs": [
    {
     "data": {
      "text/plain": [
       "38.56507109519158"
      ]
     },
     "execution_count": 64,
     "metadata": {},
     "output_type": "execute_result"
    }
   ],
   "source": [
    "### Checking the Converstion Rate\n",
    "converted = (sum(lead['Converted'])/len(lead['Converted'].index))*100\n",
    "converted"
   ]
  },
  {
   "cell_type": "markdown",
   "metadata": {},
   "source": [
    "We have around 38% conversion rate"
   ]
  },
  {
   "cell_type": "markdown",
   "metadata": {},
   "source": [
    "### Finding Correlations"
   ]
  },
  {
   "cell_type": "code",
   "execution_count": null,
   "metadata": {},
   "outputs": [],
   "source": [
    "# Importing matplotlib and seaborn\n",
    "import matplotlib.pyplot as plt\n",
    "import seaborn as sns\n",
    "%matplotlib inline"
   ]
  },
  {
   "cell_type": "code",
   "execution_count": 65,
   "metadata": {},
   "outputs": [
    {
     "data": {
      "text/html": [
       "<div>\n",
       "<style scoped>\n",
       "    .dataframe tbody tr th:only-of-type {\n",
       "        vertical-align: middle;\n",
       "    }\n",
       "\n",
       "    .dataframe tbody tr th {\n",
       "        vertical-align: top;\n",
       "    }\n",
       "\n",
       "    .dataframe thead th {\n",
       "        text-align: right;\n",
       "    }\n",
       "</style>\n",
       "<table border=\"1\" class=\"dataframe\">\n",
       "  <thead>\n",
       "    <tr style=\"text-align: right;\">\n",
       "      <th></th>\n",
       "      <th>Lead_Number</th>\n",
       "      <th>Do_Not_Email</th>\n",
       "      <th>Converted</th>\n",
       "      <th>TotalVisits</th>\n",
       "      <th>Total_Time_Spent_on_Website</th>\n",
       "      <th>Page_Views_Per_Visit</th>\n",
       "      <th>A_free_copy_of_Mastering_The_Interview</th>\n",
       "      <th>Lead_Origin_Landing_Page_Submission</th>\n",
       "      <th>Lead_Origin_Lead_Add_Form</th>\n",
       "      <th>Lead_Origin_Lead_Import</th>\n",
       "      <th>...</th>\n",
       "      <th>Tags_number_not_provided</th>\n",
       "      <th>Tags_opp_hangup</th>\n",
       "      <th>Tags_switched_off</th>\n",
       "      <th>Tags_wrong_number_given</th>\n",
       "      <th>City_Mumbai</th>\n",
       "      <th>City_Other_Cities</th>\n",
       "      <th>City_Other_Cities_of_Maharashtra</th>\n",
       "      <th>City_Other_Metro_Cities</th>\n",
       "      <th>City_Thane_&amp;_Outskirts</th>\n",
       "      <th>City_Tier_II_Cities</th>\n",
       "    </tr>\n",
       "  </thead>\n",
       "  <tbody>\n",
       "    <tr>\n",
       "      <td>Lead_Number</td>\n",
       "      <td>1.000000</td>\n",
       "      <td>-0.098829</td>\n",
       "      <td>0.025911</td>\n",
       "      <td>0.039797</td>\n",
       "      <td>0.020702</td>\n",
       "      <td>0.058583</td>\n",
       "      <td>-0.110043</td>\n",
       "      <td>-0.074879</td>\n",
       "      <td>0.029475</td>\n",
       "      <td>0.104805</td>\n",
       "      <td>...</td>\n",
       "      <td>-0.008368</td>\n",
       "      <td>-0.026203</td>\n",
       "      <td>-0.003002</td>\n",
       "      <td>-0.013638</td>\n",
       "      <td>-0.035842</td>\n",
       "      <td>0.007201</td>\n",
       "      <td>-0.001936</td>\n",
       "      <td>-0.025100</td>\n",
       "      <td>0.025417</td>\n",
       "      <td>-0.039461</td>\n",
       "    </tr>\n",
       "    <tr>\n",
       "      <td>Do_Not_Email</td>\n",
       "      <td>-0.098829</td>\n",
       "      <td>1.000000</td>\n",
       "      <td>-0.135019</td>\n",
       "      <td>-0.002966</td>\n",
       "      <td>-0.047924</td>\n",
       "      <td>0.018193</td>\n",
       "      <td>0.054342</td>\n",
       "      <td>0.093091</td>\n",
       "      <td>-0.019989</td>\n",
       "      <td>-0.017375</td>\n",
       "      <td>...</td>\n",
       "      <td>0.058847</td>\n",
       "      <td>0.002772</td>\n",
       "      <td>0.028294</td>\n",
       "      <td>0.069752</td>\n",
       "      <td>0.028811</td>\n",
       "      <td>0.009861</td>\n",
       "      <td>-0.007044</td>\n",
       "      <td>0.039136</td>\n",
       "      <td>-0.005129</td>\n",
       "      <td>0.046090</td>\n",
       "    </tr>\n",
       "    <tr>\n",
       "      <td>Converted</td>\n",
       "      <td>0.025911</td>\n",
       "      <td>-0.135019</td>\n",
       "      <td>1.000000</td>\n",
       "      <td>0.047451</td>\n",
       "      <td>0.362655</td>\n",
       "      <td>-0.001520</td>\n",
       "      <td>-0.039343</td>\n",
       "      <td>-0.049841</td>\n",
       "      <td>0.321710</td>\n",
       "      <td>-0.023768</td>\n",
       "      <td>...</td>\n",
       "      <td>-0.042954</td>\n",
       "      <td>-0.036305</td>\n",
       "      <td>-0.123977</td>\n",
       "      <td>-0.056735</td>\n",
       "      <td>0.031203</td>\n",
       "      <td>0.010725</td>\n",
       "      <td>0.025850</td>\n",
       "      <td>0.008801</td>\n",
       "      <td>0.040644</td>\n",
       "      <td>-0.008839</td>\n",
       "    </tr>\n",
       "    <tr>\n",
       "      <td>TotalVisits</td>\n",
       "      <td>0.039797</td>\n",
       "      <td>-0.002966</td>\n",
       "      <td>0.047451</td>\n",
       "      <td>1.000000</td>\n",
       "      <td>0.325650</td>\n",
       "      <td>0.690504</td>\n",
       "      <td>0.278325</td>\n",
       "      <td>0.402357</td>\n",
       "      <td>-0.235106</td>\n",
       "      <td>-0.044066</td>\n",
       "      <td>...</td>\n",
       "      <td>0.001573</td>\n",
       "      <td>0.008721</td>\n",
       "      <td>0.029190</td>\n",
       "      <td>0.026254</td>\n",
       "      <td>0.252365</td>\n",
       "      <td>0.077530</td>\n",
       "      <td>0.052904</td>\n",
       "      <td>0.071670</td>\n",
       "      <td>0.086033</td>\n",
       "      <td>0.021162</td>\n",
       "    </tr>\n",
       "    <tr>\n",
       "      <td>Total_Time_Spent_on_Website</td>\n",
       "      <td>0.020702</td>\n",
       "      <td>-0.047924</td>\n",
       "      <td>0.362655</td>\n",
       "      <td>0.325650</td>\n",
       "      <td>1.000000</td>\n",
       "      <td>0.332151</td>\n",
       "      <td>0.170023</td>\n",
       "      <td>0.277483</td>\n",
       "      <td>-0.139851</td>\n",
       "      <td>-0.034967</td>\n",
       "      <td>...</td>\n",
       "      <td>0.002429</td>\n",
       "      <td>-0.008586</td>\n",
       "      <td>-0.027923</td>\n",
       "      <td>-0.013778</td>\n",
       "      <td>0.169333</td>\n",
       "      <td>0.054836</td>\n",
       "      <td>0.066982</td>\n",
       "      <td>0.049556</td>\n",
       "      <td>0.074633</td>\n",
       "      <td>0.020882</td>\n",
       "    </tr>\n",
       "    <tr>\n",
       "      <td>...</td>\n",
       "      <td>...</td>\n",
       "      <td>...</td>\n",
       "      <td>...</td>\n",
       "      <td>...</td>\n",
       "      <td>...</td>\n",
       "      <td>...</td>\n",
       "      <td>...</td>\n",
       "      <td>...</td>\n",
       "      <td>...</td>\n",
       "      <td>...</td>\n",
       "      <td>...</td>\n",
       "      <td>...</td>\n",
       "      <td>...</td>\n",
       "      <td>...</td>\n",
       "      <td>...</td>\n",
       "      <td>...</td>\n",
       "      <td>...</td>\n",
       "      <td>...</td>\n",
       "      <td>...</td>\n",
       "      <td>...</td>\n",
       "      <td>...</td>\n",
       "    </tr>\n",
       "    <tr>\n",
       "      <td>City_Other_Cities</td>\n",
       "      <td>0.007201</td>\n",
       "      <td>0.009861</td>\n",
       "      <td>0.010725</td>\n",
       "      <td>0.077530</td>\n",
       "      <td>0.054836</td>\n",
       "      <td>0.089938</td>\n",
       "      <td>0.184972</td>\n",
       "      <td>0.174500</td>\n",
       "      <td>-0.049727</td>\n",
       "      <td>0.004962</td>\n",
       "      <td>...</td>\n",
       "      <td>0.015316</td>\n",
       "      <td>0.024643</td>\n",
       "      <td>0.013545</td>\n",
       "      <td>0.002999</td>\n",
       "      <td>-0.206970</td>\n",
       "      <td>1.000000</td>\n",
       "      <td>-0.064571</td>\n",
       "      <td>-0.058611</td>\n",
       "      <td>-0.083931</td>\n",
       "      <td>-0.025463</td>\n",
       "    </tr>\n",
       "    <tr>\n",
       "      <td>City_Other_Cities_of_Maharashtra</td>\n",
       "      <td>-0.001936</td>\n",
       "      <td>-0.007044</td>\n",
       "      <td>0.025850</td>\n",
       "      <td>0.052904</td>\n",
       "      <td>0.066982</td>\n",
       "      <td>0.086246</td>\n",
       "      <td>0.109843</td>\n",
       "      <td>0.148518</td>\n",
       "      <td>-0.043876</td>\n",
       "      <td>0.112240</td>\n",
       "      <td>...</td>\n",
       "      <td>-0.003114</td>\n",
       "      <td>-0.005305</td>\n",
       "      <td>0.028656</td>\n",
       "      <td>-0.009316</td>\n",
       "      <td>-0.166908</td>\n",
       "      <td>-0.064571</td>\n",
       "      <td>1.000000</td>\n",
       "      <td>-0.047266</td>\n",
       "      <td>-0.067685</td>\n",
       "      <td>-0.020534</td>\n",
       "    </tr>\n",
       "    <tr>\n",
       "      <td>City_Other_Metro_Cities</td>\n",
       "      <td>-0.025100</td>\n",
       "      <td>0.039136</td>\n",
       "      <td>0.008801</td>\n",
       "      <td>0.071670</td>\n",
       "      <td>0.049556</td>\n",
       "      <td>0.100917</td>\n",
       "      <td>0.174251</td>\n",
       "      <td>0.160739</td>\n",
       "      <td>-0.054052</td>\n",
       "      <td>0.005232</td>\n",
       "      <td>...</td>\n",
       "      <td>-0.011229</td>\n",
       "      <td>0.005877</td>\n",
       "      <td>0.000436</td>\n",
       "      <td>0.038866</td>\n",
       "      <td>-0.151500</td>\n",
       "      <td>-0.058611</td>\n",
       "      <td>-0.047266</td>\n",
       "      <td>1.000000</td>\n",
       "      <td>-0.061437</td>\n",
       "      <td>-0.018638</td>\n",
       "    </tr>\n",
       "    <tr>\n",
       "      <td>City_Thane_&amp;_Outskirts</td>\n",
       "      <td>0.025417</td>\n",
       "      <td>-0.005129</td>\n",
       "      <td>0.040644</td>\n",
       "      <td>0.086033</td>\n",
       "      <td>0.074633</td>\n",
       "      <td>0.090155</td>\n",
       "      <td>0.046845</td>\n",
       "      <td>0.154336</td>\n",
       "      <td>-0.002942</td>\n",
       "      <td>-0.012650</td>\n",
       "      <td>...</td>\n",
       "      <td>-0.016081</td>\n",
       "      <td>0.002209</td>\n",
       "      <td>0.008980</td>\n",
       "      <td>0.006703</td>\n",
       "      <td>-0.216950</td>\n",
       "      <td>-0.083931</td>\n",
       "      <td>-0.067685</td>\n",
       "      <td>-0.061437</td>\n",
       "      <td>1.000000</td>\n",
       "      <td>-0.026690</td>\n",
       "    </tr>\n",
       "    <tr>\n",
       "      <td>City_Tier_II_Cities</td>\n",
       "      <td>-0.039461</td>\n",
       "      <td>0.046090</td>\n",
       "      <td>-0.008839</td>\n",
       "      <td>0.021162</td>\n",
       "      <td>0.020882</td>\n",
       "      <td>0.033057</td>\n",
       "      <td>0.073243</td>\n",
       "      <td>0.082614</td>\n",
       "      <td>-0.021602</td>\n",
       "      <td>-0.006973</td>\n",
       "      <td>...</td>\n",
       "      <td>-0.004878</td>\n",
       "      <td>0.014959</td>\n",
       "      <td>0.015820</td>\n",
       "      <td>-0.006444</td>\n",
       "      <td>-0.065817</td>\n",
       "      <td>-0.025463</td>\n",
       "      <td>-0.020534</td>\n",
       "      <td>-0.018638</td>\n",
       "      <td>-0.026690</td>\n",
       "      <td>1.000000</td>\n",
       "    </tr>\n",
       "  </tbody>\n",
       "</table>\n",
       "<p>98 rows × 98 columns</p>\n",
       "</div>"
      ],
      "text/plain": [
       "                                  Lead_Number  Do_Not_Email  Converted  \\\n",
       "Lead_Number                          1.000000     -0.098829   0.025911   \n",
       "Do_Not_Email                        -0.098829      1.000000  -0.135019   \n",
       "Converted                            0.025911     -0.135019   1.000000   \n",
       "TotalVisits                          0.039797     -0.002966   0.047451   \n",
       "Total_Time_Spent_on_Website          0.020702     -0.047924   0.362655   \n",
       "...                                       ...           ...        ...   \n",
       "City_Other_Cities                    0.007201      0.009861   0.010725   \n",
       "City_Other_Cities_of_Maharashtra    -0.001936     -0.007044   0.025850   \n",
       "City_Other_Metro_Cities             -0.025100      0.039136   0.008801   \n",
       "City_Thane_&_Outskirts               0.025417     -0.005129   0.040644   \n",
       "City_Tier_II_Cities                 -0.039461      0.046090  -0.008839   \n",
       "\n",
       "                                  TotalVisits  Total_Time_Spent_on_Website  \\\n",
       "Lead_Number                          0.039797                     0.020702   \n",
       "Do_Not_Email                        -0.002966                    -0.047924   \n",
       "Converted                            0.047451                     0.362655   \n",
       "TotalVisits                          1.000000                     0.325650   \n",
       "Total_Time_Spent_on_Website          0.325650                     1.000000   \n",
       "...                                       ...                          ...   \n",
       "City_Other_Cities                    0.077530                     0.054836   \n",
       "City_Other_Cities_of_Maharashtra     0.052904                     0.066982   \n",
       "City_Other_Metro_Cities              0.071670                     0.049556   \n",
       "City_Thane_&_Outskirts               0.086033                     0.074633   \n",
       "City_Tier_II_Cities                  0.021162                     0.020882   \n",
       "\n",
       "                                  Page_Views_Per_Visit  \\\n",
       "Lead_Number                                   0.058583   \n",
       "Do_Not_Email                                  0.018193   \n",
       "Converted                                    -0.001520   \n",
       "TotalVisits                                   0.690504   \n",
       "Total_Time_Spent_on_Website                   0.332151   \n",
       "...                                                ...   \n",
       "City_Other_Cities                             0.089938   \n",
       "City_Other_Cities_of_Maharashtra              0.086246   \n",
       "City_Other_Metro_Cities                       0.100917   \n",
       "City_Thane_&_Outskirts                        0.090155   \n",
       "City_Tier_II_Cities                           0.033057   \n",
       "\n",
       "                                  A_free_copy_of_Mastering_The_Interview  \\\n",
       "Lead_Number                                                    -0.110043   \n",
       "Do_Not_Email                                                    0.054342   \n",
       "Converted                                                      -0.039343   \n",
       "TotalVisits                                                     0.278325   \n",
       "Total_Time_Spent_on_Website                                     0.170023   \n",
       "...                                                                  ...   \n",
       "City_Other_Cities                                               0.184972   \n",
       "City_Other_Cities_of_Maharashtra                                0.109843   \n",
       "City_Other_Metro_Cities                                         0.174251   \n",
       "City_Thane_&_Outskirts                                          0.046845   \n",
       "City_Tier_II_Cities                                             0.073243   \n",
       "\n",
       "                                  Lead_Origin_Landing_Page_Submission  \\\n",
       "Lead_Number                                                 -0.074879   \n",
       "Do_Not_Email                                                 0.093091   \n",
       "Converted                                                   -0.049841   \n",
       "TotalVisits                                                  0.402357   \n",
       "Total_Time_Spent_on_Website                                  0.277483   \n",
       "...                                                               ...   \n",
       "City_Other_Cities                                            0.174500   \n",
       "City_Other_Cities_of_Maharashtra                             0.148518   \n",
       "City_Other_Metro_Cities                                      0.160739   \n",
       "City_Thane_&_Outskirts                                       0.154336   \n",
       "City_Tier_II_Cities                                          0.082614   \n",
       "\n",
       "                                  Lead_Origin_Lead_Add_Form  \\\n",
       "Lead_Number                                        0.029475   \n",
       "Do_Not_Email                                      -0.019989   \n",
       "Converted                                          0.321710   \n",
       "TotalVisits                                       -0.235106   \n",
       "Total_Time_Spent_on_Website                       -0.139851   \n",
       "...                                                     ...   \n",
       "City_Other_Cities                                 -0.049727   \n",
       "City_Other_Cities_of_Maharashtra                  -0.043876   \n",
       "City_Other_Metro_Cities                           -0.054052   \n",
       "City_Thane_&_Outskirts                            -0.002942   \n",
       "City_Tier_II_Cities                               -0.021602   \n",
       "\n",
       "                                  Lead_Origin_Lead_Import  ...  \\\n",
       "Lead_Number                                      0.104805  ...   \n",
       "Do_Not_Email                                    -0.017375  ...   \n",
       "Converted                                       -0.023768  ...   \n",
       "TotalVisits                                     -0.044066  ...   \n",
       "Total_Time_Spent_on_Website                     -0.034967  ...   \n",
       "...                                                   ...  ...   \n",
       "City_Other_Cities                                0.004962  ...   \n",
       "City_Other_Cities_of_Maharashtra                 0.112240  ...   \n",
       "City_Other_Metro_Cities                          0.005232  ...   \n",
       "City_Thane_&_Outskirts                          -0.012650  ...   \n",
       "City_Tier_II_Cities                             -0.006973  ...   \n",
       "\n",
       "                                  Tags_number_not_provided  Tags_opp_hangup  \\\n",
       "Lead_Number                                      -0.008368        -0.026203   \n",
       "Do_Not_Email                                      0.058847         0.002772   \n",
       "Converted                                        -0.042954        -0.036305   \n",
       "TotalVisits                                       0.001573         0.008721   \n",
       "Total_Time_Spent_on_Website                       0.002429        -0.008586   \n",
       "...                                                    ...              ...   \n",
       "City_Other_Cities                                 0.015316         0.024643   \n",
       "City_Other_Cities_of_Maharashtra                 -0.003114        -0.005305   \n",
       "City_Other_Metro_Cities                          -0.011229         0.005877   \n",
       "City_Thane_&_Outskirts                           -0.016081         0.002209   \n",
       "City_Tier_II_Cities                              -0.004878         0.014959   \n",
       "\n",
       "                                  Tags_switched_off  Tags_wrong_number_given  \\\n",
       "Lead_Number                               -0.003002                -0.013638   \n",
       "Do_Not_Email                               0.028294                 0.069752   \n",
       "Converted                                 -0.123977                -0.056735   \n",
       "TotalVisits                                0.029190                 0.026254   \n",
       "Total_Time_Spent_on_Website               -0.027923                -0.013778   \n",
       "...                                             ...                      ...   \n",
       "City_Other_Cities                          0.013545                 0.002999   \n",
       "City_Other_Cities_of_Maharashtra           0.028656                -0.009316   \n",
       "City_Other_Metro_Cities                    0.000436                 0.038866   \n",
       "City_Thane_&_Outskirts                     0.008980                 0.006703   \n",
       "City_Tier_II_Cities                        0.015820                -0.006444   \n",
       "\n",
       "                                  City_Mumbai  City_Other_Cities  \\\n",
       "Lead_Number                         -0.035842           0.007201   \n",
       "Do_Not_Email                         0.028811           0.009861   \n",
       "Converted                            0.031203           0.010725   \n",
       "TotalVisits                          0.252365           0.077530   \n",
       "Total_Time_Spent_on_Website          0.169333           0.054836   \n",
       "...                                       ...                ...   \n",
       "City_Other_Cities                   -0.206970           1.000000   \n",
       "City_Other_Cities_of_Maharashtra    -0.166908          -0.064571   \n",
       "City_Other_Metro_Cities             -0.151500          -0.058611   \n",
       "City_Thane_&_Outskirts              -0.216950          -0.083931   \n",
       "City_Tier_II_Cities                 -0.065817          -0.025463   \n",
       "\n",
       "                                  City_Other_Cities_of_Maharashtra  \\\n",
       "Lead_Number                                              -0.001936   \n",
       "Do_Not_Email                                             -0.007044   \n",
       "Converted                                                 0.025850   \n",
       "TotalVisits                                               0.052904   \n",
       "Total_Time_Spent_on_Website                               0.066982   \n",
       "...                                                            ...   \n",
       "City_Other_Cities                                        -0.064571   \n",
       "City_Other_Cities_of_Maharashtra                          1.000000   \n",
       "City_Other_Metro_Cities                                  -0.047266   \n",
       "City_Thane_&_Outskirts                                   -0.067685   \n",
       "City_Tier_II_Cities                                      -0.020534   \n",
       "\n",
       "                                  City_Other_Metro_Cities  \\\n",
       "Lead_Number                                     -0.025100   \n",
       "Do_Not_Email                                     0.039136   \n",
       "Converted                                        0.008801   \n",
       "TotalVisits                                      0.071670   \n",
       "Total_Time_Spent_on_Website                      0.049556   \n",
       "...                                                   ...   \n",
       "City_Other_Cities                               -0.058611   \n",
       "City_Other_Cities_of_Maharashtra                -0.047266   \n",
       "City_Other_Metro_Cities                          1.000000   \n",
       "City_Thane_&_Outskirts                          -0.061437   \n",
       "City_Tier_II_Cities                             -0.018638   \n",
       "\n",
       "                                  City_Thane_&_Outskirts  City_Tier_II_Cities  \n",
       "Lead_Number                                     0.025417            -0.039461  \n",
       "Do_Not_Email                                   -0.005129             0.046090  \n",
       "Converted                                       0.040644            -0.008839  \n",
       "TotalVisits                                     0.086033             0.021162  \n",
       "Total_Time_Spent_on_Website                     0.074633             0.020882  \n",
       "...                                                  ...                  ...  \n",
       "City_Other_Cities                              -0.083931            -0.025463  \n",
       "City_Other_Cities_of_Maharashtra               -0.067685            -0.020534  \n",
       "City_Other_Metro_Cities                        -0.061437            -0.018638  \n",
       "City_Thane_&_Outskirts                          1.000000            -0.026690  \n",
       "City_Tier_II_Cities                            -0.026690             1.000000  \n",
       "\n",
       "[98 rows x 98 columns]"
      ]
     },
     "execution_count": 65,
     "metadata": {},
     "output_type": "execute_result"
    }
   ],
   "source": [
    "# Let's see the correlation matrix \n",
    "lead.corr()"
   ]
  },
  {
   "cell_type": "markdown",
   "metadata": {},
   "source": [
    "### Model Building"
   ]
  },
  {
   "cell_type": "code",
   "execution_count": 66,
   "metadata": {},
   "outputs": [],
   "source": [
    "#importing statsmodels api\n",
    "import statsmodels.api as sm"
   ]
  },
  {
   "cell_type": "code",
   "execution_count": 67,
   "metadata": {},
   "outputs": [
    {
     "data": {
      "text/html": [
       "<table class=\"simpletable\">\n",
       "<caption>Generalized Linear Model Regression Results</caption>\n",
       "<tr>\n",
       "  <th>Dep. Variable:</th>       <td>Converted</td>    <th>  No. Observations:  </th>  <td>  6449</td> \n",
       "</tr>\n",
       "<tr>\n",
       "  <th>Model:</th>                  <td>GLM</td>       <th>  Df Residuals:      </th>  <td>  6352</td> \n",
       "</tr>\n",
       "<tr>\n",
       "  <th>Model Family:</th>        <td>Binomial</td>     <th>  Df Model:          </th>  <td>    96</td> \n",
       "</tr>\n",
       "<tr>\n",
       "  <th>Link Function:</th>         <td>logit</td>      <th>  Scale:             </th> <td>  1.0000</td>\n",
       "</tr>\n",
       "<tr>\n",
       "  <th>Method:</th>                <td>IRLS</td>       <th>  Log-Likelihood:    </th> <td> -1038.6</td>\n",
       "</tr>\n",
       "<tr>\n",
       "  <th>Date:</th>            <td>Sun, 19 Apr 2020</td> <th>  Deviance:          </th> <td>  2077.2</td>\n",
       "</tr>\n",
       "<tr>\n",
       "  <th>Time:</th>                <td>16:44:42</td>     <th>  Pearson chi2:      </th> <td>1.39e+04</td>\n",
       "</tr>\n",
       "<tr>\n",
       "  <th>No. Iterations:</th>         <td>24</td>        <th>                     </th>     <td> </td>   \n",
       "</tr>\n",
       "<tr>\n",
       "  <th>Covariance Type:</th>     <td>nonrobust</td>    <th>                     </th>     <td> </td>   \n",
       "</tr>\n",
       "</table>\n",
       "<table class=\"simpletable\">\n",
       "<tr>\n",
       "                             <td></td>                               <th>coef</th>     <th>std err</th>      <th>z</th>      <th>P>|z|</th>  <th>[0.025</th>    <th>0.975]</th>  \n",
       "</tr>\n",
       "<tr>\n",
       "  <th>const</th>                                                  <td>   20.2146</td> <td> 2.16e+05</td> <td> 9.36e-05</td> <td> 1.000</td> <td>-4.23e+05</td> <td> 4.23e+05</td>\n",
       "</tr>\n",
       "<tr>\n",
       "  <th>Do_Not_Email</th>                                           <td>   -1.0245</td> <td>    0.338</td> <td>   -3.028</td> <td> 0.002</td> <td>   -1.688</td> <td>   -0.361</td>\n",
       "</tr>\n",
       "<tr>\n",
       "  <th>TotalVisits</th>                                            <td>    0.1858</td> <td>    0.090</td> <td>    2.061</td> <td> 0.039</td> <td>    0.009</td> <td>    0.363</td>\n",
       "</tr>\n",
       "<tr>\n",
       "  <th>Total_Time_Spent_on_Website</th>                            <td>    1.0643</td> <td>    0.069</td> <td>   15.381</td> <td> 0.000</td> <td>    0.929</td> <td>    1.200</td>\n",
       "</tr>\n",
       "<tr>\n",
       "  <th>Page_Views_Per_Visit</th>                                   <td>   -0.1146</td> <td>    0.095</td> <td>   -1.204</td> <td> 0.229</td> <td>   -0.301</td> <td>    0.072</td>\n",
       "</tr>\n",
       "<tr>\n",
       "  <th>A_free_copy_of_Mastering_The_Interview</th>                 <td>   -0.1078</td> <td>    0.204</td> <td>   -0.528</td> <td> 0.597</td> <td>   -0.507</td> <td>    0.292</td>\n",
       "</tr>\n",
       "<tr>\n",
       "  <th>Lead_Origin_Landing_Page_Submission</th>                    <td>   -0.2513</td> <td>    0.275</td> <td>   -0.914</td> <td> 0.361</td> <td>   -0.790</td> <td>    0.288</td>\n",
       "</tr>\n",
       "<tr>\n",
       "  <th>Lead_Origin_Lead_Add_Form</th>                              <td>    1.2825</td> <td>    0.875</td> <td>    1.467</td> <td> 0.143</td> <td>   -0.432</td> <td>    2.997</td>\n",
       "</tr>\n",
       "<tr>\n",
       "  <th>Lead_Origin_Lead_Import</th>                                <td>   26.1434</td> <td> 2.16e+05</td> <td>    0.000</td> <td> 1.000</td> <td>-4.23e+05</td> <td> 4.23e+05</td>\n",
       "</tr>\n",
       "<tr>\n",
       "  <th>Lead_Source_Facebook</th>                                   <td>  -26.6644</td> <td> 2.16e+05</td> <td>   -0.000</td> <td> 1.000</td> <td>-4.23e+05</td> <td> 4.23e+05</td>\n",
       "</tr>\n",
       "<tr>\n",
       "  <th>Lead_Source_Google</th>                                     <td>    0.2106</td> <td>    0.210</td> <td>    1.005</td> <td> 0.315</td> <td>   -0.200</td> <td>    0.621</td>\n",
       "</tr>\n",
       "<tr>\n",
       "  <th>Lead_Source_Olark_Chat</th>                                 <td>    1.1887</td> <td>    0.277</td> <td>    4.289</td> <td> 0.000</td> <td>    0.645</td> <td>    1.732</td>\n",
       "</tr>\n",
       "<tr>\n",
       "  <th>Lead_Source_Organic_Search</th>                             <td>    0.1713</td> <td>    0.238</td> <td>    0.720</td> <td> 0.472</td> <td>   -0.295</td> <td>    0.638</td>\n",
       "</tr>\n",
       "<tr>\n",
       "  <th>Lead_Source_Others</th>                                     <td>    1.1223</td> <td>    1.106</td> <td>    1.015</td> <td> 0.310</td> <td>   -1.045</td> <td>    3.290</td>\n",
       "</tr>\n",
       "<tr>\n",
       "  <th>Lead_Source_Reference</th>                                  <td>   -0.5329</td> <td>    0.966</td> <td>   -0.552</td> <td> 0.581</td> <td>   -2.426</td> <td>    1.361</td>\n",
       "</tr>\n",
       "<tr>\n",
       "  <th>Lead_Source_Referral_Sites</th>                             <td>    0.0030</td> <td>    0.549</td> <td>    0.005</td> <td> 0.996</td> <td>   -1.074</td> <td>    1.080</td>\n",
       "</tr>\n",
       "<tr>\n",
       "  <th>Lead_Source_Welingak_Website</th>                           <td>    3.1086</td> <td>    1.351</td> <td>    2.302</td> <td> 0.021</td> <td>    0.462</td> <td>    5.756</td>\n",
       "</tr>\n",
       "<tr>\n",
       "  <th>Last_Activity_Email_Bounced</th>                            <td>   -0.3978</td> <td>    0.734</td> <td>   -0.542</td> <td> 0.588</td> <td>   -1.836</td> <td>    1.040</td>\n",
       "</tr>\n",
       "<tr>\n",
       "  <th>Last_Activity_Email_Link_Clicked</th>                       <td>    1.6919</td> <td>    0.738</td> <td>    2.293</td> <td> 0.022</td> <td>    0.246</td> <td>    3.138</td>\n",
       "</tr>\n",
       "<tr>\n",
       "  <th>Last_Activity_Email_Opened</th>                             <td>    0.5830</td> <td>    0.451</td> <td>    1.291</td> <td> 0.197</td> <td>   -0.302</td> <td>    1.468</td>\n",
       "</tr>\n",
       "<tr>\n",
       "  <th>Last_Activity_Form_Submitted_on_Website</th>                <td>    0.9856</td> <td>    0.678</td> <td>    1.454</td> <td> 0.146</td> <td>   -0.343</td> <td>    2.314</td>\n",
       "</tr>\n",
       "<tr>\n",
       "  <th>Last_Activity_Olark_Chat_Conversation</th>                  <td>    0.0539</td> <td>    0.451</td> <td>    0.119</td> <td> 0.905</td> <td>   -0.831</td> <td>    0.939</td>\n",
       "</tr>\n",
       "<tr>\n",
       "  <th>Last_Activity_Others</th>                                   <td>   -1.1708</td> <td>    0.823</td> <td>   -1.423</td> <td> 0.155</td> <td>   -2.784</td> <td>    0.442</td>\n",
       "</tr>\n",
       "<tr>\n",
       "  <th>Last_Activity_Page_Visited_on_Website</th>                  <td>    0.0613</td> <td>    0.533</td> <td>    0.115</td> <td> 0.908</td> <td>   -0.984</td> <td>    1.106</td>\n",
       "</tr>\n",
       "<tr>\n",
       "  <th>Last_Activity_SMS_Sent</th>                                 <td>    1.9437</td> <td>    0.422</td> <td>    4.606</td> <td> 0.000</td> <td>    1.117</td> <td>    2.771</td>\n",
       "</tr>\n",
       "<tr>\n",
       "  <th>Country_Others</th>                                         <td>    0.3328</td> <td>    0.371</td> <td>    0.896</td> <td> 0.370</td> <td>   -0.395</td> <td>    1.061</td>\n",
       "</tr>\n",
       "<tr>\n",
       "  <th>Last_Notable_Activity_Email_Bounced</th>                    <td>  -23.0811</td> <td> 2.16e+05</td> <td>   -0.000</td> <td> 1.000</td> <td>-4.23e+05</td> <td> 4.23e+05</td>\n",
       "</tr>\n",
       "<tr>\n",
       "  <th>Last_Notable_Activity_Email_Link_Clicked</th>               <td>  -24.8476</td> <td> 2.16e+05</td> <td>   -0.000</td> <td> 1.000</td> <td>-4.23e+05</td> <td> 4.23e+05</td>\n",
       "</tr>\n",
       "<tr>\n",
       "  <th>Last_Notable_Activity_Email_Marked_Spam</th>                <td>    1.5832</td> <td> 2.56e+05</td> <td> 6.18e-06</td> <td> 1.000</td> <td>-5.02e+05</td> <td> 5.02e+05</td>\n",
       "</tr>\n",
       "<tr>\n",
       "  <th>Last_Notable_Activity_Email_Opened</th>                     <td>  -23.2254</td> <td> 2.16e+05</td> <td>   -0.000</td> <td> 1.000</td> <td>-4.23e+05</td> <td> 4.23e+05</td>\n",
       "</tr>\n",
       "<tr>\n",
       "  <th>Last_Notable_Activity_Email_Received</th>                   <td>    0.0340</td> <td> 3.05e+05</td> <td> 1.11e-07</td> <td> 1.000</td> <td>-5.99e+05</td> <td> 5.99e+05</td>\n",
       "</tr>\n",
       "<tr>\n",
       "  <th>Last_Notable_Activity_Form_Submitted_on_Website</th>        <td>  -46.6585</td> <td> 3.05e+05</td> <td>   -0.000</td> <td> 1.000</td> <td>-5.99e+05</td> <td> 5.99e+05</td>\n",
       "</tr>\n",
       "<tr>\n",
       "  <th>Last_Notable_Activity_Had_a_Phone_Conversation</th>         <td>    2.7841</td> <td> 2.23e+05</td> <td> 1.25e-05</td> <td> 1.000</td> <td>-4.37e+05</td> <td> 4.37e+05</td>\n",
       "</tr>\n",
       "<tr>\n",
       "  <th>Last_Notable_Activity_Modified</th>                         <td>  -24.2870</td> <td> 2.16e+05</td> <td>   -0.000</td> <td> 1.000</td> <td>-4.23e+05</td> <td> 4.23e+05</td>\n",
       "</tr>\n",
       "<tr>\n",
       "  <th>Last_Notable_Activity_Olark_Chat_Conversation</th>          <td>  -24.7546</td> <td> 2.16e+05</td> <td>   -0.000</td> <td> 1.000</td> <td>-4.23e+05</td> <td> 4.23e+05</td>\n",
       "</tr>\n",
       "<tr>\n",
       "  <th>Last_Notable_Activity_Page_Visited_on_Website</th>          <td>  -23.3721</td> <td> 2.16e+05</td> <td>   -0.000</td> <td> 1.000</td> <td>-4.23e+05</td> <td> 4.23e+05</td>\n",
       "</tr>\n",
       "<tr>\n",
       "  <th>Last_Notable_Activity_Resubscribed_to_emails</th>           <td>    0.7234</td> <td> 3.05e+05</td> <td> 2.37e-06</td> <td> 1.000</td> <td>-5.99e+05</td> <td> 5.99e+05</td>\n",
       "</tr>\n",
       "<tr>\n",
       "  <th>Last_Notable_Activity_SMS_Sent</th>                         <td>  -22.2452</td> <td> 2.16e+05</td> <td>   -0.000</td> <td> 1.000</td> <td>-4.23e+05</td> <td> 4.23e+05</td>\n",
       "</tr>\n",
       "<tr>\n",
       "  <th>Last_Notable_Activity_Unreachable</th>                      <td>  -21.0940</td> <td> 2.16e+05</td> <td>-9.77e-05</td> <td> 1.000</td> <td>-4.23e+05</td> <td> 4.23e+05</td>\n",
       "</tr>\n",
       "<tr>\n",
       "  <th>Last_Notable_Activity_Unsubscribed</th>                     <td>  -20.4522</td> <td> 2.16e+05</td> <td>-9.47e-05</td> <td> 1.000</td> <td>-4.23e+05</td> <td> 4.23e+05</td>\n",
       "</tr>\n",
       "<tr>\n",
       "  <th>Last_Notable_Activity_View_in_browser_link_Clicked</th>     <td>  -42.3068</td> <td> 3.05e+05</td> <td>   -0.000</td> <td> 1.000</td> <td>-5.99e+05</td> <td> 5.99e+05</td>\n",
       "</tr>\n",
       "<tr>\n",
       "  <th>Specialization_Banking,_Investment_And_Insurance</th>       <td>    0.5470</td> <td>    0.442</td> <td>    1.238</td> <td> 0.216</td> <td>   -0.319</td> <td>    1.413</td>\n",
       "</tr>\n",
       "<tr>\n",
       "  <th>Specialization_Business_Administration</th>                 <td>    0.1709</td> <td>    0.410</td> <td>    0.417</td> <td> 0.677</td> <td>   -0.633</td> <td>    0.975</td>\n",
       "</tr>\n",
       "<tr>\n",
       "  <th>Specialization_E-Business</th>                              <td>   -0.1440</td> <td>    0.734</td> <td>   -0.196</td> <td> 0.844</td> <td>   -1.582</td> <td>    1.294</td>\n",
       "</tr>\n",
       "<tr>\n",
       "  <th>Specialization_E-COMMERCE</th>                              <td>    0.7573</td> <td>    0.567</td> <td>    1.335</td> <td> 0.182</td> <td>   -0.354</td> <td>    1.869</td>\n",
       "</tr>\n",
       "<tr>\n",
       "  <th>Specialization_Finance_Management</th>                      <td>    0.1336</td> <td>    0.377</td> <td>    0.355</td> <td> 0.723</td> <td>   -0.605</td> <td>    0.872</td>\n",
       "</tr>\n",
       "<tr>\n",
       "  <th>Specialization_Healthcare_Management</th>                   <td>    0.2036</td> <td>    0.607</td> <td>    0.335</td> <td> 0.737</td> <td>   -0.986</td> <td>    1.393</td>\n",
       "</tr>\n",
       "<tr>\n",
       "  <th>Specialization_Hospitality_Management</th>                  <td>   -0.1346</td> <td>    0.686</td> <td>   -0.196</td> <td> 0.845</td> <td>   -1.480</td> <td>    1.210</td>\n",
       "</tr>\n",
       "<tr>\n",
       "  <th>Specialization_Human_Resource_Management</th>               <td>   -0.0361</td> <td>    0.355</td> <td>   -0.102</td> <td> 0.919</td> <td>   -0.732</td> <td>    0.659</td>\n",
       "</tr>\n",
       "<tr>\n",
       "  <th>Specialization_IT_Projects_Management</th>                  <td>    0.3983</td> <td>    0.446</td> <td>    0.893</td> <td> 0.372</td> <td>   -0.476</td> <td>    1.272</td>\n",
       "</tr>\n",
       "<tr>\n",
       "  <th>Specialization_International_Business</th>                  <td>    0.0837</td> <td>    0.496</td> <td>    0.169</td> <td> 0.866</td> <td>   -0.889</td> <td>    1.057</td>\n",
       "</tr>\n",
       "<tr>\n",
       "  <th>Specialization_Marketing_Management</th>                    <td>    0.0955</td> <td>    0.368</td> <td>    0.259</td> <td> 0.795</td> <td>   -0.626</td> <td>    0.817</td>\n",
       "</tr>\n",
       "<tr>\n",
       "  <th>Specialization_Media_and_Advertising</th>                   <td>    0.3123</td> <td>    0.514</td> <td>    0.607</td> <td> 0.544</td> <td>   -0.695</td> <td>    1.320</td>\n",
       "</tr>\n",
       "<tr>\n",
       "  <th>Specialization_Operations_Management</th>                   <td>   -0.0635</td> <td>    0.409</td> <td>   -0.155</td> <td> 0.877</td> <td>   -0.866</td> <td>    0.739</td>\n",
       "</tr>\n",
       "<tr>\n",
       "  <th>Specialization_Retail_Management</th>                       <td>    0.1380</td> <td>    0.644</td> <td>    0.214</td> <td> 0.830</td> <td>   -1.124</td> <td>    1.400</td>\n",
       "</tr>\n",
       "<tr>\n",
       "  <th>Specialization_Rural_and_Agribusiness</th>                  <td>    0.6785</td> <td>    0.771</td> <td>    0.880</td> <td> 0.379</td> <td>   -0.833</td> <td>    2.190</td>\n",
       "</tr>\n",
       "<tr>\n",
       "  <th>Specialization_Services_Excellence</th>                     <td>    1.1739</td> <td>    0.889</td> <td>    1.321</td> <td> 0.187</td> <td>   -0.568</td> <td>    2.916</td>\n",
       "</tr>\n",
       "<tr>\n",
       "  <th>Specialization_Supply_Chain_Management</th>                 <td>   -0.6532</td> <td>    0.459</td> <td>   -1.424</td> <td> 0.155</td> <td>   -1.552</td> <td>    0.246</td>\n",
       "</tr>\n",
       "<tr>\n",
       "  <th>Specialization_Travel_and_Tourism</th>                      <td>   -0.4966</td> <td>    0.584</td> <td>   -0.850</td> <td> 0.395</td> <td>   -1.642</td> <td>    0.648</td>\n",
       "</tr>\n",
       "<tr>\n",
       "  <th>What_is_your_current_occupation_Businessman</th>            <td>    1.5264</td> <td>    1.375</td> <td>    1.110</td> <td> 0.267</td> <td>   -1.168</td> <td>    4.221</td>\n",
       "</tr>\n",
       "<tr>\n",
       "  <th>What_is_your_current_occupation_Housewife</th>              <td>   25.3302</td> <td> 7.47e+04</td> <td>    0.000</td> <td> 1.000</td> <td>-1.46e+05</td> <td> 1.46e+05</td>\n",
       "</tr>\n",
       "<tr>\n",
       "  <th>What_is_your_current_occupation_Other</th>                  <td>    2.7957</td> <td>    3.018</td> <td>    0.927</td> <td> 0.354</td> <td>   -3.118</td> <td>    8.710</td>\n",
       "</tr>\n",
       "<tr>\n",
       "  <th>What_is_your_current_occupation_Student</th>                <td>    2.5426</td> <td>    0.568</td> <td>    4.478</td> <td> 0.000</td> <td>    1.430</td> <td>    3.656</td>\n",
       "</tr>\n",
       "<tr>\n",
       "  <th>What_is_your_current_occupation_Unemployed</th>             <td>    2.7665</td> <td>    0.170</td> <td>   16.272</td> <td> 0.000</td> <td>    2.433</td> <td>    3.100</td>\n",
       "</tr>\n",
       "<tr>\n",
       "  <th>What_is_your_current_occupation_Working_Professional</th>   <td>    3.3855</td> <td>    0.426</td> <td>    7.956</td> <td> 0.000</td> <td>    2.551</td> <td>    4.220</td>\n",
       "</tr>\n",
       "<tr>\n",
       "  <th>Tags_Already_a_student</th>                                 <td>   -4.7270</td> <td>    0.618</td> <td>   -7.646</td> <td> 0.000</td> <td>   -5.939</td> <td>   -3.515</td>\n",
       "</tr>\n",
       "<tr>\n",
       "  <th>Tags_Busy</th>                                              <td>   -1.1332</td> <td>    0.276</td> <td>   -4.100</td> <td> 0.000</td> <td>   -1.675</td> <td>   -0.591</td>\n",
       "</tr>\n",
       "<tr>\n",
       "  <th>Tags_Closed_by_Horizzon</th>                                <td>    5.8219</td> <td>    1.068</td> <td>    5.451</td> <td> 0.000</td> <td>    3.729</td> <td>    7.915</td>\n",
       "</tr>\n",
       "<tr>\n",
       "  <th>Tags_Diploma_holder_(Not_Eligible)</th>                     <td>   -4.3645</td> <td>    1.124</td> <td>   -3.883</td> <td> 0.000</td> <td>   -6.568</td> <td>   -2.161</td>\n",
       "</tr>\n",
       "<tr>\n",
       "  <th>Tags_Graduation_in_progress</th>                            <td>   -2.5889</td> <td>    0.568</td> <td>   -4.560</td> <td> 0.000</td> <td>   -3.702</td> <td>   -1.476</td>\n",
       "</tr>\n",
       "<tr>\n",
       "  <th>Tags_In_confusion_whether_part_time_or_DLP</th>             <td>   -1.5726</td> <td>    1.873</td> <td>   -0.839</td> <td> 0.401</td> <td>   -5.244</td> <td>    2.099</td>\n",
       "</tr>\n",
       "<tr>\n",
       "  <th>Tags_Interested__in_full_time_MBA</th>                      <td>   -3.5233</td> <td>    0.654</td> <td>   -5.383</td> <td> 0.000</td> <td>   -4.806</td> <td>   -2.241</td>\n",
       "</tr>\n",
       "<tr>\n",
       "  <th>Tags_Interested_in_Next_batch</th>                          <td>   22.1212</td> <td> 9.04e+04</td> <td>    0.000</td> <td> 1.000</td> <td>-1.77e+05</td> <td> 1.77e+05</td>\n",
       "</tr>\n",
       "<tr>\n",
       "  <th>Tags_Interested_in_other_courses</th>                       <td>   -3.8533</td> <td>    0.392</td> <td>   -9.830</td> <td> 0.000</td> <td>   -4.622</td> <td>   -3.085</td>\n",
       "</tr>\n",
       "<tr>\n",
       "  <th>Tags_Lateral_student</th>                                   <td>   24.1457</td> <td> 1.46e+05</td> <td>    0.000</td> <td> 1.000</td> <td>-2.86e+05</td> <td> 2.86e+05</td>\n",
       "</tr>\n",
       "<tr>\n",
       "  <th>Tags_Lost_to_EINS</th>                                      <td>    5.6147</td> <td>    0.665</td> <td>    8.439</td> <td> 0.000</td> <td>    4.311</td> <td>    6.919</td>\n",
       "</tr>\n",
       "<tr>\n",
       "  <th>Tags_Lost_to_Others</th>                                    <td>  -25.1814</td> <td> 8.48e+04</td> <td>   -0.000</td> <td> 1.000</td> <td>-1.66e+05</td> <td> 1.66e+05</td>\n",
       "</tr>\n",
       "<tr>\n",
       "  <th>Tags_Not_doing_further_education</th>                       <td>  -24.8985</td> <td>  1.9e+04</td> <td>   -0.001</td> <td> 0.999</td> <td>-3.73e+04</td> <td> 3.73e+04</td>\n",
       "</tr>\n",
       "<tr>\n",
       "  <th>Tags_Recognition_issue_(DEC_approval)</th>                  <td>  -26.6516</td> <td> 2.16e+05</td> <td>   -0.000</td> <td> 1.000</td> <td>-4.23e+05</td> <td> 4.23e+05</td>\n",
       "</tr>\n",
       "<tr>\n",
       "  <th>Tags_Ringing</th>                                           <td>   -5.4614</td> <td>    0.285</td> <td>  -19.136</td> <td> 0.000</td> <td>   -6.021</td> <td>   -4.902</td>\n",
       "</tr>\n",
       "<tr>\n",
       "  <th>Tags_Shall_take_in_the_next_coming_month</th>               <td>   -0.7274</td> <td>    1.532</td> <td>   -0.475</td> <td> 0.635</td> <td>   -3.731</td> <td>    2.276</td>\n",
       "</tr>\n",
       "<tr>\n",
       "  <th>Tags_Still_Thinking</th>                                    <td>  -26.5930</td> <td> 9.48e+04</td> <td>   -0.000</td> <td> 1.000</td> <td>-1.86e+05</td> <td> 1.86e+05</td>\n",
       "</tr>\n",
       "<tr>\n",
       "  <th>Tags_University_not_recognized</th>                         <td>  -26.8162</td> <td> 2.16e+05</td> <td>   -0.000</td> <td> 1.000</td> <td>-4.23e+05</td> <td> 4.23e+05</td>\n",
       "</tr>\n",
       "<tr>\n",
       "  <th>Tags_Want_to_take_admission_but_has_financial_problems</th> <td>   -1.7896</td> <td>    1.317</td> <td>   -1.359</td> <td> 0.174</td> <td>   -4.371</td> <td>    0.792</td>\n",
       "</tr>\n",
       "<tr>\n",
       "  <th>Tags_Will_revert_after_reading_the_email</th>               <td>    2.6110</td> <td>    0.252</td> <td>   10.370</td> <td> 0.000</td> <td>    2.117</td> <td>    3.104</td>\n",
       "</tr>\n",
       "<tr>\n",
       "  <th>Tags_in_touch_with_EINS</th>                                <td>   -2.2626</td> <td>    1.120</td> <td>   -2.021</td> <td> 0.043</td> <td>   -4.457</td> <td>   -0.068</td>\n",
       "</tr>\n",
       "<tr>\n",
       "  <th>Tags_invalid_number</th>                                    <td>   -5.5953</td> <td>    1.082</td> <td>   -5.174</td> <td> 0.000</td> <td>   -7.715</td> <td>   -3.476</td>\n",
       "</tr>\n",
       "<tr>\n",
       "  <th>Tags_number_not_provided</th>                               <td>  -27.8269</td> <td> 4.12e+04</td> <td>   -0.001</td> <td> 0.999</td> <td>-8.08e+04</td> <td> 8.08e+04</td>\n",
       "</tr>\n",
       "<tr>\n",
       "  <th>Tags_opp_hangup</th>                                        <td>   -2.9504</td> <td>    0.702</td> <td>   -4.203</td> <td> 0.000</td> <td>   -4.326</td> <td>   -1.574</td>\n",
       "</tr>\n",
       "<tr>\n",
       "  <th>Tags_switched_off</th>                                      <td>   -5.7020</td> <td>    0.576</td> <td>   -9.905</td> <td> 0.000</td> <td>   -6.830</td> <td>   -4.574</td>\n",
       "</tr>\n",
       "<tr>\n",
       "  <th>Tags_wrong_number_given</th>                                <td>  -26.7564</td> <td> 3.58e+04</td> <td>   -0.001</td> <td> 0.999</td> <td>-7.03e+04</td> <td> 7.02e+04</td>\n",
       "</tr>\n",
       "<tr>\n",
       "  <th>City_Mumbai</th>                                            <td>   -0.0717</td> <td>    0.337</td> <td>   -0.213</td> <td> 0.831</td> <td>   -0.732</td> <td>    0.589</td>\n",
       "</tr>\n",
       "<tr>\n",
       "  <th>City_Other_Cities</th>                                      <td>   -0.1628</td> <td>    0.387</td> <td>   -0.421</td> <td> 0.674</td> <td>   -0.920</td> <td>    0.595</td>\n",
       "</tr>\n",
       "<tr>\n",
       "  <th>City_Other_Cities_of_Maharashtra</th>                       <td>   -0.0540</td> <td>    0.415</td> <td>   -0.130</td> <td> 0.896</td> <td>   -0.867</td> <td>    0.759</td>\n",
       "</tr>\n",
       "<tr>\n",
       "  <th>City_Other_Metro_Cities</th>                                <td>   -0.1997</td> <td>    0.457</td> <td>   -0.437</td> <td> 0.662</td> <td>   -1.096</td> <td>    0.697</td>\n",
       "</tr>\n",
       "<tr>\n",
       "  <th>City_Thane_&_Outskirts</th>                                 <td>    0.1526</td> <td>    0.390</td> <td>    0.391</td> <td> 0.696</td> <td>   -0.613</td> <td>    0.918</td>\n",
       "</tr>\n",
       "<tr>\n",
       "  <th>City_Tier_II_Cities</th>                                    <td>    0.1994</td> <td>    0.704</td> <td>    0.283</td> <td> 0.777</td> <td>   -1.181</td> <td>    1.580</td>\n",
       "</tr>\n",
       "</table>"
      ],
      "text/plain": [
       "<class 'statsmodels.iolib.summary.Summary'>\n",
       "\"\"\"\n",
       "                 Generalized Linear Model Regression Results                  \n",
       "==============================================================================\n",
       "Dep. Variable:              Converted   No. Observations:                 6449\n",
       "Model:                            GLM   Df Residuals:                     6352\n",
       "Model Family:                Binomial   Df Model:                           96\n",
       "Link Function:                  logit   Scale:                          1.0000\n",
       "Method:                          IRLS   Log-Likelihood:                -1038.6\n",
       "Date:                Sun, 19 Apr 2020   Deviance:                       2077.2\n",
       "Time:                        16:44:42   Pearson chi2:                 1.39e+04\n",
       "No. Iterations:                    24                                         \n",
       "Covariance Type:            nonrobust                                         \n",
       "==========================================================================================================================\n",
       "                                                             coef    std err          z      P>|z|      [0.025      0.975]\n",
       "--------------------------------------------------------------------------------------------------------------------------\n",
       "const                                                     20.2146   2.16e+05   9.36e-05      1.000   -4.23e+05    4.23e+05\n",
       "Do_Not_Email                                              -1.0245      0.338     -3.028      0.002      -1.688      -0.361\n",
       "TotalVisits                                                0.1858      0.090      2.061      0.039       0.009       0.363\n",
       "Total_Time_Spent_on_Website                                1.0643      0.069     15.381      0.000       0.929       1.200\n",
       "Page_Views_Per_Visit                                      -0.1146      0.095     -1.204      0.229      -0.301       0.072\n",
       "A_free_copy_of_Mastering_The_Interview                    -0.1078      0.204     -0.528      0.597      -0.507       0.292\n",
       "Lead_Origin_Landing_Page_Submission                       -0.2513      0.275     -0.914      0.361      -0.790       0.288\n",
       "Lead_Origin_Lead_Add_Form                                  1.2825      0.875      1.467      0.143      -0.432       2.997\n",
       "Lead_Origin_Lead_Import                                   26.1434   2.16e+05      0.000      1.000   -4.23e+05    4.23e+05\n",
       "Lead_Source_Facebook                                     -26.6644   2.16e+05     -0.000      1.000   -4.23e+05    4.23e+05\n",
       "Lead_Source_Google                                         0.2106      0.210      1.005      0.315      -0.200       0.621\n",
       "Lead_Source_Olark_Chat                                     1.1887      0.277      4.289      0.000       0.645       1.732\n",
       "Lead_Source_Organic_Search                                 0.1713      0.238      0.720      0.472      -0.295       0.638\n",
       "Lead_Source_Others                                         1.1223      1.106      1.015      0.310      -1.045       3.290\n",
       "Lead_Source_Reference                                     -0.5329      0.966     -0.552      0.581      -2.426       1.361\n",
       "Lead_Source_Referral_Sites                                 0.0030      0.549      0.005      0.996      -1.074       1.080\n",
       "Lead_Source_Welingak_Website                               3.1086      1.351      2.302      0.021       0.462       5.756\n",
       "Last_Activity_Email_Bounced                               -0.3978      0.734     -0.542      0.588      -1.836       1.040\n",
       "Last_Activity_Email_Link_Clicked                           1.6919      0.738      2.293      0.022       0.246       3.138\n",
       "Last_Activity_Email_Opened                                 0.5830      0.451      1.291      0.197      -0.302       1.468\n",
       "Last_Activity_Form_Submitted_on_Website                    0.9856      0.678      1.454      0.146      -0.343       2.314\n",
       "Last_Activity_Olark_Chat_Conversation                      0.0539      0.451      0.119      0.905      -0.831       0.939\n",
       "Last_Activity_Others                                      -1.1708      0.823     -1.423      0.155      -2.784       0.442\n",
       "Last_Activity_Page_Visited_on_Website                      0.0613      0.533      0.115      0.908      -0.984       1.106\n",
       "Last_Activity_SMS_Sent                                     1.9437      0.422      4.606      0.000       1.117       2.771\n",
       "Country_Others                                             0.3328      0.371      0.896      0.370      -0.395       1.061\n",
       "Last_Notable_Activity_Email_Bounced                      -23.0811   2.16e+05     -0.000      1.000   -4.23e+05    4.23e+05\n",
       "Last_Notable_Activity_Email_Link_Clicked                 -24.8476   2.16e+05     -0.000      1.000   -4.23e+05    4.23e+05\n",
       "Last_Notable_Activity_Email_Marked_Spam                    1.5832   2.56e+05   6.18e-06      1.000   -5.02e+05    5.02e+05\n",
       "Last_Notable_Activity_Email_Opened                       -23.2254   2.16e+05     -0.000      1.000   -4.23e+05    4.23e+05\n",
       "Last_Notable_Activity_Email_Received                       0.0340   3.05e+05   1.11e-07      1.000   -5.99e+05    5.99e+05\n",
       "Last_Notable_Activity_Form_Submitted_on_Website          -46.6585   3.05e+05     -0.000      1.000   -5.99e+05    5.99e+05\n",
       "Last_Notable_Activity_Had_a_Phone_Conversation             2.7841   2.23e+05   1.25e-05      1.000   -4.37e+05    4.37e+05\n",
       "Last_Notable_Activity_Modified                           -24.2870   2.16e+05     -0.000      1.000   -4.23e+05    4.23e+05\n",
       "Last_Notable_Activity_Olark_Chat_Conversation            -24.7546   2.16e+05     -0.000      1.000   -4.23e+05    4.23e+05\n",
       "Last_Notable_Activity_Page_Visited_on_Website            -23.3721   2.16e+05     -0.000      1.000   -4.23e+05    4.23e+05\n",
       "Last_Notable_Activity_Resubscribed_to_emails               0.7234   3.05e+05   2.37e-06      1.000   -5.99e+05    5.99e+05\n",
       "Last_Notable_Activity_SMS_Sent                           -22.2452   2.16e+05     -0.000      1.000   -4.23e+05    4.23e+05\n",
       "Last_Notable_Activity_Unreachable                        -21.0940   2.16e+05  -9.77e-05      1.000   -4.23e+05    4.23e+05\n",
       "Last_Notable_Activity_Unsubscribed                       -20.4522   2.16e+05  -9.47e-05      1.000   -4.23e+05    4.23e+05\n",
       "Last_Notable_Activity_View_in_browser_link_Clicked       -42.3068   3.05e+05     -0.000      1.000   -5.99e+05    5.99e+05\n",
       "Specialization_Banking,_Investment_And_Insurance           0.5470      0.442      1.238      0.216      -0.319       1.413\n",
       "Specialization_Business_Administration                     0.1709      0.410      0.417      0.677      -0.633       0.975\n",
       "Specialization_E-Business                                 -0.1440      0.734     -0.196      0.844      -1.582       1.294\n",
       "Specialization_E-COMMERCE                                  0.7573      0.567      1.335      0.182      -0.354       1.869\n",
       "Specialization_Finance_Management                          0.1336      0.377      0.355      0.723      -0.605       0.872\n",
       "Specialization_Healthcare_Management                       0.2036      0.607      0.335      0.737      -0.986       1.393\n",
       "Specialization_Hospitality_Management                     -0.1346      0.686     -0.196      0.845      -1.480       1.210\n",
       "Specialization_Human_Resource_Management                  -0.0361      0.355     -0.102      0.919      -0.732       0.659\n",
       "Specialization_IT_Projects_Management                      0.3983      0.446      0.893      0.372      -0.476       1.272\n",
       "Specialization_International_Business                      0.0837      0.496      0.169      0.866      -0.889       1.057\n",
       "Specialization_Marketing_Management                        0.0955      0.368      0.259      0.795      -0.626       0.817\n",
       "Specialization_Media_and_Advertising                       0.3123      0.514      0.607      0.544      -0.695       1.320\n",
       "Specialization_Operations_Management                      -0.0635      0.409     -0.155      0.877      -0.866       0.739\n",
       "Specialization_Retail_Management                           0.1380      0.644      0.214      0.830      -1.124       1.400\n",
       "Specialization_Rural_and_Agribusiness                      0.6785      0.771      0.880      0.379      -0.833       2.190\n",
       "Specialization_Services_Excellence                         1.1739      0.889      1.321      0.187      -0.568       2.916\n",
       "Specialization_Supply_Chain_Management                    -0.6532      0.459     -1.424      0.155      -1.552       0.246\n",
       "Specialization_Travel_and_Tourism                         -0.4966      0.584     -0.850      0.395      -1.642       0.648\n",
       "What_is_your_current_occupation_Businessman                1.5264      1.375      1.110      0.267      -1.168       4.221\n",
       "What_is_your_current_occupation_Housewife                 25.3302   7.47e+04      0.000      1.000   -1.46e+05    1.46e+05\n",
       "What_is_your_current_occupation_Other                      2.7957      3.018      0.927      0.354      -3.118       8.710\n",
       "What_is_your_current_occupation_Student                    2.5426      0.568      4.478      0.000       1.430       3.656\n",
       "What_is_your_current_occupation_Unemployed                 2.7665      0.170     16.272      0.000       2.433       3.100\n",
       "What_is_your_current_occupation_Working_Professional       3.3855      0.426      7.956      0.000       2.551       4.220\n",
       "Tags_Already_a_student                                    -4.7270      0.618     -7.646      0.000      -5.939      -3.515\n",
       "Tags_Busy                                                 -1.1332      0.276     -4.100      0.000      -1.675      -0.591\n",
       "Tags_Closed_by_Horizzon                                    5.8219      1.068      5.451      0.000       3.729       7.915\n",
       "Tags_Diploma_holder_(Not_Eligible)                        -4.3645      1.124     -3.883      0.000      -6.568      -2.161\n",
       "Tags_Graduation_in_progress                               -2.5889      0.568     -4.560      0.000      -3.702      -1.476\n",
       "Tags_In_confusion_whether_part_time_or_DLP                -1.5726      1.873     -0.839      0.401      -5.244       2.099\n",
       "Tags_Interested__in_full_time_MBA                         -3.5233      0.654     -5.383      0.000      -4.806      -2.241\n",
       "Tags_Interested_in_Next_batch                             22.1212   9.04e+04      0.000      1.000   -1.77e+05    1.77e+05\n",
       "Tags_Interested_in_other_courses                          -3.8533      0.392     -9.830      0.000      -4.622      -3.085\n",
       "Tags_Lateral_student                                      24.1457   1.46e+05      0.000      1.000   -2.86e+05    2.86e+05\n",
       "Tags_Lost_to_EINS                                          5.6147      0.665      8.439      0.000       4.311       6.919\n",
       "Tags_Lost_to_Others                                      -25.1814   8.48e+04     -0.000      1.000   -1.66e+05    1.66e+05\n",
       "Tags_Not_doing_further_education                         -24.8985    1.9e+04     -0.001      0.999   -3.73e+04    3.73e+04\n",
       "Tags_Recognition_issue_(DEC_approval)                    -26.6516   2.16e+05     -0.000      1.000   -4.23e+05    4.23e+05\n",
       "Tags_Ringing                                              -5.4614      0.285    -19.136      0.000      -6.021      -4.902\n",
       "Tags_Shall_take_in_the_next_coming_month                  -0.7274      1.532     -0.475      0.635      -3.731       2.276\n",
       "Tags_Still_Thinking                                      -26.5930   9.48e+04     -0.000      1.000   -1.86e+05    1.86e+05\n",
       "Tags_University_not_recognized                           -26.8162   2.16e+05     -0.000      1.000   -4.23e+05    4.23e+05\n",
       "Tags_Want_to_take_admission_but_has_financial_problems    -1.7896      1.317     -1.359      0.174      -4.371       0.792\n",
       "Tags_Will_revert_after_reading_the_email                   2.6110      0.252     10.370      0.000       2.117       3.104\n",
       "Tags_in_touch_with_EINS                                   -2.2626      1.120     -2.021      0.043      -4.457      -0.068\n",
       "Tags_invalid_number                                       -5.5953      1.082     -5.174      0.000      -7.715      -3.476\n",
       "Tags_number_not_provided                                 -27.8269   4.12e+04     -0.001      0.999   -8.08e+04    8.08e+04\n",
       "Tags_opp_hangup                                           -2.9504      0.702     -4.203      0.000      -4.326      -1.574\n",
       "Tags_switched_off                                         -5.7020      0.576     -9.905      0.000      -6.830      -4.574\n",
       "Tags_wrong_number_given                                  -26.7564   3.58e+04     -0.001      0.999   -7.03e+04    7.02e+04\n",
       "City_Mumbai                                               -0.0717      0.337     -0.213      0.831      -0.732       0.589\n",
       "City_Other_Cities                                         -0.1628      0.387     -0.421      0.674      -0.920       0.595\n",
       "City_Other_Cities_of_Maharashtra                          -0.0540      0.415     -0.130      0.896      -0.867       0.759\n",
       "City_Other_Metro_Cities                                   -0.1997      0.457     -0.437      0.662      -1.096       0.697\n",
       "City_Thane_&_Outskirts                                     0.1526      0.390      0.391      0.696      -0.613       0.918\n",
       "City_Tier_II_Cities                                        0.1994      0.704      0.283      0.777      -1.181       1.580\n",
       "==========================================================================================================================\n",
       "\"\"\""
      ]
     },
     "execution_count": 67,
     "metadata": {},
     "output_type": "execute_result"
    }
   ],
   "source": [
    "# Logistic regression model\n",
    "logm1 = sm.GLM(y_train,(sm.add_constant(X_train)), family = sm.families.Binomial())\n",
    "logm1.fit().summary()"
   ]
  },
  {
   "cell_type": "markdown",
   "metadata": {},
   "source": [
    "### Feature Selection Using RFE"
   ]
  },
  {
   "cell_type": "code",
   "execution_count": 68,
   "metadata": {},
   "outputs": [],
   "source": [
    "#IMPORT Logistic Regression and instantiate the same\n",
    "from sklearn.linear_model import LogisticRegression\n",
    "logreg = LogisticRegression()"
   ]
  },
  {
   "cell_type": "code",
   "execution_count": 69,
   "metadata": {},
   "outputs": [],
   "source": [
    "#Importing RFE module from feature_selection class\n",
    "#Fitting the data into RFE\n",
    "from sklearn.feature_selection import RFE\n",
    "rfe = RFE(logreg, 20)             # running RFE with 20 variables as output\n",
    "rfe = rfe.fit(X_train, y_train)"
   ]
  },
  {
   "cell_type": "code",
   "execution_count": 70,
   "metadata": {},
   "outputs": [
    {
     "data": {
      "text/plain": [
       "array([False, False, False, False, False, False, False, False, False,\n",
       "       False, False, False, False, False, False,  True, False, False,\n",
       "       False, False, False, False, False,  True, False, False, False,\n",
       "       False, False, False, False, False,  True, False, False, False,\n",
       "       False, False, False, False, False, False, False, False, False,\n",
       "       False, False, False, False, False, False, False, False, False,\n",
       "       False, False, False, False, False, False, False, False,  True,\n",
       "        True,  True, False,  True,  True,  True, False,  True, False,\n",
       "        True, False,  True, False,  True, False,  True, False, False,\n",
       "       False, False,  True, False,  True,  True,  True,  True,  True,\n",
       "       False, False, False, False, False, False])"
      ]
     },
     "execution_count": 70,
     "metadata": {},
     "output_type": "execute_result"
    }
   ],
   "source": [
    "rfe.support_"
   ]
  },
  {
   "cell_type": "code",
   "execution_count": 71,
   "metadata": {},
   "outputs": [
    {
     "data": {
      "text/plain": [
       "[('Do_Not_Email', False, 4),\n",
       " ('TotalVisits', False, 53),\n",
       " ('Total_Time_Spent_on_Website', False, 7),\n",
       " ('Page_Views_Per_Visit', False, 55),\n",
       " ('A_free_copy_of_Mastering_The_Interview', False, 46),\n",
       " ('Lead_Origin_Landing_Page_Submission', False, 23),\n",
       " ('Lead_Origin_Lead_Add_Form', False, 5),\n",
       " ('Lead_Origin_Lead_Import', False, 76),\n",
       " ('Lead_Source_Facebook', False, 20),\n",
       " ('Lead_Source_Google', False, 57),\n",
       " ('Lead_Source_Olark_Chat', False, 6),\n",
       " ('Lead_Source_Organic_Search', False, 67),\n",
       " ('Lead_Source_Others', False, 35),\n",
       " ('Lead_Source_Reference', False, 19),\n",
       " ('Lead_Source_Referral_Sites', False, 41),\n",
       " ('Lead_Source_Welingak_Website', True, 1),\n",
       " ('Last_Activity_Email_Bounced', False, 34),\n",
       " ('Last_Activity_Email_Link_Clicked', False, 18),\n",
       " ('Last_Activity_Email_Opened', False, 26),\n",
       " ('Last_Activity_Form_Submitted_on_Website', False, 21),\n",
       " ('Last_Activity_Olark_Chat_Conversation', False, 36),\n",
       " ('Last_Activity_Others', False, 49),\n",
       " ('Last_Activity_Page_Visited_on_Website', False, 44),\n",
       " ('Last_Activity_SMS_Sent', True, 1),\n",
       " ('Country_Others', False, 68),\n",
       " ('Last_Notable_Activity_Email_Bounced', False, 66),\n",
       " ('Last_Notable_Activity_Email_Link_Clicked', False, 17),\n",
       " ('Last_Notable_Activity_Email_Marked_Spam', False, 56),\n",
       " ('Last_Notable_Activity_Email_Opened', False, 32),\n",
       " ('Last_Notable_Activity_Email_Received', False, 74),\n",
       " ('Last_Notable_Activity_Form_Submitted_on_Website', False, 59),\n",
       " ('Last_Notable_Activity_Had_a_Phone_Conversation', False, 12),\n",
       " ('Last_Notable_Activity_Modified', True, 1),\n",
       " ('Last_Notable_Activity_Olark_Chat_Conversation', False, 3),\n",
       " ('Last_Notable_Activity_Page_Visited_on_Website', False, 33),\n",
       " ('Last_Notable_Activity_Resubscribed_to_emails', False, 60),\n",
       " ('Last_Notable_Activity_SMS_Sent', False, 13),\n",
       " ('Last_Notable_Activity_Unreachable', False, 40),\n",
       " ('Last_Notable_Activity_Unsubscribed', False, 16),\n",
       " ('Last_Notable_Activity_View_in_browser_link_Clicked', False, 75),\n",
       " ('Specialization_Banking,_Investment_And_Insurance', False, 31),\n",
       " ('Specialization_Business_Administration', False, 70),\n",
       " ('Specialization_E-Business', False, 51),\n",
       " ('Specialization_E-COMMERCE', False, 22),\n",
       " ('Specialization_Finance_Management', False, 71),\n",
       " ('Specialization_Healthcare_Management', False, 50),\n",
       " ('Specialization_Hospitality_Management', False, 42),\n",
       " ('Specialization_Human_Resource_Management', False, 52),\n",
       " ('Specialization_IT_Projects_Management', False, 64),\n",
       " ('Specialization_International_Business', False, 58),\n",
       " ('Specialization_Marketing_Management', False, 77),\n",
       " ('Specialization_Media_and_Advertising', False, 65),\n",
       " ('Specialization_Operations_Management', False, 47),\n",
       " ('Specialization_Retail_Management', False, 72),\n",
       " ('Specialization_Rural_and_Agribusiness', False, 43),\n",
       " ('Specialization_Services_Excellence', False, 38),\n",
       " ('Specialization_Supply_Chain_Management', False, 14),\n",
       " ('Specialization_Travel_and_Tourism', False, 15),\n",
       " ('What_is_your_current_occupation_Businessman', False, 24),\n",
       " ('What_is_your_current_occupation_Housewife', False, 8),\n",
       " ('What_is_your_current_occupation_Other', False, 28),\n",
       " ('What_is_your_current_occupation_Student', False, 2),\n",
       " ('What_is_your_current_occupation_Unemployed', True, 1),\n",
       " ('What_is_your_current_occupation_Working_Professional', True, 1),\n",
       " ('Tags_Already_a_student', True, 1),\n",
       " ('Tags_Busy', False, 27),\n",
       " ('Tags_Closed_by_Horizzon', True, 1),\n",
       " ('Tags_Diploma_holder_(Not_Eligible)', True, 1),\n",
       " ('Tags_Graduation_in_progress', True, 1),\n",
       " ('Tags_In_confusion_whether_part_time_or_DLP', False, 45),\n",
       " ('Tags_Interested__in_full_time_MBA', True, 1),\n",
       " ('Tags_Interested_in_Next_batch', False, 37),\n",
       " ('Tags_Interested_in_other_courses', True, 1),\n",
       " ('Tags_Lateral_student', False, 25),\n",
       " ('Tags_Lost_to_EINS', True, 1),\n",
       " ('Tags_Lost_to_Others', False, 10),\n",
       " ('Tags_Not_doing_further_education', True, 1),\n",
       " ('Tags_Recognition_issue_(DEC_approval)', False, 29),\n",
       " ('Tags_Ringing', True, 1),\n",
       " ('Tags_Shall_take_in_the_next_coming_month', False, 73),\n",
       " ('Tags_Still_Thinking', False, 9),\n",
       " ('Tags_University_not_recognized', False, 30),\n",
       " ('Tags_Want_to_take_admission_but_has_financial_problems', False, 39),\n",
       " ('Tags_Will_revert_after_reading_the_email', True, 1),\n",
       " ('Tags_in_touch_with_EINS', False, 11),\n",
       " ('Tags_invalid_number', True, 1),\n",
       " ('Tags_number_not_provided', True, 1),\n",
       " ('Tags_opp_hangup', True, 1),\n",
       " ('Tags_switched_off', True, 1),\n",
       " ('Tags_wrong_number_given', True, 1),\n",
       " ('City_Mumbai', False, 63),\n",
       " ('City_Other_Cities', False, 62),\n",
       " ('City_Other_Cities_of_Maharashtra', False, 69),\n",
       " ('City_Other_Metro_Cities', False, 61),\n",
       " ('City_Thane_&_Outskirts', False, 48),\n",
       " ('City_Tier_II_Cities', False, 54)]"
      ]
     },
     "execution_count": 71,
     "metadata": {},
     "output_type": "execute_result"
    }
   ],
   "source": [
    "#listing the various features and it's associated ranking\n",
    "list(zip(X_train.columns, rfe.support_, rfe.ranking_))"
   ]
  },
  {
   "cell_type": "code",
   "execution_count": 72,
   "metadata": {},
   "outputs": [],
   "source": [
    "#assigning the results of RFE to DF col\n",
    "#Eliminating the column whose importance is given as False by RFE\n",
    "col = X_train.columns[rfe.support_]"
   ]
  },
  {
   "cell_type": "code",
   "execution_count": 73,
   "metadata": {},
   "outputs": [
    {
     "data": {
      "text/plain": [
       "Index(['Do_Not_Email', 'TotalVisits', 'Total_Time_Spent_on_Website',\n",
       "       'Page_Views_Per_Visit', 'A_free_copy_of_Mastering_The_Interview',\n",
       "       'Lead_Origin_Landing_Page_Submission', 'Lead_Origin_Lead_Add_Form',\n",
       "       'Lead_Origin_Lead_Import', 'Lead_Source_Facebook', 'Lead_Source_Google',\n",
       "       'Lead_Source_Olark_Chat', 'Lead_Source_Organic_Search',\n",
       "       'Lead_Source_Others', 'Lead_Source_Reference',\n",
       "       'Lead_Source_Referral_Sites', 'Last_Activity_Email_Bounced',\n",
       "       'Last_Activity_Email_Link_Clicked', 'Last_Activity_Email_Opened',\n",
       "       'Last_Activity_Form_Submitted_on_Website',\n",
       "       'Last_Activity_Olark_Chat_Conversation', 'Last_Activity_Others',\n",
       "       'Last_Activity_Page_Visited_on_Website', 'Country_Others',\n",
       "       'Last_Notable_Activity_Email_Bounced',\n",
       "       'Last_Notable_Activity_Email_Link_Clicked',\n",
       "       'Last_Notable_Activity_Email_Marked_Spam',\n",
       "       'Last_Notable_Activity_Email_Opened',\n",
       "       'Last_Notable_Activity_Email_Received',\n",
       "       'Last_Notable_Activity_Form_Submitted_on_Website',\n",
       "       'Last_Notable_Activity_Had_a_Phone_Conversation',\n",
       "       'Last_Notable_Activity_Olark_Chat_Conversation',\n",
       "       'Last_Notable_Activity_Page_Visited_on_Website',\n",
       "       'Last_Notable_Activity_Resubscribed_to_emails',\n",
       "       'Last_Notable_Activity_SMS_Sent', 'Last_Notable_Activity_Unreachable',\n",
       "       'Last_Notable_Activity_Unsubscribed',\n",
       "       'Last_Notable_Activity_View_in_browser_link_Clicked',\n",
       "       'Specialization_Banking,_Investment_And_Insurance',\n",
       "       'Specialization_Business_Administration', 'Specialization_E-Business',\n",
       "       'Specialization_E-COMMERCE', 'Specialization_Finance_Management',\n",
       "       'Specialization_Healthcare_Management',\n",
       "       'Specialization_Hospitality_Management',\n",
       "       'Specialization_Human_Resource_Management',\n",
       "       'Specialization_IT_Projects_Management',\n",
       "       'Specialization_International_Business',\n",
       "       'Specialization_Marketing_Management',\n",
       "       'Specialization_Media_and_Advertising',\n",
       "       'Specialization_Operations_Management',\n",
       "       'Specialization_Retail_Management',\n",
       "       'Specialization_Rural_and_Agribusiness',\n",
       "       'Specialization_Services_Excellence',\n",
       "       'Specialization_Supply_Chain_Management',\n",
       "       'Specialization_Travel_and_Tourism',\n",
       "       'What_is_your_current_occupation_Businessman',\n",
       "       'What_is_your_current_occupation_Housewife',\n",
       "       'What_is_your_current_occupation_Other',\n",
       "       'What_is_your_current_occupation_Student', 'Tags_Busy',\n",
       "       'Tags_In_confusion_whether_part_time_or_DLP',\n",
       "       'Tags_Interested_in_Next_batch', 'Tags_Lateral_student',\n",
       "       'Tags_Lost_to_Others', 'Tags_Recognition_issue_(DEC_approval)',\n",
       "       'Tags_Shall_take_in_the_next_coming_month', 'Tags_Still_Thinking',\n",
       "       'Tags_University_not_recognized',\n",
       "       'Tags_Want_to_take_admission_but_has_financial_problems',\n",
       "       'Tags_in_touch_with_EINS', 'City_Mumbai', 'City_Other_Cities',\n",
       "       'City_Other_Cities_of_Maharashtra', 'City_Other_Metro_Cities',\n",
       "       'City_Thane_&_Outskirts', 'City_Tier_II_Cities'],\n",
       "      dtype='object')"
      ]
     },
     "execution_count": 73,
     "metadata": {},
     "output_type": "execute_result"
    }
   ],
   "source": [
    "X_train.columns[~rfe.support_]"
   ]
  },
  {
   "cell_type": "markdown",
   "metadata": {},
   "source": [
    "#### Manual Iteration No :1"
   ]
  },
  {
   "cell_type": "code",
   "execution_count": 109,
   "metadata": {},
   "outputs": [
    {
     "data": {
      "text/plain": [
       "<matplotlib.axes._subplots.AxesSubplot at 0x29d40bdea08>"
      ]
     },
     "execution_count": 109,
     "metadata": {},
     "output_type": "execute_result"
    },
    {
     "data": {
      "image/png": "[encoded data removed]",
      "text/plain": [
       "<Figure size 1152x648 with 2 Axes>"
      ]
     },
     "metadata": {
      "needs_background": "light"
     },
     "output_type": "display_data"
    }
   ],
   "source": [
    "#Finding Correlations\n",
    "cor = X_train[col].corr()\n",
    "plt.figure(figsize=(16,9))\n",
    "sns.heatmap(cor,annot=True,cmap=\"YlGnBu\")"
   ]
  },
  {
   "cell_type": "markdown",
   "metadata": {},
   "source": [
    "The features selected seems to be less correlated"
   ]
  },
  {
   "cell_type": "code",
   "execution_count": 74,
   "metadata": {},
   "outputs": [
    {
     "data": {
      "text/html": [
       "<table class=\"simpletable\">\n",
       "<caption>Generalized Linear Model Regression Results</caption>\n",
       "<tr>\n",
       "  <th>Dep. Variable:</th>       <td>Converted</td>    <th>  No. Observations:  </th>  <td>  6449</td> \n",
       "</tr>\n",
       "<tr>\n",
       "  <th>Model:</th>                  <td>GLM</td>       <th>  Df Residuals:      </th>  <td>  6428</td> \n",
       "</tr>\n",
       "<tr>\n",
       "  <th>Model Family:</th>        <td>Binomial</td>     <th>  Df Model:          </th>  <td>    20</td> \n",
       "</tr>\n",
       "<tr>\n",
       "  <th>Link Function:</th>         <td>logit</td>      <th>  Scale:             </th> <td>  1.0000</td>\n",
       "</tr>\n",
       "<tr>\n",
       "  <th>Method:</th>                <td>IRLS</td>       <th>  Log-Likelihood:    </th> <td> -1267.5</td>\n",
       "</tr>\n",
       "<tr>\n",
       "  <th>Date:</th>            <td>Sun, 19 Apr 2020</td> <th>  Deviance:          </th> <td>  2534.9</td>\n",
       "</tr>\n",
       "<tr>\n",
       "  <th>Time:</th>                <td>16:47:26</td>     <th>  Pearson chi2:      </th> <td>8.46e+03</td>\n",
       "</tr>\n",
       "<tr>\n",
       "  <th>No. Iterations:</th>         <td>24</td>        <th>                     </th>     <td> </td>   \n",
       "</tr>\n",
       "<tr>\n",
       "  <th>Covariance Type:</th>     <td>nonrobust</td>    <th>                     </th>     <td> </td>   \n",
       "</tr>\n",
       "</table>\n",
       "<table class=\"simpletable\">\n",
       "<tr>\n",
       "                            <td></td>                              <th>coef</th>     <th>std err</th>      <th>z</th>      <th>P>|z|</th>  <th>[0.025</th>    <th>0.975]</th>  \n",
       "</tr>\n",
       "<tr>\n",
       "  <th>const</th>                                                <td>   -2.0908</td> <td>    0.096</td> <td>  -21.848</td> <td> 0.000</td> <td>   -2.278</td> <td>   -1.903</td>\n",
       "</tr>\n",
       "<tr>\n",
       "  <th>Lead_Source_Welingak_Website</th>                         <td>    3.9544</td> <td>    1.030</td> <td>    3.841</td> <td> 0.000</td> <td>    1.937</td> <td>    5.972</td>\n",
       "</tr>\n",
       "<tr>\n",
       "  <th>Last_Activity_SMS_Sent</th>                               <td>    2.1085</td> <td>    0.117</td> <td>   17.964</td> <td> 0.000</td> <td>    1.878</td> <td>    2.339</td>\n",
       "</tr>\n",
       "<tr>\n",
       "  <th>Last_Notable_Activity_Modified</th>                       <td>   -1.5784</td> <td>    0.124</td> <td>  -12.717</td> <td> 0.000</td> <td>   -1.822</td> <td>   -1.335</td>\n",
       "</tr>\n",
       "<tr>\n",
       "  <th>What_is_your_current_occupation_Unemployed</th>           <td>    2.2137</td> <td>    0.121</td> <td>   18.304</td> <td> 0.000</td> <td>    1.977</td> <td>    2.451</td>\n",
       "</tr>\n",
       "<tr>\n",
       "  <th>What_is_your_current_occupation_Working_Professional</th> <td>    2.4733</td> <td>    0.363</td> <td>    6.810</td> <td> 0.000</td> <td>    1.761</td> <td>    3.185</td>\n",
       "</tr>\n",
       "<tr>\n",
       "  <th>Tags_Already_a_student</th>                               <td>   -4.1813</td> <td>    0.590</td> <td>   -7.090</td> <td> 0.000</td> <td>   -5.337</td> <td>   -3.025</td>\n",
       "</tr>\n",
       "<tr>\n",
       "  <th>Tags_Closed_by_Horizzon</th>                              <td>    6.6743</td> <td>    1.015</td> <td>    6.576</td> <td> 0.000</td> <td>    4.685</td> <td>    8.664</td>\n",
       "</tr>\n",
       "<tr>\n",
       "  <th>Tags_Diploma_holder_(Not_Eligible)</th>                   <td>   -3.6324</td> <td>    1.037</td> <td>   -3.503</td> <td> 0.000</td> <td>   -5.665</td> <td>   -1.600</td>\n",
       "</tr>\n",
       "<tr>\n",
       "  <th>Tags_Graduation_in_progress</th>                          <td>   -2.3362</td> <td>    0.500</td> <td>   -4.671</td> <td> 0.000</td> <td>   -3.317</td> <td>   -1.356</td>\n",
       "</tr>\n",
       "<tr>\n",
       "  <th>Tags_Interested__in_full_time_MBA</th>                    <td>   -2.7943</td> <td>    0.604</td> <td>   -4.624</td> <td> 0.000</td> <td>   -3.979</td> <td>   -1.610</td>\n",
       "</tr>\n",
       "<tr>\n",
       "  <th>Tags_Interested_in_other_courses</th>                     <td>   -3.0331</td> <td>    0.346</td> <td>   -8.766</td> <td> 0.000</td> <td>   -3.711</td> <td>   -2.355</td>\n",
       "</tr>\n",
       "<tr>\n",
       "  <th>Tags_Lost_to_EINS</th>                                    <td>    5.8191</td> <td>    0.610</td> <td>    9.534</td> <td> 0.000</td> <td>    4.623</td> <td>    7.015</td>\n",
       "</tr>\n",
       "<tr>\n",
       "  <th>Tags_Not_doing_further_education</th>                     <td>  -25.1049</td> <td> 1.93e+04</td> <td>   -0.001</td> <td> 0.999</td> <td>-3.79e+04</td> <td> 3.78e+04</td>\n",
       "</tr>\n",
       "<tr>\n",
       "  <th>Tags_Ringing</th>                                         <td>   -4.6930</td> <td>    0.235</td> <td>  -19.957</td> <td> 0.000</td> <td>   -5.154</td> <td>   -4.232</td>\n",
       "</tr>\n",
       "<tr>\n",
       "  <th>Tags_Will_revert_after_reading_the_email</th>             <td>    3.4524</td> <td>    0.191</td> <td>   18.053</td> <td> 0.000</td> <td>    3.078</td> <td>    3.827</td>\n",
       "</tr>\n",
       "<tr>\n",
       "  <th>Tags_invalid_number</th>                                  <td>   -5.2860</td> <td>    1.027</td> <td>   -5.145</td> <td> 0.000</td> <td>   -7.300</td> <td>   -3.272</td>\n",
       "</tr>\n",
       "<tr>\n",
       "  <th>Tags_number_not_provided</th>                             <td>  -26.7348</td> <td> 4.56e+04</td> <td>   -0.001</td> <td> 1.000</td> <td>-8.94e+04</td> <td> 8.93e+04</td>\n",
       "</tr>\n",
       "<tr>\n",
       "  <th>Tags_opp_hangup</th>                                      <td>   -2.6493</td> <td>    0.692</td> <td>   -3.827</td> <td> 0.000</td> <td>   -4.006</td> <td>   -1.292</td>\n",
       "</tr>\n",
       "<tr>\n",
       "  <th>Tags_switched_off</th>                                    <td>   -5.0859</td> <td>    0.527</td> <td>   -9.648</td> <td> 0.000</td> <td>   -6.119</td> <td>   -4.053</td>\n",
       "</tr>\n",
       "<tr>\n",
       "  <th>Tags_wrong_number_given</th>                              <td>  -26.6578</td> <td> 3.79e+04</td> <td>   -0.001</td> <td> 0.999</td> <td>-7.44e+04</td> <td> 7.43e+04</td>\n",
       "</tr>\n",
       "</table>"
      ],
      "text/plain": [
       "<class 'statsmodels.iolib.summary.Summary'>\n",
       "\"\"\"\n",
       "                 Generalized Linear Model Regression Results                  \n",
       "==============================================================================\n",
       "Dep. Variable:              Converted   No. Observations:                 6449\n",
       "Model:                            GLM   Df Residuals:                     6428\n",
       "Model Family:                Binomial   Df Model:                           20\n",
       "Link Function:                  logit   Scale:                          1.0000\n",
       "Method:                          IRLS   Log-Likelihood:                -1267.5\n",
       "Date:                Sun, 19 Apr 2020   Deviance:                       2534.9\n",
       "Time:                        16:47:26   Pearson chi2:                 8.46e+03\n",
       "No. Iterations:                    24                                         \n",
       "Covariance Type:            nonrobust                                         \n",
       "========================================================================================================================\n",
       "                                                           coef    std err          z      P>|z|      [0.025      0.975]\n",
       "------------------------------------------------------------------------------------------------------------------------\n",
       "const                                                   -2.0908      0.096    -21.848      0.000      -2.278      -1.903\n",
       "Lead_Source_Welingak_Website                             3.9544      1.030      3.841      0.000       1.937       5.972\n",
       "Last_Activity_SMS_Sent                                   2.1085      0.117     17.964      0.000       1.878       2.339\n",
       "Last_Notable_Activity_Modified                          -1.5784      0.124    -12.717      0.000      -1.822      -1.335\n",
       "What_is_your_current_occupation_Unemployed               2.2137      0.121     18.304      0.000       1.977       2.451\n",
       "What_is_your_current_occupation_Working_Professional     2.4733      0.363      6.810      0.000       1.761       3.185\n",
       "Tags_Already_a_student                                  -4.1813      0.590     -7.090      0.000      -5.337      -3.025\n",
       "Tags_Closed_by_Horizzon                                  6.6743      1.015      6.576      0.000       4.685       8.664\n",
       "Tags_Diploma_holder_(Not_Eligible)                      -3.6324      1.037     -3.503      0.000      -5.665      -1.600\n",
       "Tags_Graduation_in_progress                             -2.3362      0.500     -4.671      0.000      -3.317      -1.356\n",
       "Tags_Interested__in_full_time_MBA                       -2.7943      0.604     -4.624      0.000      -3.979      -1.610\n",
       "Tags_Interested_in_other_courses                        -3.0331      0.346     -8.766      0.000      -3.711      -2.355\n",
       "Tags_Lost_to_EINS                                        5.8191      0.610      9.534      0.000       4.623       7.015\n",
       "Tags_Not_doing_further_education                       -25.1049   1.93e+04     -0.001      0.999   -3.79e+04    3.78e+04\n",
       "Tags_Ringing                                            -4.6930      0.235    -19.957      0.000      -5.154      -4.232\n",
       "Tags_Will_revert_after_reading_the_email                 3.4524      0.191     18.053      0.000       3.078       3.827\n",
       "Tags_invalid_number                                     -5.2860      1.027     -5.145      0.000      -7.300      -3.272\n",
       "Tags_number_not_provided                               -26.7348   4.56e+04     -0.001      1.000   -8.94e+04    8.93e+04\n",
       "Tags_opp_hangup                                         -2.6493      0.692     -3.827      0.000      -4.006      -1.292\n",
       "Tags_switched_off                                       -5.0859      0.527     -9.648      0.000      -6.119      -4.053\n",
       "Tags_wrong_number_given                                -26.6578   3.79e+04     -0.001      0.999   -7.44e+04    7.43e+04\n",
       "========================================================================================================================\n",
       "\"\"\""
      ]
     },
     "execution_count": 74,
     "metadata": {},
     "output_type": "execute_result"
    }
   ],
   "source": [
    "#Considering only the columns selected by RFE and performing a Generalised linear model on that data set\n",
    "X_train_sm = sm.add_constant(X_train[col])\n",
    "logm2 = sm.GLM(y_train,X_train_sm, family = sm.families.Binomial())\n",
    "res = logm2.fit()\n",
    "res.summary()"
   ]
  },
  {
   "cell_type": "code",
   "execution_count": 75,
   "metadata": {},
   "outputs": [
    {
     "data": {
      "text/plain": [
       "3070    0.530668\n",
       "2178    0.173534\n",
       "2925    0.994614\n",
       "8886    0.983783\n",
       "7926    0.024861\n",
       "7679    0.109991\n",
       "7615    0.010250\n",
       "2719    0.996611\n",
       "500     0.017291\n",
       "8328    0.109991\n",
       "dtype: float64"
      ]
     },
     "execution_count": 75,
     "metadata": {},
     "output_type": "execute_result"
    }
   ],
   "source": [
    "# Getting the predicted values on the train set\n",
    "y_train_pred = res.predict(X_train_sm)\n",
    "y_train_pred[:10]"
   ]
  },
  {
   "cell_type": "code",
   "execution_count": 76,
   "metadata": {},
   "outputs": [
    {
     "data": {
      "text/plain": [
       "array([0.53066764, 0.17353432, 0.99461443, 0.98378265, 0.02486098,\n",
       "       0.10999054, 0.01024988, 0.9966108 , 0.01729091, 0.10999054])"
      ]
     },
     "execution_count": 76,
     "metadata": {},
     "output_type": "execute_result"
    }
   ],
   "source": [
    "#Transposing the y values\n",
    "y_train_pred = y_train_pred.values.reshape(-1)\n",
    "y_train_pred[:10]"
   ]
  },
  {
   "cell_type": "markdown",
   "metadata": {},
   "source": [
    "##### Creating a dataframe with the actual converted flag and the predicted probabilities"
   ]
  },
  {
   "cell_type": "code",
   "execution_count": 77,
   "metadata": {},
   "outputs": [
    {
     "data": {
      "text/html": [
       "<div>\n",
       "<style scoped>\n",
       "    .dataframe tbody tr th:only-of-type {\n",
       "        vertical-align: middle;\n",
       "    }\n",
       "\n",
       "    .dataframe tbody tr th {\n",
       "        vertical-align: top;\n",
       "    }\n",
       "\n",
       "    .dataframe thead th {\n",
       "        text-align: right;\n",
       "    }\n",
       "</style>\n",
       "<table border=\"1\" class=\"dataframe\">\n",
       "  <thead>\n",
       "    <tr style=\"text-align: right;\">\n",
       "      <th></th>\n",
       "      <th>Lead</th>\n",
       "      <th>Lead_Prob</th>\n",
       "      <th>LeadNum</th>\n",
       "    </tr>\n",
       "  </thead>\n",
       "  <tbody>\n",
       "    <tr>\n",
       "      <td>0</td>\n",
       "      <td>1</td>\n",
       "      <td>0.530668</td>\n",
       "      <td>3070</td>\n",
       "    </tr>\n",
       "    <tr>\n",
       "      <td>1</td>\n",
       "      <td>0</td>\n",
       "      <td>0.173534</td>\n",
       "      <td>2178</td>\n",
       "    </tr>\n",
       "    <tr>\n",
       "      <td>2</td>\n",
       "      <td>1</td>\n",
       "      <td>0.994614</td>\n",
       "      <td>2925</td>\n",
       "    </tr>\n",
       "    <tr>\n",
       "      <td>3</td>\n",
       "      <td>1</td>\n",
       "      <td>0.983783</td>\n",
       "      <td>8886</td>\n",
       "    </tr>\n",
       "    <tr>\n",
       "      <td>4</td>\n",
       "      <td>0</td>\n",
       "      <td>0.024861</td>\n",
       "      <td>7926</td>\n",
       "    </tr>\n",
       "  </tbody>\n",
       "</table>\n",
       "</div>"
      ],
      "text/plain": [
       "   Lead  Lead_Prob  LeadNum\n",
       "0     1   0.530668     3070\n",
       "1     0   0.173534     2178\n",
       "2     1   0.994614     2925\n",
       "3     1   0.983783     8886\n",
       "4     0   0.024861     7926"
      ]
     },
     "execution_count": 77,
     "metadata": {},
     "output_type": "execute_result"
    }
   ],
   "source": [
    "y_train_pred_final = pd.DataFrame({'Lead':y_train.values, 'Lead_Prob':y_train_pred})\n",
    "y_train_pred_final['LeadNum'] = y_train.index\n",
    "y_train_pred_final.head()"
   ]
  },
  {
   "cell_type": "markdown",
   "metadata": {},
   "source": [
    "##### Creating new column 'predicted' with 1 if Lead_Prob > 0.5 else 0"
   ]
  },
  {
   "cell_type": "code",
   "execution_count": 78,
   "metadata": {},
   "outputs": [
    {
     "data": {
      "text/html": [
       "<div>\n",
       "<style scoped>\n",
       "    .dataframe tbody tr th:only-of-type {\n",
       "        vertical-align: middle;\n",
       "    }\n",
       "\n",
       "    .dataframe tbody tr th {\n",
       "        vertical-align: top;\n",
       "    }\n",
       "\n",
       "    .dataframe thead th {\n",
       "        text-align: right;\n",
       "    }\n",
       "</style>\n",
       "<table border=\"1\" class=\"dataframe\">\n",
       "  <thead>\n",
       "    <tr style=\"text-align: right;\">\n",
       "      <th></th>\n",
       "      <th>Lead</th>\n",
       "      <th>Lead_Prob</th>\n",
       "      <th>LeadNum</th>\n",
       "      <th>predicted</th>\n",
       "    </tr>\n",
       "  </thead>\n",
       "  <tbody>\n",
       "    <tr>\n",
       "      <td>0</td>\n",
       "      <td>1</td>\n",
       "      <td>0.530668</td>\n",
       "      <td>3070</td>\n",
       "      <td>1</td>\n",
       "    </tr>\n",
       "    <tr>\n",
       "      <td>1</td>\n",
       "      <td>0</td>\n",
       "      <td>0.173534</td>\n",
       "      <td>2178</td>\n",
       "      <td>0</td>\n",
       "    </tr>\n",
       "    <tr>\n",
       "      <td>2</td>\n",
       "      <td>1</td>\n",
       "      <td>0.994614</td>\n",
       "      <td>2925</td>\n",
       "      <td>1</td>\n",
       "    </tr>\n",
       "    <tr>\n",
       "      <td>3</td>\n",
       "      <td>1</td>\n",
       "      <td>0.983783</td>\n",
       "      <td>8886</td>\n",
       "      <td>1</td>\n",
       "    </tr>\n",
       "    <tr>\n",
       "      <td>4</td>\n",
       "      <td>0</td>\n",
       "      <td>0.024861</td>\n",
       "      <td>7926</td>\n",
       "      <td>0</td>\n",
       "    </tr>\n",
       "  </tbody>\n",
       "</table>\n",
       "</div>"
      ],
      "text/plain": [
       "   Lead  Lead_Prob  LeadNum  predicted\n",
       "0     1   0.530668     3070          1\n",
       "1     0   0.173534     2178          0\n",
       "2     1   0.994614     2925          1\n",
       "3     1   0.983783     8886          1\n",
       "4     0   0.024861     7926          0"
      ]
     },
     "execution_count": 78,
     "metadata": {},
     "output_type": "execute_result"
    }
   ],
   "source": [
    "y_train_pred_final['predicted'] = y_train_pred_final.Lead_Prob.map(lambda x: 1 if x > 0.5 else 0)\n",
    "\n",
    "# Let's see the head\n",
    "y_train_pred_final.head()"
   ]
  },
  {
   "cell_type": "code",
   "execution_count": 79,
   "metadata": {},
   "outputs": [
    {
     "name": "stdout",
     "output_type": "stream",
     "text": [
      "[[3683  266]\n",
      " [ 187 2313]]\n"
     ]
    }
   ],
   "source": [
    "#import metrics packahe\n",
    "from sklearn import metrics\n",
    "# Confusion matrix \n",
    "confusion = metrics.confusion_matrix(y_train_pred_final.Lead, y_train_pred_final.predicted )\n",
    "print(confusion)"
   ]
  },
  {
   "cell_type": "code",
   "execution_count": 80,
   "metadata": {},
   "outputs": [],
   "source": [
    "# Predicted     NotLead    HotLead\n",
    "# Actual\n",
    "# NotLead        3683      266\n",
    "# HotLead        187       2313  "
   ]
  },
  {
   "cell_type": "code",
   "execution_count": 81,
   "metadata": {},
   "outputs": [
    {
     "name": "stdout",
     "output_type": "stream",
     "text": [
      "0.9297565514033184\n"
     ]
    }
   ],
   "source": [
    "# Let's check the overall accuracy.\n",
    "print(metrics.accuracy_score(y_train_pred_final.Lead, y_train_pred_final.predicted))"
   ]
  },
  {
   "cell_type": "markdown",
   "metadata": {},
   "source": [
    "***Checking VIF***"
   ]
  },
  {
   "cell_type": "code",
   "execution_count": 82,
   "metadata": {},
   "outputs": [],
   "source": [
    "# Check for the VIF values of the feature variables. \n",
    "from statsmodels.stats.outliers_influence import variance_inflation_factor"
   ]
  },
  {
   "cell_type": "code",
   "execution_count": 83,
   "metadata": {},
   "outputs": [
    {
     "data": {
      "text/html": [
       "<div>\n",
       "<style scoped>\n",
       "    .dataframe tbody tr th:only-of-type {\n",
       "        vertical-align: middle;\n",
       "    }\n",
       "\n",
       "    .dataframe tbody tr th {\n",
       "        vertical-align: top;\n",
       "    }\n",
       "\n",
       "    .dataframe thead th {\n",
       "        text-align: right;\n",
       "    }\n",
       "</style>\n",
       "<table border=\"1\" class=\"dataframe\">\n",
       "  <thead>\n",
       "    <tr style=\"text-align: right;\">\n",
       "      <th></th>\n",
       "      <th>Features</th>\n",
       "      <th>VIF</th>\n",
       "    </tr>\n",
       "  </thead>\n",
       "  <tbody>\n",
       "    <tr>\n",
       "      <td>6</td>\n",
       "      <td>Tags_Closed_by_Horizzon</td>\n",
       "      <td>1.34</td>\n",
       "    </tr>\n",
       "    <tr>\n",
       "      <td>18</td>\n",
       "      <td>Tags_switched_off</td>\n",
       "      <td>1.20</td>\n",
       "    </tr>\n",
       "    <tr>\n",
       "      <td>12</td>\n",
       "      <td>Tags_Not_doing_further_education</td>\n",
       "      <td>1.15</td>\n",
       "    </tr>\n",
       "    <tr>\n",
       "      <td>9</td>\n",
       "      <td>Tags_Interested__in_full_time_MBA</td>\n",
       "      <td>1.11</td>\n",
       "    </tr>\n",
       "    <tr>\n",
       "      <td>11</td>\n",
       "      <td>Tags_Lost_to_EINS</td>\n",
       "      <td>1.10</td>\n",
       "    </tr>\n",
       "    <tr>\n",
       "      <td>8</td>\n",
       "      <td>Tags_Graduation_in_progress</td>\n",
       "      <td>1.09</td>\n",
       "    </tr>\n",
       "    <tr>\n",
       "      <td>0</td>\n",
       "      <td>Lead_Source_Welingak_Website</td>\n",
       "      <td>1.08</td>\n",
       "    </tr>\n",
       "    <tr>\n",
       "      <td>15</td>\n",
       "      <td>Tags_invalid_number</td>\n",
       "      <td>1.07</td>\n",
       "    </tr>\n",
       "    <tr>\n",
       "      <td>7</td>\n",
       "      <td>Tags_Diploma_holder_(Not_Eligible)</td>\n",
       "      <td>1.06</td>\n",
       "    </tr>\n",
       "    <tr>\n",
       "      <td>17</td>\n",
       "      <td>Tags_opp_hangup</td>\n",
       "      <td>1.03</td>\n",
       "    </tr>\n",
       "    <tr>\n",
       "      <td>19</td>\n",
       "      <td>Tags_wrong_number_given</td>\n",
       "      <td>1.03</td>\n",
       "    </tr>\n",
       "    <tr>\n",
       "      <td>16</td>\n",
       "      <td>Tags_number_not_provided</td>\n",
       "      <td>1.02</td>\n",
       "    </tr>\n",
       "    <tr>\n",
       "      <td>4</td>\n",
       "      <td>What_is_your_current_occupation_Working_Profes...</td>\n",
       "      <td>0.95</td>\n",
       "    </tr>\n",
       "    <tr>\n",
       "      <td>10</td>\n",
       "      <td>Tags_Interested_in_other_courses</td>\n",
       "      <td>0.41</td>\n",
       "    </tr>\n",
       "    <tr>\n",
       "      <td>14</td>\n",
       "      <td>Tags_Will_revert_after_reading_the_email</td>\n",
       "      <td>0.32</td>\n",
       "    </tr>\n",
       "    <tr>\n",
       "      <td>5</td>\n",
       "      <td>Tags_Already_a_student</td>\n",
       "      <td>0.29</td>\n",
       "    </tr>\n",
       "    <tr>\n",
       "      <td>13</td>\n",
       "      <td>Tags_Ringing</td>\n",
       "      <td>0.18</td>\n",
       "    </tr>\n",
       "    <tr>\n",
       "      <td>1</td>\n",
       "      <td>Last_Activity_SMS_Sent</td>\n",
       "      <td>0.12</td>\n",
       "    </tr>\n",
       "    <tr>\n",
       "      <td>3</td>\n",
       "      <td>What_is_your_current_occupation_Unemployed</td>\n",
       "      <td>0.06</td>\n",
       "    </tr>\n",
       "    <tr>\n",
       "      <td>2</td>\n",
       "      <td>Last_Notable_Activity_Modified</td>\n",
       "      <td>0.04</td>\n",
       "    </tr>\n",
       "  </tbody>\n",
       "</table>\n",
       "</div>"
      ],
      "text/plain": [
       "                                             Features   VIF\n",
       "6                             Tags_Closed_by_Horizzon  1.34\n",
       "18                                  Tags_switched_off  1.20\n",
       "12                   Tags_Not_doing_further_education  1.15\n",
       "9                   Tags_Interested__in_full_time_MBA  1.11\n",
       "11                                  Tags_Lost_to_EINS  1.10\n",
       "8                         Tags_Graduation_in_progress  1.09\n",
       "0                        Lead_Source_Welingak_Website  1.08\n",
       "15                                Tags_invalid_number  1.07\n",
       "7                  Tags_Diploma_holder_(Not_Eligible)  1.06\n",
       "17                                    Tags_opp_hangup  1.03\n",
       "19                            Tags_wrong_number_given  1.03\n",
       "16                           Tags_number_not_provided  1.02\n",
       "4   What_is_your_current_occupation_Working_Profes...  0.95\n",
       "10                   Tags_Interested_in_other_courses  0.41\n",
       "14           Tags_Will_revert_after_reading_the_email  0.32\n",
       "5                              Tags_Already_a_student  0.29\n",
       "13                                       Tags_Ringing  0.18\n",
       "1                              Last_Activity_SMS_Sent  0.12\n",
       "3          What_is_your_current_occupation_Unemployed  0.06\n",
       "2                      Last_Notable_Activity_Modified  0.04"
      ]
     },
     "execution_count": 83,
     "metadata": {},
     "output_type": "execute_result"
    }
   ],
   "source": [
    "# Create a dataframe that will contain the names of all the feature variables and their respective VIFs\n",
    "vif = pd.DataFrame()\n",
    "vif['Features'] = X_train[col].columns\n",
    "vif['VIF'] = [variance_inflation_factor(X_train[col].values, i) for i in range(X_train[col].shape[1])]\n",
    "vif['VIF'] = round(vif['VIF'], 2)\n",
    "vif = vif.sort_values(by = \"VIF\", ascending = False)\n",
    "vif"
   ]
  },
  {
   "cell_type": "markdown",
   "metadata": {},
   "source": [
    "Looks like all the features have VIF within limits. <br> However,the feature Tags_number_not_provided is having very high p value.<br>\n",
    "Hence dropping the same to see the effect it has on the model."
   ]
  },
  {
   "cell_type": "markdown",
   "metadata": {},
   "source": [
    "#### Manual Iteration No :2"
   ]
  },
  {
   "cell_type": "code",
   "execution_count": 84,
   "metadata": {},
   "outputs": [],
   "source": [
    "col = col.drop('Tags_number_not_provided', 1)"
   ]
  },
  {
   "cell_type": "code",
   "execution_count": 85,
   "metadata": {},
   "outputs": [
    {
     "data": {
      "text/html": [
       "<table class=\"simpletable\">\n",
       "<caption>Generalized Linear Model Regression Results</caption>\n",
       "<tr>\n",
       "  <th>Dep. Variable:</th>       <td>Converted</td>    <th>  No. Observations:  </th>  <td>  6449</td> \n",
       "</tr>\n",
       "<tr>\n",
       "  <th>Model:</th>                  <td>GLM</td>       <th>  Df Residuals:      </th>  <td>  6429</td> \n",
       "</tr>\n",
       "<tr>\n",
       "  <th>Model Family:</th>        <td>Binomial</td>     <th>  Df Model:          </th>  <td>    19</td> \n",
       "</tr>\n",
       "<tr>\n",
       "  <th>Link Function:</th>         <td>logit</td>      <th>  Scale:             </th> <td>  1.0000</td>\n",
       "</tr>\n",
       "<tr>\n",
       "  <th>Method:</th>                <td>IRLS</td>       <th>  Log-Likelihood:    </th> <td> -1288.3</td>\n",
       "</tr>\n",
       "<tr>\n",
       "  <th>Date:</th>            <td>Sun, 19 Apr 2020</td> <th>  Deviance:          </th> <td>  2576.6</td>\n",
       "</tr>\n",
       "<tr>\n",
       "  <th>Time:</th>                <td>16:50:00</td>     <th>  Pearson chi2:      </th> <td>8.15e+03</td>\n",
       "</tr>\n",
       "<tr>\n",
       "  <th>No. Iterations:</th>         <td>24</td>        <th>                     </th>     <td> </td>   \n",
       "</tr>\n",
       "<tr>\n",
       "  <th>Covariance Type:</th>     <td>nonrobust</td>    <th>                     </th>     <td> </td>   \n",
       "</tr>\n",
       "</table>\n",
       "<table class=\"simpletable\">\n",
       "<tr>\n",
       "                            <td></td>                              <th>coef</th>     <th>std err</th>      <th>z</th>      <th>P>|z|</th>  <th>[0.025</th>    <th>0.975]</th>  \n",
       "</tr>\n",
       "<tr>\n",
       "  <th>const</th>                                                <td>   -2.0786</td> <td>    0.095</td> <td>  -21.872</td> <td> 0.000</td> <td>   -2.265</td> <td>   -1.892</td>\n",
       "</tr>\n",
       "<tr>\n",
       "  <th>Lead_Source_Welingak_Website</th>                         <td>    4.0283</td> <td>    1.029</td> <td>    3.916</td> <td> 0.000</td> <td>    2.012</td> <td>    6.045</td>\n",
       "</tr>\n",
       "<tr>\n",
       "  <th>Last_Activity_SMS_Sent</th>                               <td>    2.0600</td> <td>    0.116</td> <td>   17.832</td> <td> 0.000</td> <td>    1.834</td> <td>    2.286</td>\n",
       "</tr>\n",
       "<tr>\n",
       "  <th>Last_Notable_Activity_Modified</th>                       <td>   -1.5546</td> <td>    0.123</td> <td>  -12.630</td> <td> 0.000</td> <td>   -1.796</td> <td>   -1.313</td>\n",
       "</tr>\n",
       "<tr>\n",
       "  <th>What_is_your_current_occupation_Unemployed</th>           <td>    2.1204</td> <td>    0.119</td> <td>   17.826</td> <td> 0.000</td> <td>    1.887</td> <td>    2.353</td>\n",
       "</tr>\n",
       "<tr>\n",
       "  <th>What_is_your_current_occupation_Working_Professional</th> <td>    2.4117</td> <td>    0.362</td> <td>    6.656</td> <td> 0.000</td> <td>    1.701</td> <td>    3.122</td>\n",
       "</tr>\n",
       "<tr>\n",
       "  <th>Tags_Already_a_student</th>                               <td>   -4.1043</td> <td>    0.589</td> <td>   -6.964</td> <td> 0.000</td> <td>   -5.260</td> <td>   -2.949</td>\n",
       "</tr>\n",
       "<tr>\n",
       "  <th>Tags_Closed_by_Horizzon</th>                              <td>    6.7069</td> <td>    1.014</td> <td>    6.612</td> <td> 0.000</td> <td>    4.719</td> <td>    8.695</td>\n",
       "</tr>\n",
       "<tr>\n",
       "  <th>Tags_Diploma_holder_(Not_Eligible)</th>                   <td>   -3.5450</td> <td>    1.035</td> <td>   -3.424</td> <td> 0.001</td> <td>   -5.574</td> <td>   -1.516</td>\n",
       "</tr>\n",
       "<tr>\n",
       "  <th>Tags_Graduation_in_progress</th>                          <td>   -2.2494</td> <td>    0.499</td> <td>   -4.512</td> <td> 0.000</td> <td>   -3.227</td> <td>   -1.272</td>\n",
       "</tr>\n",
       "<tr>\n",
       "  <th>Tags_Interested__in_full_time_MBA</th>                    <td>   -2.7168</td> <td>    0.604</td> <td>   -4.499</td> <td> 0.000</td> <td>   -3.900</td> <td>   -1.533</td>\n",
       "</tr>\n",
       "<tr>\n",
       "  <th>Tags_Interested_in_other_courses</th>                     <td>   -2.9509</td> <td>    0.345</td> <td>   -8.556</td> <td> 0.000</td> <td>   -3.627</td> <td>   -2.275</td>\n",
       "</tr>\n",
       "<tr>\n",
       "  <th>Tags_Lost_to_EINS</th>                                    <td>    5.8083</td> <td>    0.609</td> <td>    9.535</td> <td> 0.000</td> <td>    4.614</td> <td>    7.002</td>\n",
       "</tr>\n",
       "<tr>\n",
       "  <th>Tags_Not_doing_further_education</th>                     <td>  -25.0206</td> <td> 1.94e+04</td> <td>   -0.001</td> <td> 0.999</td> <td> -3.8e+04</td> <td> 3.79e+04</td>\n",
       "</tr>\n",
       "<tr>\n",
       "  <th>Tags_Ringing</th>                                         <td>   -4.5735</td> <td>    0.233</td> <td>  -19.626</td> <td> 0.000</td> <td>   -5.030</td> <td>   -4.117</td>\n",
       "</tr>\n",
       "<tr>\n",
       "  <th>Tags_Will_revert_after_reading_the_email</th>             <td>    3.5028</td> <td>    0.190</td> <td>   18.424</td> <td> 0.000</td> <td>    3.130</td> <td>    3.875</td>\n",
       "</tr>\n",
       "<tr>\n",
       "  <th>Tags_invalid_number</th>                                  <td>   -5.1641</td> <td>    1.027</td> <td>   -5.030</td> <td> 0.000</td> <td>   -7.176</td> <td>   -3.152</td>\n",
       "</tr>\n",
       "<tr>\n",
       "  <th>Tags_opp_hangup</th>                                      <td>   -2.5409</td> <td>    0.689</td> <td>   -3.687</td> <td> 0.000</td> <td>   -3.892</td> <td>   -1.190</td>\n",
       "</tr>\n",
       "<tr>\n",
       "  <th>Tags_switched_off</th>                                    <td>   -4.9630</td> <td>    0.526</td> <td>   -9.434</td> <td> 0.000</td> <td>   -5.994</td> <td>   -3.932</td>\n",
       "</tr>\n",
       "<tr>\n",
       "  <th>Tags_wrong_number_given</th>                              <td>  -26.5386</td> <td>  3.8e+04</td> <td>   -0.001</td> <td> 0.999</td> <td>-7.46e+04</td> <td> 7.45e+04</td>\n",
       "</tr>\n",
       "</table>"
      ],
      "text/plain": [
       "<class 'statsmodels.iolib.summary.Summary'>\n",
       "\"\"\"\n",
       "                 Generalized Linear Model Regression Results                  \n",
       "==============================================================================\n",
       "Dep. Variable:              Converted   No. Observations:                 6449\n",
       "Model:                            GLM   Df Residuals:                     6429\n",
       "Model Family:                Binomial   Df Model:                           19\n",
       "Link Function:                  logit   Scale:                          1.0000\n",
       "Method:                          IRLS   Log-Likelihood:                -1288.3\n",
       "Date:                Sun, 19 Apr 2020   Deviance:                       2576.6\n",
       "Time:                        16:50:00   Pearson chi2:                 8.15e+03\n",
       "No. Iterations:                    24                                         \n",
       "Covariance Type:            nonrobust                                         \n",
       "========================================================================================================================\n",
       "                                                           coef    std err          z      P>|z|      [0.025      0.975]\n",
       "------------------------------------------------------------------------------------------------------------------------\n",
       "const                                                   -2.0786      0.095    -21.872      0.000      -2.265      -1.892\n",
       "Lead_Source_Welingak_Website                             4.0283      1.029      3.916      0.000       2.012       6.045\n",
       "Last_Activity_SMS_Sent                                   2.0600      0.116     17.832      0.000       1.834       2.286\n",
       "Last_Notable_Activity_Modified                          -1.5546      0.123    -12.630      0.000      -1.796      -1.313\n",
       "What_is_your_current_occupation_Unemployed               2.1204      0.119     17.826      0.000       1.887       2.353\n",
       "What_is_your_current_occupation_Working_Professional     2.4117      0.362      6.656      0.000       1.701       3.122\n",
       "Tags_Already_a_student                                  -4.1043      0.589     -6.964      0.000      -5.260      -2.949\n",
       "Tags_Closed_by_Horizzon                                  6.7069      1.014      6.612      0.000       4.719       8.695\n",
       "Tags_Diploma_holder_(Not_Eligible)                      -3.5450      1.035     -3.424      0.001      -5.574      -1.516\n",
       "Tags_Graduation_in_progress                             -2.2494      0.499     -4.512      0.000      -3.227      -1.272\n",
       "Tags_Interested__in_full_time_MBA                       -2.7168      0.604     -4.499      0.000      -3.900      -1.533\n",
       "Tags_Interested_in_other_courses                        -2.9509      0.345     -8.556      0.000      -3.627      -2.275\n",
       "Tags_Lost_to_EINS                                        5.8083      0.609      9.535      0.000       4.614       7.002\n",
       "Tags_Not_doing_further_education                       -25.0206   1.94e+04     -0.001      0.999    -3.8e+04    3.79e+04\n",
       "Tags_Ringing                                            -4.5735      0.233    -19.626      0.000      -5.030      -4.117\n",
       "Tags_Will_revert_after_reading_the_email                 3.5028      0.190     18.424      0.000       3.130       3.875\n",
       "Tags_invalid_number                                     -5.1641      1.027     -5.030      0.000      -7.176      -3.152\n",
       "Tags_opp_hangup                                         -2.5409      0.689     -3.687      0.000      -3.892      -1.190\n",
       "Tags_switched_off                                       -4.9630      0.526     -9.434      0.000      -5.994      -3.932\n",
       "Tags_wrong_number_given                                -26.5386    3.8e+04     -0.001      0.999   -7.46e+04    7.45e+04\n",
       "========================================================================================================================\n",
       "\"\"\""
      ]
     },
     "execution_count": 85,
     "metadata": {},
     "output_type": "execute_result"
    }
   ],
   "source": [
    "# Let's re-run the model using the selected variables\n",
    "X_train_sm = sm.add_constant(X_train[col])\n",
    "logm3 = sm.GLM(y_train,X_train_sm, family = sm.families.Binomial())\n",
    "res = logm3.fit()\n",
    "res.summary()"
   ]
  },
  {
   "cell_type": "code",
   "execution_count": 86,
   "metadata": {},
   "outputs": [
    {
     "data": {
      "text/plain": [
       "array([0.51043008, 0.1717639 , 0.99448086, 0.98287504, 0.02575057,\n",
       "       0.11119175, 0.01064723, 0.99633235, 0.01752747, 0.11119175])"
      ]
     },
     "execution_count": 86,
     "metadata": {},
     "output_type": "execute_result"
    }
   ],
   "source": [
    "#Transposing the y values\n",
    "y_train_pred = res.predict(X_train_sm).values.reshape(-1)\n",
    "y_train_pred[:10]"
   ]
  },
  {
   "cell_type": "code",
   "execution_count": 87,
   "metadata": {},
   "outputs": [],
   "source": [
    "y_train_pred_final['Lead_Prob'] = y_train_pred"
   ]
  },
  {
   "cell_type": "code",
   "execution_count": 88,
   "metadata": {},
   "outputs": [
    {
     "data": {
      "text/html": [
       "<div>\n",
       "<style scoped>\n",
       "    .dataframe tbody tr th:only-of-type {\n",
       "        vertical-align: middle;\n",
       "    }\n",
       "\n",
       "    .dataframe tbody tr th {\n",
       "        vertical-align: top;\n",
       "    }\n",
       "\n",
       "    .dataframe thead th {\n",
       "        text-align: right;\n",
       "    }\n",
       "</style>\n",
       "<table border=\"1\" class=\"dataframe\">\n",
       "  <thead>\n",
       "    <tr style=\"text-align: right;\">\n",
       "      <th></th>\n",
       "      <th>Lead</th>\n",
       "      <th>Lead_Prob</th>\n",
       "      <th>LeadNum</th>\n",
       "      <th>predicted</th>\n",
       "    </tr>\n",
       "  </thead>\n",
       "  <tbody>\n",
       "    <tr>\n",
       "      <td>0</td>\n",
       "      <td>1</td>\n",
       "      <td>0.510430</td>\n",
       "      <td>3070</td>\n",
       "      <td>1</td>\n",
       "    </tr>\n",
       "    <tr>\n",
       "      <td>1</td>\n",
       "      <td>0</td>\n",
       "      <td>0.171764</td>\n",
       "      <td>2178</td>\n",
       "      <td>0</td>\n",
       "    </tr>\n",
       "    <tr>\n",
       "      <td>2</td>\n",
       "      <td>1</td>\n",
       "      <td>0.994481</td>\n",
       "      <td>2925</td>\n",
       "      <td>1</td>\n",
       "    </tr>\n",
       "    <tr>\n",
       "      <td>3</td>\n",
       "      <td>1</td>\n",
       "      <td>0.982875</td>\n",
       "      <td>8886</td>\n",
       "      <td>1</td>\n",
       "    </tr>\n",
       "    <tr>\n",
       "      <td>4</td>\n",
       "      <td>0</td>\n",
       "      <td>0.025751</td>\n",
       "      <td>7926</td>\n",
       "      <td>0</td>\n",
       "    </tr>\n",
       "  </tbody>\n",
       "</table>\n",
       "</div>"
      ],
      "text/plain": [
       "   Lead  Lead_Prob  LeadNum  predicted\n",
       "0     1   0.510430     3070          1\n",
       "1     0   0.171764     2178          0\n",
       "2     1   0.994481     2925          1\n",
       "3     1   0.982875     8886          1\n",
       "4     0   0.025751     7926          0"
      ]
     },
     "execution_count": 88,
     "metadata": {},
     "output_type": "execute_result"
    }
   ],
   "source": [
    "y_train_pred_final['predicted'] = y_train_pred_final.Lead_Prob.map(lambda x: 1 if x > 0.5 else 0)\n",
    "\n",
    "# Let's see the head\n",
    "y_train_pred_final.head()"
   ]
  },
  {
   "cell_type": "code",
   "execution_count": 89,
   "metadata": {},
   "outputs": [
    {
     "name": "stdout",
     "output_type": "stream",
     "text": [
      "0.9202977205768336\n"
     ]
    }
   ],
   "source": [
    "# Let's check the overall accuracy.\n",
    "print(metrics.accuracy_score(y_train_pred_final.Lead, y_train_pred_final.predicted))"
   ]
  },
  {
   "cell_type": "markdown",
   "metadata": {},
   "source": [
    "The overall accuracy hasn't dropped much."
   ]
  },
  {
   "cell_type": "code",
   "execution_count": 90,
   "metadata": {},
   "outputs": [
    {
     "data": {
      "text/html": [
       "<div>\n",
       "<style scoped>\n",
       "    .dataframe tbody tr th:only-of-type {\n",
       "        vertical-align: middle;\n",
       "    }\n",
       "\n",
       "    .dataframe tbody tr th {\n",
       "        vertical-align: top;\n",
       "    }\n",
       "\n",
       "    .dataframe thead th {\n",
       "        text-align: right;\n",
       "    }\n",
       "</style>\n",
       "<table border=\"1\" class=\"dataframe\">\n",
       "  <thead>\n",
       "    <tr style=\"text-align: right;\">\n",
       "      <th></th>\n",
       "      <th>Features</th>\n",
       "      <th>VIF</th>\n",
       "    </tr>\n",
       "  </thead>\n",
       "  <tbody>\n",
       "    <tr>\n",
       "      <td>6</td>\n",
       "      <td>Tags_Closed_by_Horizzon</td>\n",
       "      <td>1.34</td>\n",
       "    </tr>\n",
       "    <tr>\n",
       "      <td>17</td>\n",
       "      <td>Tags_switched_off</td>\n",
       "      <td>1.19</td>\n",
       "    </tr>\n",
       "    <tr>\n",
       "      <td>12</td>\n",
       "      <td>Tags_Not_doing_further_education</td>\n",
       "      <td>1.14</td>\n",
       "    </tr>\n",
       "    <tr>\n",
       "      <td>9</td>\n",
       "      <td>Tags_Interested__in_full_time_MBA</td>\n",
       "      <td>1.10</td>\n",
       "    </tr>\n",
       "    <tr>\n",
       "      <td>11</td>\n",
       "      <td>Tags_Lost_to_EINS</td>\n",
       "      <td>1.09</td>\n",
       "    </tr>\n",
       "    <tr>\n",
       "      <td>8</td>\n",
       "      <td>Tags_Graduation_in_progress</td>\n",
       "      <td>1.09</td>\n",
       "    </tr>\n",
       "    <tr>\n",
       "      <td>0</td>\n",
       "      <td>Lead_Source_Welingak_Website</td>\n",
       "      <td>1.08</td>\n",
       "    </tr>\n",
       "    <tr>\n",
       "      <td>15</td>\n",
       "      <td>Tags_invalid_number</td>\n",
       "      <td>1.07</td>\n",
       "    </tr>\n",
       "    <tr>\n",
       "      <td>7</td>\n",
       "      <td>Tags_Diploma_holder_(Not_Eligible)</td>\n",
       "      <td>1.06</td>\n",
       "    </tr>\n",
       "    <tr>\n",
       "      <td>16</td>\n",
       "      <td>Tags_opp_hangup</td>\n",
       "      <td>1.03</td>\n",
       "    </tr>\n",
       "    <tr>\n",
       "      <td>18</td>\n",
       "      <td>Tags_wrong_number_given</td>\n",
       "      <td>1.03</td>\n",
       "    </tr>\n",
       "    <tr>\n",
       "      <td>4</td>\n",
       "      <td>What_is_your_current_occupation_Working_Profes...</td>\n",
       "      <td>0.94</td>\n",
       "    </tr>\n",
       "    <tr>\n",
       "      <td>10</td>\n",
       "      <td>Tags_Interested_in_other_courses</td>\n",
       "      <td>0.41</td>\n",
       "    </tr>\n",
       "    <tr>\n",
       "      <td>14</td>\n",
       "      <td>Tags_Will_revert_after_reading_the_email</td>\n",
       "      <td>0.31</td>\n",
       "    </tr>\n",
       "    <tr>\n",
       "      <td>5</td>\n",
       "      <td>Tags_Already_a_student</td>\n",
       "      <td>0.29</td>\n",
       "    </tr>\n",
       "    <tr>\n",
       "      <td>13</td>\n",
       "      <td>Tags_Ringing</td>\n",
       "      <td>0.18</td>\n",
       "    </tr>\n",
       "    <tr>\n",
       "      <td>1</td>\n",
       "      <td>Last_Activity_SMS_Sent</td>\n",
       "      <td>0.12</td>\n",
       "    </tr>\n",
       "    <tr>\n",
       "      <td>3</td>\n",
       "      <td>What_is_your_current_occupation_Unemployed</td>\n",
       "      <td>0.06</td>\n",
       "    </tr>\n",
       "    <tr>\n",
       "      <td>2</td>\n",
       "      <td>Last_Notable_Activity_Modified</td>\n",
       "      <td>0.04</td>\n",
       "    </tr>\n",
       "  </tbody>\n",
       "</table>\n",
       "</div>"
      ],
      "text/plain": [
       "                                             Features   VIF\n",
       "6                             Tags_Closed_by_Horizzon  1.34\n",
       "17                                  Tags_switched_off  1.19\n",
       "12                   Tags_Not_doing_further_education  1.14\n",
       "9                   Tags_Interested__in_full_time_MBA  1.10\n",
       "11                                  Tags_Lost_to_EINS  1.09\n",
       "8                         Tags_Graduation_in_progress  1.09\n",
       "0                        Lead_Source_Welingak_Website  1.08\n",
       "15                                Tags_invalid_number  1.07\n",
       "7                  Tags_Diploma_holder_(Not_Eligible)  1.06\n",
       "16                                    Tags_opp_hangup  1.03\n",
       "18                            Tags_wrong_number_given  1.03\n",
       "4   What_is_your_current_occupation_Working_Profes...  0.94\n",
       "10                   Tags_Interested_in_other_courses  0.41\n",
       "14           Tags_Will_revert_after_reading_the_email  0.31\n",
       "5                              Tags_Already_a_student  0.29\n",
       "13                                       Tags_Ringing  0.18\n",
       "1                              Last_Activity_SMS_Sent  0.12\n",
       "3          What_is_your_current_occupation_Unemployed  0.06\n",
       "2                      Last_Notable_Activity_Modified  0.04"
      ]
     },
     "execution_count": 90,
     "metadata": {},
     "output_type": "execute_result"
    }
   ],
   "source": [
    "# Checking VIF Again\n",
    "vif = pd.DataFrame()\n",
    "vif['Features'] = X_train[col].columns\n",
    "vif['VIF'] = [variance_inflation_factor(X_train[col].values, i) for i in range(X_train[col].shape[1])]\n",
    "vif['VIF'] = round(vif['VIF'], 2)\n",
    "vif = vif.sort_values(by = \"VIF\", ascending = False)\n",
    "vif"
   ]
  },
  {
   "cell_type": "markdown",
   "metadata": {},
   "source": [
    "It is evident from above table, that VIF is well under limits"
   ]
  },
  {
   "cell_type": "markdown",
   "metadata": {},
   "source": [
    "#### Manual Iteration No:3"
   ]
  },
  {
   "cell_type": "code",
   "execution_count": 91,
   "metadata": {},
   "outputs": [],
   "source": [
    "#dropping feature Tags_Not_doing_further_education as it has very high P-Value\n",
    "col = col.drop('Tags_Not_doing_further_education', 1)"
   ]
  },
  {
   "cell_type": "code",
   "execution_count": 92,
   "metadata": {},
   "outputs": [
    {
     "data": {
      "text/html": [
       "<table class=\"simpletable\">\n",
       "<caption>Generalized Linear Model Regression Results</caption>\n",
       "<tr>\n",
       "  <th>Dep. Variable:</th>       <td>Converted</td>    <th>  No. Observations:  </th>  <td>  6449</td> \n",
       "</tr>\n",
       "<tr>\n",
       "  <th>Model:</th>                  <td>GLM</td>       <th>  Df Residuals:      </th>  <td>  6430</td> \n",
       "</tr>\n",
       "<tr>\n",
       "  <th>Model Family:</th>        <td>Binomial</td>     <th>  Df Model:          </th>  <td>    18</td> \n",
       "</tr>\n",
       "<tr>\n",
       "  <th>Link Function:</th>         <td>logit</td>      <th>  Scale:             </th> <td>  1.0000</td>\n",
       "</tr>\n",
       "<tr>\n",
       "  <th>Method:</th>                <td>IRLS</td>       <th>  Log-Likelihood:    </th> <td> -1328.7</td>\n",
       "</tr>\n",
       "<tr>\n",
       "  <th>Date:</th>            <td>Sun, 19 Apr 2020</td> <th>  Deviance:          </th> <td>  2657.4</td>\n",
       "</tr>\n",
       "<tr>\n",
       "  <th>Time:</th>                <td>16:51:39</td>     <th>  Pearson chi2:      </th> <td>8.36e+03</td>\n",
       "</tr>\n",
       "<tr>\n",
       "  <th>No. Iterations:</th>         <td>22</td>        <th>                     </th>     <td> </td>   \n",
       "</tr>\n",
       "<tr>\n",
       "  <th>Covariance Type:</th>     <td>nonrobust</td>    <th>                     </th>     <td> </td>   \n",
       "</tr>\n",
       "</table>\n",
       "<table class=\"simpletable\">\n",
       "<tr>\n",
       "                            <td></td>                              <th>coef</th>     <th>std err</th>      <th>z</th>      <th>P>|z|</th>  <th>[0.025</th>    <th>0.975]</th>  \n",
       "</tr>\n",
       "<tr>\n",
       "  <th>const</th>                                                <td>   -2.0927</td> <td>    0.095</td> <td>  -22.006</td> <td> 0.000</td> <td>   -2.279</td> <td>   -1.906</td>\n",
       "</tr>\n",
       "<tr>\n",
       "  <th>Lead_Source_Welingak_Website</th>                         <td>    4.3085</td> <td>    1.030</td> <td>    4.183</td> <td> 0.000</td> <td>    2.290</td> <td>    6.327</td>\n",
       "</tr>\n",
       "<tr>\n",
       "  <th>Last_Activity_SMS_Sent</th>                               <td>    2.1198</td> <td>    0.114</td> <td>   18.654</td> <td> 0.000</td> <td>    1.897</td> <td>    2.343</td>\n",
       "</tr>\n",
       "<tr>\n",
       "  <th>Last_Notable_Activity_Modified</th>                       <td>   -1.6477</td> <td>    0.121</td> <td>  -13.634</td> <td> 0.000</td> <td>   -1.885</td> <td>   -1.411</td>\n",
       "</tr>\n",
       "<tr>\n",
       "  <th>What_is_your_current_occupation_Unemployed</th>           <td>    1.8974</td> <td>    0.115</td> <td>   16.460</td> <td> 0.000</td> <td>    1.671</td> <td>    2.123</td>\n",
       "</tr>\n",
       "<tr>\n",
       "  <th>What_is_your_current_occupation_Working_Professional</th> <td>    2.2187</td> <td>    0.356</td> <td>    6.238</td> <td> 0.000</td> <td>    1.522</td> <td>    2.916</td>\n",
       "</tr>\n",
       "<tr>\n",
       "  <th>Tags_Already_a_student</th>                               <td>   -3.8568</td> <td>    0.588</td> <td>   -6.554</td> <td> 0.000</td> <td>   -5.010</td> <td>   -2.703</td>\n",
       "</tr>\n",
       "<tr>\n",
       "  <th>Tags_Closed_by_Horizzon</th>                              <td>    6.9704</td> <td>    1.013</td> <td>    6.881</td> <td> 0.000</td> <td>    4.985</td> <td>    8.956</td>\n",
       "</tr>\n",
       "<tr>\n",
       "  <th>Tags_Diploma_holder_(Not_Eligible)</th>                   <td>   -3.3048</td> <td>    1.037</td> <td>   -3.187</td> <td> 0.001</td> <td>   -5.337</td> <td>   -1.273</td>\n",
       "</tr>\n",
       "<tr>\n",
       "  <th>Tags_Graduation_in_progress</th>                          <td>   -1.9953</td> <td>    0.499</td> <td>   -3.996</td> <td> 0.000</td> <td>   -2.974</td> <td>   -1.017</td>\n",
       "</tr>\n",
       "<tr>\n",
       "  <th>Tags_Interested__in_full_time_MBA</th>                    <td>   -2.4575</td> <td>    0.603</td> <td>   -4.073</td> <td> 0.000</td> <td>   -3.640</td> <td>   -1.275</td>\n",
       "</tr>\n",
       "<tr>\n",
       "  <th>Tags_Interested_in_other_courses</th>                     <td>   -2.6953</td> <td>    0.344</td> <td>   -7.828</td> <td> 0.000</td> <td>   -3.370</td> <td>   -2.020</td>\n",
       "</tr>\n",
       "<tr>\n",
       "  <th>Tags_Lost_to_EINS</th>                                    <td>    5.9574</td> <td>    0.608</td> <td>    9.805</td> <td> 0.000</td> <td>    4.766</td> <td>    7.148</td>\n",
       "</tr>\n",
       "<tr>\n",
       "  <th>Tags_Ringing</th>                                         <td>   -4.3824</td> <td>    0.231</td> <td>  -18.976</td> <td> 0.000</td> <td>   -4.835</td> <td>   -3.930</td>\n",
       "</tr>\n",
       "<tr>\n",
       "  <th>Tags_Will_revert_after_reading_the_email</th>             <td>    3.7297</td> <td>    0.189</td> <td>   19.763</td> <td> 0.000</td> <td>    3.360</td> <td>    4.100</td>\n",
       "</tr>\n",
       "<tr>\n",
       "  <th>Tags_invalid_number</th>                                  <td>   -4.9755</td> <td>    1.027</td> <td>   -4.846</td> <td> 0.000</td> <td>   -6.988</td> <td>   -2.963</td>\n",
       "</tr>\n",
       "<tr>\n",
       "  <th>Tags_opp_hangup</th>                                      <td>   -2.3322</td> <td>    0.692</td> <td>   -3.368</td> <td> 0.001</td> <td>   -3.689</td> <td>   -0.975</td>\n",
       "</tr>\n",
       "<tr>\n",
       "  <th>Tags_switched_off</th>                                    <td>   -4.7761</td> <td>    0.525</td> <td>   -9.093</td> <td> 0.000</td> <td>   -5.806</td> <td>   -3.747</td>\n",
       "</tr>\n",
       "<tr>\n",
       "  <th>Tags_wrong_number_given</th>                              <td>  -24.3338</td> <td> 1.39e+04</td> <td>   -0.002</td> <td> 0.999</td> <td>-2.72e+04</td> <td> 2.72e+04</td>\n",
       "</tr>\n",
       "</table>"
      ],
      "text/plain": [
       "<class 'statsmodels.iolib.summary.Summary'>\n",
       "\"\"\"\n",
       "                 Generalized Linear Model Regression Results                  \n",
       "==============================================================================\n",
       "Dep. Variable:              Converted   No. Observations:                 6449\n",
       "Model:                            GLM   Df Residuals:                     6430\n",
       "Model Family:                Binomial   Df Model:                           18\n",
       "Link Function:                  logit   Scale:                          1.0000\n",
       "Method:                          IRLS   Log-Likelihood:                -1328.7\n",
       "Date:                Sun, 19 Apr 2020   Deviance:                       2657.4\n",
       "Time:                        16:51:39   Pearson chi2:                 8.36e+03\n",
       "No. Iterations:                    22                                         \n",
       "Covariance Type:            nonrobust                                         \n",
       "========================================================================================================================\n",
       "                                                           coef    std err          z      P>|z|      [0.025      0.975]\n",
       "------------------------------------------------------------------------------------------------------------------------\n",
       "const                                                   -2.0927      0.095    -22.006      0.000      -2.279      -1.906\n",
       "Lead_Source_Welingak_Website                             4.3085      1.030      4.183      0.000       2.290       6.327\n",
       "Last_Activity_SMS_Sent                                   2.1198      0.114     18.654      0.000       1.897       2.343\n",
       "Last_Notable_Activity_Modified                          -1.6477      0.121    -13.634      0.000      -1.885      -1.411\n",
       "What_is_your_current_occupation_Unemployed               1.8974      0.115     16.460      0.000       1.671       2.123\n",
       "What_is_your_current_occupation_Working_Professional     2.2187      0.356      6.238      0.000       1.522       2.916\n",
       "Tags_Already_a_student                                  -3.8568      0.588     -6.554      0.000      -5.010      -2.703\n",
       "Tags_Closed_by_Horizzon                                  6.9704      1.013      6.881      0.000       4.985       8.956\n",
       "Tags_Diploma_holder_(Not_Eligible)                      -3.3048      1.037     -3.187      0.001      -5.337      -1.273\n",
       "Tags_Graduation_in_progress                             -1.9953      0.499     -3.996      0.000      -2.974      -1.017\n",
       "Tags_Interested__in_full_time_MBA                       -2.4575      0.603     -4.073      0.000      -3.640      -1.275\n",
       "Tags_Interested_in_other_courses                        -2.6953      0.344     -7.828      0.000      -3.370      -2.020\n",
       "Tags_Lost_to_EINS                                        5.9574      0.608      9.805      0.000       4.766       7.148\n",
       "Tags_Ringing                                            -4.3824      0.231    -18.976      0.000      -4.835      -3.930\n",
       "Tags_Will_revert_after_reading_the_email                 3.7297      0.189     19.763      0.000       3.360       4.100\n",
       "Tags_invalid_number                                     -4.9755      1.027     -4.846      0.000      -6.988      -2.963\n",
       "Tags_opp_hangup                                         -2.3322      0.692     -3.368      0.001      -3.689      -0.975\n",
       "Tags_switched_off                                       -4.7761      0.525     -9.093      0.000      -5.806      -3.747\n",
       "Tags_wrong_number_given                                -24.3338   1.39e+04     -0.002      0.999   -2.72e+04    2.72e+04\n",
       "========================================================================================================================\n",
       "\"\"\""
      ]
     },
     "execution_count": 92,
     "metadata": {},
     "output_type": "execute_result"
    }
   ],
   "source": [
    "# Let's re-run the model using the selected variables\n",
    "X_train_sm = sm.add_constant(X_train[col])\n",
    "logm31 = sm.GLM(y_train,X_train_sm, family = sm.families.Binomial())\n",
    "res = logm31.fit()\n",
    "res.summary()"
   ]
  },
  {
   "cell_type": "code",
   "execution_count": 93,
   "metadata": {},
   "outputs": [
    {
     "data": {
      "text/plain": [
       "array([0.45133964, 0.1651338 , 0.99410368, 0.98213033, 0.02319566,\n",
       "       0.10981268, 0.01017421, 0.99650975, 0.01621401, 0.10981268])"
      ]
     },
     "execution_count": 93,
     "metadata": {},
     "output_type": "execute_result"
    }
   ],
   "source": [
    "#Transposing the y values\n",
    "y_train_pred = res.predict(X_train_sm).values.reshape(-1)\n",
    "y_train_pred[:10]"
   ]
  },
  {
   "cell_type": "code",
   "execution_count": 94,
   "metadata": {},
   "outputs": [],
   "source": [
    "y_train_pred_final['Lead_Prob'] = y_train_pred"
   ]
  },
  {
   "cell_type": "code",
   "execution_count": 95,
   "metadata": {},
   "outputs": [
    {
     "data": {
      "text/html": [
       "<div>\n",
       "<style scoped>\n",
       "    .dataframe tbody tr th:only-of-type {\n",
       "        vertical-align: middle;\n",
       "    }\n",
       "\n",
       "    .dataframe tbody tr th {\n",
       "        vertical-align: top;\n",
       "    }\n",
       "\n",
       "    .dataframe thead th {\n",
       "        text-align: right;\n",
       "    }\n",
       "</style>\n",
       "<table border=\"1\" class=\"dataframe\">\n",
       "  <thead>\n",
       "    <tr style=\"text-align: right;\">\n",
       "      <th></th>\n",
       "      <th>Lead</th>\n",
       "      <th>Lead_Prob</th>\n",
       "      <th>LeadNum</th>\n",
       "      <th>predicted</th>\n",
       "    </tr>\n",
       "  </thead>\n",
       "  <tbody>\n",
       "    <tr>\n",
       "      <td>0</td>\n",
       "      <td>1</td>\n",
       "      <td>0.451340</td>\n",
       "      <td>3070</td>\n",
       "      <td>0</td>\n",
       "    </tr>\n",
       "    <tr>\n",
       "      <td>1</td>\n",
       "      <td>0</td>\n",
       "      <td>0.165134</td>\n",
       "      <td>2178</td>\n",
       "      <td>0</td>\n",
       "    </tr>\n",
       "    <tr>\n",
       "      <td>2</td>\n",
       "      <td>1</td>\n",
       "      <td>0.994104</td>\n",
       "      <td>2925</td>\n",
       "      <td>1</td>\n",
       "    </tr>\n",
       "    <tr>\n",
       "      <td>3</td>\n",
       "      <td>1</td>\n",
       "      <td>0.982130</td>\n",
       "      <td>8886</td>\n",
       "      <td>1</td>\n",
       "    </tr>\n",
       "    <tr>\n",
       "      <td>4</td>\n",
       "      <td>0</td>\n",
       "      <td>0.023196</td>\n",
       "      <td>7926</td>\n",
       "      <td>0</td>\n",
       "    </tr>\n",
       "  </tbody>\n",
       "</table>\n",
       "</div>"
      ],
      "text/plain": [
       "   Lead  Lead_Prob  LeadNum  predicted\n",
       "0     1   0.451340     3070          0\n",
       "1     0   0.165134     2178          0\n",
       "2     1   0.994104     2925          1\n",
       "3     1   0.982130     8886          1\n",
       "4     0   0.023196     7926          0"
      ]
     },
     "execution_count": 95,
     "metadata": {},
     "output_type": "execute_result"
    }
   ],
   "source": [
    "y_train_pred_final['predicted'] = y_train_pred_final.Lead_Prob.map(lambda x: 1 if x > 0.5 else 0)\n",
    "\n",
    "# Let's see the head\n",
    "y_train_pred_final.head()"
   ]
  },
  {
   "cell_type": "code",
   "execution_count": 96,
   "metadata": {},
   "outputs": [
    {
     "name": "stdout",
     "output_type": "stream",
     "text": [
      "0.9199875949759653\n"
     ]
    }
   ],
   "source": [
    "# Let's check the overall accuracy.\n",
    "print(metrics.accuracy_score(y_train_pred_final.Lead, y_train_pred_final.predicted))"
   ]
  },
  {
   "cell_type": "markdown",
   "metadata": {},
   "source": [
    "For this iteration as well, the accuracy hasn't dropped much"
   ]
  },
  {
   "cell_type": "code",
   "execution_count": 97,
   "metadata": {},
   "outputs": [
    {
     "data": {
      "text/html": [
       "<div>\n",
       "<style scoped>\n",
       "    .dataframe tbody tr th:only-of-type {\n",
       "        vertical-align: middle;\n",
       "    }\n",
       "\n",
       "    .dataframe tbody tr th {\n",
       "        vertical-align: top;\n",
       "    }\n",
       "\n",
       "    .dataframe thead th {\n",
       "        text-align: right;\n",
       "    }\n",
       "</style>\n",
       "<table border=\"1\" class=\"dataframe\">\n",
       "  <thead>\n",
       "    <tr style=\"text-align: right;\">\n",
       "      <th></th>\n",
       "      <th>Features</th>\n",
       "      <th>VIF</th>\n",
       "    </tr>\n",
       "  </thead>\n",
       "  <tbody>\n",
       "    <tr>\n",
       "      <td>6</td>\n",
       "      <td>Tags_Closed_by_Horizzon</td>\n",
       "      <td>1.30</td>\n",
       "    </tr>\n",
       "    <tr>\n",
       "      <td>16</td>\n",
       "      <td>Tags_switched_off</td>\n",
       "      <td>1.17</td>\n",
       "    </tr>\n",
       "    <tr>\n",
       "      <td>9</td>\n",
       "      <td>Tags_Interested__in_full_time_MBA</td>\n",
       "      <td>1.09</td>\n",
       "    </tr>\n",
       "    <tr>\n",
       "      <td>11</td>\n",
       "      <td>Tags_Lost_to_EINS</td>\n",
       "      <td>1.08</td>\n",
       "    </tr>\n",
       "    <tr>\n",
       "      <td>8</td>\n",
       "      <td>Tags_Graduation_in_progress</td>\n",
       "      <td>1.08</td>\n",
       "    </tr>\n",
       "    <tr>\n",
       "      <td>0</td>\n",
       "      <td>Lead_Source_Welingak_Website</td>\n",
       "      <td>1.07</td>\n",
       "    </tr>\n",
       "    <tr>\n",
       "      <td>14</td>\n",
       "      <td>Tags_invalid_number</td>\n",
       "      <td>1.06</td>\n",
       "    </tr>\n",
       "    <tr>\n",
       "      <td>7</td>\n",
       "      <td>Tags_Diploma_holder_(Not_Eligible)</td>\n",
       "      <td>1.05</td>\n",
       "    </tr>\n",
       "    <tr>\n",
       "      <td>17</td>\n",
       "      <td>Tags_wrong_number_given</td>\n",
       "      <td>1.03</td>\n",
       "    </tr>\n",
       "    <tr>\n",
       "      <td>15</td>\n",
       "      <td>Tags_opp_hangup</td>\n",
       "      <td>1.02</td>\n",
       "    </tr>\n",
       "    <tr>\n",
       "      <td>4</td>\n",
       "      <td>What_is_your_current_occupation_Working_Profes...</td>\n",
       "      <td>0.91</td>\n",
       "    </tr>\n",
       "    <tr>\n",
       "      <td>10</td>\n",
       "      <td>Tags_Interested_in_other_courses</td>\n",
       "      <td>0.39</td>\n",
       "    </tr>\n",
       "    <tr>\n",
       "      <td>13</td>\n",
       "      <td>Tags_Will_revert_after_reading_the_email</td>\n",
       "      <td>0.30</td>\n",
       "    </tr>\n",
       "    <tr>\n",
       "      <td>5</td>\n",
       "      <td>Tags_Already_a_student</td>\n",
       "      <td>0.28</td>\n",
       "    </tr>\n",
       "    <tr>\n",
       "      <td>12</td>\n",
       "      <td>Tags_Ringing</td>\n",
       "      <td>0.17</td>\n",
       "    </tr>\n",
       "    <tr>\n",
       "      <td>1</td>\n",
       "      <td>Last_Activity_SMS_Sent</td>\n",
       "      <td>0.12</td>\n",
       "    </tr>\n",
       "    <tr>\n",
       "      <td>3</td>\n",
       "      <td>What_is_your_current_occupation_Unemployed</td>\n",
       "      <td>0.06</td>\n",
       "    </tr>\n",
       "    <tr>\n",
       "      <td>2</td>\n",
       "      <td>Last_Notable_Activity_Modified</td>\n",
       "      <td>0.04</td>\n",
       "    </tr>\n",
       "  </tbody>\n",
       "</table>\n",
       "</div>"
      ],
      "text/plain": [
       "                                             Features   VIF\n",
       "6                             Tags_Closed_by_Horizzon  1.30\n",
       "16                                  Tags_switched_off  1.17\n",
       "9                   Tags_Interested__in_full_time_MBA  1.09\n",
       "11                                  Tags_Lost_to_EINS  1.08\n",
       "8                         Tags_Graduation_in_progress  1.08\n",
       "0                        Lead_Source_Welingak_Website  1.07\n",
       "14                                Tags_invalid_number  1.06\n",
       "7                  Tags_Diploma_holder_(Not_Eligible)  1.05\n",
       "17                            Tags_wrong_number_given  1.03\n",
       "15                                    Tags_opp_hangup  1.02\n",
       "4   What_is_your_current_occupation_Working_Profes...  0.91\n",
       "10                   Tags_Interested_in_other_courses  0.39\n",
       "13           Tags_Will_revert_after_reading_the_email  0.30\n",
       "5                              Tags_Already_a_student  0.28\n",
       "12                                       Tags_Ringing  0.17\n",
       "1                              Last_Activity_SMS_Sent  0.12\n",
       "3          What_is_your_current_occupation_Unemployed  0.06\n",
       "2                      Last_Notable_Activity_Modified  0.04"
      ]
     },
     "execution_count": 97,
     "metadata": {},
     "output_type": "execute_result"
    }
   ],
   "source": [
    "# Checking VIF Again\n",
    "vif = pd.DataFrame()\n",
    "vif['Features'] = X_train[col].columns\n",
    "vif['VIF'] = [variance_inflation_factor(X_train[col].values, i) for i in range(X_train[col].shape[1])]\n",
    "vif['VIF'] = round(vif['VIF'], 2)\n",
    "vif = vif.sort_values(by = \"VIF\", ascending = False)\n",
    "vif"
   ]
  },
  {
   "cell_type": "markdown",
   "metadata": {},
   "source": [
    "The VIF is under limits"
   ]
  },
  {
   "cell_type": "markdown",
   "metadata": {},
   "source": [
    "#### Manual Iteration No: 4"
   ]
  },
  {
   "cell_type": "code",
   "execution_count": 98,
   "metadata": {},
   "outputs": [],
   "source": [
    "#dropping feature Tags_wrong_number_given as it has very high P-Value\n",
    "col = col.drop('Tags_wrong_number_given', 1)"
   ]
  },
  {
   "cell_type": "code",
   "execution_count": 99,
   "metadata": {},
   "outputs": [
    {
     "data": {
      "text/html": [
       "<table class=\"simpletable\">\n",
       "<caption>Generalized Linear Model Regression Results</caption>\n",
       "<tr>\n",
       "  <th>Dep. Variable:</th>       <td>Converted</td>    <th>  No. Observations:  </th>  <td>  6449</td> \n",
       "</tr>\n",
       "<tr>\n",
       "  <th>Model:</th>                  <td>GLM</td>       <th>  Df Residuals:      </th>  <td>  6431</td> \n",
       "</tr>\n",
       "<tr>\n",
       "  <th>Model Family:</th>        <td>Binomial</td>     <th>  Df Model:          </th>  <td>    17</td> \n",
       "</tr>\n",
       "<tr>\n",
       "  <th>Link Function:</th>         <td>logit</td>      <th>  Scale:             </th> <td>  1.0000</td>\n",
       "</tr>\n",
       "<tr>\n",
       "  <th>Method:</th>                <td>IRLS</td>       <th>  Log-Likelihood:    </th> <td> -1353.1</td>\n",
       "</tr>\n",
       "<tr>\n",
       "  <th>Date:</th>            <td>Sun, 19 Apr 2020</td> <th>  Deviance:          </th> <td>  2706.2</td>\n",
       "</tr>\n",
       "<tr>\n",
       "  <th>Time:</th>                <td>16:52:59</td>     <th>  Pearson chi2:      </th> <td>8.05e+03</td>\n",
       "</tr>\n",
       "<tr>\n",
       "  <th>No. Iterations:</th>          <td>8</td>        <th>                     </th>     <td> </td>   \n",
       "</tr>\n",
       "<tr>\n",
       "  <th>Covariance Type:</th>     <td>nonrobust</td>    <th>                     </th>     <td> </td>   \n",
       "</tr>\n",
       "</table>\n",
       "<table class=\"simpletable\">\n",
       "<tr>\n",
       "                            <td></td>                              <th>coef</th>     <th>std err</th>      <th>z</th>      <th>P>|z|</th>  <th>[0.025</th>    <th>0.975]</th>  \n",
       "</tr>\n",
       "<tr>\n",
       "  <th>const</th>                                                <td>   -2.0718</td> <td>    0.094</td> <td>  -22.001</td> <td> 0.000</td> <td>   -2.256</td> <td>   -1.887</td>\n",
       "</tr>\n",
       "<tr>\n",
       "  <th>Lead_Source_Welingak_Website</th>                         <td>    4.3864</td> <td>    1.029</td> <td>    4.262</td> <td> 0.000</td> <td>    2.369</td> <td>    6.404</td>\n",
       "</tr>\n",
       "<tr>\n",
       "  <th>Last_Activity_SMS_Sent</th>                               <td>    2.0557</td> <td>    0.111</td> <td>   18.441</td> <td> 0.000</td> <td>    1.837</td> <td>    2.274</td>\n",
       "</tr>\n",
       "<tr>\n",
       "  <th>Last_Notable_Activity_Modified</th>                       <td>   -1.6306</td> <td>    0.120</td> <td>  -13.601</td> <td> 0.000</td> <td>   -1.866</td> <td>   -1.396</td>\n",
       "</tr>\n",
       "<tr>\n",
       "  <th>What_is_your_current_occupation_Unemployed</th>           <td>    1.7965</td> <td>    0.113</td> <td>   15.847</td> <td> 0.000</td> <td>    1.574</td> <td>    2.019</td>\n",
       "</tr>\n",
       "<tr>\n",
       "  <th>What_is_your_current_occupation_Working_Professional</th> <td>    2.1522</td> <td>    0.355</td> <td>    6.061</td> <td> 0.000</td> <td>    1.456</td> <td>    2.848</td>\n",
       "</tr>\n",
       "<tr>\n",
       "  <th>Tags_Already_a_student</th>                               <td>   -3.7790</td> <td>    0.588</td> <td>   -6.424</td> <td> 0.000</td> <td>   -4.932</td> <td>   -2.626</td>\n",
       "</tr>\n",
       "<tr>\n",
       "  <th>Tags_Closed_by_Horizzon</th>                              <td>    7.0106</td> <td>    1.012</td> <td>    6.925</td> <td> 0.000</td> <td>    5.026</td> <td>    8.995</td>\n",
       "</tr>\n",
       "<tr>\n",
       "  <th>Tags_Diploma_holder_(Not_Eligible)</th>                   <td>   -3.2131</td> <td>    1.035</td> <td>   -3.104</td> <td> 0.002</td> <td>   -5.242</td> <td>   -1.184</td>\n",
       "</tr>\n",
       "<tr>\n",
       "  <th>Tags_Graduation_in_progress</th>                          <td>   -1.9018</td> <td>    0.497</td> <td>   -3.823</td> <td> 0.000</td> <td>   -2.877</td> <td>   -0.927</td>\n",
       "</tr>\n",
       "<tr>\n",
       "  <th>Tags_Interested__in_full_time_MBA</th>                    <td>   -2.3763</td> <td>    0.603</td> <td>   -3.942</td> <td> 0.000</td> <td>   -3.558</td> <td>   -1.195</td>\n",
       "</tr>\n",
       "<tr>\n",
       "  <th>Tags_Interested_in_other_courses</th>                     <td>   -2.6078</td> <td>    0.343</td> <td>   -7.599</td> <td> 0.000</td> <td>   -3.280</td> <td>   -1.935</td>\n",
       "</tr>\n",
       "<tr>\n",
       "  <th>Tags_Lost_to_EINS</th>                                    <td>    5.9512</td> <td>    0.606</td> <td>    9.814</td> <td> 0.000</td> <td>    4.763</td> <td>    7.140</td>\n",
       "</tr>\n",
       "<tr>\n",
       "  <th>Tags_Ringing</th>                                         <td>   -4.2509</td> <td>    0.229</td> <td>  -18.584</td> <td> 0.000</td> <td>   -4.699</td> <td>   -3.803</td>\n",
       "</tr>\n",
       "<tr>\n",
       "  <th>Tags_Will_revert_after_reading_the_email</th>             <td>    3.7841</td> <td>    0.188</td> <td>   20.150</td> <td> 0.000</td> <td>    3.416</td> <td>    4.152</td>\n",
       "</tr>\n",
       "<tr>\n",
       "  <th>Tags_invalid_number</th>                                  <td>   -4.8410</td> <td>    1.026</td> <td>   -4.719</td> <td> 0.000</td> <td>   -6.851</td> <td>   -2.830</td>\n",
       "</tr>\n",
       "<tr>\n",
       "  <th>Tags_opp_hangup</th>                                      <td>   -2.2148</td> <td>    0.689</td> <td>   -3.217</td> <td> 0.001</td> <td>   -3.564</td> <td>   -0.865</td>\n",
       "</tr>\n",
       "<tr>\n",
       "  <th>Tags_switched_off</th>                                    <td>   -4.6404</td> <td>    0.524</td> <td>   -8.854</td> <td> 0.000</td> <td>   -5.668</td> <td>   -3.613</td>\n",
       "</tr>\n",
       "</table>"
      ],
      "text/plain": [
       "<class 'statsmodels.iolib.summary.Summary'>\n",
       "\"\"\"\n",
       "                 Generalized Linear Model Regression Results                  \n",
       "==============================================================================\n",
       "Dep. Variable:              Converted   No. Observations:                 6449\n",
       "Model:                            GLM   Df Residuals:                     6431\n",
       "Model Family:                Binomial   Df Model:                           17\n",
       "Link Function:                  logit   Scale:                          1.0000\n",
       "Method:                          IRLS   Log-Likelihood:                -1353.1\n",
       "Date:                Sun, 19 Apr 2020   Deviance:                       2706.2\n",
       "Time:                        16:52:59   Pearson chi2:                 8.05e+03\n",
       "No. Iterations:                     8                                         \n",
       "Covariance Type:            nonrobust                                         \n",
       "========================================================================================================================\n",
       "                                                           coef    std err          z      P>|z|      [0.025      0.975]\n",
       "------------------------------------------------------------------------------------------------------------------------\n",
       "const                                                   -2.0718      0.094    -22.001      0.000      -2.256      -1.887\n",
       "Lead_Source_Welingak_Website                             4.3864      1.029      4.262      0.000       2.369       6.404\n",
       "Last_Activity_SMS_Sent                                   2.0557      0.111     18.441      0.000       1.837       2.274\n",
       "Last_Notable_Activity_Modified                          -1.6306      0.120    -13.601      0.000      -1.866      -1.396\n",
       "What_is_your_current_occupation_Unemployed               1.7965      0.113     15.847      0.000       1.574       2.019\n",
       "What_is_your_current_occupation_Working_Professional     2.1522      0.355      6.061      0.000       1.456       2.848\n",
       "Tags_Already_a_student                                  -3.7790      0.588     -6.424      0.000      -4.932      -2.626\n",
       "Tags_Closed_by_Horizzon                                  7.0106      1.012      6.925      0.000       5.026       8.995\n",
       "Tags_Diploma_holder_(Not_Eligible)                      -3.2131      1.035     -3.104      0.002      -5.242      -1.184\n",
       "Tags_Graduation_in_progress                             -1.9018      0.497     -3.823      0.000      -2.877      -0.927\n",
       "Tags_Interested__in_full_time_MBA                       -2.3763      0.603     -3.942      0.000      -3.558      -1.195\n",
       "Tags_Interested_in_other_courses                        -2.6078      0.343     -7.599      0.000      -3.280      -1.935\n",
       "Tags_Lost_to_EINS                                        5.9512      0.606      9.814      0.000       4.763       7.140\n",
       "Tags_Ringing                                            -4.2509      0.229    -18.584      0.000      -4.699      -3.803\n",
       "Tags_Will_revert_after_reading_the_email                 3.7841      0.188     20.150      0.000       3.416       4.152\n",
       "Tags_invalid_number                                     -4.8410      1.026     -4.719      0.000      -6.851      -2.830\n",
       "Tags_opp_hangup                                         -2.2148      0.689     -3.217      0.001      -3.564      -0.865\n",
       "Tags_switched_off                                       -4.6404      0.524     -8.854      0.000      -5.668      -3.613\n",
       "========================================================================================================================\n",
       "\"\"\""
      ]
     },
     "execution_count": 99,
     "metadata": {},
     "output_type": "execute_result"
    }
   ],
   "source": [
    "# Let's re-run the model using the selected variables\n",
    "X_train_sm = sm.add_constant(X_train[col])\n",
    "logm4 = sm.GLM(y_train,X_train_sm, family = sm.families.Binomial())\n",
    "res = logm4.fit()\n",
    "res.summary()"
   ]
  },
  {
   "cell_type": "markdown",
   "metadata": {},
   "source": [
    "The P-Value of all the features are within limits"
   ]
  },
  {
   "cell_type": "code",
   "execution_count": 100,
   "metadata": {},
   "outputs": [
    {
     "data": {
      "text/plain": [
       "array([0.43162533, 0.16155224, 0.99396911, 0.98080821, 0.02407117,\n",
       "       0.11187156, 0.01070682, 0.99618314, 0.01628537, 0.11187156])"
      ]
     },
     "execution_count": 100,
     "metadata": {},
     "output_type": "execute_result"
    }
   ],
   "source": [
    "#Transposing the y values\n",
    "y_train_pred = res.predict(X_train_sm).values.reshape(-1)\n",
    "y_train_pred[:10]"
   ]
  },
  {
   "cell_type": "code",
   "execution_count": 101,
   "metadata": {},
   "outputs": [],
   "source": [
    "y_train_pred_final['Lead_Prob'] = y_train_pred"
   ]
  },
  {
   "cell_type": "code",
   "execution_count": 102,
   "metadata": {},
   "outputs": [
    {
     "data": {
      "text/html": [
       "<div>\n",
       "<style scoped>\n",
       "    .dataframe tbody tr th:only-of-type {\n",
       "        vertical-align: middle;\n",
       "    }\n",
       "\n",
       "    .dataframe tbody tr th {\n",
       "        vertical-align: top;\n",
       "    }\n",
       "\n",
       "    .dataframe thead th {\n",
       "        text-align: right;\n",
       "    }\n",
       "</style>\n",
       "<table border=\"1\" class=\"dataframe\">\n",
       "  <thead>\n",
       "    <tr style=\"text-align: right;\">\n",
       "      <th></th>\n",
       "      <th>Lead</th>\n",
       "      <th>Lead_Prob</th>\n",
       "      <th>LeadNum</th>\n",
       "      <th>predicted</th>\n",
       "    </tr>\n",
       "  </thead>\n",
       "  <tbody>\n",
       "    <tr>\n",
       "      <td>0</td>\n",
       "      <td>1</td>\n",
       "      <td>0.431625</td>\n",
       "      <td>3070</td>\n",
       "      <td>0</td>\n",
       "    </tr>\n",
       "    <tr>\n",
       "      <td>1</td>\n",
       "      <td>0</td>\n",
       "      <td>0.161552</td>\n",
       "      <td>2178</td>\n",
       "      <td>0</td>\n",
       "    </tr>\n",
       "    <tr>\n",
       "      <td>2</td>\n",
       "      <td>1</td>\n",
       "      <td>0.993969</td>\n",
       "      <td>2925</td>\n",
       "      <td>1</td>\n",
       "    </tr>\n",
       "    <tr>\n",
       "      <td>3</td>\n",
       "      <td>1</td>\n",
       "      <td>0.980808</td>\n",
       "      <td>8886</td>\n",
       "      <td>1</td>\n",
       "    </tr>\n",
       "    <tr>\n",
       "      <td>4</td>\n",
       "      <td>0</td>\n",
       "      <td>0.024071</td>\n",
       "      <td>7926</td>\n",
       "      <td>0</td>\n",
       "    </tr>\n",
       "  </tbody>\n",
       "</table>\n",
       "</div>"
      ],
      "text/plain": [
       "   Lead  Lead_Prob  LeadNum  predicted\n",
       "0     1   0.431625     3070          0\n",
       "1     0   0.161552     2178          0\n",
       "2     1   0.993969     2925          1\n",
       "3     1   0.980808     8886          1\n",
       "4     0   0.024071     7926          0"
      ]
     },
     "execution_count": 102,
     "metadata": {},
     "output_type": "execute_result"
    }
   ],
   "source": [
    "y_train_pred_final['predicted'] = y_train_pred_final.Lead_Prob.map(lambda x: 1 if x > 0.5 else 0)\n",
    "\n",
    "# Let's see the head\n",
    "y_train_pred_final.head()"
   ]
  },
  {
   "cell_type": "code",
   "execution_count": 103,
   "metadata": {},
   "outputs": [
    {
     "name": "stdout",
     "output_type": "stream",
     "text": [
      "0.9113040781516514\n"
     ]
    }
   ],
   "source": [
    "# Let's check the overall accuracy.\n",
    "print(metrics.accuracy_score(y_train_pred_final.Lead, y_train_pred_final.predicted))"
   ]
  },
  {
   "cell_type": "markdown",
   "metadata": {},
   "source": [
    "The accuracy is almost intact"
   ]
  },
  {
   "cell_type": "code",
   "execution_count": 104,
   "metadata": {},
   "outputs": [
    {
     "data": {
      "text/html": [
       "<div>\n",
       "<style scoped>\n",
       "    .dataframe tbody tr th:only-of-type {\n",
       "        vertical-align: middle;\n",
       "    }\n",
       "\n",
       "    .dataframe tbody tr th {\n",
       "        vertical-align: top;\n",
       "    }\n",
       "\n",
       "    .dataframe thead th {\n",
       "        text-align: right;\n",
       "    }\n",
       "</style>\n",
       "<table border=\"1\" class=\"dataframe\">\n",
       "  <thead>\n",
       "    <tr style=\"text-align: right;\">\n",
       "      <th></th>\n",
       "      <th>Features</th>\n",
       "      <th>VIF</th>\n",
       "    </tr>\n",
       "  </thead>\n",
       "  <tbody>\n",
       "    <tr>\n",
       "      <td>6</td>\n",
       "      <td>Tags_Closed_by_Horizzon</td>\n",
       "      <td>1.29</td>\n",
       "    </tr>\n",
       "    <tr>\n",
       "      <td>16</td>\n",
       "      <td>Tags_switched_off</td>\n",
       "      <td>1.17</td>\n",
       "    </tr>\n",
       "    <tr>\n",
       "      <td>9</td>\n",
       "      <td>Tags_Interested__in_full_time_MBA</td>\n",
       "      <td>1.09</td>\n",
       "    </tr>\n",
       "    <tr>\n",
       "      <td>11</td>\n",
       "      <td>Tags_Lost_to_EINS</td>\n",
       "      <td>1.08</td>\n",
       "    </tr>\n",
       "    <tr>\n",
       "      <td>8</td>\n",
       "      <td>Tags_Graduation_in_progress</td>\n",
       "      <td>1.08</td>\n",
       "    </tr>\n",
       "    <tr>\n",
       "      <td>0</td>\n",
       "      <td>Lead_Source_Welingak_Website</td>\n",
       "      <td>1.07</td>\n",
       "    </tr>\n",
       "    <tr>\n",
       "      <td>14</td>\n",
       "      <td>Tags_invalid_number</td>\n",
       "      <td>1.06</td>\n",
       "    </tr>\n",
       "    <tr>\n",
       "      <td>7</td>\n",
       "      <td>Tags_Diploma_holder_(Not_Eligible)</td>\n",
       "      <td>1.05</td>\n",
       "    </tr>\n",
       "    <tr>\n",
       "      <td>15</td>\n",
       "      <td>Tags_opp_hangup</td>\n",
       "      <td>1.02</td>\n",
       "    </tr>\n",
       "    <tr>\n",
       "      <td>4</td>\n",
       "      <td>What_is_your_current_occupation_Working_Profes...</td>\n",
       "      <td>0.91</td>\n",
       "    </tr>\n",
       "    <tr>\n",
       "      <td>10</td>\n",
       "      <td>Tags_Interested_in_other_courses</td>\n",
       "      <td>0.39</td>\n",
       "    </tr>\n",
       "    <tr>\n",
       "      <td>13</td>\n",
       "      <td>Tags_Will_revert_after_reading_the_email</td>\n",
       "      <td>0.29</td>\n",
       "    </tr>\n",
       "    <tr>\n",
       "      <td>5</td>\n",
       "      <td>Tags_Already_a_student</td>\n",
       "      <td>0.28</td>\n",
       "    </tr>\n",
       "    <tr>\n",
       "      <td>12</td>\n",
       "      <td>Tags_Ringing</td>\n",
       "      <td>0.17</td>\n",
       "    </tr>\n",
       "    <tr>\n",
       "      <td>1</td>\n",
       "      <td>Last_Activity_SMS_Sent</td>\n",
       "      <td>0.12</td>\n",
       "    </tr>\n",
       "    <tr>\n",
       "      <td>3</td>\n",
       "      <td>What_is_your_current_occupation_Unemployed</td>\n",
       "      <td>0.06</td>\n",
       "    </tr>\n",
       "    <tr>\n",
       "      <td>2</td>\n",
       "      <td>Last_Notable_Activity_Modified</td>\n",
       "      <td>0.04</td>\n",
       "    </tr>\n",
       "  </tbody>\n",
       "</table>\n",
       "</div>"
      ],
      "text/plain": [
       "                                             Features   VIF\n",
       "6                             Tags_Closed_by_Horizzon  1.29\n",
       "16                                  Tags_switched_off  1.17\n",
       "9                   Tags_Interested__in_full_time_MBA  1.09\n",
       "11                                  Tags_Lost_to_EINS  1.08\n",
       "8                         Tags_Graduation_in_progress  1.08\n",
       "0                        Lead_Source_Welingak_Website  1.07\n",
       "14                                Tags_invalid_number  1.06\n",
       "7                  Tags_Diploma_holder_(Not_Eligible)  1.05\n",
       "15                                    Tags_opp_hangup  1.02\n",
       "4   What_is_your_current_occupation_Working_Profes...  0.91\n",
       "10                   Tags_Interested_in_other_courses  0.39\n",
       "13           Tags_Will_revert_after_reading_the_email  0.29\n",
       "5                              Tags_Already_a_student  0.28\n",
       "12                                       Tags_Ringing  0.17\n",
       "1                              Last_Activity_SMS_Sent  0.12\n",
       "3          What_is_your_current_occupation_Unemployed  0.06\n",
       "2                      Last_Notable_Activity_Modified  0.04"
      ]
     },
     "execution_count": 104,
     "metadata": {},
     "output_type": "execute_result"
    }
   ],
   "source": [
    "# Checking VIF Again\n",
    "vif = pd.DataFrame()\n",
    "vif['Features'] = X_train[col].columns\n",
    "vif['VIF'] = [variance_inflation_factor(X_train[col].values, i) for i in range(X_train[col].shape[1])]\n",
    "vif['VIF'] = round(vif['VIF'], 2)\n",
    "vif = vif.sort_values(by = \"VIF\", ascending = False)\n",
    "vif"
   ]
  },
  {
   "cell_type": "markdown",
   "metadata": {},
   "source": [
    "All variables have a good value of VIF. So we need not drop any more variables and we can proceed with making predictions using this model only"
   ]
  },
  {
   "cell_type": "code",
   "execution_count": 105,
   "metadata": {},
   "outputs": [
    {
     "data": {
      "text/plain": [
       "array([[3825,  124],\n",
       "       [ 448, 2052]], dtype=int64)"
      ]
     },
     "execution_count": 105,
     "metadata": {},
     "output_type": "execute_result"
    }
   ],
   "source": [
    "# Let's take a look at the confusion matrix again \n",
    "confusion = metrics.confusion_matrix(y_train_pred_final.Lead, y_train_pred_final.predicted )\n",
    "confusion"
   ]
  },
  {
   "cell_type": "code",
   "execution_count": 106,
   "metadata": {},
   "outputs": [],
   "source": [
    "# Predicted     NotLead    HotLead\n",
    "# Actual\n",
    "# NotLead        3825      124\n",
    "# HotLead        448       2052 "
   ]
  },
  {
   "cell_type": "code",
   "execution_count": 107,
   "metadata": {},
   "outputs": [
    {
     "data": {
      "text/plain": [
       "0.9113040781516514"
      ]
     },
     "execution_count": 107,
     "metadata": {},
     "output_type": "execute_result"
    }
   ],
   "source": [
    "# Let's check the overall accuracy.\n",
    "metrics.accuracy_score(y_train_pred_final.Lead, y_train_pred_final.predicted)"
   ]
  },
  {
   "cell_type": "markdown",
   "metadata": {},
   "source": [
    "## Step 4: Metrics beyond simply accuracy"
   ]
  },
  {
   "cell_type": "code",
   "execution_count": 110,
   "metadata": {},
   "outputs": [],
   "source": [
    "TP = confusion[1,1] # true positive \n",
    "TN = confusion[0,0] # true negatives\n",
    "FP = confusion[0,1] # false positives\n",
    "FN = confusion[1,0] # false negatives"
   ]
  },
  {
   "cell_type": "code",
   "execution_count": 112,
   "metadata": {},
   "outputs": [
    {
     "data": {
      "text/plain": [
       "'The sensitivity is 0.8208'"
      ]
     },
     "execution_count": 112,
     "metadata": {},
     "output_type": "execute_result"
    }
   ],
   "source": [
    "# Let's see the sensitivity of our logistic regression model\n",
    "'The sensitivity is '+str(TP / float(TP+FN))"
   ]
  },
  {
   "cell_type": "code",
   "execution_count": 114,
   "metadata": {},
   "outputs": [
    {
     "data": {
      "text/plain": [
       "'The specificity is 0.9685996454798683'"
      ]
     },
     "execution_count": 114,
     "metadata": {},
     "output_type": "execute_result"
    }
   ],
   "source": [
    "# Let us calculate specificity\n",
    "'The specificity is '+str(TN / float(TN+FP))"
   ]
  },
  {
   "cell_type": "code",
   "execution_count": 115,
   "metadata": {},
   "outputs": [
    {
     "name": "stdout",
     "output_type": "stream",
     "text": [
      "0.03140035452013168\n"
     ]
    }
   ],
   "source": [
    "# Calculate false postive rate \n",
    "print(FP/ float(TN+FP))"
   ]
  },
  {
   "cell_type": "code",
   "execution_count": 116,
   "metadata": {},
   "outputs": [
    {
     "name": "stdout",
     "output_type": "stream",
     "text": [
      "0.9430147058823529\n"
     ]
    }
   ],
   "source": [
    "# positive predictive value \n",
    "print (TP / float(TP+FP))"
   ]
  },
  {
   "cell_type": "code",
   "execution_count": 117,
   "metadata": {},
   "outputs": [
    {
     "name": "stdout",
     "output_type": "stream",
     "text": [
      "0.895155628364147\n"
     ]
    }
   ],
   "source": [
    "# Negative predictive value\n",
    "print (TN / float(TN+ FN))"
   ]
  },
  {
   "cell_type": "markdown",
   "metadata": {},
   "source": [
    "### Plotting ROC Curve"
   ]
  },
  {
   "cell_type": "markdown",
   "metadata": {},
   "source": [
    "An ROC curve demonstrates several things:\n",
    "\n",
    "- It shows the tradeoff between sensitivity and specificity (any increase in sensitivity will be accompanied by a decrease in specificity).\n",
    "- The closer the curve follows the left-hand border and then the top border of the ROC space, the more accurate the test.\n",
    "- The closer the curve comes to the 45-degree diagonal of the ROC space, the less accurate the test."
   ]
  },
  {
   "cell_type": "code",
   "execution_count": 118,
   "metadata": {},
   "outputs": [],
   "source": [
    "def draw_roc( actual, probs ):\n",
    "    fpr, tpr, thresholds = metrics.roc_curve( actual, probs,\n",
    "                                              drop_intermediate = False )\n",
    "    auc_score = metrics.roc_auc_score( actual, probs )\n",
    "    plt.figure(figsize=(5, 5))\n",
    "    plt.plot( fpr, tpr, label='ROC curve (area = %0.2f)' % auc_score )\n",
    "    plt.plot([0, 1], [0, 1], 'k--')\n",
    "    plt.xlim([0.0, 1.0])\n",
    "    plt.ylim([0.0, 1.05])\n",
    "    plt.xlabel('False Positive Rate or [1 - True Negative Rate]')\n",
    "    plt.ylabel('True Positive Rate')\n",
    "    plt.title('Receiver operating characteristic for Lead Scoring')\n",
    "    plt.legend(loc=\"lower right\")\n",
    "    plt.show()\n",
    "\n",
    "    return None"
   ]
  },
  {
   "cell_type": "code",
   "execution_count": 119,
   "metadata": {},
   "outputs": [],
   "source": [
    "fpr, tpr, thresholds = metrics.roc_curve( y_train_pred_final.Lead, y_train_pred_final.Lead_Prob, drop_intermediate = False )"
   ]
  },
  {
   "cell_type": "code",
   "execution_count": 120,
   "metadata": {},
   "outputs": [
    {
     "data": {
      "image/png": "[encoded data removed]",
      "text/plain": [
       "<Figure size 360x360 with 1 Axes>"
      ]
     },
     "metadata": {
      "needs_background": "light"
     },
     "output_type": "display_data"
    }
   ],
   "source": [
    "draw_roc(y_train_pred_final.Lead, y_train_pred_final.Lead_Prob)"
   ]
  },
  {
   "cell_type": "markdown",
   "metadata": {},
   "source": [
    "### Finding Optimal Threshold Point"
   ]
  },
  {
   "cell_type": "code",
   "execution_count": 122,
   "metadata": {},
   "outputs": [
    {
     "data": {
      "text/html": [
       "<div>\n",
       "<style scoped>\n",
       "    .dataframe tbody tr th:only-of-type {\n",
       "        vertical-align: middle;\n",
       "    }\n",
       "\n",
       "    .dataframe tbody tr th {\n",
       "        vertical-align: top;\n",
       "    }\n",
       "\n",
       "    .dataframe thead th {\n",
       "        text-align: right;\n",
       "    }\n",
       "</style>\n",
       "<table border=\"1\" class=\"dataframe\">\n",
       "  <thead>\n",
       "    <tr style=\"text-align: right;\">\n",
       "      <th></th>\n",
       "      <th>Lead</th>\n",
       "      <th>Lead_Prob</th>\n",
       "      <th>LeadNum</th>\n",
       "      <th>predicted</th>\n",
       "      <th>0.0</th>\n",
       "      <th>0.1</th>\n",
       "      <th>0.2</th>\n",
       "      <th>0.3</th>\n",
       "      <th>0.4</th>\n",
       "      <th>0.5</th>\n",
       "      <th>0.6</th>\n",
       "      <th>0.7</th>\n",
       "      <th>0.8</th>\n",
       "      <th>0.9</th>\n",
       "    </tr>\n",
       "  </thead>\n",
       "  <tbody>\n",
       "    <tr>\n",
       "      <td>0</td>\n",
       "      <td>1</td>\n",
       "      <td>0.431625</td>\n",
       "      <td>3070</td>\n",
       "      <td>0</td>\n",
       "      <td>1</td>\n",
       "      <td>1</td>\n",
       "      <td>1</td>\n",
       "      <td>1</td>\n",
       "      <td>1</td>\n",
       "      <td>0</td>\n",
       "      <td>0</td>\n",
       "      <td>0</td>\n",
       "      <td>0</td>\n",
       "      <td>0</td>\n",
       "    </tr>\n",
       "    <tr>\n",
       "      <td>1</td>\n",
       "      <td>0</td>\n",
       "      <td>0.161552</td>\n",
       "      <td>2178</td>\n",
       "      <td>0</td>\n",
       "      <td>1</td>\n",
       "      <td>1</td>\n",
       "      <td>0</td>\n",
       "      <td>0</td>\n",
       "      <td>0</td>\n",
       "      <td>0</td>\n",
       "      <td>0</td>\n",
       "      <td>0</td>\n",
       "      <td>0</td>\n",
       "      <td>0</td>\n",
       "    </tr>\n",
       "    <tr>\n",
       "      <td>2</td>\n",
       "      <td>1</td>\n",
       "      <td>0.993969</td>\n",
       "      <td>2925</td>\n",
       "      <td>1</td>\n",
       "      <td>1</td>\n",
       "      <td>1</td>\n",
       "      <td>1</td>\n",
       "      <td>1</td>\n",
       "      <td>1</td>\n",
       "      <td>1</td>\n",
       "      <td>1</td>\n",
       "      <td>1</td>\n",
       "      <td>1</td>\n",
       "      <td>1</td>\n",
       "    </tr>\n",
       "    <tr>\n",
       "      <td>3</td>\n",
       "      <td>1</td>\n",
       "      <td>0.980808</td>\n",
       "      <td>8886</td>\n",
       "      <td>1</td>\n",
       "      <td>1</td>\n",
       "      <td>1</td>\n",
       "      <td>1</td>\n",
       "      <td>1</td>\n",
       "      <td>1</td>\n",
       "      <td>1</td>\n",
       "      <td>1</td>\n",
       "      <td>1</td>\n",
       "      <td>1</td>\n",
       "      <td>1</td>\n",
       "    </tr>\n",
       "    <tr>\n",
       "      <td>4</td>\n",
       "      <td>0</td>\n",
       "      <td>0.024071</td>\n",
       "      <td>7926</td>\n",
       "      <td>0</td>\n",
       "      <td>1</td>\n",
       "      <td>0</td>\n",
       "      <td>0</td>\n",
       "      <td>0</td>\n",
       "      <td>0</td>\n",
       "      <td>0</td>\n",
       "      <td>0</td>\n",
       "      <td>0</td>\n",
       "      <td>0</td>\n",
       "      <td>0</td>\n",
       "    </tr>\n",
       "  </tbody>\n",
       "</table>\n",
       "</div>"
      ],
      "text/plain": [
       "   Lead  Lead_Prob  LeadNum  predicted  0.0  0.1  0.2  0.3  0.4  0.5  0.6  \\\n",
       "0     1   0.431625     3070          0    1    1    1    1    1    0    0   \n",
       "1     0   0.161552     2178          0    1    1    0    0    0    0    0   \n",
       "2     1   0.993969     2925          1    1    1    1    1    1    1    1   \n",
       "3     1   0.980808     8886          1    1    1    1    1    1    1    1   \n",
       "4     0   0.024071     7926          0    1    0    0    0    0    0    0   \n",
       "\n",
       "   0.7  0.8  0.9  \n",
       "0    0    0    0  \n",
       "1    0    0    0  \n",
       "2    1    1    1  \n",
       "3    1    1    1  \n",
       "4    0    0    0  "
      ]
     },
     "execution_count": 122,
     "metadata": {},
     "output_type": "execute_result"
    }
   ],
   "source": [
    "# Let's create columns with different probability cutoffs \n",
    "numbers = [float(x)/10 for x in range(10)]\n",
    "for i in numbers:\n",
    "    y_train_pred_final[i]= y_train_pred_final.Lead_Prob.map(lambda x: 1 if x > i else 0)\n",
    "y_train_pred_final.head()"
   ]
  },
  {
   "cell_type": "code",
   "execution_count": 123,
   "metadata": {},
   "outputs": [
    {
     "name": "stdout",
     "output_type": "stream",
     "text": [
      "     prob  accuracy   sensi     speci\n",
      "0.0   0.0  0.387657  1.0000  0.000000\n",
      "0.1   0.1  0.778415  0.9764  0.653077\n",
      "0.2   0.2  0.920763  0.9312  0.914155\n",
      "0.3   0.3  0.920763  0.9312  0.914155\n",
      "0.4   0.4  0.920298  0.9284  0.915168\n",
      "0.5   0.5  0.911304  0.8208  0.968600\n",
      "0.6   0.6  0.911459  0.8112  0.974930\n",
      "0.7   0.7  0.911614  0.8112  0.975184\n",
      "0.8   0.8  0.911614  0.8112  0.975184\n",
      "0.9   0.9  0.870523  0.6796  0.991390\n"
     ]
    }
   ],
   "source": [
    "# Now let's calculate accuracy sensitivity and specificity for various probability cutoffs.\n",
    "cutoff_df = pd.DataFrame( columns = ['prob','accuracy','sensi','speci'])\n",
    "from sklearn.metrics import confusion_matrix\n",
    "\n",
    "# TP = confusion[1,1] # true positive \n",
    "# TN = confusion[0,0] # true negatives\n",
    "# FP = confusion[0,1] # false positives\n",
    "# FN = confusion[1,0] # false negatives\n",
    "\n",
    "num = [float(x)/10 for x in range(10)]\n",
    "for i in num:\n",
    "    cm1 = metrics.confusion_matrix(y_train_pred_final.Lead, y_train_pred_final[i] )\n",
    "    total1=sum(sum(cm1))\n",
    "    accuracy = (cm1[0,0]+cm1[1,1])/total1\n",
    "    \n",
    "    speci = cm1[0,0]/(cm1[0,0]+cm1[0,1])\n",
    "    sensi = cm1[1,1]/(cm1[1,0]+cm1[1,1])\n",
    "    cutoff_df.loc[i] =[ i ,accuracy,sensi,speci]\n",
    "print(cutoff_df)"
   ]
  },
  {
   "cell_type": "code",
   "execution_count": 124,
   "metadata": {},
   "outputs": [
    {
     "data": {
      "image/png": "[encoded data removed]",
      "text/plain": [
       "<Figure size 432x288 with 1 Axes>"
      ]
     },
     "metadata": {
      "needs_background": "light"
     },
     "output_type": "display_data"
    }
   ],
   "source": [
    "# Let's plot accuracy sensitivity and specificity for various probabilities.\n",
    "cutoff_df.plot.line(x='prob', y=['accuracy','sensi','speci'])\n",
    "plt.show()"
   ]
  },
  {
   "cell_type": "markdown",
   "metadata": {},
   "source": [
    "***As the sensitivity, specificity and accuracy intersects from x: 0.2 to x:0.4, we are choosing 0.3 as optimal cutoff point***"
   ]
  },
  {
   "cell_type": "code",
   "execution_count": 125,
   "metadata": {},
   "outputs": [
    {
     "data": {
      "text/html": [
       "<div>\n",
       "<style scoped>\n",
       "    .dataframe tbody tr th:only-of-type {\n",
       "        vertical-align: middle;\n",
       "    }\n",
       "\n",
       "    .dataframe tbody tr th {\n",
       "        vertical-align: top;\n",
       "    }\n",
       "\n",
       "    .dataframe thead th {\n",
       "        text-align: right;\n",
       "    }\n",
       "</style>\n",
       "<table border=\"1\" class=\"dataframe\">\n",
       "  <thead>\n",
       "    <tr style=\"text-align: right;\">\n",
       "      <th></th>\n",
       "      <th>Lead</th>\n",
       "      <th>Lead_Prob</th>\n",
       "      <th>LeadNum</th>\n",
       "      <th>predicted</th>\n",
       "      <th>0.0</th>\n",
       "      <th>0.1</th>\n",
       "      <th>0.2</th>\n",
       "      <th>0.3</th>\n",
       "      <th>0.4</th>\n",
       "      <th>0.5</th>\n",
       "      <th>0.6</th>\n",
       "      <th>0.7</th>\n",
       "      <th>0.8</th>\n",
       "      <th>0.9</th>\n",
       "      <th>final_predicted</th>\n",
       "    </tr>\n",
       "  </thead>\n",
       "  <tbody>\n",
       "    <tr>\n",
       "      <td>0</td>\n",
       "      <td>1</td>\n",
       "      <td>0.431625</td>\n",
       "      <td>3070</td>\n",
       "      <td>0</td>\n",
       "      <td>1</td>\n",
       "      <td>1</td>\n",
       "      <td>1</td>\n",
       "      <td>1</td>\n",
       "      <td>1</td>\n",
       "      <td>0</td>\n",
       "      <td>0</td>\n",
       "      <td>0</td>\n",
       "      <td>0</td>\n",
       "      <td>0</td>\n",
       "      <td>1</td>\n",
       "    </tr>\n",
       "    <tr>\n",
       "      <td>1</td>\n",
       "      <td>0</td>\n",
       "      <td>0.161552</td>\n",
       "      <td>2178</td>\n",
       "      <td>0</td>\n",
       "      <td>1</td>\n",
       "      <td>1</td>\n",
       "      <td>0</td>\n",
       "      <td>0</td>\n",
       "      <td>0</td>\n",
       "      <td>0</td>\n",
       "      <td>0</td>\n",
       "      <td>0</td>\n",
       "      <td>0</td>\n",
       "      <td>0</td>\n",
       "      <td>0</td>\n",
       "    </tr>\n",
       "    <tr>\n",
       "      <td>2</td>\n",
       "      <td>1</td>\n",
       "      <td>0.993969</td>\n",
       "      <td>2925</td>\n",
       "      <td>1</td>\n",
       "      <td>1</td>\n",
       "      <td>1</td>\n",
       "      <td>1</td>\n",
       "      <td>1</td>\n",
       "      <td>1</td>\n",
       "      <td>1</td>\n",
       "      <td>1</td>\n",
       "      <td>1</td>\n",
       "      <td>1</td>\n",
       "      <td>1</td>\n",
       "      <td>1</td>\n",
       "    </tr>\n",
       "    <tr>\n",
       "      <td>3</td>\n",
       "      <td>1</td>\n",
       "      <td>0.980808</td>\n",
       "      <td>8886</td>\n",
       "      <td>1</td>\n",
       "      <td>1</td>\n",
       "      <td>1</td>\n",
       "      <td>1</td>\n",
       "      <td>1</td>\n",
       "      <td>1</td>\n",
       "      <td>1</td>\n",
       "      <td>1</td>\n",
       "      <td>1</td>\n",
       "      <td>1</td>\n",
       "      <td>1</td>\n",
       "      <td>1</td>\n",
       "    </tr>\n",
       "    <tr>\n",
       "      <td>4</td>\n",
       "      <td>0</td>\n",
       "      <td>0.024071</td>\n",
       "      <td>7926</td>\n",
       "      <td>0</td>\n",
       "      <td>1</td>\n",
       "      <td>0</td>\n",
       "      <td>0</td>\n",
       "      <td>0</td>\n",
       "      <td>0</td>\n",
       "      <td>0</td>\n",
       "      <td>0</td>\n",
       "      <td>0</td>\n",
       "      <td>0</td>\n",
       "      <td>0</td>\n",
       "      <td>0</td>\n",
       "    </tr>\n",
       "  </tbody>\n",
       "</table>\n",
       "</div>"
      ],
      "text/plain": [
       "   Lead  Lead_Prob  LeadNum  predicted  0.0  0.1  0.2  0.3  0.4  0.5  0.6  \\\n",
       "0     1   0.431625     3070          0    1    1    1    1    1    0    0   \n",
       "1     0   0.161552     2178          0    1    1    0    0    0    0    0   \n",
       "2     1   0.993969     2925          1    1    1    1    1    1    1    1   \n",
       "3     1   0.980808     8886          1    1    1    1    1    1    1    1   \n",
       "4     0   0.024071     7926          0    1    0    0    0    0    0    0   \n",
       "\n",
       "   0.7  0.8  0.9  final_predicted  \n",
       "0    0    0    0                1  \n",
       "1    0    0    0                0  \n",
       "2    1    1    1                1  \n",
       "3    1    1    1                1  \n",
       "4    0    0    0                0  "
      ]
     },
     "execution_count": 125,
     "metadata": {},
     "output_type": "execute_result"
    }
   ],
   "source": [
    "y_train_pred_final['final_predicted'] = y_train_pred_final.Lead_Prob.map( lambda x: 1 if x > 0.3 else 0)\n",
    "\n",
    "y_train_pred_final.head()"
   ]
  },
  {
   "cell_type": "code",
   "execution_count": 126,
   "metadata": {},
   "outputs": [
    {
     "data": {
      "text/plain": [
       "0.9207629089781362"
      ]
     },
     "execution_count": 126,
     "metadata": {},
     "output_type": "execute_result"
    }
   ],
   "source": [
    "# Let's check the overall accuracy.\n",
    "metrics.accuracy_score(y_train_pred_final.Lead, y_train_pred_final.final_predicted)"
   ]
  },
  {
   "cell_type": "code",
   "execution_count": 127,
   "metadata": {},
   "outputs": [
    {
     "data": {
      "text/plain": [
       "array([[3610,  339],\n",
       "       [ 172, 2328]], dtype=int64)"
      ]
     },
     "execution_count": 127,
     "metadata": {},
     "output_type": "execute_result"
    }
   ],
   "source": [
    "#Recomputing confusion metrics again based on optimal cutoff\n",
    "confusion2 = metrics.confusion_matrix(y_train_pred_final.Lead, y_train_pred_final.final_predicted )\n",
    "confusion2"
   ]
  },
  {
   "cell_type": "code",
   "execution_count": 128,
   "metadata": {},
   "outputs": [],
   "source": [
    "TP = confusion2[1,1] # true positive \n",
    "TN = confusion2[0,0] # true negatives\n",
    "FP = confusion2[0,1] # false positives\n",
    "FN = confusion2[1,0] # false negatives"
   ]
  },
  {
   "cell_type": "code",
   "execution_count": 129,
   "metadata": {},
   "outputs": [
    {
     "data": {
      "text/plain": [
       "0.9312"
      ]
     },
     "execution_count": 129,
     "metadata": {},
     "output_type": "execute_result"
    }
   ],
   "source": [
    "# Let's see the sensitivity of our logistic regression model\n",
    "TP / float(TP+FN)"
   ]
  },
  {
   "cell_type": "code",
   "execution_count": 130,
   "metadata": {},
   "outputs": [
    {
     "data": {
      "text/plain": [
       "0.9141554824006077"
      ]
     },
     "execution_count": 130,
     "metadata": {},
     "output_type": "execute_result"
    }
   ],
   "source": [
    "# Let us calculate specificity\n",
    "TN / float(TN+FP)"
   ]
  },
  {
   "cell_type": "code",
   "execution_count": 131,
   "metadata": {},
   "outputs": [
    {
     "name": "stdout",
     "output_type": "stream",
     "text": [
      "0.08584451759939225\n"
     ]
    }
   ],
   "source": [
    "# Calculate false postive rate \n",
    "print(FP/ float(TN+FP))"
   ]
  },
  {
   "cell_type": "code",
   "execution_count": 132,
   "metadata": {},
   "outputs": [
    {
     "name": "stdout",
     "output_type": "stream",
     "text": [
      "0.8728908886389202\n"
     ]
    }
   ],
   "source": [
    "# Positive predictive value \n",
    "print (TP / float(TP+FP))"
   ]
  },
  {
   "cell_type": "code",
   "execution_count": 133,
   "metadata": {},
   "outputs": [
    {
     "name": "stdout",
     "output_type": "stream",
     "text": [
      "0.9545214172395557\n"
     ]
    }
   ],
   "source": [
    "# Negative predictive value\n",
    "print (TN / float(TN+ FN))"
   ]
  },
  {
   "cell_type": "code",
   "execution_count": 134,
   "metadata": {},
   "outputs": [
    {
     "data": {
      "text/plain": [
       "'Precision is 0.9430147058823529'"
      ]
     },
     "execution_count": 134,
     "metadata": {},
     "output_type": "execute_result"
    }
   ],
   "source": [
    "#To calculate Precision, looking at the confusion matrix\n",
    "confusion = metrics.confusion_matrix(y_train_pred_final.Lead, y_train_pred_final.predicted )\n",
    "'Precision is '+str(confusion[1,1]/(confusion[0,1]+confusion[1,1]))"
   ]
  },
  {
   "cell_type": "code",
   "execution_count": 135,
   "metadata": {},
   "outputs": [
    {
     "data": {
      "text/plain": [
       "'Recall is 0.8208'"
      ]
     },
     "execution_count": 135,
     "metadata": {},
     "output_type": "execute_result"
    }
   ],
   "source": [
    "'Recall is '+str(confusion[1,1]/(confusion[1,0]+confusion[1,1]))"
   ]
  },
  {
   "cell_type": "code",
   "execution_count": 136,
   "metadata": {},
   "outputs": [],
   "source": [
    "#importing precision and recall score from sklearn package\n",
    "from sklearn.metrics import precision_score, recall_score"
   ]
  },
  {
   "cell_type": "code",
   "execution_count": 137,
   "metadata": {},
   "outputs": [
    {
     "data": {
      "text/plain": [
       "0.9430147058823529"
      ]
     },
     "execution_count": 137,
     "metadata": {},
     "output_type": "execute_result"
    }
   ],
   "source": [
    "precision_score(y_train_pred_final.Lead, y_train_pred_final.predicted)"
   ]
  },
  {
   "cell_type": "code",
   "execution_count": 138,
   "metadata": {},
   "outputs": [
    {
     "data": {
      "text/plain": [
       "0.8208"
      ]
     },
     "execution_count": 138,
     "metadata": {},
     "output_type": "execute_result"
    }
   ],
   "source": [
    "recall_score(y_train_pred_final.Lead, y_train_pred_final.predicted)"
   ]
  },
  {
   "cell_type": "markdown",
   "metadata": {},
   "source": [
    "### Precision and Recall TradeOff"
   ]
  },
  {
   "cell_type": "code",
   "execution_count": 139,
   "metadata": {},
   "outputs": [],
   "source": [
    "#importing precision recall curve from sklearn\n",
    "from sklearn.metrics import precision_recall_curve"
   ]
  },
  {
   "cell_type": "code",
   "execution_count": 140,
   "metadata": {},
   "outputs": [],
   "source": [
    "#setting parameters for plotting precision recall curve\n",
    "p, r, thresholds = precision_recall_curve(y_train_pred_final.Lead, y_train_pred_final.Lead_Prob)"
   ]
  },
  {
   "cell_type": "code",
   "execution_count": 141,
   "metadata": {},
   "outputs": [
    {
     "data": {
      "image/png": "[encoded data removed]",
      "text/plain": [
       "<Figure size 432x288 with 1 Axes>"
      ]
     },
     "metadata": {
      "needs_background": "light"
     },
     "output_type": "display_data"
    }
   ],
   "source": [
    "plt.plot(thresholds, p[:-1], \"g-\")\n",
    "plt.xlabel('Precision')\n",
    "plt.plot(thresholds, r[:-1], \"r-\")\n",
    "plt.ylabel('Recall')\n",
    "plt.title('Precision Recall Curve for Lead Scoring Case Study')\n",
    "plt.show()"
   ]
  },
  {
   "cell_type": "markdown",
   "metadata": {},
   "source": [
    "### Making predictions on the test set"
   ]
  },
  {
   "cell_type": "code",
   "execution_count": 142,
   "metadata": {},
   "outputs": [
    {
     "data": {
      "text/html": [
       "<div>\n",
       "<style scoped>\n",
       "    .dataframe tbody tr th:only-of-type {\n",
       "        vertical-align: middle;\n",
       "    }\n",
       "\n",
       "    .dataframe tbody tr th {\n",
       "        vertical-align: top;\n",
       "    }\n",
       "\n",
       "    .dataframe thead th {\n",
       "        text-align: right;\n",
       "    }\n",
       "</style>\n",
       "<table border=\"1\" class=\"dataframe\">\n",
       "  <thead>\n",
       "    <tr style=\"text-align: right;\">\n",
       "      <th></th>\n",
       "      <th>Lead_Source_Welingak_Website</th>\n",
       "      <th>Last_Activity_SMS_Sent</th>\n",
       "      <th>Last_Notable_Activity_Modified</th>\n",
       "      <th>What_is_your_current_occupation_Unemployed</th>\n",
       "      <th>What_is_your_current_occupation_Working_Professional</th>\n",
       "      <th>Tags_Already_a_student</th>\n",
       "      <th>Tags_Closed_by_Horizzon</th>\n",
       "      <th>Tags_Diploma_holder_(Not_Eligible)</th>\n",
       "      <th>Tags_Graduation_in_progress</th>\n",
       "      <th>Tags_Interested__in_full_time_MBA</th>\n",
       "      <th>Tags_Interested_in_other_courses</th>\n",
       "      <th>Tags_Lost_to_EINS</th>\n",
       "      <th>Tags_Ringing</th>\n",
       "      <th>Tags_Will_revert_after_reading_the_email</th>\n",
       "      <th>Tags_invalid_number</th>\n",
       "      <th>Tags_opp_hangup</th>\n",
       "      <th>Tags_switched_off</th>\n",
       "    </tr>\n",
       "  </thead>\n",
       "  <tbody>\n",
       "    <tr>\n",
       "      <td>2730</td>\n",
       "      <td>0</td>\n",
       "      <td>0</td>\n",
       "      <td>0</td>\n",
       "      <td>1</td>\n",
       "      <td>0</td>\n",
       "      <td>0</td>\n",
       "      <td>0</td>\n",
       "      <td>0</td>\n",
       "      <td>0</td>\n",
       "      <td>0</td>\n",
       "      <td>0</td>\n",
       "      <td>0</td>\n",
       "      <td>1</td>\n",
       "      <td>0</td>\n",
       "      <td>0</td>\n",
       "      <td>0</td>\n",
       "      <td>0</td>\n",
       "    </tr>\n",
       "    <tr>\n",
       "      <td>5463</td>\n",
       "      <td>0</td>\n",
       "      <td>0</td>\n",
       "      <td>0</td>\n",
       "      <td>1</td>\n",
       "      <td>0</td>\n",
       "      <td>0</td>\n",
       "      <td>0</td>\n",
       "      <td>0</td>\n",
       "      <td>0</td>\n",
       "      <td>0</td>\n",
       "      <td>0</td>\n",
       "      <td>0</td>\n",
       "      <td>0</td>\n",
       "      <td>0</td>\n",
       "      <td>0</td>\n",
       "      <td>0</td>\n",
       "      <td>0</td>\n",
       "    </tr>\n",
       "    <tr>\n",
       "      <td>6476</td>\n",
       "      <td>0</td>\n",
       "      <td>0</td>\n",
       "      <td>0</td>\n",
       "      <td>1</td>\n",
       "      <td>0</td>\n",
       "      <td>0</td>\n",
       "      <td>0</td>\n",
       "      <td>0</td>\n",
       "      <td>0</td>\n",
       "      <td>0</td>\n",
       "      <td>0</td>\n",
       "      <td>0</td>\n",
       "      <td>1</td>\n",
       "      <td>0</td>\n",
       "      <td>0</td>\n",
       "      <td>0</td>\n",
       "      <td>0</td>\n",
       "    </tr>\n",
       "    <tr>\n",
       "      <td>4136</td>\n",
       "      <td>0</td>\n",
       "      <td>0</td>\n",
       "      <td>0</td>\n",
       "      <td>0</td>\n",
       "      <td>0</td>\n",
       "      <td>0</td>\n",
       "      <td>0</td>\n",
       "      <td>0</td>\n",
       "      <td>0</td>\n",
       "      <td>0</td>\n",
       "      <td>0</td>\n",
       "      <td>0</td>\n",
       "      <td>0</td>\n",
       "      <td>0</td>\n",
       "      <td>0</td>\n",
       "      <td>0</td>\n",
       "      <td>0</td>\n",
       "    </tr>\n",
       "    <tr>\n",
       "      <td>8754</td>\n",
       "      <td>0</td>\n",
       "      <td>1</td>\n",
       "      <td>0</td>\n",
       "      <td>1</td>\n",
       "      <td>0</td>\n",
       "      <td>0</td>\n",
       "      <td>0</td>\n",
       "      <td>0</td>\n",
       "      <td>0</td>\n",
       "      <td>0</td>\n",
       "      <td>0</td>\n",
       "      <td>0</td>\n",
       "      <td>1</td>\n",
       "      <td>0</td>\n",
       "      <td>0</td>\n",
       "      <td>0</td>\n",
       "      <td>0</td>\n",
       "    </tr>\n",
       "  </tbody>\n",
       "</table>\n",
       "</div>"
      ],
      "text/plain": [
       "      Lead_Source_Welingak_Website  Last_Activity_SMS_Sent  \\\n",
       "2730                             0                       0   \n",
       "5463                             0                       0   \n",
       "6476                             0                       0   \n",
       "4136                             0                       0   \n",
       "8754                             0                       1   \n",
       "\n",
       "      Last_Notable_Activity_Modified  \\\n",
       "2730                               0   \n",
       "5463                               0   \n",
       "6476                               0   \n",
       "4136                               0   \n",
       "8754                               0   \n",
       "\n",
       "      What_is_your_current_occupation_Unemployed  \\\n",
       "2730                                           1   \n",
       "5463                                           1   \n",
       "6476                                           1   \n",
       "4136                                           0   \n",
       "8754                                           1   \n",
       "\n",
       "      What_is_your_current_occupation_Working_Professional  \\\n",
       "2730                                                  0      \n",
       "5463                                                  0      \n",
       "6476                                                  0      \n",
       "4136                                                  0      \n",
       "8754                                                  0      \n",
       "\n",
       "      Tags_Already_a_student  Tags_Closed_by_Horizzon  \\\n",
       "2730                       0                        0   \n",
       "5463                       0                        0   \n",
       "6476                       0                        0   \n",
       "4136                       0                        0   \n",
       "8754                       0                        0   \n",
       "\n",
       "      Tags_Diploma_holder_(Not_Eligible)  Tags_Graduation_in_progress  \\\n",
       "2730                                   0                            0   \n",
       "5463                                   0                            0   \n",
       "6476                                   0                            0   \n",
       "4136                                   0                            0   \n",
       "8754                                   0                            0   \n",
       "\n",
       "      Tags_Interested__in_full_time_MBA  Tags_Interested_in_other_courses  \\\n",
       "2730                                  0                                 0   \n",
       "5463                                  0                                 0   \n",
       "6476                                  0                                 0   \n",
       "4136                                  0                                 0   \n",
       "8754                                  0                                 0   \n",
       "\n",
       "      Tags_Lost_to_EINS  Tags_Ringing  \\\n",
       "2730                  0             1   \n",
       "5463                  0             0   \n",
       "6476                  0             1   \n",
       "4136                  0             0   \n",
       "8754                  0             1   \n",
       "\n",
       "      Tags_Will_revert_after_reading_the_email  Tags_invalid_number  \\\n",
       "2730                                         0                    0   \n",
       "5463                                         0                    0   \n",
       "6476                                         0                    0   \n",
       "4136                                         0                    0   \n",
       "8754                                         0                    0   \n",
       "\n",
       "      Tags_opp_hangup  Tags_switched_off  \n",
       "2730                0                  0  \n",
       "5463                0                  0  \n",
       "6476                0                  0  \n",
       "4136                0                  0  \n",
       "8754                0                  0  "
      ]
     },
     "execution_count": 142,
     "metadata": {},
     "output_type": "execute_result"
    }
   ],
   "source": [
    "#Scaling the test data set and considering only the same features as that of final train model\n",
    "X_test[['TotalVisits','Total_Time_Spent_on_Website','Page_Views_Per_Visit']] = scaler.transform(X_test[['TotalVisits','Total_Time_Spent_on_Website','Page_Views_Per_Visit']])\n",
    "\n",
    "X_test = X_test[col]\n",
    "X_test.head()"
   ]
  },
  {
   "cell_type": "code",
   "execution_count": 143,
   "metadata": {},
   "outputs": [],
   "source": [
    "#Add constant to test set and making predictions on test set\n",
    "X_test_sm = sm.add_constant(X_test)\n",
    "y_test_pred = res.predict(X_test_sm)"
   ]
  },
  {
   "cell_type": "code",
   "execution_count": 144,
   "metadata": {},
   "outputs": [
    {
     "data": {
      "text/html": [
       "<div>\n",
       "<style scoped>\n",
       "    .dataframe tbody tr th:only-of-type {\n",
       "        vertical-align: middle;\n",
       "    }\n",
       "\n",
       "    .dataframe tbody tr th {\n",
       "        vertical-align: top;\n",
       "    }\n",
       "\n",
       "    .dataframe thead th {\n",
       "        text-align: right;\n",
       "    }\n",
       "</style>\n",
       "<table border=\"1\" class=\"dataframe\">\n",
       "  <thead>\n",
       "    <tr style=\"text-align: right;\">\n",
       "      <th></th>\n",
       "      <th>0</th>\n",
       "    </tr>\n",
       "  </thead>\n",
       "  <tbody>\n",
       "    <tr>\n",
       "      <td>2730</td>\n",
       "      <td>0.010707</td>\n",
       "    </tr>\n",
       "    <tr>\n",
       "      <td>5463</td>\n",
       "      <td>0.431625</td>\n",
       "    </tr>\n",
       "    <tr>\n",
       "      <td>6476</td>\n",
       "      <td>0.010707</td>\n",
       "    </tr>\n",
       "    <tr>\n",
       "      <td>4136</td>\n",
       "      <td>0.111872</td>\n",
       "    </tr>\n",
       "    <tr>\n",
       "      <td>8754</td>\n",
       "      <td>0.077955</td>\n",
       "    </tr>\n",
       "  </tbody>\n",
       "</table>\n",
       "</div>"
      ],
      "text/plain": [
       "             0\n",
       "2730  0.010707\n",
       "5463  0.431625\n",
       "6476  0.010707\n",
       "4136  0.111872\n",
       "8754  0.077955"
      ]
     },
     "execution_count": 144,
     "metadata": {},
     "output_type": "execute_result"
    }
   ],
   "source": [
    "# Converting y_pred to a dataframe which is an array and reading the data set\n",
    "y_pred_1 = pd.DataFrame(y_test_pred)\n",
    "y_pred_1.head()"
   ]
  },
  {
   "cell_type": "code",
   "execution_count": 145,
   "metadata": {},
   "outputs": [],
   "source": [
    "# Converting y_test to dataframe\n",
    "y_test_df = pd.DataFrame(y_test)"
   ]
  },
  {
   "cell_type": "code",
   "execution_count": 146,
   "metadata": {},
   "outputs": [],
   "source": [
    "# Putting LeadNum to index\n",
    "y_test_df['LeadNum'] = y_test_df.index"
   ]
  },
  {
   "cell_type": "code",
   "execution_count": 147,
   "metadata": {},
   "outputs": [],
   "source": [
    "# Removing index for both dataframes to append them side by side \n",
    "y_pred_1.reset_index(drop=True, inplace=True)\n",
    "y_test_df.reset_index(drop=True, inplace=True)"
   ]
  },
  {
   "cell_type": "code",
   "execution_count": 148,
   "metadata": {},
   "outputs": [],
   "source": [
    "# Appending y_test_df and y_pred_1\n",
    "y_pred_final = pd.concat([y_test_df, y_pred_1],axis=1)"
   ]
  },
  {
   "cell_type": "code",
   "execution_count": 149,
   "metadata": {},
   "outputs": [],
   "source": [
    "# Renaming the column \n",
    "y_pred_final= y_pred_final.rename(columns={ 0 : 'Lead_Prob'})"
   ]
  },
  {
   "cell_type": "code",
   "execution_count": 150,
   "metadata": {},
   "outputs": [],
   "source": [
    "#Based on the precision recall curve, the optimal point is chosen as 0.42, hence using the same to predict on test data set\n",
    "y_pred_final['final_predicted'] = y_pred_final.Lead_Prob.map(lambda x: 1 if x > 0.42 else 0)"
   ]
  },
  {
   "cell_type": "code",
   "execution_count": 151,
   "metadata": {},
   "outputs": [
    {
     "data": {
      "text/plain": [
       "0.9178726483357453"
      ]
     },
     "execution_count": 151,
     "metadata": {},
     "output_type": "execute_result"
    }
   ],
   "source": [
    "# Let's check the overall accuracy.\n",
    "metrics.accuracy_score(y_pred_final.Converted, y_pred_final.final_predicted)"
   ]
  },
  {
   "cell_type": "code",
   "execution_count": 152,
   "metadata": {},
   "outputs": [
    {
     "data": {
      "text/plain": [
       "array([[1551,  160],\n",
       "       [  67,  986]], dtype=int64)"
      ]
     },
     "execution_count": 152,
     "metadata": {},
     "output_type": "execute_result"
    }
   ],
   "source": [
    "#computing the confusion matrix for predicted test set\n",
    "confusion2 = metrics.confusion_matrix(y_pred_final.Converted, y_pred_final.final_predicted )\n",
    "confusion2"
   ]
  },
  {
   "cell_type": "code",
   "execution_count": 153,
   "metadata": {},
   "outputs": [],
   "source": [
    "TP = confusion2[1,1] # true positive \n",
    "TN = confusion2[0,0] # true negatives\n",
    "FP = confusion2[0,1] # false positives\n",
    "FN = confusion2[1,0] # false negatives"
   ]
  },
  {
   "cell_type": "code",
   "execution_count": 154,
   "metadata": {},
   "outputs": [
    {
     "data": {
      "text/plain": [
       "0.936372269705603"
      ]
     },
     "execution_count": 154,
     "metadata": {},
     "output_type": "execute_result"
    }
   ],
   "source": [
    "# Let's see the sensitivity of our logistic regression model\n",
    "TP / float(TP+FN)"
   ]
  },
  {
   "cell_type": "code",
   "execution_count": 155,
   "metadata": {},
   "outputs": [
    {
     "data": {
      "text/plain": [
       "0.9064874342489772"
      ]
     },
     "execution_count": 155,
     "metadata": {},
     "output_type": "execute_result"
    }
   ],
   "source": [
    "# Let us calculate specificity\n",
    "TN / float(TN+FP)"
   ]
  },
  {
   "cell_type": "code",
   "execution_count": 157,
   "metadata": {},
   "outputs": [
    {
     "data": {
      "text/plain": [
       "'The F1_score of the predicted model is 0.8967712596634834'"
      ]
     },
     "execution_count": 157,
     "metadata": {},
     "output_type": "execute_result"
    }
   ],
   "source": [
    "'The F1_score of the predicted model is '+str(metrics.f1_score(y_pred_final.Converted, y_pred_final.final_predicted))"
   ]
  },
  {
   "cell_type": "markdown",
   "metadata": {},
   "source": [
    "### ROC Curve for Test Data"
   ]
  },
  {
   "cell_type": "code",
   "execution_count": 158,
   "metadata": {},
   "outputs": [
    {
     "data": {
      "image/png": "[encoded data removed]",
      "text/plain": [
       "<Figure size 360x360 with 1 Axes>"
      ]
     },
     "metadata": {
      "needs_background": "light"
     },
     "output_type": "display_data"
    }
   ],
   "source": [
    "draw_roc(y_pred_final.Converted, y_pred_final.Lead_Prob)"
   ]
  },
  {
   "cell_type": "markdown",
   "metadata": {},
   "source": [
    "1. The model is behaving good for both train and test data sets.\n",
    "2. Accuracy, Sensitivity, F-Score are good and is in par with best possible results\n"
   ]
  },
  {
   "cell_type": "code",
   "execution_count": 159,
   "metadata": {},
   "outputs": [],
   "source": [
    "#Selecting the coefficients of the selected features from our final model excluding the intercept\n",
    "pd.options.display.float_format = '{:.2f}'.format\n",
    "value=res.params[1:].sort_values(ascending=False)"
   ]
  },
  {
   "cell_type": "code",
   "execution_count": 160,
   "metadata": {},
   "outputs": [
    {
     "data": {
      "text/plain": [
       "Tags_Closed_by_Horizzon                                 7.01\n",
       "Tags_Lost_to_EINS                                       5.95\n",
       "Lead_Source_Welingak_Website                            4.39\n",
       "Tags_Will_revert_after_reading_the_email                3.78\n",
       "What_is_your_current_occupation_Working_Professional    2.15\n",
       "Last_Activity_SMS_Sent                                  2.06\n",
       "What_is_your_current_occupation_Unemployed              1.80\n",
       "Last_Notable_Activity_Modified                         -1.63\n",
       "Tags_Graduation_in_progress                            -1.90\n",
       "Tags_opp_hangup                                        -2.21\n",
       "Tags_Interested__in_full_time_MBA                      -2.38\n",
       "Tags_Interested_in_other_courses                       -2.61\n",
       "Tags_Diploma_holder_(Not_Eligible)                     -3.21\n",
       "Tags_Already_a_student                                 -3.78\n",
       "Tags_Ringing                                           -4.25\n",
       "Tags_switched_off                                      -4.64\n",
       "Tags_invalid_number                                    -4.84\n",
       "dtype: float64"
      ]
     },
     "execution_count": 160,
     "metadata": {},
     "output_type": "execute_result"
    }
   ],
   "source": [
    "#showing the results in pandas series as well\n",
    "value"
   ]
  },
  {
   "cell_type": "code",
   "execution_count": 161,
   "metadata": {},
   "outputs": [
    {
     "data": {
      "text/plain": [
       "Text(0.5, 1.0, 'Features identifed for Lead Scoring Case Study')"
      ]
     },
     "execution_count": 161,
     "metadata": {},
     "output_type": "execute_result"
    },
    {
     "data": {
      "image/png": "[encoded data removed]",
      "text/plain": [
       "<Figure size 432x288 with 1 Axes>"
      ]
     },
     "metadata": {
      "needs_background": "light"
     },
     "output_type": "display_data"
    }
   ],
   "source": [
    "value.plot.bar()\n",
    "plt.xlabel('Features')\n",
    "plt.ylabel('Coefficients of Features')\n",
    "plt.title('Features identifed for Lead Scoring Case Study')"
   ]
  },
  {
   "cell_type": "markdown",
   "metadata": {},
   "source": [
    "#### Insights"
   ]
  },
  {
   "cell_type": "markdown",
   "metadata": {},
   "source": [
    "1. As seen from the bar plot, Tags_Closed_by_Horizzon feature has highest conversion rate\n",
    "2. It is followed by Tags_Lost_to_EINS\n",
    "3. Lead_Source_Welingak_Website contributes the next most to the successfull conversion rate\n",
    "4. On the other hand, whoever provided an invalid number, they tend to never convert into a student.\n",
    "5. Most of the respondents whose contact number is invalid or the phone is switched off or never take a ring, may not be converted. So the X Education marketing representatives ```should not``` call these respondents more than once, which results in better focus on others\n",
    "6. Instead they should focus more on people, who report 'Closed by Horizzon' or 'Lost to EINS' for better converstion rate.\n",
    "7. They can also promote the Welingak Website on various platforms including Social media, which will significantly increase their conversion rate"
   ]
  },
  {
   "cell_type": "code",
   "execution_count": null,
   "metadata": {},
   "outputs": [],
   "source": []
  }
 ],
 "metadata": {
  "kernelspec": {
   "display_name": "Python 3",
   "language": "python",
   "name": "python3"
  },
  "language_info": {
   "codemirror_mode": {
    "name": "ipython",
    "version": 3
   },
   "file_extension": ".py",
   "mimetype": "text/x-python",
   "name": "python",
   "nbconvert_exporter": "python",
   "pygments_lexer": "ipython3",
   "version": "3.7.4"
  }
 },
 "nbformat": 4,
 "nbformat_minor": 2
}
